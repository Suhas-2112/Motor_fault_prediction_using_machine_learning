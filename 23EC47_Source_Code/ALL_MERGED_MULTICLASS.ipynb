{
  "cells": [
    {
      "cell_type": "code",
      "execution_count": null,
      "metadata": {
        "id": "RFovrTksSxjy"
      },
      "outputs": [],
      "source": [
        "import numpy as np\n",
        "import pandas as pd\n",
        "import matplotlib.pyplot as plt\n",
        "import seaborn as sns\n",
        "from sklearn.model_selection import train_test_split, GridSearchCV, RandomizedSearchCV\n",
        "from sklearn.tree import DecisionTreeClassifier, DecisionTreeRegressor \n",
        "from sklearn.ensemble import RandomForestClassifier, RandomForestRegressor, BaggingClassifier,AdaBoostClassifier,GradientBoostingClassifier\n",
        "from sklearn.linear_model import LinearRegression,LogisticRegression\n",
        "from sklearn.neighbors import KNeighborsClassifier\n",
        "from sklearn.naive_bayes import GaussianNB\n",
        "from sklearn import metrics\n",
        "from sklearn.preprocessing import StandardScaler\n",
        "from sklearn.feature_selection import RFE\n",
        "from collections import Counter\n",
        "from imblearn.over_sampling import SMOTE\n",
        "import warnings\n",
        "warnings.filterwarnings('ignore')\n",
        "%matplotlib inline"
      ]
    },
    {
      "cell_type": "code",
      "execution_count": null,
      "metadata": {
        "colab": {
          "base_uri": "https://localhost:8080/",
          "height": 74
        },
        "id": "xy6-RPxES1Ee",
        "outputId": "c9c7fba4-9700-4f42-97cd-5c81bf4f900f"
      },
      "outputs": [
        {
          "output_type": "display_data",
          "data": {
            "text/plain": [
              "<IPython.core.display.HTML object>"
            ],
            "text/html": [
              "\n",
              "     <input type=\"file\" id=\"files-b1084509-e14a-4691-ab90-eb8fba8bc414\" name=\"files[]\" multiple disabled\n",
              "        style=\"border:none\" />\n",
              "     <output id=\"result-b1084509-e14a-4691-ab90-eb8fba8bc414\">\n",
              "      Upload widget is only available when the cell has been executed in the\n",
              "      current browser session. Please rerun this cell to enable.\n",
              "      </output>\n",
              "      <script>// Copyright 2017 Google LLC\n",
              "//\n",
              "// Licensed under the Apache License, Version 2.0 (the \"License\");\n",
              "// you may not use this file except in compliance with the License.\n",
              "// You may obtain a copy of the License at\n",
              "//\n",
              "//      http://www.apache.org/licenses/LICENSE-2.0\n",
              "//\n",
              "// Unless required by applicable law or agreed to in writing, software\n",
              "// distributed under the License is distributed on an \"AS IS\" BASIS,\n",
              "// WITHOUT WARRANTIES OR CONDITIONS OF ANY KIND, either express or implied.\n",
              "// See the License for the specific language governing permissions and\n",
              "// limitations under the License.\n",
              "\n",
              "/**\n",
              " * @fileoverview Helpers for google.colab Python module.\n",
              " */\n",
              "(function(scope) {\n",
              "function span(text, styleAttributes = {}) {\n",
              "  const element = document.createElement('span');\n",
              "  element.textContent = text;\n",
              "  for (const key of Object.keys(styleAttributes)) {\n",
              "    element.style[key] = styleAttributes[key];\n",
              "  }\n",
              "  return element;\n",
              "}\n",
              "\n",
              "// Max number of bytes which will be uploaded at a time.\n",
              "const MAX_PAYLOAD_SIZE = 100 * 1024;\n",
              "\n",
              "function _uploadFiles(inputId, outputId) {\n",
              "  const steps = uploadFilesStep(inputId, outputId);\n",
              "  const outputElement = document.getElementById(outputId);\n",
              "  // Cache steps on the outputElement to make it available for the next call\n",
              "  // to uploadFilesContinue from Python.\n",
              "  outputElement.steps = steps;\n",
              "\n",
              "  return _uploadFilesContinue(outputId);\n",
              "}\n",
              "\n",
              "// This is roughly an async generator (not supported in the browser yet),\n",
              "// where there are multiple asynchronous steps and the Python side is going\n",
              "// to poll for completion of each step.\n",
              "// This uses a Promise to block the python side on completion of each step,\n",
              "// then passes the result of the previous step as the input to the next step.\n",
              "function _uploadFilesContinue(outputId) {\n",
              "  const outputElement = document.getElementById(outputId);\n",
              "  const steps = outputElement.steps;\n",
              "\n",
              "  const next = steps.next(outputElement.lastPromiseValue);\n",
              "  return Promise.resolve(next.value.promise).then((value) => {\n",
              "    // Cache the last promise value to make it available to the next\n",
              "    // step of the generator.\n",
              "    outputElement.lastPromiseValue = value;\n",
              "    return next.value.response;\n",
              "  });\n",
              "}\n",
              "\n",
              "/**\n",
              " * Generator function which is called between each async step of the upload\n",
              " * process.\n",
              " * @param {string} inputId Element ID of the input file picker element.\n",
              " * @param {string} outputId Element ID of the output display.\n",
              " * @return {!Iterable<!Object>} Iterable of next steps.\n",
              " */\n",
              "function* uploadFilesStep(inputId, outputId) {\n",
              "  const inputElement = document.getElementById(inputId);\n",
              "  inputElement.disabled = false;\n",
              "\n",
              "  const outputElement = document.getElementById(outputId);\n",
              "  outputElement.innerHTML = '';\n",
              "\n",
              "  const pickedPromise = new Promise((resolve) => {\n",
              "    inputElement.addEventListener('change', (e) => {\n",
              "      resolve(e.target.files);\n",
              "    });\n",
              "  });\n",
              "\n",
              "  const cancel = document.createElement('button');\n",
              "  inputElement.parentElement.appendChild(cancel);\n",
              "  cancel.textContent = 'Cancel upload';\n",
              "  const cancelPromise = new Promise((resolve) => {\n",
              "    cancel.onclick = () => {\n",
              "      resolve(null);\n",
              "    };\n",
              "  });\n",
              "\n",
              "  // Wait for the user to pick the files.\n",
              "  const files = yield {\n",
              "    promise: Promise.race([pickedPromise, cancelPromise]),\n",
              "    response: {\n",
              "      action: 'starting',\n",
              "    }\n",
              "  };\n",
              "\n",
              "  cancel.remove();\n",
              "\n",
              "  // Disable the input element since further picks are not allowed.\n",
              "  inputElement.disabled = true;\n",
              "\n",
              "  if (!files) {\n",
              "    return {\n",
              "      response: {\n",
              "        action: 'complete',\n",
              "      }\n",
              "    };\n",
              "  }\n",
              "\n",
              "  for (const file of files) {\n",
              "    const li = document.createElement('li');\n",
              "    li.append(span(file.name, {fontWeight: 'bold'}));\n",
              "    li.append(span(\n",
              "        `(${file.type || 'n/a'}) - ${file.size} bytes, ` +\n",
              "        `last modified: ${\n",
              "            file.lastModifiedDate ? file.lastModifiedDate.toLocaleDateString() :\n",
              "                                    'n/a'} - `));\n",
              "    const percent = span('0% done');\n",
              "    li.appendChild(percent);\n",
              "\n",
              "    outputElement.appendChild(li);\n",
              "\n",
              "    const fileDataPromise = new Promise((resolve) => {\n",
              "      const reader = new FileReader();\n",
              "      reader.onload = (e) => {\n",
              "        resolve(e.target.result);\n",
              "      };\n",
              "      reader.readAsArrayBuffer(file);\n",
              "    });\n",
              "    // Wait for the data to be ready.\n",
              "    let fileData = yield {\n",
              "      promise: fileDataPromise,\n",
              "      response: {\n",
              "        action: 'continue',\n",
              "      }\n",
              "    };\n",
              "\n",
              "    // Use a chunked sending to avoid message size limits. See b/62115660.\n",
              "    let position = 0;\n",
              "    do {\n",
              "      const length = Math.min(fileData.byteLength - position, MAX_PAYLOAD_SIZE);\n",
              "      const chunk = new Uint8Array(fileData, position, length);\n",
              "      position += length;\n",
              "\n",
              "      const base64 = btoa(String.fromCharCode.apply(null, chunk));\n",
              "      yield {\n",
              "        response: {\n",
              "          action: 'append',\n",
              "          file: file.name,\n",
              "          data: base64,\n",
              "        },\n",
              "      };\n",
              "\n",
              "      let percentDone = fileData.byteLength === 0 ?\n",
              "          100 :\n",
              "          Math.round((position / fileData.byteLength) * 100);\n",
              "      percent.textContent = `${percentDone}% done`;\n",
              "\n",
              "    } while (position < fileData.byteLength);\n",
              "  }\n",
              "\n",
              "  // All done.\n",
              "  yield {\n",
              "    response: {\n",
              "      action: 'complete',\n",
              "    }\n",
              "  };\n",
              "}\n",
              "\n",
              "scope.google = scope.google || {};\n",
              "scope.google.colab = scope.google.colab || {};\n",
              "scope.google.colab._files = {\n",
              "  _uploadFiles,\n",
              "  _uploadFilesContinue,\n",
              "};\n",
              "})(self);\n",
              "</script> "
            ]
          },
          "metadata": {}
        },
        {
          "output_type": "stream",
          "name": "stdout",
          "text": [
            "Saving merged_multitrain_20000.csv to merged_multitrain_20000.csv\n"
          ]
        }
      ],
      "source": [
        "from google.colab import files\n",
        "uploaded = files.upload()"
      ]
    },
    {
      "cell_type": "code",
      "execution_count": null,
      "metadata": {
        "colab": {
          "base_uri": "https://localhost:8080/",
          "height": 423
        },
        "id": "D4pI6VGdS7U_",
        "outputId": "95e53940-0481-42c7-a7ab-c748b8ae3644"
      },
      "outputs": [
        {
          "output_type": "execute_result",
          "data": {
            "text/plain": [
              "       tachometer  ub_axial  ub_radial   ub_tang  oh_axial  oh_radial  \\\n",
              "0        -0.56615 -0.001146   0.305660  0.079787   0.89718   0.042021   \n",
              "1        -0.57703 -0.035375  -0.221180 -0.020031   0.85526   0.042239   \n",
              "2        -0.57269 -0.907130   0.105560 -0.022671   0.82563   0.043843   \n",
              "3        -0.57042  1.240900  -0.006351 -0.026974   0.89155   0.046994   \n",
              "4        -0.57810 -1.706400  -0.290040 -0.084517   0.82343   0.048085   \n",
              "...           ...       ...        ...       ...       ...        ...   \n",
              "40001    -0.55047  0.262480   1.298100  0.251230   1.51630  -0.021968   \n",
              "40002    -0.55007 -1.409300   0.487890  0.178130   1.55030  -0.020588   \n",
              "40003    -0.54698 -0.843110   1.118400  0.236940   1.60820  -0.021622   \n",
              "40004    -0.55191 -0.807240   0.623100  0.214800   1.64790  -0.020646   \n",
              "40005    -0.54681 -2.167900   0.667650  0.233370   1.66110  -0.024574   \n",
              "\n",
              "       oh_tang     micro  fault  \n",
              "0      0.24238 -0.154910      0  \n",
              "1      0.22954  0.175790      0  \n",
              "2      0.24298 -0.072428      0  \n",
              "3      0.34997  0.062355      0  \n",
              "4      0.30320  0.054348      0  \n",
              "...        ...       ...    ...  \n",
              "40001 -0.44225 -0.096084      5  \n",
              "40002 -0.59304  0.132840      5  \n",
              "40003 -0.71696 -0.096133      5  \n",
              "40004 -0.89042  0.115780      5  \n",
              "40005 -1.09110  0.007352      5  \n",
              "\n",
              "[40006 rows x 9 columns]"
            ],
            "text/html": [
              "\n",
              "  <div id=\"df-f800a40f-d553-438f-9b6b-a358bde09489\">\n",
              "    <div class=\"colab-df-container\">\n",
              "      <div>\n",
              "<style scoped>\n",
              "    .dataframe tbody tr th:only-of-type {\n",
              "        vertical-align: middle;\n",
              "    }\n",
              "\n",
              "    .dataframe tbody tr th {\n",
              "        vertical-align: top;\n",
              "    }\n",
              "\n",
              "    .dataframe thead th {\n",
              "        text-align: right;\n",
              "    }\n",
              "</style>\n",
              "<table border=\"1\" class=\"dataframe\">\n",
              "  <thead>\n",
              "    <tr style=\"text-align: right;\">\n",
              "      <th></th>\n",
              "      <th>tachometer</th>\n",
              "      <th>ub_axial</th>\n",
              "      <th>ub_radial</th>\n",
              "      <th>ub_tang</th>\n",
              "      <th>oh_axial</th>\n",
              "      <th>oh_radial</th>\n",
              "      <th>oh_tang</th>\n",
              "      <th>micro</th>\n",
              "      <th>fault</th>\n",
              "    </tr>\n",
              "  </thead>\n",
              "  <tbody>\n",
              "    <tr>\n",
              "      <th>0</th>\n",
              "      <td>-0.56615</td>\n",
              "      <td>-0.001146</td>\n",
              "      <td>0.305660</td>\n",
              "      <td>0.079787</td>\n",
              "      <td>0.89718</td>\n",
              "      <td>0.042021</td>\n",
              "      <td>0.24238</td>\n",
              "      <td>-0.154910</td>\n",
              "      <td>0</td>\n",
              "    </tr>\n",
              "    <tr>\n",
              "      <th>1</th>\n",
              "      <td>-0.57703</td>\n",
              "      <td>-0.035375</td>\n",
              "      <td>-0.221180</td>\n",
              "      <td>-0.020031</td>\n",
              "      <td>0.85526</td>\n",
              "      <td>0.042239</td>\n",
              "      <td>0.22954</td>\n",
              "      <td>0.175790</td>\n",
              "      <td>0</td>\n",
              "    </tr>\n",
              "    <tr>\n",
              "      <th>2</th>\n",
              "      <td>-0.57269</td>\n",
              "      <td>-0.907130</td>\n",
              "      <td>0.105560</td>\n",
              "      <td>-0.022671</td>\n",
              "      <td>0.82563</td>\n",
              "      <td>0.043843</td>\n",
              "      <td>0.24298</td>\n",
              "      <td>-0.072428</td>\n",
              "      <td>0</td>\n",
              "    </tr>\n",
              "    <tr>\n",
              "      <th>3</th>\n",
              "      <td>-0.57042</td>\n",
              "      <td>1.240900</td>\n",
              "      <td>-0.006351</td>\n",
              "      <td>-0.026974</td>\n",
              "      <td>0.89155</td>\n",
              "      <td>0.046994</td>\n",
              "      <td>0.34997</td>\n",
              "      <td>0.062355</td>\n",
              "      <td>0</td>\n",
              "    </tr>\n",
              "    <tr>\n",
              "      <th>4</th>\n",
              "      <td>-0.57810</td>\n",
              "      <td>-1.706400</td>\n",
              "      <td>-0.290040</td>\n",
              "      <td>-0.084517</td>\n",
              "      <td>0.82343</td>\n",
              "      <td>0.048085</td>\n",
              "      <td>0.30320</td>\n",
              "      <td>0.054348</td>\n",
              "      <td>0</td>\n",
              "    </tr>\n",
              "    <tr>\n",
              "      <th>...</th>\n",
              "      <td>...</td>\n",
              "      <td>...</td>\n",
              "      <td>...</td>\n",
              "      <td>...</td>\n",
              "      <td>...</td>\n",
              "      <td>...</td>\n",
              "      <td>...</td>\n",
              "      <td>...</td>\n",
              "      <td>...</td>\n",
              "    </tr>\n",
              "    <tr>\n",
              "      <th>40001</th>\n",
              "      <td>-0.55047</td>\n",
              "      <td>0.262480</td>\n",
              "      <td>1.298100</td>\n",
              "      <td>0.251230</td>\n",
              "      <td>1.51630</td>\n",
              "      <td>-0.021968</td>\n",
              "      <td>-0.44225</td>\n",
              "      <td>-0.096084</td>\n",
              "      <td>5</td>\n",
              "    </tr>\n",
              "    <tr>\n",
              "      <th>40002</th>\n",
              "      <td>-0.55007</td>\n",
              "      <td>-1.409300</td>\n",
              "      <td>0.487890</td>\n",
              "      <td>0.178130</td>\n",
              "      <td>1.55030</td>\n",
              "      <td>-0.020588</td>\n",
              "      <td>-0.59304</td>\n",
              "      <td>0.132840</td>\n",
              "      <td>5</td>\n",
              "    </tr>\n",
              "    <tr>\n",
              "      <th>40003</th>\n",
              "      <td>-0.54698</td>\n",
              "      <td>-0.843110</td>\n",
              "      <td>1.118400</td>\n",
              "      <td>0.236940</td>\n",
              "      <td>1.60820</td>\n",
              "      <td>-0.021622</td>\n",
              "      <td>-0.71696</td>\n",
              "      <td>-0.096133</td>\n",
              "      <td>5</td>\n",
              "    </tr>\n",
              "    <tr>\n",
              "      <th>40004</th>\n",
              "      <td>-0.55191</td>\n",
              "      <td>-0.807240</td>\n",
              "      <td>0.623100</td>\n",
              "      <td>0.214800</td>\n",
              "      <td>1.64790</td>\n",
              "      <td>-0.020646</td>\n",
              "      <td>-0.89042</td>\n",
              "      <td>0.115780</td>\n",
              "      <td>5</td>\n",
              "    </tr>\n",
              "    <tr>\n",
              "      <th>40005</th>\n",
              "      <td>-0.54681</td>\n",
              "      <td>-2.167900</td>\n",
              "      <td>0.667650</td>\n",
              "      <td>0.233370</td>\n",
              "      <td>1.66110</td>\n",
              "      <td>-0.024574</td>\n",
              "      <td>-1.09110</td>\n",
              "      <td>0.007352</td>\n",
              "      <td>5</td>\n",
              "    </tr>\n",
              "  </tbody>\n",
              "</table>\n",
              "<p>40006 rows × 9 columns</p>\n",
              "</div>\n",
              "      <button class=\"colab-df-convert\" onclick=\"convertToInteractive('df-f800a40f-d553-438f-9b6b-a358bde09489')\"\n",
              "              title=\"Convert this dataframe to an interactive table.\"\n",
              "              style=\"display:none;\">\n",
              "        \n",
              "  <svg xmlns=\"http://www.w3.org/2000/svg\" height=\"24px\"viewBox=\"0 0 24 24\"\n",
              "       width=\"24px\">\n",
              "    <path d=\"M0 0h24v24H0V0z\" fill=\"none\"/>\n",
              "    <path d=\"M18.56 5.44l.94 2.06.94-2.06 2.06-.94-2.06-.94-.94-2.06-.94 2.06-2.06.94zm-11 1L8.5 8.5l.94-2.06 2.06-.94-2.06-.94L8.5 2.5l-.94 2.06-2.06.94zm10 10l.94 2.06.94-2.06 2.06-.94-2.06-.94-.94-2.06-.94 2.06-2.06.94z\"/><path d=\"M17.41 7.96l-1.37-1.37c-.4-.4-.92-.59-1.43-.59-.52 0-1.04.2-1.43.59L10.3 9.45l-7.72 7.72c-.78.78-.78 2.05 0 2.83L4 21.41c.39.39.9.59 1.41.59.51 0 1.02-.2 1.41-.59l7.78-7.78 2.81-2.81c.8-.78.8-2.07 0-2.86zM5.41 20L4 18.59l7.72-7.72 1.47 1.35L5.41 20z\"/>\n",
              "  </svg>\n",
              "      </button>\n",
              "      \n",
              "  <style>\n",
              "    .colab-df-container {\n",
              "      display:flex;\n",
              "      flex-wrap:wrap;\n",
              "      gap: 12px;\n",
              "    }\n",
              "\n",
              "    .colab-df-convert {\n",
              "      background-color: #E8F0FE;\n",
              "      border: none;\n",
              "      border-radius: 50%;\n",
              "      cursor: pointer;\n",
              "      display: none;\n",
              "      fill: #1967D2;\n",
              "      height: 32px;\n",
              "      padding: 0 0 0 0;\n",
              "      width: 32px;\n",
              "    }\n",
              "\n",
              "    .colab-df-convert:hover {\n",
              "      background-color: #E2EBFA;\n",
              "      box-shadow: 0px 1px 2px rgba(60, 64, 67, 0.3), 0px 1px 3px 1px rgba(60, 64, 67, 0.15);\n",
              "      fill: #174EA6;\n",
              "    }\n",
              "\n",
              "    [theme=dark] .colab-df-convert {\n",
              "      background-color: #3B4455;\n",
              "      fill: #D2E3FC;\n",
              "    }\n",
              "\n",
              "    [theme=dark] .colab-df-convert:hover {\n",
              "      background-color: #434B5C;\n",
              "      box-shadow: 0px 1px 3px 1px rgba(0, 0, 0, 0.15);\n",
              "      filter: drop-shadow(0px 1px 2px rgba(0, 0, 0, 0.3));\n",
              "      fill: #FFFFFF;\n",
              "    }\n",
              "  </style>\n",
              "\n",
              "      <script>\n",
              "        const buttonEl =\n",
              "          document.querySelector('#df-f800a40f-d553-438f-9b6b-a358bde09489 button.colab-df-convert');\n",
              "        buttonEl.style.display =\n",
              "          google.colab.kernel.accessAllowed ? 'block' : 'none';\n",
              "\n",
              "        async function convertToInteractive(key) {\n",
              "          const element = document.querySelector('#df-f800a40f-d553-438f-9b6b-a358bde09489');\n",
              "          const dataTable =\n",
              "            await google.colab.kernel.invokeFunction('convertToInteractive',\n",
              "                                                     [key], {});\n",
              "          if (!dataTable) return;\n",
              "\n",
              "          const docLinkHtml = 'Like what you see? Visit the ' +\n",
              "            '<a target=\"_blank\" href=https://colab.research.google.com/notebooks/data_table.ipynb>data table notebook</a>'\n",
              "            + ' to learn more about interactive tables.';\n",
              "          element.innerHTML = '';\n",
              "          dataTable['output_type'] = 'display_data';\n",
              "          await google.colab.output.renderOutput(dataTable, element);\n",
              "          const docLink = document.createElement('div');\n",
              "          docLink.innerHTML = docLinkHtml;\n",
              "          element.appendChild(docLink);\n",
              "        }\n",
              "      </script>\n",
              "    </div>\n",
              "  </div>\n",
              "  "
            ]
          },
          "metadata": {},
          "execution_count": 3
        }
      ],
      "source": [
        "df = pd.read_csv('merged_multitrain_20000.csv' )\n",
        "df"
      ]
    },
    {
      "cell_type": "code",
      "execution_count": null,
      "metadata": {
        "colab": {
          "base_uri": "https://localhost:8080/"
        },
        "id": "wJAyq0g2S_Vd",
        "outputId": "c7f53ce1-88e8-4e21-c086-38673706ba0b"
      },
      "outputs": [
        {
          "output_type": "execute_result",
          "data": {
            "text/plain": [
              "(40006, 9)"
            ]
          },
          "metadata": {},
          "execution_count": 4
        }
      ],
      "source": [
        "df.shape"
      ]
    },
    {
      "cell_type": "code",
      "execution_count": null,
      "metadata": {
        "colab": {
          "base_uri": "https://localhost:8080/"
        },
        "id": "r_115x5nTFnS",
        "outputId": "576ac223-e458-4b73-ba5c-3a30c634f7fe"
      },
      "outputs": [
        {
          "output_type": "execute_result",
          "data": {
            "text/plain": [
              "0    20001\n",
              "1     4001\n",
              "2     4001\n",
              "3     4001\n",
              "4     4001\n",
              "5     4001\n",
              "Name: fault, dtype: int64"
            ]
          },
          "metadata": {},
          "execution_count": 5
        }
      ],
      "source": [
        "df.fault.value_counts()"
      ]
    },
    {
      "cell_type": "code",
      "execution_count": null,
      "metadata": {
        "id": "kiaurTXyTKEN"
      },
      "outputs": [],
      "source": [
        "from imblearn.over_sampling import BorderlineSMOTE\n",
        "x = df.drop('fault', axis=1)\n",
        "x = x.drop('tachometer',axis = 1)\n",
        "y = df['fault']"
      ]
    },
    {
      "cell_type": "code",
      "execution_count": null,
      "metadata": {
        "colab": {
          "base_uri": "https://localhost:8080/",
          "height": 423
        },
        "id": "yhPfKZLTTPXY",
        "outputId": "dfcbbc28-6820-44f9-94c5-71cc3073ac0d"
      },
      "outputs": [
        {
          "output_type": "execute_result",
          "data": {
            "text/plain": [
              "       ub_axial  ub_radial   ub_tang  oh_axial  oh_radial   oh_tang     micro\n",
              "0      0.000853   0.591497  0.154607  0.700907   0.212091  0.171084 -1.352283\n",
              "1     -0.019594  -0.433887 -0.043770  0.657686   0.212435  0.153835  1.290707\n",
              "2     -0.540346   0.202045 -0.049017  0.627137   0.214964  0.171890 -0.693078\n",
              "3      0.742802  -0.015767 -0.057568  0.695103   0.219933  0.315620  0.384122\n",
              "4     -1.017798  -0.567908 -0.171929  0.624868   0.221653  0.252789  0.320129\n",
              "...         ...        ...       ...       ...        ...       ...       ...\n",
              "40001  0.158333   2.523075  0.495331  1.339242   0.111189 -0.748646 -0.882139\n",
              "40002 -0.840322   0.946170  0.350053  1.374297   0.113365 -0.951217  0.947446\n",
              "40003 -0.502103   2.173326  0.466931  1.433994   0.111734 -1.117691 -0.882531\n",
              "40004 -0.480676   1.209328  0.422931  1.474927   0.113273 -1.350716  0.811101\n",
              "40005 -1.293480   1.296036  0.459836  1.488536   0.107080 -1.620309 -0.055471\n",
              "\n",
              "[40006 rows x 7 columns]"
            ],
            "text/html": [
              "\n",
              "  <div id=\"df-60cb0749-d424-4303-b432-0dd3fd8e887e\">\n",
              "    <div class=\"colab-df-container\">\n",
              "      <div>\n",
              "<style scoped>\n",
              "    .dataframe tbody tr th:only-of-type {\n",
              "        vertical-align: middle;\n",
              "    }\n",
              "\n",
              "    .dataframe tbody tr th {\n",
              "        vertical-align: top;\n",
              "    }\n",
              "\n",
              "    .dataframe thead th {\n",
              "        text-align: right;\n",
              "    }\n",
              "</style>\n",
              "<table border=\"1\" class=\"dataframe\">\n",
              "  <thead>\n",
              "    <tr style=\"text-align: right;\">\n",
              "      <th></th>\n",
              "      <th>ub_axial</th>\n",
              "      <th>ub_radial</th>\n",
              "      <th>ub_tang</th>\n",
              "      <th>oh_axial</th>\n",
              "      <th>oh_radial</th>\n",
              "      <th>oh_tang</th>\n",
              "      <th>micro</th>\n",
              "    </tr>\n",
              "  </thead>\n",
              "  <tbody>\n",
              "    <tr>\n",
              "      <th>0</th>\n",
              "      <td>0.000853</td>\n",
              "      <td>0.591497</td>\n",
              "      <td>0.154607</td>\n",
              "      <td>0.700907</td>\n",
              "      <td>0.212091</td>\n",
              "      <td>0.171084</td>\n",
              "      <td>-1.352283</td>\n",
              "    </tr>\n",
              "    <tr>\n",
              "      <th>1</th>\n",
              "      <td>-0.019594</td>\n",
              "      <td>-0.433887</td>\n",
              "      <td>-0.043770</td>\n",
              "      <td>0.657686</td>\n",
              "      <td>0.212435</td>\n",
              "      <td>0.153835</td>\n",
              "      <td>1.290707</td>\n",
              "    </tr>\n",
              "    <tr>\n",
              "      <th>2</th>\n",
              "      <td>-0.540346</td>\n",
              "      <td>0.202045</td>\n",
              "      <td>-0.049017</td>\n",
              "      <td>0.627137</td>\n",
              "      <td>0.214964</td>\n",
              "      <td>0.171890</td>\n",
              "      <td>-0.693078</td>\n",
              "    </tr>\n",
              "    <tr>\n",
              "      <th>3</th>\n",
              "      <td>0.742802</td>\n",
              "      <td>-0.015767</td>\n",
              "      <td>-0.057568</td>\n",
              "      <td>0.695103</td>\n",
              "      <td>0.219933</td>\n",
              "      <td>0.315620</td>\n",
              "      <td>0.384122</td>\n",
              "    </tr>\n",
              "    <tr>\n",
              "      <th>4</th>\n",
              "      <td>-1.017798</td>\n",
              "      <td>-0.567908</td>\n",
              "      <td>-0.171929</td>\n",
              "      <td>0.624868</td>\n",
              "      <td>0.221653</td>\n",
              "      <td>0.252789</td>\n",
              "      <td>0.320129</td>\n",
              "    </tr>\n",
              "    <tr>\n",
              "      <th>...</th>\n",
              "      <td>...</td>\n",
              "      <td>...</td>\n",
              "      <td>...</td>\n",
              "      <td>...</td>\n",
              "      <td>...</td>\n",
              "      <td>...</td>\n",
              "      <td>...</td>\n",
              "    </tr>\n",
              "    <tr>\n",
              "      <th>40001</th>\n",
              "      <td>0.158333</td>\n",
              "      <td>2.523075</td>\n",
              "      <td>0.495331</td>\n",
              "      <td>1.339242</td>\n",
              "      <td>0.111189</td>\n",
              "      <td>-0.748646</td>\n",
              "      <td>-0.882139</td>\n",
              "    </tr>\n",
              "    <tr>\n",
              "      <th>40002</th>\n",
              "      <td>-0.840322</td>\n",
              "      <td>0.946170</td>\n",
              "      <td>0.350053</td>\n",
              "      <td>1.374297</td>\n",
              "      <td>0.113365</td>\n",
              "      <td>-0.951217</td>\n",
              "      <td>0.947446</td>\n",
              "    </tr>\n",
              "    <tr>\n",
              "      <th>40003</th>\n",
              "      <td>-0.502103</td>\n",
              "      <td>2.173326</td>\n",
              "      <td>0.466931</td>\n",
              "      <td>1.433994</td>\n",
              "      <td>0.111734</td>\n",
              "      <td>-1.117691</td>\n",
              "      <td>-0.882531</td>\n",
              "    </tr>\n",
              "    <tr>\n",
              "      <th>40004</th>\n",
              "      <td>-0.480676</td>\n",
              "      <td>1.209328</td>\n",
              "      <td>0.422931</td>\n",
              "      <td>1.474927</td>\n",
              "      <td>0.113273</td>\n",
              "      <td>-1.350716</td>\n",
              "      <td>0.811101</td>\n",
              "    </tr>\n",
              "    <tr>\n",
              "      <th>40005</th>\n",
              "      <td>-1.293480</td>\n",
              "      <td>1.296036</td>\n",
              "      <td>0.459836</td>\n",
              "      <td>1.488536</td>\n",
              "      <td>0.107080</td>\n",
              "      <td>-1.620309</td>\n",
              "      <td>-0.055471</td>\n",
              "    </tr>\n",
              "  </tbody>\n",
              "</table>\n",
              "<p>40006 rows × 7 columns</p>\n",
              "</div>\n",
              "      <button class=\"colab-df-convert\" onclick=\"convertToInteractive('df-60cb0749-d424-4303-b432-0dd3fd8e887e')\"\n",
              "              title=\"Convert this dataframe to an interactive table.\"\n",
              "              style=\"display:none;\">\n",
              "        \n",
              "  <svg xmlns=\"http://www.w3.org/2000/svg\" height=\"24px\"viewBox=\"0 0 24 24\"\n",
              "       width=\"24px\">\n",
              "    <path d=\"M0 0h24v24H0V0z\" fill=\"none\"/>\n",
              "    <path d=\"M18.56 5.44l.94 2.06.94-2.06 2.06-.94-2.06-.94-.94-2.06-.94 2.06-2.06.94zm-11 1L8.5 8.5l.94-2.06 2.06-.94-2.06-.94L8.5 2.5l-.94 2.06-2.06.94zm10 10l.94 2.06.94-2.06 2.06-.94-2.06-.94-.94-2.06-.94 2.06-2.06.94z\"/><path d=\"M17.41 7.96l-1.37-1.37c-.4-.4-.92-.59-1.43-.59-.52 0-1.04.2-1.43.59L10.3 9.45l-7.72 7.72c-.78.78-.78 2.05 0 2.83L4 21.41c.39.39.9.59 1.41.59.51 0 1.02-.2 1.41-.59l7.78-7.78 2.81-2.81c.8-.78.8-2.07 0-2.86zM5.41 20L4 18.59l7.72-7.72 1.47 1.35L5.41 20z\"/>\n",
              "  </svg>\n",
              "      </button>\n",
              "      \n",
              "  <style>\n",
              "    .colab-df-container {\n",
              "      display:flex;\n",
              "      flex-wrap:wrap;\n",
              "      gap: 12px;\n",
              "    }\n",
              "\n",
              "    .colab-df-convert {\n",
              "      background-color: #E8F0FE;\n",
              "      border: none;\n",
              "      border-radius: 50%;\n",
              "      cursor: pointer;\n",
              "      display: none;\n",
              "      fill: #1967D2;\n",
              "      height: 32px;\n",
              "      padding: 0 0 0 0;\n",
              "      width: 32px;\n",
              "    }\n",
              "\n",
              "    .colab-df-convert:hover {\n",
              "      background-color: #E2EBFA;\n",
              "      box-shadow: 0px 1px 2px rgba(60, 64, 67, 0.3), 0px 1px 3px 1px rgba(60, 64, 67, 0.15);\n",
              "      fill: #174EA6;\n",
              "    }\n",
              "\n",
              "    [theme=dark] .colab-df-convert {\n",
              "      background-color: #3B4455;\n",
              "      fill: #D2E3FC;\n",
              "    }\n",
              "\n",
              "    [theme=dark] .colab-df-convert:hover {\n",
              "      background-color: #434B5C;\n",
              "      box-shadow: 0px 1px 3px 1px rgba(0, 0, 0, 0.15);\n",
              "      filter: drop-shadow(0px 1px 2px rgba(0, 0, 0, 0.3));\n",
              "      fill: #FFFFFF;\n",
              "    }\n",
              "  </style>\n",
              "\n",
              "      <script>\n",
              "        const buttonEl =\n",
              "          document.querySelector('#df-60cb0749-d424-4303-b432-0dd3fd8e887e button.colab-df-convert');\n",
              "        buttonEl.style.display =\n",
              "          google.colab.kernel.accessAllowed ? 'block' : 'none';\n",
              "\n",
              "        async function convertToInteractive(key) {\n",
              "          const element = document.querySelector('#df-60cb0749-d424-4303-b432-0dd3fd8e887e');\n",
              "          const dataTable =\n",
              "            await google.colab.kernel.invokeFunction('convertToInteractive',\n",
              "                                                     [key], {});\n",
              "          if (!dataTable) return;\n",
              "\n",
              "          const docLinkHtml = 'Like what you see? Visit the ' +\n",
              "            '<a target=\"_blank\" href=https://colab.research.google.com/notebooks/data_table.ipynb>data table notebook</a>'\n",
              "            + ' to learn more about interactive tables.';\n",
              "          element.innerHTML = '';\n",
              "          dataTable['output_type'] = 'display_data';\n",
              "          await google.colab.output.renderOutput(dataTable, element);\n",
              "          const docLink = document.createElement('div');\n",
              "          docLink.innerHTML = docLinkHtml;\n",
              "          element.appendChild(docLink);\n",
              "        }\n",
              "      </script>\n",
              "    </div>\n",
              "  </div>\n",
              "  "
            ]
          },
          "metadata": {},
          "execution_count": 7
        }
      ],
      "source": [
        "SS = StandardScaler()\n",
        "df_scaled = pd.DataFrame(SS.fit_transform(x), columns = x.columns)\n",
        "df_scaled"
      ]
    },
    {
      "cell_type": "code",
      "execution_count": null,
      "metadata": {
        "id": "Wy6iUkhbTQaf"
      },
      "outputs": [],
      "source": [
        "X_train,x_test,y_train,y_test = train_test_split(x,y, test_size = 0.2)"
      ]
    },
    {
      "cell_type": "code",
      "execution_count": null,
      "metadata": {
        "colab": {
          "base_uri": "https://localhost:8080/",
          "height": 380
        },
        "id": "HuW-1aQBTToG",
        "outputId": "038c003b-06d2-48a6-b44c-a6697359b436"
      },
      "outputs": [
        {
          "output_type": "stream",
          "name": "stdout",
          "text": [
            "Fitting 10 folds for each of 72 candidates, totalling 720 fits\n"
          ]
        },
        {
          "output_type": "error",
          "ename": "KeyboardInterrupt",
          "evalue": "ignored",
          "traceback": [
            "\u001b[0;31m---------------------------------------------------------------------------\u001b[0m",
            "\u001b[0;31mKeyboardInterrupt\u001b[0m                         Traceback (most recent call last)",
            "\u001b[0;32m<ipython-input-31-3894e557b5a6>\u001b[0m in \u001b[0;36m<cell line: 15>\u001b[0;34m()\u001b[0m\n\u001b[1;32m     13\u001b[0m rfclassifier = GridSearchCV(estimator = rf, param_grid = param_grid, \n\u001b[1;32m     14\u001b[0m                           cv = 10, n_jobs = -1, verbose = 2)\n\u001b[0;32m---> 15\u001b[0;31m \u001b[0mrfclassifier\u001b[0m\u001b[0;34m.\u001b[0m\u001b[0mfit\u001b[0m\u001b[0;34m(\u001b[0m\u001b[0mX_train\u001b[0m\u001b[0;34m,\u001b[0m \u001b[0my_train\u001b[0m\u001b[0;34m)\u001b[0m\u001b[0;31m# fit function is where it trains\u001b[0m\u001b[0;34m\u001b[0m\u001b[0;34m\u001b[0m\u001b[0m\n\u001b[0m\u001b[1;32m     16\u001b[0m \u001b[0mrfclassifier\u001b[0m\u001b[0;34m.\u001b[0m\u001b[0mbest_params_\u001b[0m\u001b[0;34m\u001b[0m\u001b[0;34m\u001b[0m\u001b[0m\n",
            "\u001b[0;32m/usr/local/lib/python3.9/dist-packages/sklearn/model_selection/_search.py\u001b[0m in \u001b[0;36mfit\u001b[0;34m(self, X, y, groups, **fit_params)\u001b[0m\n\u001b[1;32m    872\u001b[0m                 \u001b[0;32mreturn\u001b[0m \u001b[0mresults\u001b[0m\u001b[0;34m\u001b[0m\u001b[0;34m\u001b[0m\u001b[0m\n\u001b[1;32m    873\u001b[0m \u001b[0;34m\u001b[0m\u001b[0m\n\u001b[0;32m--> 874\u001b[0;31m             \u001b[0mself\u001b[0m\u001b[0;34m.\u001b[0m\u001b[0m_run_search\u001b[0m\u001b[0;34m(\u001b[0m\u001b[0mevaluate_candidates\u001b[0m\u001b[0;34m)\u001b[0m\u001b[0;34m\u001b[0m\u001b[0;34m\u001b[0m\u001b[0m\n\u001b[0m\u001b[1;32m    875\u001b[0m \u001b[0;34m\u001b[0m\u001b[0m\n\u001b[1;32m    876\u001b[0m             \u001b[0;31m# multimetric is determined here because in the case of a callable\u001b[0m\u001b[0;34m\u001b[0m\u001b[0;34m\u001b[0m\u001b[0m\n",
            "\u001b[0;32m/usr/local/lib/python3.9/dist-packages/sklearn/model_selection/_search.py\u001b[0m in \u001b[0;36m_run_search\u001b[0;34m(self, evaluate_candidates)\u001b[0m\n\u001b[1;32m   1386\u001b[0m     \u001b[0;32mdef\u001b[0m \u001b[0m_run_search\u001b[0m\u001b[0;34m(\u001b[0m\u001b[0mself\u001b[0m\u001b[0;34m,\u001b[0m \u001b[0mevaluate_candidates\u001b[0m\u001b[0;34m)\u001b[0m\u001b[0;34m:\u001b[0m\u001b[0;34m\u001b[0m\u001b[0;34m\u001b[0m\u001b[0m\n\u001b[1;32m   1387\u001b[0m         \u001b[0;34m\"\"\"Search all candidates in param_grid\"\"\"\u001b[0m\u001b[0;34m\u001b[0m\u001b[0;34m\u001b[0m\u001b[0m\n\u001b[0;32m-> 1388\u001b[0;31m         \u001b[0mevaluate_candidates\u001b[0m\u001b[0;34m(\u001b[0m\u001b[0mParameterGrid\u001b[0m\u001b[0;34m(\u001b[0m\u001b[0mself\u001b[0m\u001b[0;34m.\u001b[0m\u001b[0mparam_grid\u001b[0m\u001b[0;34m)\u001b[0m\u001b[0;34m)\u001b[0m\u001b[0;34m\u001b[0m\u001b[0;34m\u001b[0m\u001b[0m\n\u001b[0m\u001b[1;32m   1389\u001b[0m \u001b[0;34m\u001b[0m\u001b[0m\n\u001b[1;32m   1390\u001b[0m \u001b[0;34m\u001b[0m\u001b[0m\n",
            "\u001b[0;32m/usr/local/lib/python3.9/dist-packages/sklearn/model_selection/_search.py\u001b[0m in \u001b[0;36mevaluate_candidates\u001b[0;34m(candidate_params, cv, more_results)\u001b[0m\n\u001b[1;32m    819\u001b[0m                     )\n\u001b[1;32m    820\u001b[0m \u001b[0;34m\u001b[0m\u001b[0m\n\u001b[0;32m--> 821\u001b[0;31m                 out = parallel(\n\u001b[0m\u001b[1;32m    822\u001b[0m                     delayed(_fit_and_score)(\n\u001b[1;32m    823\u001b[0m                         \u001b[0mclone\u001b[0m\u001b[0;34m(\u001b[0m\u001b[0mbase_estimator\u001b[0m\u001b[0;34m)\u001b[0m\u001b[0;34m,\u001b[0m\u001b[0;34m\u001b[0m\u001b[0;34m\u001b[0m\u001b[0m\n",
            "\u001b[0;32m/usr/local/lib/python3.9/dist-packages/sklearn/utils/parallel.py\u001b[0m in \u001b[0;36m__call__\u001b[0;34m(self, iterable)\u001b[0m\n\u001b[1;32m     61\u001b[0m             \u001b[0;32mfor\u001b[0m \u001b[0mdelayed_func\u001b[0m\u001b[0;34m,\u001b[0m \u001b[0margs\u001b[0m\u001b[0;34m,\u001b[0m \u001b[0mkwargs\u001b[0m \u001b[0;32min\u001b[0m \u001b[0miterable\u001b[0m\u001b[0;34m\u001b[0m\u001b[0;34m\u001b[0m\u001b[0m\n\u001b[1;32m     62\u001b[0m         )\n\u001b[0;32m---> 63\u001b[0;31m         \u001b[0;32mreturn\u001b[0m \u001b[0msuper\u001b[0m\u001b[0;34m(\u001b[0m\u001b[0;34m)\u001b[0m\u001b[0;34m.\u001b[0m\u001b[0m__call__\u001b[0m\u001b[0;34m(\u001b[0m\u001b[0miterable_with_config\u001b[0m\u001b[0;34m)\u001b[0m\u001b[0;34m\u001b[0m\u001b[0;34m\u001b[0m\u001b[0m\n\u001b[0m\u001b[1;32m     64\u001b[0m \u001b[0;34m\u001b[0m\u001b[0m\n\u001b[1;32m     65\u001b[0m \u001b[0;34m\u001b[0m\u001b[0m\n",
            "\u001b[0;32m/usr/local/lib/python3.9/dist-packages/joblib/parallel.py\u001b[0m in \u001b[0;36m__call__\u001b[0;34m(self, iterable)\u001b[0m\n\u001b[1;32m   1096\u001b[0m \u001b[0;34m\u001b[0m\u001b[0m\n\u001b[1;32m   1097\u001b[0m             \u001b[0;32mwith\u001b[0m \u001b[0mself\u001b[0m\u001b[0;34m.\u001b[0m\u001b[0m_backend\u001b[0m\u001b[0;34m.\u001b[0m\u001b[0mretrieval_context\u001b[0m\u001b[0;34m(\u001b[0m\u001b[0;34m)\u001b[0m\u001b[0;34m:\u001b[0m\u001b[0;34m\u001b[0m\u001b[0;34m\u001b[0m\u001b[0m\n\u001b[0;32m-> 1098\u001b[0;31m                 \u001b[0mself\u001b[0m\u001b[0;34m.\u001b[0m\u001b[0mretrieve\u001b[0m\u001b[0;34m(\u001b[0m\u001b[0;34m)\u001b[0m\u001b[0;34m\u001b[0m\u001b[0;34m\u001b[0m\u001b[0m\n\u001b[0m\u001b[1;32m   1099\u001b[0m             \u001b[0;31m# Make sure that we get a last message telling us we are done\u001b[0m\u001b[0;34m\u001b[0m\u001b[0;34m\u001b[0m\u001b[0m\n\u001b[1;32m   1100\u001b[0m             \u001b[0melapsed_time\u001b[0m \u001b[0;34m=\u001b[0m \u001b[0mtime\u001b[0m\u001b[0;34m.\u001b[0m\u001b[0mtime\u001b[0m\u001b[0;34m(\u001b[0m\u001b[0;34m)\u001b[0m \u001b[0;34m-\u001b[0m \u001b[0mself\u001b[0m\u001b[0;34m.\u001b[0m\u001b[0m_start_time\u001b[0m\u001b[0;34m\u001b[0m\u001b[0;34m\u001b[0m\u001b[0m\n",
            "\u001b[0;32m/usr/local/lib/python3.9/dist-packages/joblib/parallel.py\u001b[0m in \u001b[0;36mretrieve\u001b[0;34m(self)\u001b[0m\n\u001b[1;32m    973\u001b[0m             \u001b[0;32mtry\u001b[0m\u001b[0;34m:\u001b[0m\u001b[0;34m\u001b[0m\u001b[0;34m\u001b[0m\u001b[0m\n\u001b[1;32m    974\u001b[0m                 \u001b[0;32mif\u001b[0m \u001b[0mgetattr\u001b[0m\u001b[0;34m(\u001b[0m\u001b[0mself\u001b[0m\u001b[0;34m.\u001b[0m\u001b[0m_backend\u001b[0m\u001b[0;34m,\u001b[0m \u001b[0;34m'supports_timeout'\u001b[0m\u001b[0;34m,\u001b[0m \u001b[0;32mFalse\u001b[0m\u001b[0;34m)\u001b[0m\u001b[0;34m:\u001b[0m\u001b[0;34m\u001b[0m\u001b[0;34m\u001b[0m\u001b[0m\n\u001b[0;32m--> 975\u001b[0;31m                     \u001b[0mself\u001b[0m\u001b[0;34m.\u001b[0m\u001b[0m_output\u001b[0m\u001b[0;34m.\u001b[0m\u001b[0mextend\u001b[0m\u001b[0;34m(\u001b[0m\u001b[0mjob\u001b[0m\u001b[0;34m.\u001b[0m\u001b[0mget\u001b[0m\u001b[0;34m(\u001b[0m\u001b[0mtimeout\u001b[0m\u001b[0;34m=\u001b[0m\u001b[0mself\u001b[0m\u001b[0;34m.\u001b[0m\u001b[0mtimeout\u001b[0m\u001b[0;34m)\u001b[0m\u001b[0;34m)\u001b[0m\u001b[0;34m\u001b[0m\u001b[0;34m\u001b[0m\u001b[0m\n\u001b[0m\u001b[1;32m    976\u001b[0m                 \u001b[0;32melse\u001b[0m\u001b[0;34m:\u001b[0m\u001b[0;34m\u001b[0m\u001b[0;34m\u001b[0m\u001b[0m\n\u001b[1;32m    977\u001b[0m                     \u001b[0mself\u001b[0m\u001b[0;34m.\u001b[0m\u001b[0m_output\u001b[0m\u001b[0;34m.\u001b[0m\u001b[0mextend\u001b[0m\u001b[0;34m(\u001b[0m\u001b[0mjob\u001b[0m\u001b[0;34m.\u001b[0m\u001b[0mget\u001b[0m\u001b[0;34m(\u001b[0m\u001b[0;34m)\u001b[0m\u001b[0;34m)\u001b[0m\u001b[0;34m\u001b[0m\u001b[0;34m\u001b[0m\u001b[0m\n",
            "\u001b[0;32m/usr/local/lib/python3.9/dist-packages/joblib/_parallel_backends.py\u001b[0m in \u001b[0;36mwrap_future_result\u001b[0;34m(future, timeout)\u001b[0m\n\u001b[1;32m    565\u001b[0m         AsyncResults.get from multiprocessing.\"\"\"\n\u001b[1;32m    566\u001b[0m         \u001b[0;32mtry\u001b[0m\u001b[0;34m:\u001b[0m\u001b[0;34m\u001b[0m\u001b[0;34m\u001b[0m\u001b[0m\n\u001b[0;32m--> 567\u001b[0;31m             \u001b[0;32mreturn\u001b[0m \u001b[0mfuture\u001b[0m\u001b[0;34m.\u001b[0m\u001b[0mresult\u001b[0m\u001b[0;34m(\u001b[0m\u001b[0mtimeout\u001b[0m\u001b[0;34m=\u001b[0m\u001b[0mtimeout\u001b[0m\u001b[0;34m)\u001b[0m\u001b[0;34m\u001b[0m\u001b[0;34m\u001b[0m\u001b[0m\n\u001b[0m\u001b[1;32m    568\u001b[0m         \u001b[0;32mexcept\u001b[0m \u001b[0mCfTimeoutError\u001b[0m \u001b[0;32mas\u001b[0m \u001b[0me\u001b[0m\u001b[0;34m:\u001b[0m\u001b[0;34m\u001b[0m\u001b[0;34m\u001b[0m\u001b[0m\n\u001b[1;32m    569\u001b[0m             \u001b[0;32mraise\u001b[0m \u001b[0mTimeoutError\u001b[0m \u001b[0;32mfrom\u001b[0m \u001b[0me\u001b[0m\u001b[0;34m\u001b[0m\u001b[0;34m\u001b[0m\u001b[0m\n",
            "\u001b[0;32m/usr/lib/python3.9/concurrent/futures/_base.py\u001b[0m in \u001b[0;36mresult\u001b[0;34m(self, timeout)\u001b[0m\n\u001b[1;32m    439\u001b[0m                     \u001b[0;32mreturn\u001b[0m \u001b[0mself\u001b[0m\u001b[0;34m.\u001b[0m\u001b[0m__get_result\u001b[0m\u001b[0;34m(\u001b[0m\u001b[0;34m)\u001b[0m\u001b[0;34m\u001b[0m\u001b[0;34m\u001b[0m\u001b[0m\n\u001b[1;32m    440\u001b[0m \u001b[0;34m\u001b[0m\u001b[0m\n\u001b[0;32m--> 441\u001b[0;31m                 \u001b[0mself\u001b[0m\u001b[0;34m.\u001b[0m\u001b[0m_condition\u001b[0m\u001b[0;34m.\u001b[0m\u001b[0mwait\u001b[0m\u001b[0;34m(\u001b[0m\u001b[0mtimeout\u001b[0m\u001b[0;34m)\u001b[0m\u001b[0;34m\u001b[0m\u001b[0;34m\u001b[0m\u001b[0m\n\u001b[0m\u001b[1;32m    442\u001b[0m \u001b[0;34m\u001b[0m\u001b[0m\n\u001b[1;32m    443\u001b[0m                 \u001b[0;32mif\u001b[0m \u001b[0mself\u001b[0m\u001b[0;34m.\u001b[0m\u001b[0m_state\u001b[0m \u001b[0;32min\u001b[0m \u001b[0;34m[\u001b[0m\u001b[0mCANCELLED\u001b[0m\u001b[0;34m,\u001b[0m \u001b[0mCANCELLED_AND_NOTIFIED\u001b[0m\u001b[0;34m]\u001b[0m\u001b[0;34m:\u001b[0m\u001b[0;34m\u001b[0m\u001b[0;34m\u001b[0m\u001b[0m\n",
            "\u001b[0;32m/usr/lib/python3.9/threading.py\u001b[0m in \u001b[0;36mwait\u001b[0;34m(self, timeout)\u001b[0m\n\u001b[1;32m    310\u001b[0m         \u001b[0;32mtry\u001b[0m\u001b[0;34m:\u001b[0m    \u001b[0;31m# restore state no matter what (e.g., KeyboardInterrupt)\u001b[0m\u001b[0;34m\u001b[0m\u001b[0;34m\u001b[0m\u001b[0m\n\u001b[1;32m    311\u001b[0m             \u001b[0;32mif\u001b[0m \u001b[0mtimeout\u001b[0m \u001b[0;32mis\u001b[0m \u001b[0;32mNone\u001b[0m\u001b[0;34m:\u001b[0m\u001b[0;34m\u001b[0m\u001b[0;34m\u001b[0m\u001b[0m\n\u001b[0;32m--> 312\u001b[0;31m                 \u001b[0mwaiter\u001b[0m\u001b[0;34m.\u001b[0m\u001b[0macquire\u001b[0m\u001b[0;34m(\u001b[0m\u001b[0;34m)\u001b[0m\u001b[0;34m\u001b[0m\u001b[0;34m\u001b[0m\u001b[0m\n\u001b[0m\u001b[1;32m    313\u001b[0m                 \u001b[0mgotit\u001b[0m \u001b[0;34m=\u001b[0m \u001b[0;32mTrue\u001b[0m\u001b[0;34m\u001b[0m\u001b[0;34m\u001b[0m\u001b[0m\n\u001b[1;32m    314\u001b[0m             \u001b[0;32melse\u001b[0m\u001b[0;34m:\u001b[0m\u001b[0;34m\u001b[0m\u001b[0;34m\u001b[0m\u001b[0m\n",
            "\u001b[0;31mKeyboardInterrupt\u001b[0m: "
          ]
        }
      ],
      "source": [
        "from sklearn.ensemble import RandomForestClassifier\n",
        "rf = RandomForestClassifier()\n",
        "\n",
        "param_grid = {\n",
        "    'bootstrap': [True],\n",
        "    'max_depth': [80, 90],\n",
        "    'max_features': [2, 3],\n",
        "    'min_samples_leaf': [3, 4, 5],\n",
        "    'min_samples_split': [8, 10, 12],\n",
        "    'n_estimators': [100, 200]\n",
        "}\n",
        "\n",
        "rfclassifier = GridSearchCV(estimator = rf, param_grid = param_grid, \n",
        "                          cv = 10, n_jobs = -1, verbose = 2)\n",
        "rfclassifier.fit(X_train, y_train)# fit function is where it trains\n",
        "rfclassifier.best_params_"
      ]
    },
    {
      "cell_type": "code",
      "execution_count": null,
      "metadata": {
        "colab": {
          "base_uri": "https://localhost:8080/"
        },
        "id": "seIy7NGETmI8",
        "outputId": "50ec31e7-af35-44fa-d3a5-a382d9dd944b"
      },
      "outputs": [
        {
          "output_type": "stream",
          "name": "stdout",
          "text": [
            "Train iteration 1\n",
            "Train iteration 2\n",
            "Train iteration 3\n",
            "Train iteration 4\n",
            "Train iteration 5\n",
            "Train iteration 6\n",
            "Train iteration 7\n",
            "Train iteration 8\n",
            "Train iteration 9\n",
            "Train iteration 10\n"
          ]
        }
      ],
      "source": [
        "from sklearn.ensemble import RandomForestClassifier\n",
        "from sklearn.metrics import roc_auc_score, roc_curve, confusion_matrix, precision_score, recall_score\n",
        "from sklearn.metrics import classification_report, average_precision_score, accuracy_score, f1_score\n",
        "for i in range(10):\n",
        "  X_train,x_test,y_train,y_test = train_test_split(x,y, test_size = 0.2, random_state = None)\n",
        "  grid = RandomForestClassifier(bootstrap=True,max_depth = 80, max_features = 3,min_samples_leaf= 3,min_samples_split= 8,n_estimators= 200)\n",
        "  grid.fit(X_train, y_train)\n",
        "  print(\"Train iteration\",i+1)"
      ]
    },
    {
      "cell_type": "code",
      "execution_count": null,
      "metadata": {
        "id": "_wpEBNk8TsbC"
      },
      "outputs": [],
      "source": [
        "from sklearn.metrics import roc_auc_score, roc_curve, confusion_matrix, precision_score, recall_score\n",
        "from sklearn.metrics import classification_report, average_precision_score, accuracy_score, f1_score"
      ]
    },
    {
      "cell_type": "code",
      "execution_count": null,
      "metadata": {
        "colab": {
          "base_uri": "https://localhost:8080/"
        },
        "id": "-FqHC8Lbr7zT",
        "outputId": "bebc14c9-fef0-4c22-fbea-2ede824660a6"
      },
      "outputs": [
        {
          "output_type": "stream",
          "name": "stdout",
          "text": [
            "[[3804  113   66    0    0    6]\n",
            " [ 138  629    3    0    0    3]\n",
            " [ 111    5  671    2    0    0]\n",
            " [   0    0    0  796    0    0]\n",
            " [   0    0    0    0  804    8]\n",
            " [  17    0    0    6    0  820]]\n",
            "              precision    recall  f1-score   support\n",
            "\n",
            "           0       0.93      0.95      0.94      3989\n",
            "           1       0.84      0.81      0.83       773\n",
            "           2       0.91      0.85      0.88       789\n",
            "           3       0.99      1.00      0.99       796\n",
            "           4       1.00      0.99      1.00       812\n",
            "           5       0.98      0.97      0.98       843\n",
            "\n",
            "    accuracy                           0.94      8002\n",
            "   macro avg       0.94      0.93      0.94      8002\n",
            "weighted avg       0.94      0.94      0.94      8002\n",
            "\n"
          ]
        }
      ],
      "source": [
        "\n",
        "grid_predictions = grid.predict(x_test)\n",
        "  \n",
        "# print classification report\n",
        "print(confusion_matrix(y_test, grid_predictions))\n",
        "print(classification_report(y_test, grid_predictions))\n"
      ]
    },
    {
      "cell_type": "code",
      "execution_count": null,
      "metadata": {
        "colab": {
          "base_uri": "https://localhost:8080/"
        },
        "id": "t3_KbcT--Hjr",
        "outputId": "44b06f0f-a698-466d-ebc1-0c5343a69b5f"
      },
      "outputs": [
        {
          "output_type": "stream",
          "name": "stdout",
          "text": [
            "Train accuracy: 0.9887201599800025\n",
            "Train confusion matrix [[15929    60    22     0     0     1]\n",
            " [  144  3073    11     0     0     0]\n",
            " [   62     3  3145     2     0     0]\n",
            " [    0     0     0  3204     0     1]\n",
            " [    2     1     0     0  3177     9]\n",
            " [   35     5     0     3     0  3115]]\n"
          ]
        }
      ],
      "source": [
        "grid_predictions1 = grid.predict(X_train)\n",
        "print(\"Train accuracy:\",accuracy_score(y_train,grid_predictions1))\n",
        "print(\"Train confusion matrix\",confusion_matrix(y_train,grid_predictions1))"
      ]
    },
    {
      "cell_type": "markdown",
      "source": [
        "**Decision Tree**"
      ],
      "metadata": {
        "id": "haV2BeRLKzIh"
      }
    },
    {
      "cell_type": "code",
      "source": [
        "#Decision Tree\n",
        "param_grid = {\n",
        "    'criterion' : ['gini', 'entropy'],\n",
        "    'max_depth':[4,5,6,7,8,9,10,11,12,15,20,30],\n",
        "    'min_samples_split' : range(10,500,20),\n",
        "    'splitter' : ['best', 'random'],\n",
        "    'min_samples_leaf': [5,8,11],\n",
        "    'max_features': ['log2', 'sqrt','auto']\n",
        "}\n",
        "\n",
        "# Create a based model\n",
        "dt = DecisionTreeClassifier()\n",
        "# Instantiate the grid search model\n",
        "dtClassifier = GridSearchCV(estimator = dt, param_grid = param_grid, \n",
        "                          cv = 10, n_jobs = -1, verbose = 2)\n",
        "\n",
        "dtClassifier.fit(X_train, y_train)\n",
        "dtClassifier.best_params_"
      ],
      "metadata": {
        "id": "KaJ8hmrlKynq"
      },
      "execution_count": null,
      "outputs": []
    },
    {
      "cell_type": "markdown",
      "source": [
        "best Hyperparameters for Decision tree\n",
        "\n",
        "Fitting 10 folds for each of 10800 candidates, totalling 108000 fits\n",
        "{'criterion': 'entropy',\n",
        " 'max_depth': 15,\n",
        " 'max_features': 'log2',\n",
        " 'min_samples_leaf': 5,\n",
        " 'min_samples_split': 10,\n",
        " 'splitter': 'best'}"
      ],
      "metadata": {
        "id": "TBqjBhK7K8Ef"
      }
    },
    {
      "cell_type": "markdown",
      "source": [
        "**KNN**"
      ],
      "metadata": {
        "id": "BATcDfqe58MM"
      }
    },
    {
      "cell_type": "code",
      "source": [
        "knn = KNeighborsClassifier(algorithm = 'brute')\n",
        "\n",
        "k_range = list(range(1, 100))\n",
        "param_grid = dict(n_neighbors=k_range)\n",
        "\n",
        "# Instantiate the grid search model\n",
        "knnClassifier = GridSearchCV(estimator = knn, param_grid = param_grid, \n",
        "                          cv = 10, n_jobs = -1, verbose = 2)\n",
        "\n",
        "knnClassifier.fit(X_train, y_train)\n",
        "knnClassifier.best_params_"
      ],
      "metadata": {
        "colab": {
          "base_uri": "https://localhost:8080/"
        },
        "id": "yFHVal6F6Are",
        "outputId": "313e9fdf-1fc7-4f55-9e8e-5ef3c11f5bfd"
      },
      "execution_count": null,
      "outputs": [
        {
          "output_type": "stream",
          "name": "stdout",
          "text": [
            "Fitting 10 folds for each of 99 candidates, totalling 990 fits\n"
          ]
        },
        {
          "output_type": "execute_result",
          "data": {
            "text/plain": [
              "{'n_neighbors': 3}"
            ]
          },
          "metadata": {},
          "execution_count": 10
        }
      ]
    },
    {
      "cell_type": "code",
      "source": [
        "print('Cross-validation Score:', knnClassifier.best_score_)\n",
        "print('Best Hyperparameters:', knnClassifier.best_params_)"
      ],
      "metadata": {
        "id": "dP-k_qsh7KXL",
        "colab": {
          "base_uri": "https://localhost:8080/"
        },
        "outputId": "abcc160e-7e35-421e-9f88-3e5d61d780d3"
      },
      "execution_count": null,
      "outputs": [
        {
          "output_type": "stream",
          "name": "stdout",
          "text": [
            "Cross-validation Score: 0.8847642631208996\n",
            "Best Hyperparameters: {'n_neighbors': 3}\n"
          ]
        }
      ]
    },
    {
      "cell_type": "code",
      "source": [
        "from sklearn.metrics import roc_auc_score, roc_curve, confusion_matrix, precision_score, recall_score\n",
        "from sklearn.metrics import classification_report, average_precision_score, accuracy_score, f1_score\n",
        "y_pred_train_binary = knnClassifier.predict(X_train)\n",
        "y_pred_train_binary"
      ],
      "metadata": {
        "id": "mWl_0h7i7Ogh",
        "colab": {
          "base_uri": "https://localhost:8080/"
        },
        "outputId": "f02edad0-bb48-465a-ebdd-8f6fe08cf99f"
      },
      "execution_count": null,
      "outputs": [
        {
          "output_type": "execute_result",
          "data": {
            "text/plain": [
              "array([0, 3, 1, ..., 0, 0, 0])"
            ]
          },
          "metadata": {},
          "execution_count": 13
        }
      ]
    },
    {
      "cell_type": "code",
      "source": [
        "from sklearn.metrics import roc_auc_score, roc_curve, confusion_matrix, precision_score, recall_score\n",
        "from sklearn.metrics import classification_report, average_precision_score, accuracy_score, f1_score\n",
        "print(confusion_matrix(y_train, y_pred_train_binary))\n",
        "print(classification_report(y_train, y_pred_train_binary))"
      ],
      "metadata": {
        "id": "arWCOM5l7Q5n",
        "colab": {
          "base_uri": "https://localhost:8080/"
        },
        "outputId": "ef9e3a25-6740-41e6-ae24-a533d67252a0"
      },
      "execution_count": null,
      "outputs": [
        {
          "output_type": "stream",
          "name": "stdout",
          "text": [
            "[[15458   335   275     0     0     1]\n",
            " [  611  2574    26     0     0     0]\n",
            " [  438    13  2730     1     0     0]\n",
            " [    0     0     0  3193     0     0]\n",
            " [   12     0     0     1  3140    24]\n",
            " [   74    15    18    24     1  3040]]\n",
            "              precision    recall  f1-score   support\n",
            "\n",
            "           0       0.93      0.96      0.95     16069\n",
            "           1       0.88      0.80      0.84      3211\n",
            "           2       0.90      0.86      0.88      3182\n",
            "           3       0.99      1.00      1.00      3193\n",
            "           4       1.00      0.99      0.99      3177\n",
            "           5       0.99      0.96      0.97      3172\n",
            "\n",
            "    accuracy                           0.94     32004\n",
            "   macro avg       0.95      0.93      0.94     32004\n",
            "weighted avg       0.94      0.94      0.94     32004\n",
            "\n"
          ]
        }
      ]
    },
    {
      "cell_type": "markdown",
      "source": [
        "**SVM**"
      ],
      "metadata": {
        "id": "sk31yVMp5QRC"
      }
    },
    {
      "cell_type": "code",
      "source": [
        "from sklearn.svm import SVC\n",
        "from sklearn.model_selection import GridSearchCV\n",
        "from sklearn.metrics import roc_auc_score, roc_curve, confusion_matrix, precision_score, recall_score\n",
        "from sklearn.metrics import classification_report, average_precision_score, accuracy_score, f1_score\n",
        "\n",
        "\n",
        "param_grid = {'C': [1,10,100,1000,10000], \n",
        "              'gamma': [0.0001,0.001,0.01,0.1,1],\n",
        "              'kernel': ['poly'],'degree':[3,4]} \n",
        "grid = GridSearchCV(SVC(), param_grid, refit = True, verbose = 3)\n",
        "grid.fit(X_train, y_train)"
      ],
      "metadata": {
        "id": "whRf6dJp5Swq"
      },
      "execution_count": null,
      "outputs": []
    },
    {
      "cell_type": "code",
      "source": [
        "from sklearn.svm import SVC\n",
        "from sklearn.model_selection import GridSearchCV\n",
        "from sklearn.metrics import roc_auc_score, roc_curve, confusion_matrix, precision_score, recall_score\n",
        "from sklearn.metrics import classification_report, average_precision_score, accuracy_score, f1_score\n",
        "for i in range(15):\n",
        "  X_train,x_test,y_train,y_test = train_test_split(df_scaled,y, test_size = 0.2, random_state = None)\n",
        "  grid2 = SVC(C= 1000,gamma= 1,kernel = 'rbf')\n",
        "  grid2.fit(X_train, y_train)\n",
        "  print(\"Train iteration\",i+1)"
      ],
      "metadata": {
        "colab": {
          "base_uri": "https://localhost:8080/"
        },
        "id": "qCsoMvzY5TvP",
        "outputId": "737ad268-8954-4ecf-e0b5-9cd0428eaa56"
      },
      "execution_count": null,
      "outputs": [
        {
          "output_type": "stream",
          "name": "stdout",
          "text": [
            "Train iteration 1\n",
            "Train iteration 2\n",
            "Train iteration 3\n",
            "Train iteration 4\n",
            "Train iteration 5\n",
            "Train iteration 6\n",
            "Train iteration 7\n",
            "Train iteration 8\n",
            "Train iteration 9\n",
            "Train iteration 10\n",
            "Train iteration 11\n",
            "Train iteration 12\n",
            "Train iteration 13\n",
            "Train iteration 14\n",
            "Train iteration 15\n"
          ]
        }
      ]
    },
    {
      "cell_type": "code",
      "source": [
        "\n",
        "grid_predictions2 = grid2.predict(x_test)\n",
        "  \n",
        "# print classification report\n",
        "print(confusion_matrix(y_test, grid_predictions2))\n",
        "print(classification_report(y_test, grid_predictions2))\n",
        "print(\"Train accuracy:\",accuracy_score(y_train,grid2.predict(X_train)))\n",
        "print(\"Test accuracy:\", accuracy_score(y_test,grid_predictions2))"
      ],
      "metadata": {
        "colab": {
          "base_uri": "https://localhost:8080/"
        },
        "id": "HFnj6kBN5a02",
        "outputId": "16ba6df0-b64f-4eaf-cd1f-a605c189a170"
      },
      "execution_count": null,
      "outputs": [
        {
          "output_type": "stream",
          "name": "stdout",
          "text": [
            "[[3739  128  113    0    0    1]\n",
            " [ 182  599    9    0    0    0]\n",
            " [ 141    5  687    0    0    0]\n",
            " [   0    0    0  812    0    3]\n",
            " [   1    0    0    0  759    4]\n",
            " [  11    4    1    3    2  798]]\n",
            "              precision    recall  f1-score   support\n",
            "\n",
            "           0       0.92      0.94      0.93      3981\n",
            "           1       0.81      0.76      0.79       790\n",
            "           2       0.85      0.82      0.84       833\n",
            "           3       1.00      1.00      1.00       815\n",
            "           4       1.00      0.99      1.00       764\n",
            "           5       0.99      0.97      0.98       819\n",
            "\n",
            "    accuracy                           0.92      8002\n",
            "   macro avg       0.93      0.91      0.92      8002\n",
            "weighted avg       0.92      0.92      0.92      8002\n",
            "\n",
            "Train accuracy: 0.9637857767779028\n",
            "Test accuracy: 0.9240189952511872\n"
          ]
        }
      ]
    },
    {
      "cell_type": "code",
      "source": [
        "from sklearn.metrics import roc_auc_score, roc_curve, confusion_matrix, precision_score, recall_score\n",
        "from sklearn.metrics import classification_report, average_precision_score, accuracy_score, f1_score\n",
        "y_pred_train = grid2.predict(X_train)\n",
        "y_pred_train\n",
        "from sklearn.metrics import roc_auc_score, roc_curve, confusion_matrix, precision_score, recall_score\n",
        "from sklearn.metrics import classification_report, average_precision_score, accuracy_score, f1_score\n",
        "\n",
        "print(confusion_matrix(y_train, y_pred_train))\n",
        "print(classification_report(y_train, y_pred_train))"
      ],
      "metadata": {
        "colab": {
          "base_uri": "https://localhost:8080/"
        },
        "id": "XV9U2btn5eWA",
        "outputId": "e0f3c962-8808-46b8-b2d0-bd9a488f6148"
      },
      "execution_count": null,
      "outputs": [
        {
          "output_type": "stream",
          "name": "stdout",
          "text": [
            "[[15543   245   232     0     0     0]\n",
            " [  379  2825     7     0     0     0]\n",
            " [  289     7  2872     0     0     0]\n",
            " [    0     0     0  3186     0     0]\n",
            " [    0     0     0     0  3237     0]\n",
            " [    0     0     0     0     0  3182]]\n",
            "              precision    recall  f1-score   support\n",
            "\n",
            "           0       0.96      0.97      0.96     16020\n",
            "           1       0.92      0.88      0.90      3211\n",
            "           2       0.92      0.91      0.91      3168\n",
            "           3       1.00      1.00      1.00      3186\n",
            "           4       1.00      1.00      1.00      3237\n",
            "           5       1.00      1.00      1.00      3182\n",
            "\n",
            "    accuracy                           0.96     32004\n",
            "   macro avg       0.97      0.96      0.96     32004\n",
            "weighted avg       0.96      0.96      0.96     32004\n",
            "\n"
          ]
        }
      ]
    },
    {
      "cell_type": "code",
      "execution_count": null,
      "metadata": {
        "id": "zsqbMnUwT9zb"
      },
      "outputs": [],
      "source": [
        "import pickle\n",
        "\n",
        "with open('motor_fault_rfmodel','wb') as f:\n",
        "  pickle.dump(grid,f)"
      ]
    },
    {
      "cell_type": "code",
      "execution_count": null,
      "metadata": {
        "id": "Gi2ZJ7wYUELi"
      },
      "outputs": [],
      "source": [
        "import pickle\n",
        "\n",
        "with open('motor_fault_rfmodel','rb') as f:\n",
        "  mod=pickle.load(f)"
      ]
    },
    {
      "cell_type": "code",
      "execution_count": null,
      "metadata": {
        "colab": {
          "base_uri": "https://localhost:8080/",
          "height": 73
        },
        "id": "8_TvMP6kUILr",
        "outputId": "8ee7937d-6794-4e47-d618-2e90f723248e"
      },
      "outputs": [
        {
          "output_type": "display_data",
          "data": {
            "text/plain": [
              "<IPython.core.display.HTML object>"
            ],
            "text/html": [
              "\n",
              "     <input type=\"file\" id=\"files-4cb89d89-e9a8-46ce-9a49-77a247b81bbd\" name=\"files[]\" multiple disabled\n",
              "        style=\"border:none\" />\n",
              "     <output id=\"result-4cb89d89-e9a8-46ce-9a49-77a247b81bbd\">\n",
              "      Upload widget is only available when the cell has been executed in the\n",
              "      current browser session. Please rerun this cell to enable.\n",
              "      </output>\n",
              "      <script>// Copyright 2017 Google LLC\n",
              "//\n",
              "// Licensed under the Apache License, Version 2.0 (the \"License\");\n",
              "// you may not use this file except in compliance with the License.\n",
              "// You may obtain a copy of the License at\n",
              "//\n",
              "//      http://www.apache.org/licenses/LICENSE-2.0\n",
              "//\n",
              "// Unless required by applicable law or agreed to in writing, software\n",
              "// distributed under the License is distributed on an \"AS IS\" BASIS,\n",
              "// WITHOUT WARRANTIES OR CONDITIONS OF ANY KIND, either express or implied.\n",
              "// See the License for the specific language governing permissions and\n",
              "// limitations under the License.\n",
              "\n",
              "/**\n",
              " * @fileoverview Helpers for google.colab Python module.\n",
              " */\n",
              "(function(scope) {\n",
              "function span(text, styleAttributes = {}) {\n",
              "  const element = document.createElement('span');\n",
              "  element.textContent = text;\n",
              "  for (const key of Object.keys(styleAttributes)) {\n",
              "    element.style[key] = styleAttributes[key];\n",
              "  }\n",
              "  return element;\n",
              "}\n",
              "\n",
              "// Max number of bytes which will be uploaded at a time.\n",
              "const MAX_PAYLOAD_SIZE = 100 * 1024;\n",
              "\n",
              "function _uploadFiles(inputId, outputId) {\n",
              "  const steps = uploadFilesStep(inputId, outputId);\n",
              "  const outputElement = document.getElementById(outputId);\n",
              "  // Cache steps on the outputElement to make it available for the next call\n",
              "  // to uploadFilesContinue from Python.\n",
              "  outputElement.steps = steps;\n",
              "\n",
              "  return _uploadFilesContinue(outputId);\n",
              "}\n",
              "\n",
              "// This is roughly an async generator (not supported in the browser yet),\n",
              "// where there are multiple asynchronous steps and the Python side is going\n",
              "// to poll for completion of each step.\n",
              "// This uses a Promise to block the python side on completion of each step,\n",
              "// then passes the result of the previous step as the input to the next step.\n",
              "function _uploadFilesContinue(outputId) {\n",
              "  const outputElement = document.getElementById(outputId);\n",
              "  const steps = outputElement.steps;\n",
              "\n",
              "  const next = steps.next(outputElement.lastPromiseValue);\n",
              "  return Promise.resolve(next.value.promise).then((value) => {\n",
              "    // Cache the last promise value to make it available to the next\n",
              "    // step of the generator.\n",
              "    outputElement.lastPromiseValue = value;\n",
              "    return next.value.response;\n",
              "  });\n",
              "}\n",
              "\n",
              "/**\n",
              " * Generator function which is called between each async step of the upload\n",
              " * process.\n",
              " * @param {string} inputId Element ID of the input file picker element.\n",
              " * @param {string} outputId Element ID of the output display.\n",
              " * @return {!Iterable<!Object>} Iterable of next steps.\n",
              " */\n",
              "function* uploadFilesStep(inputId, outputId) {\n",
              "  const inputElement = document.getElementById(inputId);\n",
              "  inputElement.disabled = false;\n",
              "\n",
              "  const outputElement = document.getElementById(outputId);\n",
              "  outputElement.innerHTML = '';\n",
              "\n",
              "  const pickedPromise = new Promise((resolve) => {\n",
              "    inputElement.addEventListener('change', (e) => {\n",
              "      resolve(e.target.files);\n",
              "    });\n",
              "  });\n",
              "\n",
              "  const cancel = document.createElement('button');\n",
              "  inputElement.parentElement.appendChild(cancel);\n",
              "  cancel.textContent = 'Cancel upload';\n",
              "  const cancelPromise = new Promise((resolve) => {\n",
              "    cancel.onclick = () => {\n",
              "      resolve(null);\n",
              "    };\n",
              "  });\n",
              "\n",
              "  // Wait for the user to pick the files.\n",
              "  const files = yield {\n",
              "    promise: Promise.race([pickedPromise, cancelPromise]),\n",
              "    response: {\n",
              "      action: 'starting',\n",
              "    }\n",
              "  };\n",
              "\n",
              "  cancel.remove();\n",
              "\n",
              "  // Disable the input element since further picks are not allowed.\n",
              "  inputElement.disabled = true;\n",
              "\n",
              "  if (!files) {\n",
              "    return {\n",
              "      response: {\n",
              "        action: 'complete',\n",
              "      }\n",
              "    };\n",
              "  }\n",
              "\n",
              "  for (const file of files) {\n",
              "    const li = document.createElement('li');\n",
              "    li.append(span(file.name, {fontWeight: 'bold'}));\n",
              "    li.append(span(\n",
              "        `(${file.type || 'n/a'}) - ${file.size} bytes, ` +\n",
              "        `last modified: ${\n",
              "            file.lastModifiedDate ? file.lastModifiedDate.toLocaleDateString() :\n",
              "                                    'n/a'} - `));\n",
              "    const percent = span('0% done');\n",
              "    li.appendChild(percent);\n",
              "\n",
              "    outputElement.appendChild(li);\n",
              "\n",
              "    const fileDataPromise = new Promise((resolve) => {\n",
              "      const reader = new FileReader();\n",
              "      reader.onload = (e) => {\n",
              "        resolve(e.target.result);\n",
              "      };\n",
              "      reader.readAsArrayBuffer(file);\n",
              "    });\n",
              "    // Wait for the data to be ready.\n",
              "    let fileData = yield {\n",
              "      promise: fileDataPromise,\n",
              "      response: {\n",
              "        action: 'continue',\n",
              "      }\n",
              "    };\n",
              "\n",
              "    // Use a chunked sending to avoid message size limits. See b/62115660.\n",
              "    let position = 0;\n",
              "    do {\n",
              "      const length = Math.min(fileData.byteLength - position, MAX_PAYLOAD_SIZE);\n",
              "      const chunk = new Uint8Array(fileData, position, length);\n",
              "      position += length;\n",
              "\n",
              "      const base64 = btoa(String.fromCharCode.apply(null, chunk));\n",
              "      yield {\n",
              "        response: {\n",
              "          action: 'append',\n",
              "          file: file.name,\n",
              "          data: base64,\n",
              "        },\n",
              "      };\n",
              "\n",
              "      let percentDone = fileData.byteLength === 0 ?\n",
              "          100 :\n",
              "          Math.round((position / fileData.byteLength) * 100);\n",
              "      percent.textContent = `${percentDone}% done`;\n",
              "\n",
              "    } while (position < fileData.byteLength);\n",
              "  }\n",
              "\n",
              "  // All done.\n",
              "  yield {\n",
              "    response: {\n",
              "      action: 'complete',\n",
              "    }\n",
              "  };\n",
              "}\n",
              "\n",
              "scope.google = scope.google || {};\n",
              "scope.google.colab = scope.google.colab || {};\n",
              "scope.google.colab._files = {\n",
              "  _uploadFiles,\n",
              "  _uploadFilesContinue,\n",
              "};\n",
              "})(self);\n",
              "</script> "
            ]
          },
          "metadata": {}
        },
        {
          "output_type": "stream",
          "name": "stdout",
          "text": [
            "Saving merged_20000_test.csv to merged_20000_test (1).csv\n"
          ]
        }
      ],
      "source": [
        "from google.colab import files\n",
        "uploaded = files.upload()"
      ]
    },
    {
      "cell_type": "code",
      "execution_count": null,
      "metadata": {
        "colab": {
          "base_uri": "https://localhost:8080/",
          "height": 423
        },
        "id": "5p5vIUhmULz9",
        "outputId": "f0d1af85-95b4-4eb0-e8c8-cb739d31df92"
      },
      "outputs": [
        {
          "output_type": "execute_result",
          "data": {
            "text/plain": [
              "     tachometer  ub_axial  ub_radial   ub_tang  oh_axial  oh_radial   oh_tang  \\\n",
              "0      -0.46507   0.32260   0.406940  0.064681   0.32869  -0.012733  0.094531   \n",
              "1      -0.53586  -0.11591  -0.271120  0.009039   0.30377  -0.009884  0.075387   \n",
              "2      -0.54062  -1.03650   0.166220  0.024178   0.30780  -0.012759  0.088468   \n",
              "3      -0.45362   0.95139   0.038656  0.020016   0.33036   0.001051  0.135510   \n",
              "4      -0.58190  -1.57460  -0.248520 -0.026415   0.26675   0.007963  0.075637   \n",
              "..          ...       ...        ...       ...       ...        ...       ...   \n",
              "301    -0.54217  -0.57947   0.068483 -0.535510   2.89360   0.188770  0.634920   \n",
              "302    -0.55392  -1.99280  -0.351690 -0.588370   2.85250   0.182580  0.653200   \n",
              "303    -0.54053  -1.03640   0.255390 -0.540750   2.83160   0.181410  0.677930   \n",
              "304    -0.55126  -1.28580   0.128820 -0.540440   2.79050   0.179690  0.643620   \n",
              "305    -0.54761  -1.74840   0.383450 -0.498250   2.74220   0.175700  0.603370   \n",
              "\n",
              "        micro  fault  \n",
              "0   -0.128360      0  \n",
              "1    0.133540      0  \n",
              "2   -0.106990      0  \n",
              "3    0.079221      0  \n",
              "4    0.047168      0  \n",
              "..        ...    ...  \n",
              "301 -0.081822      5  \n",
              "302  0.111200      5  \n",
              "303 -0.091947      5  \n",
              "304  0.111320      5  \n",
              "305  0.001608      5  \n",
              "\n",
              "[306 rows x 9 columns]"
            ],
            "text/html": [
              "\n",
              "  <div id=\"df-2ceecd17-66b6-400d-8384-5fb0e943fe27\">\n",
              "    <div class=\"colab-df-container\">\n",
              "      <div>\n",
              "<style scoped>\n",
              "    .dataframe tbody tr th:only-of-type {\n",
              "        vertical-align: middle;\n",
              "    }\n",
              "\n",
              "    .dataframe tbody tr th {\n",
              "        vertical-align: top;\n",
              "    }\n",
              "\n",
              "    .dataframe thead th {\n",
              "        text-align: right;\n",
              "    }\n",
              "</style>\n",
              "<table border=\"1\" class=\"dataframe\">\n",
              "  <thead>\n",
              "    <tr style=\"text-align: right;\">\n",
              "      <th></th>\n",
              "      <th>tachometer</th>\n",
              "      <th>ub_axial</th>\n",
              "      <th>ub_radial</th>\n",
              "      <th>ub_tang</th>\n",
              "      <th>oh_axial</th>\n",
              "      <th>oh_radial</th>\n",
              "      <th>oh_tang</th>\n",
              "      <th>micro</th>\n",
              "      <th>fault</th>\n",
              "    </tr>\n",
              "  </thead>\n",
              "  <tbody>\n",
              "    <tr>\n",
              "      <th>0</th>\n",
              "      <td>-0.46507</td>\n",
              "      <td>0.32260</td>\n",
              "      <td>0.406940</td>\n",
              "      <td>0.064681</td>\n",
              "      <td>0.32869</td>\n",
              "      <td>-0.012733</td>\n",
              "      <td>0.094531</td>\n",
              "      <td>-0.128360</td>\n",
              "      <td>0</td>\n",
              "    </tr>\n",
              "    <tr>\n",
              "      <th>1</th>\n",
              "      <td>-0.53586</td>\n",
              "      <td>-0.11591</td>\n",
              "      <td>-0.271120</td>\n",
              "      <td>0.009039</td>\n",
              "      <td>0.30377</td>\n",
              "      <td>-0.009884</td>\n",
              "      <td>0.075387</td>\n",
              "      <td>0.133540</td>\n",
              "      <td>0</td>\n",
              "    </tr>\n",
              "    <tr>\n",
              "      <th>2</th>\n",
              "      <td>-0.54062</td>\n",
              "      <td>-1.03650</td>\n",
              "      <td>0.166220</td>\n",
              "      <td>0.024178</td>\n",
              "      <td>0.30780</td>\n",
              "      <td>-0.012759</td>\n",
              "      <td>0.088468</td>\n",
              "      <td>-0.106990</td>\n",
              "      <td>0</td>\n",
              "    </tr>\n",
              "    <tr>\n",
              "      <th>3</th>\n",
              "      <td>-0.45362</td>\n",
              "      <td>0.95139</td>\n",
              "      <td>0.038656</td>\n",
              "      <td>0.020016</td>\n",
              "      <td>0.33036</td>\n",
              "      <td>0.001051</td>\n",
              "      <td>0.135510</td>\n",
              "      <td>0.079221</td>\n",
              "      <td>0</td>\n",
              "    </tr>\n",
              "    <tr>\n",
              "      <th>4</th>\n",
              "      <td>-0.58190</td>\n",
              "      <td>-1.57460</td>\n",
              "      <td>-0.248520</td>\n",
              "      <td>-0.026415</td>\n",
              "      <td>0.26675</td>\n",
              "      <td>0.007963</td>\n",
              "      <td>0.075637</td>\n",
              "      <td>0.047168</td>\n",
              "      <td>0</td>\n",
              "    </tr>\n",
              "    <tr>\n",
              "      <th>...</th>\n",
              "      <td>...</td>\n",
              "      <td>...</td>\n",
              "      <td>...</td>\n",
              "      <td>...</td>\n",
              "      <td>...</td>\n",
              "      <td>...</td>\n",
              "      <td>...</td>\n",
              "      <td>...</td>\n",
              "      <td>...</td>\n",
              "    </tr>\n",
              "    <tr>\n",
              "      <th>301</th>\n",
              "      <td>-0.54217</td>\n",
              "      <td>-0.57947</td>\n",
              "      <td>0.068483</td>\n",
              "      <td>-0.535510</td>\n",
              "      <td>2.89360</td>\n",
              "      <td>0.188770</td>\n",
              "      <td>0.634920</td>\n",
              "      <td>-0.081822</td>\n",
              "      <td>5</td>\n",
              "    </tr>\n",
              "    <tr>\n",
              "      <th>302</th>\n",
              "      <td>-0.55392</td>\n",
              "      <td>-1.99280</td>\n",
              "      <td>-0.351690</td>\n",
              "      <td>-0.588370</td>\n",
              "      <td>2.85250</td>\n",
              "      <td>0.182580</td>\n",
              "      <td>0.653200</td>\n",
              "      <td>0.111200</td>\n",
              "      <td>5</td>\n",
              "    </tr>\n",
              "    <tr>\n",
              "      <th>303</th>\n",
              "      <td>-0.54053</td>\n",
              "      <td>-1.03640</td>\n",
              "      <td>0.255390</td>\n",
              "      <td>-0.540750</td>\n",
              "      <td>2.83160</td>\n",
              "      <td>0.181410</td>\n",
              "      <td>0.677930</td>\n",
              "      <td>-0.091947</td>\n",
              "      <td>5</td>\n",
              "    </tr>\n",
              "    <tr>\n",
              "      <th>304</th>\n",
              "      <td>-0.55126</td>\n",
              "      <td>-1.28580</td>\n",
              "      <td>0.128820</td>\n",
              "      <td>-0.540440</td>\n",
              "      <td>2.79050</td>\n",
              "      <td>0.179690</td>\n",
              "      <td>0.643620</td>\n",
              "      <td>0.111320</td>\n",
              "      <td>5</td>\n",
              "    </tr>\n",
              "    <tr>\n",
              "      <th>305</th>\n",
              "      <td>-0.54761</td>\n",
              "      <td>-1.74840</td>\n",
              "      <td>0.383450</td>\n",
              "      <td>-0.498250</td>\n",
              "      <td>2.74220</td>\n",
              "      <td>0.175700</td>\n",
              "      <td>0.603370</td>\n",
              "      <td>0.001608</td>\n",
              "      <td>5</td>\n",
              "    </tr>\n",
              "  </tbody>\n",
              "</table>\n",
              "<p>306 rows × 9 columns</p>\n",
              "</div>\n",
              "      <button class=\"colab-df-convert\" onclick=\"convertToInteractive('df-2ceecd17-66b6-400d-8384-5fb0e943fe27')\"\n",
              "              title=\"Convert this dataframe to an interactive table.\"\n",
              "              style=\"display:none;\">\n",
              "        \n",
              "  <svg xmlns=\"http://www.w3.org/2000/svg\" height=\"24px\"viewBox=\"0 0 24 24\"\n",
              "       width=\"24px\">\n",
              "    <path d=\"M0 0h24v24H0V0z\" fill=\"none\"/>\n",
              "    <path d=\"M18.56 5.44l.94 2.06.94-2.06 2.06-.94-2.06-.94-.94-2.06-.94 2.06-2.06.94zm-11 1L8.5 8.5l.94-2.06 2.06-.94-2.06-.94L8.5 2.5l-.94 2.06-2.06.94zm10 10l.94 2.06.94-2.06 2.06-.94-2.06-.94-.94-2.06-.94 2.06-2.06.94z\"/><path d=\"M17.41 7.96l-1.37-1.37c-.4-.4-.92-.59-1.43-.59-.52 0-1.04.2-1.43.59L10.3 9.45l-7.72 7.72c-.78.78-.78 2.05 0 2.83L4 21.41c.39.39.9.59 1.41.59.51 0 1.02-.2 1.41-.59l7.78-7.78 2.81-2.81c.8-.78.8-2.07 0-2.86zM5.41 20L4 18.59l7.72-7.72 1.47 1.35L5.41 20z\"/>\n",
              "  </svg>\n",
              "      </button>\n",
              "      \n",
              "  <style>\n",
              "    .colab-df-container {\n",
              "      display:flex;\n",
              "      flex-wrap:wrap;\n",
              "      gap: 12px;\n",
              "    }\n",
              "\n",
              "    .colab-df-convert {\n",
              "      background-color: #E8F0FE;\n",
              "      border: none;\n",
              "      border-radius: 50%;\n",
              "      cursor: pointer;\n",
              "      display: none;\n",
              "      fill: #1967D2;\n",
              "      height: 32px;\n",
              "      padding: 0 0 0 0;\n",
              "      width: 32px;\n",
              "    }\n",
              "\n",
              "    .colab-df-convert:hover {\n",
              "      background-color: #E2EBFA;\n",
              "      box-shadow: 0px 1px 2px rgba(60, 64, 67, 0.3), 0px 1px 3px 1px rgba(60, 64, 67, 0.15);\n",
              "      fill: #174EA6;\n",
              "    }\n",
              "\n",
              "    [theme=dark] .colab-df-convert {\n",
              "      background-color: #3B4455;\n",
              "      fill: #D2E3FC;\n",
              "    }\n",
              "\n",
              "    [theme=dark] .colab-df-convert:hover {\n",
              "      background-color: #434B5C;\n",
              "      box-shadow: 0px 1px 3px 1px rgba(0, 0, 0, 0.15);\n",
              "      filter: drop-shadow(0px 1px 2px rgba(0, 0, 0, 0.3));\n",
              "      fill: #FFFFFF;\n",
              "    }\n",
              "  </style>\n",
              "\n",
              "      <script>\n",
              "        const buttonEl =\n",
              "          document.querySelector('#df-2ceecd17-66b6-400d-8384-5fb0e943fe27 button.colab-df-convert');\n",
              "        buttonEl.style.display =\n",
              "          google.colab.kernel.accessAllowed ? 'block' : 'none';\n",
              "\n",
              "        async function convertToInteractive(key) {\n",
              "          const element = document.querySelector('#df-2ceecd17-66b6-400d-8384-5fb0e943fe27');\n",
              "          const dataTable =\n",
              "            await google.colab.kernel.invokeFunction('convertToInteractive',\n",
              "                                                     [key], {});\n",
              "          if (!dataTable) return;\n",
              "\n",
              "          const docLinkHtml = 'Like what you see? Visit the ' +\n",
              "            '<a target=\"_blank\" href=https://colab.research.google.com/notebooks/data_table.ipynb>data table notebook</a>'\n",
              "            + ' to learn more about interactive tables.';\n",
              "          element.innerHTML = '';\n",
              "          dataTable['output_type'] = 'display_data';\n",
              "          await google.colab.output.renderOutput(dataTable, element);\n",
              "          const docLink = document.createElement('div');\n",
              "          docLink.innerHTML = docLinkHtml;\n",
              "          element.appendChild(docLink);\n",
              "        }\n",
              "      </script>\n",
              "    </div>\n",
              "  </div>\n",
              "  "
            ]
          },
          "metadata": {},
          "execution_count": 37
        }
      ],
      "source": [
        "test_data = pd.read_csv('/content/merged_20000_test.csv' )\n",
        "test_data"
      ]
    },
    {
      "cell_type": "code",
      "execution_count": null,
      "metadata": {
        "colab": {
          "base_uri": "https://localhost:8080/"
        },
        "id": "iu5sr9CmUPYH",
        "outputId": "5d39fac8-e2d9-4c25-a415-485d08fe8d2e"
      },
      "outputs": [
        {
          "output_type": "execute_result",
          "data": {
            "text/plain": [
              "0    51\n",
              "1    51\n",
              "2    51\n",
              "3    51\n",
              "4    51\n",
              "5    51\n",
              "Name: fault, dtype: int64"
            ]
          },
          "metadata": {},
          "execution_count": 38
        }
      ],
      "source": [
        "test_data.fault.value_counts()"
      ]
    },
    {
      "cell_type": "code",
      "execution_count": null,
      "metadata": {
        "id": "DCtAiButUSWt"
      },
      "outputs": [],
      "source": [
        "x1 = test_data.drop('fault', axis=1)\n",
        "x1 = x1.drop('tachometer',axis = 1)\n",
        "y1 = test_data['fault']"
      ]
    },
    {
      "cell_type": "code",
      "execution_count": null,
      "metadata": {
        "id": "SrSCgYIeHLJS"
      },
      "outputs": [],
      "source": [
        "SS = StandardScaler()\n",
        "test_scaled = pd.DataFrame(SS.fit_transform(x1), columns = x1.columns)"
      ]
    },
    {
      "cell_type": "code",
      "execution_count": null,
      "metadata": {
        "id": "VZ-RIx-SUUvy"
      },
      "outputs": [],
      "source": [
        "test_pred=grid.predict(x1)"
      ]
    },
    {
      "cell_type": "code",
      "execution_count": null,
      "metadata": {
        "colab": {
          "base_uri": "https://localhost:8080/"
        },
        "id": "1CVbGbFYUaKs",
        "outputId": "ab902bf6-bf1a-494a-a34e-343ca6e5d1eb"
      },
      "outputs": [
        {
          "output_type": "stream",
          "name": "stdout",
          "text": [
            "[[50  1  0  0  0  0]\n",
            " [20 24  0  0  1  6]\n",
            " [ 0  0 51  0  0  0]\n",
            " [ 0  0  0 51  0  0]\n",
            " [ 0  0  0  0 51  0]\n",
            " [ 0  0  0  0  0 51]]\n",
            "              precision    recall  f1-score   support\n",
            "\n",
            "           0       0.71      0.98      0.83        51\n",
            "           1       0.96      0.47      0.63        51\n",
            "           2       1.00      1.00      1.00        51\n",
            "           3       1.00      1.00      1.00        51\n",
            "           4       0.98      1.00      0.99        51\n",
            "           5       0.89      1.00      0.94        51\n",
            "\n",
            "    accuracy                           0.91       306\n",
            "   macro avg       0.92      0.91      0.90       306\n",
            "weighted avg       0.92      0.91      0.90       306\n",
            "\n"
          ]
        }
      ],
      "source": [
        "from sklearn.metrics import roc_auc_score, roc_curve, confusion_matrix, precision_score, recall_score\n",
        "from sklearn.metrics import classification_report, average_precision_score, accuracy_score, f1_score\n",
        "\n",
        "print(confusion_matrix(y1, test_pred))\n",
        "print(classification_report(y1, test_pred))"
      ]
    }
  ],
  "metadata": {
    "colab": {
      "provenance": []
    },
    "kernelspec": {
      "display_name": "Python 3",
      "name": "python3"
    },
    "language_info": {
      "name": "python"
    }
  },
  "nbformat": 4,
  "nbformat_minor": 0
}
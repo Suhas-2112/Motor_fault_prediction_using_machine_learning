{
  "cells": [
    {
      "cell_type": "code",
      "execution_count": 3,
      "metadata": {
        "id": "ghN7WfbHBYyl"
      },
      "outputs": [],
      "source": [
        "import numpy as np\n",
        "import pandas as pd\n",
        "import matplotlib.pyplot as plt\n",
        "import seaborn as sns\n",
        "from sklearn.model_selection import train_test_split, GridSearchCV, RandomizedSearchCV\n",
        "from sklearn.tree import DecisionTreeClassifier, DecisionTreeRegressor \n",
        "from sklearn.ensemble import RandomForestClassifier, RandomForestRegressor, BaggingClassifier,AdaBoostClassifier,GradientBoostingClassifier\n",
        "from sklearn.linear_model import LinearRegression,LogisticRegression\n",
        "from sklearn.neighbors import KNeighborsClassifier\n",
        "from sklearn.naive_bayes import GaussianNB\n",
        "from sklearn import metrics\n",
        "from sklearn.preprocessing import StandardScaler\n",
        "from sklearn.feature_selection import RFE\n",
        "from collections import Counter\n",
        "from imblearn.over_sampling import SMOTE\n",
        "import warnings\n",
        "warnings.filterwarnings('ignore')\n",
        "%matplotlib inline\n",
        "import matplotlib.pyplot as plt\n"
      ]
    },
    {
      "cell_type": "code",
      "source": [
        "from google.colab import drive\n",
        "drive.mount('/content/drive')"
      ],
      "metadata": {
        "colab": {
          "base_uri": "https://localhost:8080/"
        },
        "id": "ADOfoFOXRxBD",
        "outputId": "d6062304-9948-41d3-eee7-400112739c40"
      },
      "execution_count": 4,
      "outputs": [
        {
          "output_type": "stream",
          "name": "stdout",
          "text": [
            "Mounted at /content/drive\n"
          ]
        }
      ]
    },
    {
      "cell_type": "code",
      "source": [
        "import pandas as pd\n",
        "import glob\n",
        "import os\n",
        "\n",
        "# setting the path for joining multiple files\n",
        "files = os.path.join(\"/content/drive/MyDrive/Data/\", \"another*.csv\")\n",
        "\n",
        "# list of merged files returned\n",
        "files = glob.glob(files)\n",
        "\n",
        "print(\"Resultant CSV after joining all CSV files at a particular location...\");\n",
        "\n",
        "# joining files with concat and read_csv\n",
        "df = pd.concat(map(pd.read_csv, files), ignore_index=True)\n",
        "print(df)"
      ],
      "metadata": {
        "colab": {
          "base_uri": "https://localhost:8080/"
        },
        "id": "WisLOtuUR5UP",
        "outputId": "3394e30c-9f2d-478b-b437-695f364ef7bc"
      },
      "execution_count": 5,
      "outputs": [
        {
          "output_type": "stream",
          "name": "stdout",
          "text": [
            "Resultant CSV after joining all CSV files at a particular location...\n",
            "       Axial  Tangential  Radial  fault\n",
            "0      -0.04        0.47    8.94      1\n",
            "1      -1.37        1.92    9.06      1\n",
            "2      -3.22        0.35   10.83      1\n",
            "3      -1.06       -0.98   10.24      1\n",
            "4       0.12        0.20    8.67      1\n",
            "...      ...         ...     ...    ...\n",
            "16945  -2.31        0.16   10.32      0\n",
            "16946  -0.86        4.28    9.57      0\n",
            "16947   1.18        3.18    8.47      0\n",
            "16948   0.51       -0.51    6.32      0\n",
            "16949  -1.80       -3.69   12.16      0\n",
            "\n",
            "[16950 rows x 4 columns]\n"
          ]
        }
      ]
    },
    {
      "cell_type": "code",
      "execution_count": 6,
      "metadata": {
        "colab": {
          "base_uri": "https://localhost:8080/"
        },
        "id": "SMWz3OOQB1Rg",
        "outputId": "6b1136b5-9954-4a0a-fa1e-bfc1f04b1025"
      },
      "outputs": [
        {
          "output_type": "execute_result",
          "data": {
            "text/plain": [
              "(16950, 4)"
            ]
          },
          "metadata": {},
          "execution_count": 6
        }
      ],
      "source": [
        "df.shape"
      ]
    },
    {
      "cell_type": "code",
      "execution_count": 7,
      "metadata": {
        "colab": {
          "base_uri": "https://localhost:8080/"
        },
        "id": "m0D6uXU6B5DG",
        "outputId": "4ad31288-1fbb-4f5a-9e50-1191df01d66b"
      },
      "outputs": [
        {
          "output_type": "execute_result",
          "data": {
            "text/plain": [
              "1    8551\n",
              "0    8399\n",
              "Name: fault, dtype: int64"
            ]
          },
          "metadata": {},
          "execution_count": 7
        }
      ],
      "source": [
        "df.fault.value_counts()"
      ]
    },
    {
      "cell_type": "code",
      "execution_count": 8,
      "metadata": {
        "id": "mfxQIyH4CAIA"
      },
      "outputs": [],
      "source": [
        "from imblearn.over_sampling import BorderlineSMOTE\n",
        "x = df.drop('fault', axis=1)\n",
        "y = df['fault']\n",
        "oversample = BorderlineSMOTE()   \n",
        "x, y = oversample.fit_resample(x, y)\n"
      ]
    },
    {
      "cell_type": "code",
      "execution_count": 9,
      "metadata": {
        "colab": {
          "base_uri": "https://localhost:8080/"
        },
        "id": "gKdFRCn-CQnm",
        "outputId": "38d362e4-10cf-4212-9199-1795c2ebc216"
      },
      "outputs": [
        {
          "output_type": "stream",
          "name": "stdout",
          "text": [
            "          Axial  Tangential     Radial\n",
            "0     -0.040000    0.470000   8.940000\n",
            "1     -1.370000    1.920000   9.060000\n",
            "2     -3.220000    0.350000  10.830000\n",
            "3     -1.060000   -0.980000  10.240000\n",
            "4      0.120000    0.200000   8.670000\n",
            "...         ...         ...        ...\n",
            "17097 -3.818141    0.318546  12.690270\n",
            "17098 -0.860000    4.372630   9.602219\n",
            "17099 -1.172432   -0.931351  11.453243\n",
            "17100 -2.680677    0.284303  12.583307\n",
            "17101 -1.448358    3.953831  11.551492\n",
            "\n",
            "[17102 rows x 3 columns]\n",
            "0        1\n",
            "1        1\n",
            "2        1\n",
            "3        1\n",
            "4        1\n",
            "        ..\n",
            "17097    0\n",
            "17098    0\n",
            "17099    0\n",
            "17100    0\n",
            "17101    0\n",
            "Name: fault, Length: 17102, dtype: int64\n"
          ]
        }
      ],
      "source": [
        "print(x)\n",
        "print(y)"
      ]
    },
    {
      "cell_type": "code",
      "source": [
        "df.head()"
      ],
      "metadata": {
        "colab": {
          "base_uri": "https://localhost:8080/",
          "height": 206
        },
        "id": "ijZDFXzZnuez",
        "outputId": "98b93b04-9ec5-414a-ff04-07f99d89d542"
      },
      "execution_count": 10,
      "outputs": [
        {
          "output_type": "execute_result",
          "data": {
            "text/plain": [
              "   Axial  Tangential  Radial  fault\n",
              "0  -0.04        0.47    8.94      1\n",
              "1  -1.37        1.92    9.06      1\n",
              "2  -3.22        0.35   10.83      1\n",
              "3  -1.06       -0.98   10.24      1\n",
              "4   0.12        0.20    8.67      1"
            ],
            "text/html": [
              "\n",
              "  <div id=\"df-81470860-62e8-4233-bf96-abc1e4cde2e0\">\n",
              "    <div class=\"colab-df-container\">\n",
              "      <div>\n",
              "<style scoped>\n",
              "    .dataframe tbody tr th:only-of-type {\n",
              "        vertical-align: middle;\n",
              "    }\n",
              "\n",
              "    .dataframe tbody tr th {\n",
              "        vertical-align: top;\n",
              "    }\n",
              "\n",
              "    .dataframe thead th {\n",
              "        text-align: right;\n",
              "    }\n",
              "</style>\n",
              "<table border=\"1\" class=\"dataframe\">\n",
              "  <thead>\n",
              "    <tr style=\"text-align: right;\">\n",
              "      <th></th>\n",
              "      <th>Axial</th>\n",
              "      <th>Tangential</th>\n",
              "      <th>Radial</th>\n",
              "      <th>fault</th>\n",
              "    </tr>\n",
              "  </thead>\n",
              "  <tbody>\n",
              "    <tr>\n",
              "      <th>0</th>\n",
              "      <td>-0.04</td>\n",
              "      <td>0.47</td>\n",
              "      <td>8.94</td>\n",
              "      <td>1</td>\n",
              "    </tr>\n",
              "    <tr>\n",
              "      <th>1</th>\n",
              "      <td>-1.37</td>\n",
              "      <td>1.92</td>\n",
              "      <td>9.06</td>\n",
              "      <td>1</td>\n",
              "    </tr>\n",
              "    <tr>\n",
              "      <th>2</th>\n",
              "      <td>-3.22</td>\n",
              "      <td>0.35</td>\n",
              "      <td>10.83</td>\n",
              "      <td>1</td>\n",
              "    </tr>\n",
              "    <tr>\n",
              "      <th>3</th>\n",
              "      <td>-1.06</td>\n",
              "      <td>-0.98</td>\n",
              "      <td>10.24</td>\n",
              "      <td>1</td>\n",
              "    </tr>\n",
              "    <tr>\n",
              "      <th>4</th>\n",
              "      <td>0.12</td>\n",
              "      <td>0.20</td>\n",
              "      <td>8.67</td>\n",
              "      <td>1</td>\n",
              "    </tr>\n",
              "  </tbody>\n",
              "</table>\n",
              "</div>\n",
              "      <button class=\"colab-df-convert\" onclick=\"convertToInteractive('df-81470860-62e8-4233-bf96-abc1e4cde2e0')\"\n",
              "              title=\"Convert this dataframe to an interactive table.\"\n",
              "              style=\"display:none;\">\n",
              "        \n",
              "  <svg xmlns=\"http://www.w3.org/2000/svg\" height=\"24px\"viewBox=\"0 0 24 24\"\n",
              "       width=\"24px\">\n",
              "    <path d=\"M0 0h24v24H0V0z\" fill=\"none\"/>\n",
              "    <path d=\"M18.56 5.44l.94 2.06.94-2.06 2.06-.94-2.06-.94-.94-2.06-.94 2.06-2.06.94zm-11 1L8.5 8.5l.94-2.06 2.06-.94-2.06-.94L8.5 2.5l-.94 2.06-2.06.94zm10 10l.94 2.06.94-2.06 2.06-.94-2.06-.94-.94-2.06-.94 2.06-2.06.94z\"/><path d=\"M17.41 7.96l-1.37-1.37c-.4-.4-.92-.59-1.43-.59-.52 0-1.04.2-1.43.59L10.3 9.45l-7.72 7.72c-.78.78-.78 2.05 0 2.83L4 21.41c.39.39.9.59 1.41.59.51 0 1.02-.2 1.41-.59l7.78-7.78 2.81-2.81c.8-.78.8-2.07 0-2.86zM5.41 20L4 18.59l7.72-7.72 1.47 1.35L5.41 20z\"/>\n",
              "  </svg>\n",
              "      </button>\n",
              "      \n",
              "  <style>\n",
              "    .colab-df-container {\n",
              "      display:flex;\n",
              "      flex-wrap:wrap;\n",
              "      gap: 12px;\n",
              "    }\n",
              "\n",
              "    .colab-df-convert {\n",
              "      background-color: #E8F0FE;\n",
              "      border: none;\n",
              "      border-radius: 50%;\n",
              "      cursor: pointer;\n",
              "      display: none;\n",
              "      fill: #1967D2;\n",
              "      height: 32px;\n",
              "      padding: 0 0 0 0;\n",
              "      width: 32px;\n",
              "    }\n",
              "\n",
              "    .colab-df-convert:hover {\n",
              "      background-color: #E2EBFA;\n",
              "      box-shadow: 0px 1px 2px rgba(60, 64, 67, 0.3), 0px 1px 3px 1px rgba(60, 64, 67, 0.15);\n",
              "      fill: #174EA6;\n",
              "    }\n",
              "\n",
              "    [theme=dark] .colab-df-convert {\n",
              "      background-color: #3B4455;\n",
              "      fill: #D2E3FC;\n",
              "    }\n",
              "\n",
              "    [theme=dark] .colab-df-convert:hover {\n",
              "      background-color: #434B5C;\n",
              "      box-shadow: 0px 1px 3px 1px rgba(0, 0, 0, 0.15);\n",
              "      filter: drop-shadow(0px 1px 2px rgba(0, 0, 0, 0.3));\n",
              "      fill: #FFFFFF;\n",
              "    }\n",
              "  </style>\n",
              "\n",
              "      <script>\n",
              "        const buttonEl =\n",
              "          document.querySelector('#df-81470860-62e8-4233-bf96-abc1e4cde2e0 button.colab-df-convert');\n",
              "        buttonEl.style.display =\n",
              "          google.colab.kernel.accessAllowed ? 'block' : 'none';\n",
              "\n",
              "        async function convertToInteractive(key) {\n",
              "          const element = document.querySelector('#df-81470860-62e8-4233-bf96-abc1e4cde2e0');\n",
              "          const dataTable =\n",
              "            await google.colab.kernel.invokeFunction('convertToInteractive',\n",
              "                                                     [key], {});\n",
              "          if (!dataTable) return;\n",
              "\n",
              "          const docLinkHtml = 'Like what you see? Visit the ' +\n",
              "            '<a target=\"_blank\" href=https://colab.research.google.com/notebooks/data_table.ipynb>data table notebook</a>'\n",
              "            + ' to learn more about interactive tables.';\n",
              "          element.innerHTML = '';\n",
              "          dataTable['output_type'] = 'display_data';\n",
              "          await google.colab.output.renderOutput(dataTable, element);\n",
              "          const docLink = document.createElement('div');\n",
              "          docLink.innerHTML = docLinkHtml;\n",
              "          element.appendChild(docLink);\n",
              "        }\n",
              "      </script>\n",
              "    </div>\n",
              "  </div>\n",
              "  "
            ]
          },
          "metadata": {},
          "execution_count": 10
        }
      ]
    },
    {
      "cell_type": "code",
      "source": [
        "sns.scatterplot(x=df['Radial'], y=df['Axial'])"
      ],
      "metadata": {
        "colab": {
          "base_uri": "https://localhost:8080/",
          "height": 466
        },
        "id": "x19lnpEsow5X",
        "outputId": "d013ab71-6c59-4375-b372-35b281deb665"
      },
      "execution_count": 11,
      "outputs": [
        {
          "output_type": "execute_result",
          "data": {
            "text/plain": [
              "<Axes: xlabel='Radial', ylabel='Axial'>"
            ]
          },
          "metadata": {},
          "execution_count": 11
        },
        {
          "output_type": "display_data",
          "data": {
            "text/plain": [
              "<Figure size 640x480 with 1 Axes>"
            ],
            "image/png": "[encoded data removed]"
          },
          "metadata": {}
        }
      ]
    },
    {
      "cell_type": "code",
      "source": [
        "df.plot('Tangential','Radial')"
      ],
      "metadata": {
        "colab": {
          "base_uri": "https://localhost:8080/",
          "height": 466
        },
        "id": "6iiYu7FSpOBx",
        "outputId": "bd058559-efbe-466b-d927-8a426ee003ba"
      },
      "execution_count": 12,
      "outputs": [
        {
          "output_type": "execute_result",
          "data": {
            "text/plain": [
              "<Axes: xlabel='Tangential'>"
            ]
          },
          "metadata": {},
          "execution_count": 12
        },
        {
          "output_type": "display_data",
          "data": {
            "text/plain": [
              "<Figure size 640x480 with 1 Axes>"
            ],
            "image/png": "[encoded data removed]"
          },
          "metadata": {}
        }
      ]
    },
    {
      "cell_type": "code",
      "source": [
        "df.plot()\n",
        "plt.xlabel(\"Samples\")\n",
        "plt.ylabel(\"Sensor value in (m/s^2)\")\n",
        "\n",
        "plt.show()"
      ],
      "metadata": {
        "colab": {
          "base_uri": "https://localhost:8080/",
          "height": 449
        },
        "id": "I7a3rS7ups5g",
        "outputId": "c508ec66-3e52-4904-b8f0-bcb56deb3e32"
      },
      "execution_count": 13,
      "outputs": [
        {
          "output_type": "display_data",
          "data": {
            "text/plain": [
              "<Figure size 640x480 with 1 Axes>"
            ],
            "image/png": "[encoded data removed]"
          },
          "metadata": {}
        }
      ]
    },
    {
      "cell_type": "code",
      "execution_count": 14,
      "metadata": {
        "colab": {
          "base_uri": "https://localhost:8080/",
          "height": 423
        },
        "id": "g1RLGaIfCXxs",
        "outputId": "9a4dc976-4696-4fd7-f660-0d62e191ce67"
      },
      "outputs": [
        {
          "output_type": "execute_result",
          "data": {
            "text/plain": [
              "          Axial  Tangential    Radial\n",
              "0      0.361979   -0.089595 -0.447703\n",
              "1     -0.455010    0.422956 -0.388125\n",
              "2     -1.591423   -0.132013  0.490653\n",
              "3     -0.264584   -0.602146  0.197727\n",
              "4      0.460263   -0.185035 -0.581754\n",
              "...         ...         ...       ...\n",
              "17097 -1.958847   -0.143131  1.414249\n",
              "17098 -0.141729    1.289920 -0.118921\n",
              "17099 -0.333649   -0.584949  0.800084\n",
              "17100 -1.260129   -0.155236  1.361144\n",
              "17101 -0.503143    1.141881  0.848864\n",
              "\n",
              "[17102 rows x 3 columns]"
            ],
            "text/html": [
              "\n",
              "  <div id=\"df-d8169a0d-76b8-47bc-ae0b-9bf4a8303405\">\n",
              "    <div class=\"colab-df-container\">\n",
              "      <div>\n",
              "<style scoped>\n",
              "    .dataframe tbody tr th:only-of-type {\n",
              "        vertical-align: middle;\n",
              "    }\n",
              "\n",
              "    .dataframe tbody tr th {\n",
              "        vertical-align: top;\n",
              "    }\n",
              "\n",
              "    .dataframe thead th {\n",
              "        text-align: right;\n",
              "    }\n",
              "</style>\n",
              "<table border=\"1\" class=\"dataframe\">\n",
              "  <thead>\n",
              "    <tr style=\"text-align: right;\">\n",
              "      <th></th>\n",
              "      <th>Axial</th>\n",
              "      <th>Tangential</th>\n",
              "      <th>Radial</th>\n",
              "    </tr>\n",
              "  </thead>\n",
              "  <tbody>\n",
              "    <tr>\n",
              "      <th>0</th>\n",
              "      <td>0.361979</td>\n",
              "      <td>-0.089595</td>\n",
              "      <td>-0.447703</td>\n",
              "    </tr>\n",
              "    <tr>\n",
              "      <th>1</th>\n",
              "      <td>-0.455010</td>\n",
              "      <td>0.422956</td>\n",
              "      <td>-0.388125</td>\n",
              "    </tr>\n",
              "    <tr>\n",
              "      <th>2</th>\n",
              "      <td>-1.591423</td>\n",
              "      <td>-0.132013</td>\n",
              "      <td>0.490653</td>\n",
              "    </tr>\n",
              "    <tr>\n",
              "      <th>3</th>\n",
              "      <td>-0.264584</td>\n",
              "      <td>-0.602146</td>\n",
              "      <td>0.197727</td>\n",
              "    </tr>\n",
              "    <tr>\n",
              "      <th>4</th>\n",
              "      <td>0.460263</td>\n",
              "      <td>-0.185035</td>\n",
              "      <td>-0.581754</td>\n",
              "    </tr>\n",
              "    <tr>\n",
              "      <th>...</th>\n",
              "      <td>...</td>\n",
              "      <td>...</td>\n",
              "      <td>...</td>\n",
              "    </tr>\n",
              "    <tr>\n",
              "      <th>17097</th>\n",
              "      <td>-1.958847</td>\n",
              "      <td>-0.143131</td>\n",
              "      <td>1.414249</td>\n",
              "    </tr>\n",
              "    <tr>\n",
              "      <th>17098</th>\n",
              "      <td>-0.141729</td>\n",
              "      <td>1.289920</td>\n",
              "      <td>-0.118921</td>\n",
              "    </tr>\n",
              "    <tr>\n",
              "      <th>17099</th>\n",
              "      <td>-0.333649</td>\n",
              "      <td>-0.584949</td>\n",
              "      <td>0.800084</td>\n",
              "    </tr>\n",
              "    <tr>\n",
              "      <th>17100</th>\n",
              "      <td>-1.260129</td>\n",
              "      <td>-0.155236</td>\n",
              "      <td>1.361144</td>\n",
              "    </tr>\n",
              "    <tr>\n",
              "      <th>17101</th>\n",
              "      <td>-0.503143</td>\n",
              "      <td>1.141881</td>\n",
              "      <td>0.848864</td>\n",
              "    </tr>\n",
              "  </tbody>\n",
              "</table>\n",
              "<p>17102 rows × 3 columns</p>\n",
              "</div>\n",
              "      <button class=\"colab-df-convert\" onclick=\"convertToInteractive('df-d8169a0d-76b8-47bc-ae0b-9bf4a8303405')\"\n",
              "              title=\"Convert this dataframe to an interactive table.\"\n",
              "              style=\"display:none;\">\n",
              "        \n",
              "  <svg xmlns=\"http://www.w3.org/2000/svg\" height=\"24px\"viewBox=\"0 0 24 24\"\n",
              "       width=\"24px\">\n",
              "    <path d=\"M0 0h24v24H0V0z\" fill=\"none\"/>\n",
              "    <path d=\"M18.56 5.44l.94 2.06.94-2.06 2.06-.94-2.06-.94-.94-2.06-.94 2.06-2.06.94zm-11 1L8.5 8.5l.94-2.06 2.06-.94-2.06-.94L8.5 2.5l-.94 2.06-2.06.94zm10 10l.94 2.06.94-2.06 2.06-.94-2.06-.94-.94-2.06-.94 2.06-2.06.94z\"/><path d=\"M17.41 7.96l-1.37-1.37c-.4-.4-.92-.59-1.43-.59-.52 0-1.04.2-1.43.59L10.3 9.45l-7.72 7.72c-.78.78-.78 2.05 0 2.83L4 21.41c.39.39.9.59 1.41.59.51 0 1.02-.2 1.41-.59l7.78-7.78 2.81-2.81c.8-.78.8-2.07 0-2.86zM5.41 20L4 18.59l7.72-7.72 1.47 1.35L5.41 20z\"/>\n",
              "  </svg>\n",
              "      </button>\n",
              "      \n",
              "  <style>\n",
              "    .colab-df-container {\n",
              "      display:flex;\n",
              "      flex-wrap:wrap;\n",
              "      gap: 12px;\n",
              "    }\n",
              "\n",
              "    .colab-df-convert {\n",
              "      background-color: #E8F0FE;\n",
              "      border: none;\n",
              "      border-radius: 50%;\n",
              "      cursor: pointer;\n",
              "      display: none;\n",
              "      fill: #1967D2;\n",
              "      height: 32px;\n",
              "      padding: 0 0 0 0;\n",
              "      width: 32px;\n",
              "    }\n",
              "\n",
              "    .colab-df-convert:hover {\n",
              "      background-color: #E2EBFA;\n",
              "      box-shadow: 0px 1px 2px rgba(60, 64, 67, 0.3), 0px 1px 3px 1px rgba(60, 64, 67, 0.15);\n",
              "      fill: #174EA6;\n",
              "    }\n",
              "\n",
              "    [theme=dark] .colab-df-convert {\n",
              "      background-color: #3B4455;\n",
              "      fill: #D2E3FC;\n",
              "    }\n",
              "\n",
              "    [theme=dark] .colab-df-convert:hover {\n",
              "      background-color: #434B5C;\n",
              "      box-shadow: 0px 1px 3px 1px rgba(0, 0, 0, 0.15);\n",
              "      filter: drop-shadow(0px 1px 2px rgba(0, 0, 0, 0.3));\n",
              "      fill: #FFFFFF;\n",
              "    }\n",
              "  </style>\n",
              "\n",
              "      <script>\n",
              "        const buttonEl =\n",
              "          document.querySelector('#df-d8169a0d-76b8-47bc-ae0b-9bf4a8303405 button.colab-df-convert');\n",
              "        buttonEl.style.display =\n",
              "          google.colab.kernel.accessAllowed ? 'block' : 'none';\n",
              "\n",
              "        async function convertToInteractive(key) {\n",
              "          const element = document.querySelector('#df-d8169a0d-76b8-47bc-ae0b-9bf4a8303405');\n",
              "          const dataTable =\n",
              "            await google.colab.kernel.invokeFunction('convertToInteractive',\n",
              "                                                     [key], {});\n",
              "          if (!dataTable) return;\n",
              "\n",
              "          const docLinkHtml = 'Like what you see? Visit the ' +\n",
              "            '<a target=\"_blank\" href=https://colab.research.google.com/notebooks/data_table.ipynb>data table notebook</a>'\n",
              "            + ' to learn more about interactive tables.';\n",
              "          element.innerHTML = '';\n",
              "          dataTable['output_type'] = 'display_data';\n",
              "          await google.colab.output.renderOutput(dataTable, element);\n",
              "          const docLink = document.createElement('div');\n",
              "          docLink.innerHTML = docLinkHtml;\n",
              "          element.appendChild(docLink);\n",
              "        }\n",
              "      </script>\n",
              "    </div>\n",
              "  </div>\n",
              "  "
            ]
          },
          "metadata": {},
          "execution_count": 14
        }
      ],
      "source": [
        "SS = StandardScaler()\n",
        "df_scaled = pd.DataFrame(SS.fit_transform(x), columns = x.columns)\n",
        "df_scaled"
      ]
    },
    {
      "cell_type": "code",
      "execution_count": 15,
      "metadata": {
        "id": "7Iaz853WCtis"
      },
      "outputs": [],
      "source": [
        "X_train,x_test,y_train,y_test = train_test_split(df_scaled,y, test_size = 0.2)"
      ]
    },
    {
      "cell_type": "code",
      "execution_count": 16,
      "metadata": {
        "colab": {
          "base_uri": "https://localhost:8080/",
          "height": 423
        },
        "id": "t-Ey3jsUDAAH",
        "outputId": "480b0ace-2ef8-4356-a3c1-2ed843fa4b4b"
      },
      "outputs": [
        {
          "output_type": "execute_result",
          "data": {
            "text/plain": [
              "          Axial  Tangential    Radial\n",
              "1314  -0.387439   -0.559728  0.138149\n",
              "5922  -0.092586    1.020343 -0.954118\n",
              "13172 -0.553294   -0.450148  0.877912\n",
              "7916  -1.830991    0.910763 -0.934258\n",
              "16498  0.699831   -0.075455 -1.827931\n",
              "...         ...         ...       ...\n",
              "7299   1.160539    1.713170 -0.348406\n",
              "14838 -0.792862   -1.446971  0.431075\n",
              "16786  1.062254   -1.351530 -0.775383\n",
              "13972 -1.345712   -0.326429  0.391356\n",
              "2527  -1.345712    0.242680  1.697112\n",
              "\n",
              "[13681 rows x 3 columns]"
            ],
            "text/html": [
              "\n",
              "  <div id=\"df-9133aab4-bd9a-4b52-8e51-5d0904516224\">\n",
              "    <div class=\"colab-df-container\">\n",
              "      <div>\n",
              "<style scoped>\n",
              "    .dataframe tbody tr th:only-of-type {\n",
              "        vertical-align: middle;\n",
              "    }\n",
              "\n",
              "    .dataframe tbody tr th {\n",
              "        vertical-align: top;\n",
              "    }\n",
              "\n",
              "    .dataframe thead th {\n",
              "        text-align: right;\n",
              "    }\n",
              "</style>\n",
              "<table border=\"1\" class=\"dataframe\">\n",
              "  <thead>\n",
              "    <tr style=\"text-align: right;\">\n",
              "      <th></th>\n",
              "      <th>Axial</th>\n",
              "      <th>Tangential</th>\n",
              "      <th>Radial</th>\n",
              "    </tr>\n",
              "  </thead>\n",
              "  <tbody>\n",
              "    <tr>\n",
              "      <th>1314</th>\n",
              "      <td>-0.387439</td>\n",
              "      <td>-0.559728</td>\n",
              "      <td>0.138149</td>\n",
              "    </tr>\n",
              "    <tr>\n",
              "      <th>5922</th>\n",
              "      <td>-0.092586</td>\n",
              "      <td>1.020343</td>\n",
              "      <td>-0.954118</td>\n",
              "    </tr>\n",
              "    <tr>\n",
              "      <th>13172</th>\n",
              "      <td>-0.553294</td>\n",
              "      <td>-0.450148</td>\n",
              "      <td>0.877912</td>\n",
              "    </tr>\n",
              "    <tr>\n",
              "      <th>7916</th>\n",
              "      <td>-1.830991</td>\n",
              "      <td>0.910763</td>\n",
              "      <td>-0.934258</td>\n",
              "    </tr>\n",
              "    <tr>\n",
              "      <th>16498</th>\n",
              "      <td>0.699831</td>\n",
              "      <td>-0.075455</td>\n",
              "      <td>-1.827931</td>\n",
              "    </tr>\n",
              "    <tr>\n",
              "      <th>...</th>\n",
              "      <td>...</td>\n",
              "      <td>...</td>\n",
              "      <td>...</td>\n",
              "    </tr>\n",
              "    <tr>\n",
              "      <th>7299</th>\n",
              "      <td>1.160539</td>\n",
              "      <td>1.713170</td>\n",
              "      <td>-0.348406</td>\n",
              "    </tr>\n",
              "    <tr>\n",
              "      <th>14838</th>\n",
              "      <td>-0.792862</td>\n",
              "      <td>-1.446971</td>\n",
              "      <td>0.431075</td>\n",
              "    </tr>\n",
              "    <tr>\n",
              "      <th>16786</th>\n",
              "      <td>1.062254</td>\n",
              "      <td>-1.351530</td>\n",
              "      <td>-0.775383</td>\n",
              "    </tr>\n",
              "    <tr>\n",
              "      <th>13972</th>\n",
              "      <td>-1.345712</td>\n",
              "      <td>-0.326429</td>\n",
              "      <td>0.391356</td>\n",
              "    </tr>\n",
              "    <tr>\n",
              "      <th>2527</th>\n",
              "      <td>-1.345712</td>\n",
              "      <td>0.242680</td>\n",
              "      <td>1.697112</td>\n",
              "    </tr>\n",
              "  </tbody>\n",
              "</table>\n",
              "<p>13681 rows × 3 columns</p>\n",
              "</div>\n",
              "      <button class=\"colab-df-convert\" onclick=\"convertToInteractive('df-9133aab4-bd9a-4b52-8e51-5d0904516224')\"\n",
              "              title=\"Convert this dataframe to an interactive table.\"\n",
              "              style=\"display:none;\">\n",
              "        \n",
              "  <svg xmlns=\"http://www.w3.org/2000/svg\" height=\"24px\"viewBox=\"0 0 24 24\"\n",
              "       width=\"24px\">\n",
              "    <path d=\"M0 0h24v24H0V0z\" fill=\"none\"/>\n",
              "    <path d=\"M18.56 5.44l.94 2.06.94-2.06 2.06-.94-2.06-.94-.94-2.06-.94 2.06-2.06.94zm-11 1L8.5 8.5l.94-2.06 2.06-.94-2.06-.94L8.5 2.5l-.94 2.06-2.06.94zm10 10l.94 2.06.94-2.06 2.06-.94-2.06-.94-.94-2.06-.94 2.06-2.06.94z\"/><path d=\"M17.41 7.96l-1.37-1.37c-.4-.4-.92-.59-1.43-.59-.52 0-1.04.2-1.43.59L10.3 9.45l-7.72 7.72c-.78.78-.78 2.05 0 2.83L4 21.41c.39.39.9.59 1.41.59.51 0 1.02-.2 1.41-.59l7.78-7.78 2.81-2.81c.8-.78.8-2.07 0-2.86zM5.41 20L4 18.59l7.72-7.72 1.47 1.35L5.41 20z\"/>\n",
              "  </svg>\n",
              "      </button>\n",
              "      \n",
              "  <style>\n",
              "    .colab-df-container {\n",
              "      display:flex;\n",
              "      flex-wrap:wrap;\n",
              "      gap: 12px;\n",
              "    }\n",
              "\n",
              "    .colab-df-convert {\n",
              "      background-color: #E8F0FE;\n",
              "      border: none;\n",
              "      border-radius: 50%;\n",
              "      cursor: pointer;\n",
              "      display: none;\n",
              "      fill: #1967D2;\n",
              "      height: 32px;\n",
              "      padding: 0 0 0 0;\n",
              "      width: 32px;\n",
              "    }\n",
              "\n",
              "    .colab-df-convert:hover {\n",
              "      background-color: #E2EBFA;\n",
              "      box-shadow: 0px 1px 2px rgba(60, 64, 67, 0.3), 0px 1px 3px 1px rgba(60, 64, 67, 0.15);\n",
              "      fill: #174EA6;\n",
              "    }\n",
              "\n",
              "    [theme=dark] .colab-df-convert {\n",
              "      background-color: #3B4455;\n",
              "      fill: #D2E3FC;\n",
              "    }\n",
              "\n",
              "    [theme=dark] .colab-df-convert:hover {\n",
              "      background-color: #434B5C;\n",
              "      box-shadow: 0px 1px 3px 1px rgba(0, 0, 0, 0.15);\n",
              "      filter: drop-shadow(0px 1px 2px rgba(0, 0, 0, 0.3));\n",
              "      fill: #FFFFFF;\n",
              "    }\n",
              "  </style>\n",
              "\n",
              "      <script>\n",
              "        const buttonEl =\n",
              "          document.querySelector('#df-9133aab4-bd9a-4b52-8e51-5d0904516224 button.colab-df-convert');\n",
              "        buttonEl.style.display =\n",
              "          google.colab.kernel.accessAllowed ? 'block' : 'none';\n",
              "\n",
              "        async function convertToInteractive(key) {\n",
              "          const element = document.querySelector('#df-9133aab4-bd9a-4b52-8e51-5d0904516224');\n",
              "          const dataTable =\n",
              "            await google.colab.kernel.invokeFunction('convertToInteractive',\n",
              "                                                     [key], {});\n",
              "          if (!dataTable) return;\n",
              "\n",
              "          const docLinkHtml = 'Like what you see? Visit the ' +\n",
              "            '<a target=\"_blank\" href=https://colab.research.google.com/notebooks/data_table.ipynb>data table notebook</a>'\n",
              "            + ' to learn more about interactive tables.';\n",
              "          element.innerHTML = '';\n",
              "          dataTable['output_type'] = 'display_data';\n",
              "          await google.colab.output.renderOutput(dataTable, element);\n",
              "          const docLink = document.createElement('div');\n",
              "          docLink.innerHTML = docLinkHtml;\n",
              "          element.appendChild(docLink);\n",
              "        }\n",
              "      </script>\n",
              "    </div>\n",
              "  </div>\n",
              "  "
            ]
          },
          "metadata": {},
          "execution_count": 16
        }
      ],
      "source": [
        "X_train"
      ]
    },
    {
      "cell_type": "code",
      "execution_count": 17,
      "metadata": {
        "colab": {
          "base_uri": "https://localhost:8080/",
          "height": 423
        },
        "id": "VpZHnnzNDIUY",
        "outputId": "4f8951bc-8290-40a1-ca7b-4f224e9a22c7"
      },
      "outputs": [
        {
          "output_type": "execute_result",
          "data": {
            "text/plain": [
              "          Axial  Tangential    Radial\n",
              "255   -0.817433   -0.630424 -0.095199\n",
              "5512   0.724402    2.239860  0.331778\n",
              "1848  -1.566851   -0.340568  1.483623\n",
              "10386 -0.092586    0.896624  0.431075\n",
              "8630   0.196124   -1.033395 -0.973977\n",
              "...         ...         ...       ...\n",
              "4498  -0.092586    1.076900 -0.482457\n",
              "605   -0.455010   -0.393590  0.177868\n",
              "7197   0.724402    2.338836 -0.834961\n",
              "4042   0.146982    0.034124 -0.447703\n",
              "12692  0.601547    0.133100 -0.954118\n",
              "\n",
              "[3421 rows x 3 columns]"
            ],
            "text/html": [
              "\n",
              "  <div id=\"df-dc973135-3cdd-4794-8181-ae93e9ae647a\">\n",
              "    <div class=\"colab-df-container\">\n",
              "      <div>\n",
              "<style scoped>\n",
              "    .dataframe tbody tr th:only-of-type {\n",
              "        vertical-align: middle;\n",
              "    }\n",
              "\n",
              "    .dataframe tbody tr th {\n",
              "        vertical-align: top;\n",
              "    }\n",
              "\n",
              "    .dataframe thead th {\n",
              "        text-align: right;\n",
              "    }\n",
              "</style>\n",
              "<table border=\"1\" class=\"dataframe\">\n",
              "  <thead>\n",
              "    <tr style=\"text-align: right;\">\n",
              "      <th></th>\n",
              "      <th>Axial</th>\n",
              "      <th>Tangential</th>\n",
              "      <th>Radial</th>\n",
              "    </tr>\n",
              "  </thead>\n",
              "  <tbody>\n",
              "    <tr>\n",
              "      <th>255</th>\n",
              "      <td>-0.817433</td>\n",
              "      <td>-0.630424</td>\n",
              "      <td>-0.095199</td>\n",
              "    </tr>\n",
              "    <tr>\n",
              "      <th>5512</th>\n",
              "      <td>0.724402</td>\n",
              "      <td>2.239860</td>\n",
              "      <td>0.331778</td>\n",
              "    </tr>\n",
              "    <tr>\n",
              "      <th>1848</th>\n",
              "      <td>-1.566851</td>\n",
              "      <td>-0.340568</td>\n",
              "      <td>1.483623</td>\n",
              "    </tr>\n",
              "    <tr>\n",
              "      <th>10386</th>\n",
              "      <td>-0.092586</td>\n",
              "      <td>0.896624</td>\n",
              "      <td>0.431075</td>\n",
              "    </tr>\n",
              "    <tr>\n",
              "      <th>8630</th>\n",
              "      <td>0.196124</td>\n",
              "      <td>-1.033395</td>\n",
              "      <td>-0.973977</td>\n",
              "    </tr>\n",
              "    <tr>\n",
              "      <th>...</th>\n",
              "      <td>...</td>\n",
              "      <td>...</td>\n",
              "      <td>...</td>\n",
              "    </tr>\n",
              "    <tr>\n",
              "      <th>4498</th>\n",
              "      <td>-0.092586</td>\n",
              "      <td>1.076900</td>\n",
              "      <td>-0.482457</td>\n",
              "    </tr>\n",
              "    <tr>\n",
              "      <th>605</th>\n",
              "      <td>-0.455010</td>\n",
              "      <td>-0.393590</td>\n",
              "      <td>0.177868</td>\n",
              "    </tr>\n",
              "    <tr>\n",
              "      <th>7197</th>\n",
              "      <td>0.724402</td>\n",
              "      <td>2.338836</td>\n",
              "      <td>-0.834961</td>\n",
              "    </tr>\n",
              "    <tr>\n",
              "      <th>4042</th>\n",
              "      <td>0.146982</td>\n",
              "      <td>0.034124</td>\n",
              "      <td>-0.447703</td>\n",
              "    </tr>\n",
              "    <tr>\n",
              "      <th>12692</th>\n",
              "      <td>0.601547</td>\n",
              "      <td>0.133100</td>\n",
              "      <td>-0.954118</td>\n",
              "    </tr>\n",
              "  </tbody>\n",
              "</table>\n",
              "<p>3421 rows × 3 columns</p>\n",
              "</div>\n",
              "      <button class=\"colab-df-convert\" onclick=\"convertToInteractive('df-dc973135-3cdd-4794-8181-ae93e9ae647a')\"\n",
              "              title=\"Convert this dataframe to an interactive table.\"\n",
              "              style=\"display:none;\">\n",
              "        \n",
              "  <svg xmlns=\"http://www.w3.org/2000/svg\" height=\"24px\"viewBox=\"0 0 24 24\"\n",
              "       width=\"24px\">\n",
              "    <path d=\"M0 0h24v24H0V0z\" fill=\"none\"/>\n",
              "    <path d=\"M18.56 5.44l.94 2.06.94-2.06 2.06-.94-2.06-.94-.94-2.06-.94 2.06-2.06.94zm-11 1L8.5 8.5l.94-2.06 2.06-.94-2.06-.94L8.5 2.5l-.94 2.06-2.06.94zm10 10l.94 2.06.94-2.06 2.06-.94-2.06-.94-.94-2.06-.94 2.06-2.06.94z\"/><path d=\"M17.41 7.96l-1.37-1.37c-.4-.4-.92-.59-1.43-.59-.52 0-1.04.2-1.43.59L10.3 9.45l-7.72 7.72c-.78.78-.78 2.05 0 2.83L4 21.41c.39.39.9.59 1.41.59.51 0 1.02-.2 1.41-.59l7.78-7.78 2.81-2.81c.8-.78.8-2.07 0-2.86zM5.41 20L4 18.59l7.72-7.72 1.47 1.35L5.41 20z\"/>\n",
              "  </svg>\n",
              "      </button>\n",
              "      \n",
              "  <style>\n",
              "    .colab-df-container {\n",
              "      display:flex;\n",
              "      flex-wrap:wrap;\n",
              "      gap: 12px;\n",
              "    }\n",
              "\n",
              "    .colab-df-convert {\n",
              "      background-color: #E8F0FE;\n",
              "      border: none;\n",
              "      border-radius: 50%;\n",
              "      cursor: pointer;\n",
              "      display: none;\n",
              "      fill: #1967D2;\n",
              "      height: 32px;\n",
              "      padding: 0 0 0 0;\n",
              "      width: 32px;\n",
              "    }\n",
              "\n",
              "    .colab-df-convert:hover {\n",
              "      background-color: #E2EBFA;\n",
              "      box-shadow: 0px 1px 2px rgba(60, 64, 67, 0.3), 0px 1px 3px 1px rgba(60, 64, 67, 0.15);\n",
              "      fill: #174EA6;\n",
              "    }\n",
              "\n",
              "    [theme=dark] .colab-df-convert {\n",
              "      background-color: #3B4455;\n",
              "      fill: #D2E3FC;\n",
              "    }\n",
              "\n",
              "    [theme=dark] .colab-df-convert:hover {\n",
              "      background-color: #434B5C;\n",
              "      box-shadow: 0px 1px 3px 1px rgba(0, 0, 0, 0.15);\n",
              "      filter: drop-shadow(0px 1px 2px rgba(0, 0, 0, 0.3));\n",
              "      fill: #FFFFFF;\n",
              "    }\n",
              "  </style>\n",
              "\n",
              "      <script>\n",
              "        const buttonEl =\n",
              "          document.querySelector('#df-dc973135-3cdd-4794-8181-ae93e9ae647a button.colab-df-convert');\n",
              "        buttonEl.style.display =\n",
              "          google.colab.kernel.accessAllowed ? 'block' : 'none';\n",
              "\n",
              "        async function convertToInteractive(key) {\n",
              "          const element = document.querySelector('#df-dc973135-3cdd-4794-8181-ae93e9ae647a');\n",
              "          const dataTable =\n",
              "            await google.colab.kernel.invokeFunction('convertToInteractive',\n",
              "                                                     [key], {});\n",
              "          if (!dataTable) return;\n",
              "\n",
              "          const docLinkHtml = 'Like what you see? Visit the ' +\n",
              "            '<a target=\"_blank\" href=https://colab.research.google.com/notebooks/data_table.ipynb>data table notebook</a>'\n",
              "            + ' to learn more about interactive tables.';\n",
              "          element.innerHTML = '';\n",
              "          dataTable['output_type'] = 'display_data';\n",
              "          await google.colab.output.renderOutput(dataTable, element);\n",
              "          const docLink = document.createElement('div');\n",
              "          docLink.innerHTML = docLinkHtml;\n",
              "          element.appendChild(docLink);\n",
              "        }\n",
              "      </script>\n",
              "    </div>\n",
              "  </div>\n",
              "  "
            ]
          },
          "metadata": {},
          "execution_count": 17
        }
      ],
      "source": [
        "x_test"
      ]
    },
    {
      "cell_type": "code",
      "execution_count": 18,
      "metadata": {
        "colab": {
          "base_uri": "https://localhost:8080/"
        },
        "id": "b721eNbNDOuP",
        "outputId": "10e8b0dd-a185-48ee-b190-5e2d85860617"
      },
      "outputs": [
        {
          "output_type": "execute_result",
          "data": {
            "text/plain": [
              "1314     1\n",
              "5922     1\n",
              "13172    0\n",
              "7916     1\n",
              "16498    0\n",
              "        ..\n",
              "7299     1\n",
              "14838    0\n",
              "16786    0\n",
              "13972    0\n",
              "2527     1\n",
              "Name: fault, Length: 13681, dtype: int64"
            ]
          },
          "metadata": {},
          "execution_count": 18
        }
      ],
      "source": [
        "y_train"
      ]
    },
    {
      "cell_type": "code",
      "execution_count": 19,
      "metadata": {
        "colab": {
          "base_uri": "https://localhost:8080/"
        },
        "id": "eBidIZOzDT37",
        "outputId": "f8a27b69-51ac-4ba8-a52e-61e764122f23"
      },
      "outputs": [
        {
          "output_type": "execute_result",
          "data": {
            "text/plain": [
              "255      1\n",
              "5512     1\n",
              "1848     1\n",
              "10386    0\n",
              "8630     0\n",
              "        ..\n",
              "4498     1\n",
              "605      1\n",
              "7197     1\n",
              "4042     1\n",
              "12692    0\n",
              "Name: fault, Length: 3421, dtype: int64"
            ]
          },
          "metadata": {},
          "execution_count": 19
        }
      ],
      "source": [
        "y_test"
      ]
    },
    {
      "cell_type": "code",
      "execution_count": 20,
      "metadata": {
        "id": "H8jE7SlmDXcX",
        "colab": {
          "base_uri": "https://localhost:8080/"
        },
        "outputId": "2f58a1c9-7dc4-4c77-a9ec-4056483df9f1"
      },
      "outputs": [
        {
          "output_type": "stream",
          "name": "stdout",
          "text": [
            "Fitting 10 folds for each of 10800 candidates, totalling 108000 fits\n"
          ]
        },
        {
          "output_type": "execute_result",
          "data": {
            "text/plain": [
              "{'criterion': 'gini',\n",
              " 'max_depth': 30,\n",
              " 'max_features': 'log2',\n",
              " 'min_samples_leaf': 5,\n",
              " 'min_samples_split': 10,\n",
              " 'splitter': 'best'}"
            ]
          },
          "metadata": {},
          "execution_count": 20
        }
      ],
      "source": [
        "#Decision Tree\n",
        "param_grid = {\n",
        "    'criterion' : ['gini', 'entropy'],\n",
        "    'max_depth':[4,5,6,7,8,9,10,11,12,15,20,30],\n",
        "    'min_samples_split' : range(10,500,20),\n",
        "    'splitter' : ['best', 'random'],\n",
        "    'min_samples_leaf': [5,8,11],\n",
        "    'max_features': ['log2', 'sqrt','auto']\n",
        "}\n",
        "\n",
        "# Create a based model\n",
        "dt = DecisionTreeClassifier()\n",
        "# Instantiate the grid search model\n",
        "dtClassifier = GridSearchCV(estimator = dt, param_grid = param_grid, \n",
        "                          cv = 10, n_jobs = -1, verbose = 2)\n",
        "\n",
        "dtClassifier.fit(X_train, y_train)\n",
        "dtClassifier.best_params_\n"
      ]
    },
    {
      "cell_type": "code",
      "source": [
        "print('Cross-validation Score:', dtClassifier.best_score_)\n",
        "print('Best Hyperparameters:', dtClassifier.best_params_)"
      ],
      "metadata": {
        "id": "pFHTM5r9oIVQ",
        "colab": {
          "base_uri": "https://localhost:8080/"
        },
        "outputId": "d1df76cf-d0c2-4e7c-ddaf-042a08d8df9d"
      },
      "execution_count": 21,
      "outputs": [
        {
          "output_type": "stream",
          "name": "stdout",
          "text": [
            "Cross-validation Score: 0.8651417242277839\n",
            "Best Hyperparameters: {'criterion': 'gini', 'max_depth': 30, 'max_features': 'log2', 'min_samples_leaf': 5, 'min_samples_split': 10, 'splitter': 'best'}\n"
          ]
        }
      ]
    },
    {
      "cell_type": "code",
      "source": [
        "from sklearn.metrics import roc_auc_score, roc_curve, confusion_matrix, precision_score, recall_score\n",
        "from sklearn.metrics import classification_report, average_precision_score, accuracy_score, f1_score\n",
        "y_pred_train = dtClassifier.predict(X_train)\n",
        "y_pred_train"
      ],
      "metadata": {
        "colab": {
          "base_uri": "https://localhost:8080/"
        },
        "id": "-TNOs8QNoMrf",
        "outputId": "da27df43-50ba-4634-c723-7a79e595d912"
      },
      "execution_count": 22,
      "outputs": [
        {
          "output_type": "execute_result",
          "data": {
            "text/plain": [
              "array([1, 1, 1, ..., 0, 0, 1])"
            ]
          },
          "metadata": {},
          "execution_count": 22
        }
      ]
    },
    {
      "cell_type": "code",
      "source": [
        "from sklearn.metrics import roc_auc_score, roc_curve, confusion_matrix, precision_score, recall_score\n",
        "from sklearn.metrics import classification_report, average_precision_score, accuracy_score, f1_score\n",
        "\n",
        "print(confusion_matrix(y_train, y_pred_train))\n",
        "print(classification_report(y_train, y_pred_train))"
      ],
      "metadata": {
        "colab": {
          "base_uri": "https://localhost:8080/"
        },
        "id": "oq9vR10-oTxD",
        "outputId": "69320d35-6e44-431c-9987-3c18bd7c40ec"
      },
      "execution_count": 23,
      "outputs": [
        {
          "output_type": "stream",
          "name": "stdout",
          "text": [
            "[[6395  453]\n",
            " [ 686 6147]]\n",
            "              precision    recall  f1-score   support\n",
            "\n",
            "           0       0.90      0.93      0.92      6848\n",
            "           1       0.93      0.90      0.92      6833\n",
            "\n",
            "    accuracy                           0.92     13681\n",
            "   macro avg       0.92      0.92      0.92     13681\n",
            "weighted avg       0.92      0.92      0.92     13681\n",
            "\n"
          ]
        }
      ]
    },
    {
      "cell_type": "code",
      "source": [
        "from sklearn.metrics import roc_auc_score, roc_curve, confusion_matrix, precision_score, recall_score\n",
        "from sklearn.metrics import classification_report, average_precision_score, accuracy_score, f1_score\n",
        "y_pred_val = dtClassifier.predict(x_test)\n",
        "y_pred_val"
      ],
      "metadata": {
        "colab": {
          "base_uri": "https://localhost:8080/"
        },
        "id": "NrEY8zXg6zml",
        "outputId": "e42d1d2c-9777-44da-8a8f-74e0fbb89dd4"
      },
      "execution_count": 24,
      "outputs": [
        {
          "output_type": "execute_result",
          "data": {
            "text/plain": [
              "array([1, 1, 0, ..., 1, 1, 0])"
            ]
          },
          "metadata": {},
          "execution_count": 24
        }
      ]
    },
    {
      "cell_type": "code",
      "source": [
        "from sklearn.metrics import roc_auc_score, roc_curve, confusion_matrix, precision_score, recall_score\n",
        "from sklearn.metrics import classification_report, average_precision_score, accuracy_score, f1_score\n",
        "\n",
        "print(confusion_matrix(y_test, y_pred_val))\n",
        "print(classification_report(y_test, y_pred_val))"
      ],
      "metadata": {
        "colab": {
          "base_uri": "https://localhost:8080/"
        },
        "id": "0-K-iU_y61y9",
        "outputId": "7788b46f-da44-482d-c6e8-f2993d9f0c2f"
      },
      "execution_count": 25,
      "outputs": [
        {
          "output_type": "stream",
          "name": "stdout",
          "text": [
            "[[1485  218]\n",
            " [ 275 1443]]\n",
            "              precision    recall  f1-score   support\n",
            "\n",
            "           0       0.84      0.87      0.86      1703\n",
            "           1       0.87      0.84      0.85      1718\n",
            "\n",
            "    accuracy                           0.86      3421\n",
            "   macro avg       0.86      0.86      0.86      3421\n",
            "weighted avg       0.86      0.86      0.86      3421\n",
            "\n"
          ]
        }
      ]
    },
    {
      "cell_type": "code",
      "source": [
        "import pickle\n",
        "with open('realtime_dt','wb') as f:\n",
        "  pickle.dump(dtClassifier,f)"
      ],
      "metadata": {
        "id": "dfPT6EOEL6-W"
      },
      "execution_count": 28,
      "outputs": []
    },
    {
      "cell_type": "code",
      "source": [
        "knn = KNeighborsClassifier(algorithm = 'brute')\n",
        "\n",
        "k_range = list(range(1, 100))\n",
        "param_grid = dict(n_neighbors=k_range)\n",
        "\n",
        "# Instantiate the grid search model\n",
        "knnClassifier = GridSearchCV(estimator = knn, param_grid = param_grid, \n",
        "                          cv = 10, n_jobs = -1, verbose = 2)\n",
        "\n",
        "knnClassifier.fit(X_train, y_train)\n",
        "knnClassifier.best_params_"
      ],
      "metadata": {
        "colab": {
          "base_uri": "https://localhost:8080/"
        },
        "id": "QPTLz06_iixl",
        "outputId": "2efcde05-8f2e-4f38-b27d-e4736a8687aa"
      },
      "execution_count": 29,
      "outputs": [
        {
          "output_type": "stream",
          "name": "stdout",
          "text": [
            "Fitting 10 folds for each of 99 candidates, totalling 990 fits\n"
          ]
        },
        {
          "output_type": "execute_result",
          "data": {
            "text/plain": [
              "{'n_neighbors': 5}"
            ]
          },
          "metadata": {},
          "execution_count": 29
        }
      ]
    },
    {
      "cell_type": "code",
      "source": [
        "print('Cross-validation Score:', knnClassifier.best_score_)\n",
        "print('Best Hyperparameters:', knnClassifier.best_params_)"
      ],
      "metadata": {
        "colab": {
          "base_uri": "https://localhost:8080/"
        },
        "id": "vU920xgRGe6z",
        "outputId": "a030ac19-e0c7-4dbc-a434-a95ff4f258ed"
      },
      "execution_count": 30,
      "outputs": [
        {
          "output_type": "stream",
          "name": "stdout",
          "text": [
            "Cross-validation Score: 0.897668507768081\n",
            "Best Hyperparameters: {'n_neighbors': 5}\n"
          ]
        }
      ]
    },
    {
      "cell_type": "code",
      "source": [
        "from sklearn.metrics import roc_auc_score, roc_curve, confusion_matrix, precision_score, recall_score\n",
        "from sklearn.metrics import classification_report, average_precision_score, accuracy_score, f1_score\n",
        "y_pred_train = knnClassifier.predict(X_train)\n",
        "y_pred_train"
      ],
      "metadata": {
        "colab": {
          "base_uri": "https://localhost:8080/"
        },
        "id": "_zprX0Y7Gktt",
        "outputId": "ac808420-41bd-443b-bed4-d2cbcd73721f"
      },
      "execution_count": 31,
      "outputs": [
        {
          "output_type": "execute_result",
          "data": {
            "text/plain": [
              "array([1, 0, 0, ..., 0, 0, 0])"
            ]
          },
          "metadata": {},
          "execution_count": 31
        }
      ]
    },
    {
      "cell_type": "code",
      "source": [
        "from sklearn.metrics import roc_auc_score, roc_curve, confusion_matrix, precision_score, recall_score\n",
        "from sklearn.metrics import classification_report, average_precision_score, accuracy_score, f1_score\n",
        "\n",
        "print(confusion_matrix(y_train, y_pred_train))\n",
        "print(classification_report(y_train, y_pred_train))"
      ],
      "metadata": {
        "colab": {
          "base_uri": "https://localhost:8080/"
        },
        "id": "XWDEN0v6Gn1P",
        "outputId": "03a58037-2fca-46d9-a825-eeaf966c418f"
      },
      "execution_count": 32,
      "outputs": [
        {
          "output_type": "stream",
          "name": "stdout",
          "text": [
            "[[6566  282]\n",
            " [ 711 6122]]\n",
            "              precision    recall  f1-score   support\n",
            "\n",
            "           0       0.90      0.96      0.93      6848\n",
            "           1       0.96      0.90      0.92      6833\n",
            "\n",
            "    accuracy                           0.93     13681\n",
            "   macro avg       0.93      0.93      0.93     13681\n",
            "weighted avg       0.93      0.93      0.93     13681\n",
            "\n"
          ]
        }
      ]
    },
    {
      "cell_type": "code",
      "source": [
        "from sklearn.metrics import roc_auc_score, roc_curve, confusion_matrix, precision_score, recall_score\n",
        "from sklearn.metrics import classification_report, average_precision_score, accuracy_score, f1_score\n",
        "y_pred_val = knnClassifier.predict(x_test)\n",
        "y_pred_val"
      ],
      "metadata": {
        "colab": {
          "base_uri": "https://localhost:8080/"
        },
        "id": "ULUv1HAf7h3c",
        "outputId": "ab1277dd-b9d9-41f5-eef0-c0ad7e86c865"
      },
      "execution_count": 33,
      "outputs": [
        {
          "output_type": "execute_result",
          "data": {
            "text/plain": [
              "array([1, 1, 1, ..., 1, 1, 0])"
            ]
          },
          "metadata": {},
          "execution_count": 33
        }
      ]
    },
    {
      "cell_type": "code",
      "source": [
        "from sklearn.metrics import roc_auc_score, roc_curve, confusion_matrix, precision_score, recall_score\n",
        "from sklearn.metrics import classification_report, average_precision_score, accuracy_score, f1_score\n",
        "\n",
        "print(confusion_matrix(y_test, y_pred_val))\n",
        "print(classification_report(y_test, y_pred_val))"
      ],
      "metadata": {
        "colab": {
          "base_uri": "https://localhost:8080/"
        },
        "id": "sIU-8PQb7ja-",
        "outputId": "858c0c21-55c7-41da-daee-eb65d69edbac"
      },
      "execution_count": 34,
      "outputs": [
        {
          "output_type": "stream",
          "name": "stdout",
          "text": [
            "[[1582  121]\n",
            " [ 260 1458]]\n",
            "              precision    recall  f1-score   support\n",
            "\n",
            "           0       0.86      0.93      0.89      1703\n",
            "           1       0.92      0.85      0.88      1718\n",
            "\n",
            "    accuracy                           0.89      3421\n",
            "   macro avg       0.89      0.89      0.89      3421\n",
            "weighted avg       0.89      0.89      0.89      3421\n",
            "\n"
          ]
        }
      ]
    },
    {
      "cell_type": "code",
      "source": [
        "import pickle\n",
        "with open('realtime_knn','wb') as f:\n",
        "  pickle.dump(knnClassifier,f)"
      ],
      "metadata": {
        "id": "OA6VGFFPQs4a"
      },
      "execution_count": 37,
      "outputs": []
    },
    {
      "cell_type": "code",
      "source": [
        "from sklearn.ensemble import RandomForestClassifier\n",
        "rf = RandomForestClassifier()\n",
        "\n",
        "param_grid = {\n",
        "    'bootstrap': [True],\n",
        "    'max_depth': [80, 90],\n",
        "    'max_features': [2, 3],\n",
        "    'min_samples_leaf': [3, 4, 5],\n",
        "    'min_samples_split': [8, 10, 12],\n",
        "    'n_estimators': [100, 200]\n",
        "}\n",
        "\n",
        "rfclassifier = GridSearchCV(estimator = rf, param_grid = param_grid, \n",
        "                          cv = 10, n_jobs = -1, verbose = 2)\n",
        "rfclassifier.fit(X_train, y_train)# fit function is where it trains\n",
        "rfclassifier.best_params_\n"
      ],
      "metadata": {
        "colab": {
          "base_uri": "https://localhost:8080/"
        },
        "id": "Snssz1J_dmeu",
        "outputId": "f1227c98-8416-4fcc-9d05-35f1f3067bcc"
      },
      "execution_count": 38,
      "outputs": [
        {
          "output_type": "stream",
          "name": "stdout",
          "text": [
            "Fitting 10 folds for each of 72 candidates, totalling 720 fits\n"
          ]
        },
        {
          "output_type": "execute_result",
          "data": {
            "text/plain": [
              "{'bootstrap': True,\n",
              " 'max_depth': 80,\n",
              " 'max_features': 2,\n",
              " 'min_samples_leaf': 3,\n",
              " 'min_samples_split': 8,\n",
              " 'n_estimators': 200}"
            ]
          },
          "metadata": {},
          "execution_count": 38
        }
      ]
    },
    {
      "cell_type": "code",
      "source": [
        "print('Cross-validation Score:', rfclassifier.best_score_)\n",
        "print('Best Hyperparameters:', rfclassifier.best_params_)"
      ],
      "metadata": {
        "id": "XVBIdUOp77wF",
        "colab": {
          "base_uri": "https://localhost:8080/"
        },
        "outputId": "7d5cead6-1e70-4897-fb70-28c939a39fba"
      },
      "execution_count": 39,
      "outputs": [
        {
          "output_type": "stream",
          "name": "stdout",
          "text": [
            "Cross-validation Score: 0.9032971093426285\n",
            "Best Hyperparameters: {'bootstrap': True, 'max_depth': 80, 'max_features': 2, 'min_samples_leaf': 3, 'min_samples_split': 8, 'n_estimators': 200}\n"
          ]
        }
      ]
    },
    {
      "cell_type": "code",
      "source": [
        "from sklearn.metrics import roc_auc_score, roc_curve, confusion_matrix, precision_score, recall_score\n",
        "from sklearn.metrics import classification_report, average_precision_score, accuracy_score, f1_score\n",
        "y_pred_train = rfclassifier.predict(X_train)\n",
        "y_pred_train"
      ],
      "metadata": {
        "id": "RhBSYA5E8CYQ",
        "colab": {
          "base_uri": "https://localhost:8080/"
        },
        "outputId": "a60d0870-d1ed-48ed-8d7a-15de38397cad"
      },
      "execution_count": 40,
      "outputs": [
        {
          "output_type": "execute_result",
          "data": {
            "text/plain": [
              "array([1, 0, 0, ..., 0, 0, 0])"
            ]
          },
          "metadata": {},
          "execution_count": 40
        }
      ]
    },
    {
      "cell_type": "code",
      "source": [
        "from sklearn.metrics import roc_auc_score, roc_curve, confusion_matrix, precision_score, recall_score\n",
        "from sklearn.metrics import classification_report, average_precision_score, accuracy_score, f1_score\n",
        "\n",
        "print(confusion_matrix(y_train, y_pred_train))\n",
        "print(classification_report(y_train, y_pred_train))"
      ],
      "metadata": {
        "colab": {
          "base_uri": "https://localhost:8080/"
        },
        "id": "JkSi-68G8FwZ",
        "outputId": "7c313371-4dce-4489-eced-d0c5323c8c37"
      },
      "execution_count": 41,
      "outputs": [
        {
          "output_type": "stream",
          "name": "stdout",
          "text": [
            "[[6637  211]\n",
            " [ 394 6439]]\n",
            "              precision    recall  f1-score   support\n",
            "\n",
            "           0       0.94      0.97      0.96      6848\n",
            "           1       0.97      0.94      0.96      6833\n",
            "\n",
            "    accuracy                           0.96     13681\n",
            "   macro avg       0.96      0.96      0.96     13681\n",
            "weighted avg       0.96      0.96      0.96     13681\n",
            "\n"
          ]
        }
      ]
    },
    {
      "cell_type": "code",
      "source": [
        "from sklearn.metrics import roc_auc_score, roc_curve, confusion_matrix, precision_score, recall_score\n",
        "from sklearn.metrics import classification_report, average_precision_score, accuracy_score, f1_score\n",
        "y_pred_val = rfclassifier.predict(x_test)\n",
        "y_pred_val"
      ],
      "metadata": {
        "colab": {
          "base_uri": "https://localhost:8080/"
        },
        "id": "EsAsaSIX7xR8",
        "outputId": "87633c76-2808-4879-9b5b-b8d02bf87b36"
      },
      "execution_count": 42,
      "outputs": [
        {
          "output_type": "execute_result",
          "data": {
            "text/plain": [
              "array([1, 1, 1, ..., 1, 1, 0])"
            ]
          },
          "metadata": {},
          "execution_count": 42
        }
      ]
    },
    {
      "cell_type": "code",
      "source": [
        "from sklearn.metrics import roc_auc_score, roc_curve, confusion_matrix, precision_score, recall_score\n",
        "from sklearn.metrics import classification_report, average_precision_score, accuracy_score, f1_score\n",
        "\n",
        "print(confusion_matrix(y_test, y_pred_val))\n",
        "print(classification_report(y_test, y_pred_val))"
      ],
      "metadata": {
        "colab": {
          "base_uri": "https://localhost:8080/"
        },
        "id": "sNQYgGA17zp_",
        "outputId": "93e7bc39-b9c1-4db6-f1c2-9196e4dfa4f7"
      },
      "execution_count": 43,
      "outputs": [
        {
          "output_type": "stream",
          "name": "stdout",
          "text": [
            "[[1547  156]\n",
            " [ 209 1509]]\n",
            "              precision    recall  f1-score   support\n",
            "\n",
            "           0       0.88      0.91      0.89      1703\n",
            "           1       0.91      0.88      0.89      1718\n",
            "\n",
            "    accuracy                           0.89      3421\n",
            "   macro avg       0.89      0.89      0.89      3421\n",
            "weighted avg       0.89      0.89      0.89      3421\n",
            "\n"
          ]
        }
      ]
    },
    {
      "cell_type": "code",
      "source": [
        "import pickle\n",
        "with open('realtime_rf','wb') as f:\n",
        "  pickle.dump(rfclassifier,f)"
      ],
      "metadata": {
        "id": "g82ZyEExQyyZ"
      },
      "execution_count": 45,
      "outputs": []
    },
    {
      "cell_type": "code",
      "source": [
        "import tensorflow as tf\n",
        "from tensorflow import keras\n",
        "from sklearn.model_selection import train_test_split\n",
        "import numpy as np\n",
        "\n",
        "\n",
        "\n",
        "# Build the neural network\n",
        "model = keras.Sequential([\n",
        "    keras.layers.Dense(64, activation='relu', input_shape=(X_train.shape[1],)),\n",
        "    keras.layers.Dense(32, activation='relu'),\n",
        "    keras.layers.Dense(1, activation='sigmoid')\n",
        "])\n",
        "\n",
        "# Compile the model\n",
        "model.compile(optimizer='adam', loss='binary_crossentropy', metrics=['accuracy'])\n",
        "\n",
        "# Train the model\n",
        "model.fit(X_train, y_train, epochs=50, batch_size=32, validation_split=0.2)\n",
        "\n",
        "# Evaluate the model on the test set\n",
        "test_loss, test_acc = model.evaluate(x_test, y_test)\n",
        "\n",
        "print('Test accuracy:', test_acc)"
      ],
      "metadata": {
        "colab": {
          "base_uri": "https://localhost:8080/"
        },
        "id": "nJdBDJ9ZYRtC",
        "outputId": "3df71e52-7a7f-48ba-f488-f228bb9a89c0"
      },
      "execution_count": 46,
      "outputs": [
        {
          "output_type": "stream",
          "name": "stdout",
          "text": [
            "Epoch 1/50\n",
            "342/342 [==============================] - 2s 3ms/step - loss: 0.6122 - accuracy: 0.6877 - val_loss: 0.5741 - val_accuracy: 0.7095\n",
            "Epoch 2/50\n",
            "342/342 [==============================] - 1s 4ms/step - loss: 0.5503 - accuracy: 0.7448 - val_loss: 0.5278 - val_accuracy: 0.7735\n",
            "Epoch 3/50\n",
            "342/342 [==============================] - 1s 4ms/step - loss: 0.5169 - accuracy: 0.7692 - val_loss: 0.5003 - val_accuracy: 0.7833\n",
            "Epoch 4/50\n",
            "342/342 [==============================] - 1s 3ms/step - loss: 0.4800 - accuracy: 0.7853 - val_loss: 0.4550 - val_accuracy: 0.8023\n",
            "Epoch 5/50\n",
            "342/342 [==============================] - 1s 3ms/step - loss: 0.4389 - accuracy: 0.8075 - val_loss: 0.4234 - val_accuracy: 0.8210\n",
            "Epoch 6/50\n",
            "342/342 [==============================] - 1s 2ms/step - loss: 0.4059 - accuracy: 0.8242 - val_loss: 0.4009 - val_accuracy: 0.8316\n",
            "Epoch 7/50\n",
            "342/342 [==============================] - 1s 3ms/step - loss: 0.3815 - accuracy: 0.8333 - val_loss: 0.3765 - val_accuracy: 0.8418\n",
            "Epoch 8/50\n",
            "342/342 [==============================] - 1s 2ms/step - loss: 0.3646 - accuracy: 0.8391 - val_loss: 0.3579 - val_accuracy: 0.8487\n",
            "Epoch 9/50\n",
            "342/342 [==============================] - 1s 2ms/step - loss: 0.3473 - accuracy: 0.8515 - val_loss: 0.3559 - val_accuracy: 0.8593\n",
            "Epoch 10/50\n",
            "342/342 [==============================] - 1s 2ms/step - loss: 0.3380 - accuracy: 0.8553 - val_loss: 0.3343 - val_accuracy: 0.8612\n",
            "Epoch 11/50\n",
            "342/342 [==============================] - 1s 2ms/step - loss: 0.3278 - accuracy: 0.8607 - val_loss: 0.3309 - val_accuracy: 0.8579\n",
            "Epoch 12/50\n",
            "342/342 [==============================] - 1s 2ms/step - loss: 0.3188 - accuracy: 0.8646 - val_loss: 0.3298 - val_accuracy: 0.8623\n",
            "Epoch 13/50\n",
            "342/342 [==============================] - 1s 2ms/step - loss: 0.3107 - accuracy: 0.8678 - val_loss: 0.3200 - val_accuracy: 0.8630\n",
            "Epoch 14/50\n",
            "342/342 [==============================] - 1s 2ms/step - loss: 0.3077 - accuracy: 0.8663 - val_loss: 0.3095 - val_accuracy: 0.8666\n",
            "Epoch 15/50\n",
            "342/342 [==============================] - 1s 2ms/step - loss: 0.3021 - accuracy: 0.8750 - val_loss: 0.3066 - val_accuracy: 0.8677\n",
            "Epoch 16/50\n",
            "342/342 [==============================] - 1s 2ms/step - loss: 0.2975 - accuracy: 0.8726 - val_loss: 0.3090 - val_accuracy: 0.8736\n",
            "Epoch 17/50\n",
            "342/342 [==============================] - 1s 2ms/step - loss: 0.2950 - accuracy: 0.8765 - val_loss: 0.2991 - val_accuracy: 0.8765\n",
            "Epoch 18/50\n",
            "342/342 [==============================] - 1s 3ms/step - loss: 0.2899 - accuracy: 0.8793 - val_loss: 0.2992 - val_accuracy: 0.8725\n",
            "Epoch 19/50\n",
            "342/342 [==============================] - 1s 4ms/step - loss: 0.2891 - accuracy: 0.8774 - val_loss: 0.2968 - val_accuracy: 0.8739\n",
            "Epoch 20/50\n",
            "342/342 [==============================] - 1s 4ms/step - loss: 0.2862 - accuracy: 0.8824 - val_loss: 0.2884 - val_accuracy: 0.8816\n",
            "Epoch 21/50\n",
            "342/342 [==============================] - 1s 3ms/step - loss: 0.2844 - accuracy: 0.8808 - val_loss: 0.2820 - val_accuracy: 0.8772\n",
            "Epoch 22/50\n",
            "342/342 [==============================] - 1s 2ms/step - loss: 0.2802 - accuracy: 0.8845 - val_loss: 0.2898 - val_accuracy: 0.8849\n",
            "Epoch 23/50\n",
            "342/342 [==============================] - 1s 2ms/step - loss: 0.2775 - accuracy: 0.8827 - val_loss: 0.2803 - val_accuracy: 0.8805\n",
            "Epoch 24/50\n",
            "342/342 [==============================] - 1s 2ms/step - loss: 0.2768 - accuracy: 0.8834 - val_loss: 0.2792 - val_accuracy: 0.8831\n",
            "Epoch 25/50\n",
            "342/342 [==============================] - 1s 2ms/step - loss: 0.2762 - accuracy: 0.8830 - val_loss: 0.2836 - val_accuracy: 0.8838\n",
            "Epoch 26/50\n",
            "342/342 [==============================] - 1s 2ms/step - loss: 0.2715 - accuracy: 0.8856 - val_loss: 0.2791 - val_accuracy: 0.8831\n",
            "Epoch 27/50\n",
            "342/342 [==============================] - 1s 2ms/step - loss: 0.2725 - accuracy: 0.8854 - val_loss: 0.2806 - val_accuracy: 0.8871\n",
            "Epoch 28/50\n",
            "342/342 [==============================] - 1s 2ms/step - loss: 0.2713 - accuracy: 0.8853 - val_loss: 0.2743 - val_accuracy: 0.8834\n",
            "Epoch 29/50\n",
            "342/342 [==============================] - 1s 2ms/step - loss: 0.2706 - accuracy: 0.8870 - val_loss: 0.2677 - val_accuracy: 0.8886\n",
            "Epoch 30/50\n",
            "342/342 [==============================] - 1s 2ms/step - loss: 0.2684 - accuracy: 0.8861 - val_loss: 0.2657 - val_accuracy: 0.8849\n",
            "Epoch 31/50\n",
            "342/342 [==============================] - 1s 2ms/step - loss: 0.2674 - accuracy: 0.8874 - val_loss: 0.2638 - val_accuracy: 0.8864\n",
            "Epoch 32/50\n",
            "342/342 [==============================] - 1s 2ms/step - loss: 0.2668 - accuracy: 0.8871 - val_loss: 0.2787 - val_accuracy: 0.8849\n",
            "Epoch 33/50\n",
            "342/342 [==============================] - 1s 2ms/step - loss: 0.2645 - accuracy: 0.8888 - val_loss: 0.2667 - val_accuracy: 0.8853\n",
            "Epoch 34/50\n",
            "342/342 [==============================] - 1s 3ms/step - loss: 0.2639 - accuracy: 0.8886 - val_loss: 0.2627 - val_accuracy: 0.8944\n",
            "Epoch 35/50\n",
            "342/342 [==============================] - 1s 4ms/step - loss: 0.2630 - accuracy: 0.8893 - val_loss: 0.2655 - val_accuracy: 0.8882\n",
            "Epoch 36/50\n",
            "342/342 [==============================] - 1s 3ms/step - loss: 0.2604 - accuracy: 0.8904 - val_loss: 0.2718 - val_accuracy: 0.8853\n",
            "Epoch 37/50\n",
            "342/342 [==============================] - 1s 4ms/step - loss: 0.2596 - accuracy: 0.8903 - val_loss: 0.2686 - val_accuracy: 0.8853\n",
            "Epoch 38/50\n",
            "342/342 [==============================] - 1s 2ms/step - loss: 0.2596 - accuracy: 0.8907 - val_loss: 0.2636 - val_accuracy: 0.8904\n",
            "Epoch 39/50\n",
            "342/342 [==============================] - 1s 2ms/step - loss: 0.2580 - accuracy: 0.8891 - val_loss: 0.2596 - val_accuracy: 0.8922\n",
            "Epoch 40/50\n",
            "342/342 [==============================] - 1s 2ms/step - loss: 0.2582 - accuracy: 0.8901 - val_loss: 0.2555 - val_accuracy: 0.8922\n",
            "Epoch 41/50\n",
            "342/342 [==============================] - 1s 2ms/step - loss: 0.2569 - accuracy: 0.8908 - val_loss: 0.2570 - val_accuracy: 0.8922\n",
            "Epoch 42/50\n",
            "342/342 [==============================] - 1s 2ms/step - loss: 0.2550 - accuracy: 0.8922 - val_loss: 0.2699 - val_accuracy: 0.8856\n",
            "Epoch 43/50\n",
            "342/342 [==============================] - 1s 2ms/step - loss: 0.2542 - accuracy: 0.8935 - val_loss: 0.2686 - val_accuracy: 0.8904\n",
            "Epoch 44/50\n",
            "342/342 [==============================] - 1s 2ms/step - loss: 0.2568 - accuracy: 0.8908 - val_loss: 0.2618 - val_accuracy: 0.8893\n",
            "Epoch 45/50\n",
            "342/342 [==============================] - 1s 2ms/step - loss: 0.2542 - accuracy: 0.8923 - val_loss: 0.2621 - val_accuracy: 0.8908\n",
            "Epoch 46/50\n",
            "342/342 [==============================] - 1s 2ms/step - loss: 0.2561 - accuracy: 0.8919 - val_loss: 0.2610 - val_accuracy: 0.8878\n",
            "Epoch 47/50\n",
            "342/342 [==============================] - 1s 2ms/step - loss: 0.2536 - accuracy: 0.8935 - val_loss: 0.2590 - val_accuracy: 0.8940\n",
            "Epoch 48/50\n",
            "342/342 [==============================] - 1s 2ms/step - loss: 0.2534 - accuracy: 0.8936 - val_loss: 0.2764 - val_accuracy: 0.8871\n",
            "Epoch 49/50\n",
            "342/342 [==============================] - 1s 2ms/step - loss: 0.2512 - accuracy: 0.8946 - val_loss: 0.2560 - val_accuracy: 0.8951\n",
            "Epoch 50/50\n",
            "342/342 [==============================] - 1s 2ms/step - loss: 0.2501 - accuracy: 0.8935 - val_loss: 0.2659 - val_accuracy: 0.8897\n",
            "107/107 [==============================] - 0s 2ms/step - loss: 0.2915 - accuracy: 0.8793\n",
            "Test accuracy: 0.8792750835418701\n"
          ]
        }
      ]
    },
    {
      "cell_type": "code",
      "source": [
        "from sklearn.svm import SVC\n",
        "from sklearn.model_selection import GridSearchCV\n",
        "from sklearn.metrics import roc_auc_score, roc_curve, confusion_matrix, precision_score, recall_score\n",
        "from sklearn.metrics import classification_report, average_precision_score, accuracy_score, f1_score\n",
        "\n",
        "\n",
        "param_grid = {'C': [1,10,100,1000,10000], \n",
        "              'gamma': [0.0001,0.001,0.01,0.1,1],\n",
        "              'kernel': ['poly'],'degree':[3,4]} \n",
        "grid = GridSearchCV(SVC(), param_grid, refit = True, verbose = 3)\n",
        "grid.fit(X_train, y_train)"
      ],
      "metadata": {
        "colab": {
          "base_uri": "https://localhost:8080/"
        },
        "id": "iQt2g9Y5ZFXY",
        "outputId": "2ae6a718-fd53-47b4-a69d-8f48f585eb5c"
      },
      "execution_count": null,
      "outputs": [
        {
          "output_type": "stream",
          "name": "stdout",
          "text": [
            "Fitting 5 folds for each of 50 candidates, totalling 250 fits\n",
            "[CV 1/5] END C=1, degree=3, gamma=0.0001, kernel=poly;, score=0.501 total time=   5.5s\n",
            "[CV 2/5] END C=1, degree=3, gamma=0.0001, kernel=poly;, score=0.501 total time=   5.4s\n",
            "[CV 3/5] END C=1, degree=3, gamma=0.0001, kernel=poly;, score=0.501 total time=   4.3s\n",
            "[CV 4/5] END C=1, degree=3, gamma=0.0001, kernel=poly;, score=0.501 total time=   5.7s\n",
            "[CV 5/5] END C=1, degree=3, gamma=0.0001, kernel=poly;, score=0.501 total time=   5.5s\n",
            "[CV 1/5] END C=1, degree=3, gamma=0.001, kernel=poly;, score=0.501 total time=   4.4s\n",
            "[CV 2/5] END C=1, degree=3, gamma=0.001, kernel=poly;, score=0.501 total time=   5.9s\n",
            "[CV 3/5] END C=1, degree=3, gamma=0.001, kernel=poly;, score=0.501 total time=   5.1s\n",
            "[CV 4/5] END C=1, degree=3, gamma=0.001, kernel=poly;, score=0.501 total time=   5.4s\n",
            "[CV 5/5] END C=1, degree=3, gamma=0.001, kernel=poly;, score=0.501 total time=   5.5s\n",
            "[CV 1/5] END C=1, degree=3, gamma=0.01, kernel=poly;, score=0.501 total time=   4.4s\n",
            "[CV 2/5] END C=1, degree=3, gamma=0.01, kernel=poly;, score=0.501 total time=   4.2s\n",
            "[CV 3/5] END C=1, degree=3, gamma=0.01, kernel=poly;, score=0.501 total time=   5.6s\n",
            "[CV 4/5] END C=1, degree=3, gamma=0.01, kernel=poly;, score=0.501 total time=   4.3s\n",
            "[CV 5/5] END C=1, degree=3, gamma=0.01, kernel=poly;, score=0.500 total time=   4.2s\n",
            "[CV 1/5] END C=1, degree=3, gamma=0.1, kernel=poly;, score=0.463 total time=   5.8s\n",
            "[CV 2/5] END C=1, degree=3, gamma=0.1, kernel=poly;, score=0.505 total time=   4.8s\n",
            "[CV 3/5] END C=1, degree=3, gamma=0.1, kernel=poly;, score=0.462 total time=   4.7s\n",
            "[CV 4/5] END C=1, degree=3, gamma=0.1, kernel=poly;, score=0.469 total time=   6.0s\n",
            "[CV 5/5] END C=1, degree=3, gamma=0.1, kernel=poly;, score=0.479 total time=   4.4s\n",
            "[CV 1/5] END C=1, degree=3, gamma=1, kernel=poly;, score=0.475 total time=  37.0s\n",
            "[CV 2/5] END C=1, degree=3, gamma=1, kernel=poly;, score=0.547 total time=  34.7s\n",
            "[CV 3/5] END C=1, degree=3, gamma=1, kernel=poly;, score=0.576 total time=  40.5s\n",
            "[CV 4/5] END C=1, degree=3, gamma=1, kernel=poly;, score=0.486 total time=  46.7s\n",
            "[CV 5/5] END C=1, degree=3, gamma=1, kernel=poly;, score=0.498 total time=  28.3s\n",
            "[CV 1/5] END C=1, degree=4, gamma=0.0001, kernel=poly;, score=0.501 total time=   5.4s\n",
            "[CV 2/5] END C=1, degree=4, gamma=0.0001, kernel=poly;, score=0.501 total time=   4.4s\n",
            "[CV 3/5] END C=1, degree=4, gamma=0.0001, kernel=poly;, score=0.501 total time=   5.3s\n",
            "[CV 4/5] END C=1, degree=4, gamma=0.0001, kernel=poly;, score=0.501 total time=   5.0s\n",
            "[CV 5/5] END C=1, degree=4, gamma=0.0001, kernel=poly;, score=0.501 total time=   4.4s\n",
            "[CV 1/5] END C=1, degree=4, gamma=0.001, kernel=poly;, score=0.501 total time=   5.6s\n",
            "[CV 2/5] END C=1, degree=4, gamma=0.001, kernel=poly;, score=0.501 total time=   5.1s\n",
            "[CV 3/5] END C=1, degree=4, gamma=0.001, kernel=poly;, score=0.501 total time=   4.5s\n",
            "[CV 4/5] END C=1, degree=4, gamma=0.001, kernel=poly;, score=0.501 total time=   5.8s\n",
            "[CV 5/5] END C=1, degree=4, gamma=0.001, kernel=poly;, score=0.501 total time=   4.4s\n",
            "[CV 1/5] END C=1, degree=4, gamma=0.01, kernel=poly;, score=0.501 total time=   5.5s\n",
            "[CV 2/5] END C=1, degree=4, gamma=0.01, kernel=poly;, score=0.501 total time=   5.7s\n",
            "[CV 3/5] END C=1, degree=4, gamma=0.01, kernel=poly;, score=0.501 total time=   4.5s\n",
            "[CV 4/5] END C=1, degree=4, gamma=0.01, kernel=poly;, score=0.501 total time=   5.4s\n",
            "[CV 5/5] END C=1, degree=4, gamma=0.01, kernel=poly;, score=0.501 total time=   5.8s\n",
            "[CV 1/5] END C=1, degree=4, gamma=0.1, kernel=poly;, score=0.576 total time=   7.2s\n",
            "[CV 2/5] END C=1, degree=4, gamma=0.1, kernel=poly;, score=0.589 total time=   5.3s\n",
            "[CV 3/5] END C=1, degree=4, gamma=0.1, kernel=poly;, score=0.569 total time=   4.0s\n",
            "[CV 4/5] END C=1, degree=4, gamma=0.1, kernel=poly;, score=0.571 total time=   6.0s\n",
            "[CV 5/5] END C=1, degree=4, gamma=0.1, kernel=poly;, score=0.577 total time=   6.6s\n",
            "[CV 1/5] END C=1, degree=4, gamma=1, kernel=poly;, score=0.680 total time= 1.1min\n",
            "[CV 2/5] END C=1, degree=4, gamma=1, kernel=poly;, score=0.701 total time=  56.3s\n",
            "[CV 3/5] END C=1, degree=4, gamma=1, kernel=poly;, score=0.690 total time=  53.0s\n",
            "[CV 4/5] END C=1, degree=4, gamma=1, kernel=poly;, score=0.699 total time=  59.5s\n",
            "[CV 5/5] END C=1, degree=4, gamma=1, kernel=poly;, score=0.698 total time=  49.2s\n",
            "[CV 1/5] END C=10, degree=3, gamma=0.0001, kernel=poly;, score=0.501 total time=   5.6s\n",
            "[CV 2/5] END C=10, degree=3, gamma=0.0001, kernel=poly;, score=0.501 total time=   4.4s\n",
            "[CV 3/5] END C=10, degree=3, gamma=0.0001, kernel=poly;, score=0.501 total time=   4.5s\n",
            "[CV 4/5] END C=10, degree=3, gamma=0.0001, kernel=poly;, score=0.501 total time=   5.8s\n",
            "[CV 5/5] END C=10, degree=3, gamma=0.0001, kernel=poly;, score=0.501 total time=   4.3s\n",
            "[CV 1/5] END C=10, degree=3, gamma=0.001, kernel=poly;, score=0.501 total time=   4.4s\n",
            "[CV 2/5] END C=10, degree=3, gamma=0.001, kernel=poly;, score=0.501 total time=   5.6s\n",
            "[CV 3/5] END C=10, degree=3, gamma=0.001, kernel=poly;, score=0.501 total time=   4.3s\n",
            "[CV 4/5] END C=10, degree=3, gamma=0.001, kernel=poly;, score=0.501 total time=   5.1s\n",
            "[CV 5/5] END C=10, degree=3, gamma=0.001, kernel=poly;, score=0.501 total time=   5.3s\n",
            "[CV 1/5] END C=10, degree=3, gamma=0.01, kernel=poly;, score=0.506 total time=   4.5s\n",
            "[CV 2/5] END C=10, degree=3, gamma=0.01, kernel=poly;, score=0.507 total time=   5.5s\n",
            "[CV 3/5] END C=10, degree=3, gamma=0.01, kernel=poly;, score=0.511 total time=   5.0s\n",
            "[CV 4/5] END C=10, degree=3, gamma=0.01, kernel=poly;, score=0.503 total time=   4.5s\n",
            "[CV 5/5] END C=10, degree=3, gamma=0.01, kernel=poly;, score=0.510 total time=   5.8s\n",
            "[CV 1/5] END C=10, degree=3, gamma=0.1, kernel=poly;, score=0.472 total time=   7.3s\n",
            "[CV 2/5] END C=10, degree=3, gamma=0.1, kernel=poly;, score=0.549 total time=   6.7s\n",
            "[CV 3/5] END C=10, degree=3, gamma=0.1, kernel=poly;, score=0.583 total time=   5.7s\n",
            "[CV 4/5] END C=10, degree=3, gamma=0.1, kernel=poly;, score=0.486 total time=   6.4s\n",
            "[CV 5/5] END C=10, degree=3, gamma=0.1, kernel=poly;, score=0.496 total time=   6.4s\n",
            "[CV 1/5] END C=10, degree=3, gamma=1, kernel=poly;, score=0.475 total time= 3.2min\n",
            "[CV 2/5] END C=10, degree=3, gamma=1, kernel=poly;, score=0.546 total time= 3.1min\n",
            "[CV 3/5] END C=10, degree=3, gamma=1, kernel=poly;, score=0.578 total time= 3.6min\n",
            "[CV 4/5] END C=10, degree=3, gamma=1, kernel=poly;, score=0.490 total time= 3.0min\n",
            "[CV 5/5] END C=10, degree=3, gamma=1, kernel=poly;, score=0.498 total time= 2.2min\n",
            "[CV 1/5] END C=10, degree=4, gamma=0.0001, kernel=poly;, score=0.501 total time=   5.1s\n",
            "[CV 2/5] END C=10, degree=4, gamma=0.0001, kernel=poly;, score=0.501 total time=   5.7s\n",
            "[CV 3/5] END C=10, degree=4, gamma=0.0001, kernel=poly;, score=0.501 total time=   4.6s\n",
            "[CV 4/5] END C=10, degree=4, gamma=0.0001, kernel=poly;, score=0.501 total time=   5.6s\n",
            "[CV 5/5] END C=10, degree=4, gamma=0.0001, kernel=poly;, score=0.501 total time=   5.0s\n",
            "[CV 1/5] END C=10, degree=4, gamma=0.001, kernel=poly;, score=0.501 total time=   4.6s\n",
            "[CV 2/5] END C=10, degree=4, gamma=0.001, kernel=poly;, score=0.501 total time=   5.9s\n",
            "[CV 3/5] END C=10, degree=4, gamma=0.001, kernel=poly;, score=0.501 total time=   4.7s\n",
            "[CV 4/5] END C=10, degree=4, gamma=0.001, kernel=poly;, score=0.501 total time=   4.7s\n",
            "[CV 5/5] END C=10, degree=4, gamma=0.001, kernel=poly;, score=0.501 total time=   6.1s\n",
            "[CV 1/5] END C=10, degree=4, gamma=0.01, kernel=poly;, score=0.507 total time=   4.9s\n",
            "[CV 2/5] END C=10, degree=4, gamma=0.01, kernel=poly;, score=0.507 total time=   7.0s\n",
            "[CV 3/5] END C=10, degree=4, gamma=0.01, kernel=poly;, score=0.506 total time=   4.8s\n",
            "[CV 4/5] END C=10, degree=4, gamma=0.01, kernel=poly;, score=0.506 total time=   4.7s\n",
            "[CV 5/5] END C=10, degree=4, gamma=0.01, kernel=poly;, score=0.507 total time=   5.9s\n",
            "[CV 1/5] END C=10, degree=4, gamma=0.1, kernel=poly;, score=0.703 total time=   4.7s\n",
            "[CV 2/5] END C=10, degree=4, gamma=0.1, kernel=poly;, score=0.728 total time=   5.1s\n",
            "[CV 3/5] END C=10, degree=4, gamma=0.1, kernel=poly;, score=0.702 total time=   5.5s\n",
            "[CV 4/5] END C=10, degree=4, gamma=0.1, kernel=poly;, score=0.699 total time=   5.2s\n",
            "[CV 5/5] END C=10, degree=4, gamma=0.1, kernel=poly;, score=0.701 total time=   5.4s\n",
            "[CV 1/5] END C=10, degree=4, gamma=1, kernel=poly;, score=0.679 total time= 5.8min\n",
            "[CV 2/5] END C=10, degree=4, gamma=1, kernel=poly;, score=0.701 total time= 5.3min\n",
            "[CV 3/5] END C=10, degree=4, gamma=1, kernel=poly;, score=0.690 total time= 5.4min\n",
            "[CV 4/5] END C=10, degree=4, gamma=1, kernel=poly;, score=0.698 total time= 6.2min\n",
            "[CV 5/5] END C=10, degree=4, gamma=1, kernel=poly;, score=0.699 total time= 4.7min\n",
            "[CV 1/5] END C=100, degree=3, gamma=0.0001, kernel=poly;, score=0.501 total time=   4.3s\n",
            "[CV 2/5] END C=100, degree=3, gamma=0.0001, kernel=poly;, score=0.501 total time=   5.6s\n",
            "[CV 3/5] END C=100, degree=3, gamma=0.0001, kernel=poly;, score=0.501 total time=   4.4s\n",
            "[CV 4/5] END C=100, degree=3, gamma=0.0001, kernel=poly;, score=0.501 total time=   4.4s\n",
            "[CV 5/5] END C=100, degree=3, gamma=0.0001, kernel=poly;, score=0.501 total time=   5.5s\n",
            "[CV 1/5] END C=100, degree=3, gamma=0.001, kernel=poly;, score=0.501 total time=   4.4s\n",
            "[CV 2/5] END C=100, degree=3, gamma=0.001, kernel=poly;, score=0.501 total time=   4.4s\n",
            "[CV 3/5] END C=100, degree=3, gamma=0.001, kernel=poly;, score=0.501 total time=   5.7s\n",
            "[CV 4/5] END C=100, degree=3, gamma=0.001, kernel=poly;, score=0.501 total time=   4.5s\n",
            "[CV 5/5] END C=100, degree=3, gamma=0.001, kernel=poly;, score=0.500 total time=   4.4s\n",
            "[CV 1/5] END C=100, degree=3, gamma=0.01, kernel=poly;, score=0.507 total time=   5.8s\n",
            "[CV 2/5] END C=100, degree=3, gamma=0.01, kernel=poly;, score=0.472 total time=   4.8s\n",
            "[CV 3/5] END C=100, degree=3, gamma=0.01, kernel=poly;, score=0.500 total time=   6.8s\n",
            "[CV 4/5] END C=100, degree=3, gamma=0.01, kernel=poly;, score=0.505 total time=   4.6s\n",
            "[CV 5/5] END C=100, degree=3, gamma=0.01, kernel=poly;, score=0.523 total time=   4.5s\n",
            "[CV 1/5] END C=100, degree=3, gamma=0.1, kernel=poly;, score=0.475 total time=  11.4s\n",
            "[CV 2/5] END C=100, degree=3, gamma=0.1, kernel=poly;, score=0.547 total time=  11.4s\n",
            "[CV 3/5] END C=100, degree=3, gamma=0.1, kernel=poly;, score=0.582 total time=  12.4s\n",
            "[CV 4/5] END C=100, degree=3, gamma=0.1, kernel=poly;, score=0.486 total time=  11.2s\n",
            "[CV 5/5] END C=100, degree=3, gamma=0.1, kernel=poly;, score=0.498 total time=   9.0s\n",
            "[CV 1/5] END C=100, degree=3, gamma=1, kernel=poly;, score=0.472 total time=19.7min\n",
            "[CV 2/5] END C=100, degree=3, gamma=1, kernel=poly;, score=0.567 total time=21.6min\n",
            "[CV 3/5] END C=100, degree=3, gamma=1, kernel=poly;, score=0.584 total time=24.9min\n",
            "[CV 4/5] END C=100, degree=3, gamma=1, kernel=poly;, score=0.489 total time=18.9min\n",
            "[CV 5/5] END C=100, degree=3, gamma=1, kernel=poly;, score=0.498 total time=15.9min\n",
            "[CV 1/5] END C=100, degree=4, gamma=0.0001, kernel=poly;, score=0.501 total time=   4.5s\n",
            "[CV 2/5] END C=100, degree=4, gamma=0.0001, kernel=poly;, score=0.501 total time=   5.7s\n",
            "[CV 3/5] END C=100, degree=4, gamma=0.0001, kernel=poly;, score=0.501 total time=   4.5s\n",
            "[CV 4/5] END C=100, degree=4, gamma=0.0001, kernel=poly;, score=0.501 total time=   4.7s\n",
            "[CV 5/5] END C=100, degree=4, gamma=0.0001, kernel=poly;, score=0.501 total time=   5.7s\n",
            "[CV 1/5] END C=100, degree=4, gamma=0.001, kernel=poly;, score=0.501 total time=   4.4s\n",
            "[CV 2/5] END C=100, degree=4, gamma=0.001, kernel=poly;, score=0.501 total time=   5.2s\n",
            "[CV 3/5] END C=100, degree=4, gamma=0.001, kernel=poly;, score=0.501 total time=   5.2s\n",
            "[CV 4/5] END C=100, degree=4, gamma=0.001, kernel=poly;, score=0.501 total time=   4.6s\n",
            "[CV 5/5] END C=100, degree=4, gamma=0.001, kernel=poly;, score=0.501 total time=   5.7s\n",
            "[CV 1/5] END C=100, degree=4, gamma=0.01, kernel=poly;, score=0.525 total time=   6.1s\n",
            "[CV 2/5] END C=100, degree=4, gamma=0.01, kernel=poly;, score=0.526 total time=   4.8s\n",
            "[CV 3/5] END C=100, degree=4, gamma=0.01, kernel=poly;, score=0.525 total time=   5.9s\n",
            "[CV 4/5] END C=100, degree=4, gamma=0.01, kernel=poly;, score=0.525 total time=   4.5s\n",
            "[CV 5/5] END C=100, degree=4, gamma=0.01, kernel=poly;, score=0.530 total time=   5.1s\n",
            "[CV 1/5] END C=100, degree=4, gamma=0.1, kernel=poly;, score=0.681 total time=   6.3s\n",
            "[CV 2/5] END C=100, degree=4, gamma=0.1, kernel=poly;, score=0.704 total time=   6.0s\n",
            "[CV 3/5] END C=100, degree=4, gamma=0.1, kernel=poly;, score=0.694 total time=   7.5s\n",
            "[CV 4/5] END C=100, degree=4, gamma=0.1, kernel=poly;, score=0.698 total time=   6.2s\n",
            "[CV 5/5] END C=100, degree=4, gamma=0.1, kernel=poly;, score=0.698 total time=   9.8s\n",
            "[CV 1/5] END C=100, degree=4, gamma=1, kernel=poly;, score=0.679 total time=35.2min\n"
          ]
        }
      ]
    },
    {
      "cell_type": "code",
      "source": [
        "# print best parameter after tuning\n",
        "print(grid.best_params_)\n",
        "  \n",
        "# print how our model looks after hyper-parameter tuning\n",
        "print(grid.best_estimator_)"
      ],
      "metadata": {
        "colab": {
          "base_uri": "https://localhost:8080/",
          "height": 235
        },
        "id": "B-TCR-09ZJsD",
        "outputId": "9322898a-e0f6-4e1b-af44-becfbd770a1d"
      },
      "execution_count": 47,
      "outputs": [
        {
          "output_type": "error",
          "ename": "NameError",
          "evalue": "ignored",
          "traceback": [
            "\u001b[0;31m---------------------------------------------------------------------------\u001b[0m",
            "\u001b[0;31mNameError\u001b[0m                                 Traceback (most recent call last)",
            "\u001b[0;32m<ipython-input-47-259211234f24>\u001b[0m in \u001b[0;36m<cell line: 2>\u001b[0;34m()\u001b[0m\n\u001b[1;32m      1\u001b[0m \u001b[0;31m# print best parameter after tuning\u001b[0m\u001b[0;34m\u001b[0m\u001b[0;34m\u001b[0m\u001b[0m\n\u001b[0;32m----> 2\u001b[0;31m \u001b[0mprint\u001b[0m\u001b[0;34m(\u001b[0m\u001b[0mgrid\u001b[0m\u001b[0;34m.\u001b[0m\u001b[0mbest_params_\u001b[0m\u001b[0;34m)\u001b[0m\u001b[0;34m\u001b[0m\u001b[0;34m\u001b[0m\u001b[0m\n\u001b[0m\u001b[1;32m      3\u001b[0m \u001b[0;34m\u001b[0m\u001b[0m\n\u001b[1;32m      4\u001b[0m \u001b[0;31m# print how our model looks after hyper-parameter tuning\u001b[0m\u001b[0;34m\u001b[0m\u001b[0;34m\u001b[0m\u001b[0m\n\u001b[1;32m      5\u001b[0m \u001b[0mprint\u001b[0m\u001b[0;34m(\u001b[0m\u001b[0mgrid\u001b[0m\u001b[0;34m.\u001b[0m\u001b[0mbest_estimator_\u001b[0m\u001b[0;34m)\u001b[0m\u001b[0;34m\u001b[0m\u001b[0;34m\u001b[0m\u001b[0m\n",
            "\u001b[0;31mNameError\u001b[0m: name 'grid' is not defined"
          ]
        }
      ]
    },
    {
      "cell_type": "code",
      "source": [
        "from sklearn.svm import SVC\n",
        "from sklearn.model_selection import GridSearchCV\n",
        "from sklearn.metrics import roc_auc_score, roc_curve, confusion_matrix, precision_score, recall_score\n",
        "from sklearn.metrics import classification_report, average_precision_score, accuracy_score, f1_score\n",
        "for i in range(10):\n",
        "  X_train,x_test,y_train,y_test = train_test_split(df_scaled,y, test_size = 0.2, random_state = None)\n",
        "  grid = SVC(C= 10000,gamma= 1,kernel = 'rbf')\n",
        "  grid.fit(X_train, y_train)\n",
        "  print(\"Train iteration\",i)"
      ],
      "metadata": {
        "colab": {
          "base_uri": "https://localhost:8080/"
        },
        "id": "fs8lJyzOZNYG",
        "outputId": "12fe72bf-ad0e-48f8-9a85-614665c43a0b"
      },
      "execution_count": 48,
      "outputs": [
        {
          "output_type": "stream",
          "name": "stdout",
          "text": [
            "Train iteration 0\n",
            "Train iteration 1\n",
            "Train iteration 2\n",
            "Train iteration 3\n",
            "Train iteration 4\n",
            "Train iteration 5\n",
            "Train iteration 6\n",
            "Train iteration 7\n",
            "Train iteration 8\n",
            "Train iteration 9\n"
          ]
        }
      ]
    },
    {
      "cell_type": "code",
      "source": [
        "from sklearn.metrics import roc_auc_score, roc_curve, confusion_matrix, precision_score, recall_score\n",
        "from sklearn.metrics import classification_report, average_precision_score, accuracy_score, f1_score\n",
        "y_pred_train = grid.predict(X_train)\n",
        "y_pred_train"
      ],
      "metadata": {
        "colab": {
          "base_uri": "https://localhost:8080/"
        },
        "id": "P3r7PZpMZQPJ",
        "outputId": "eeb6a6ad-be3d-4981-8dc1-011485c7eaab"
      },
      "execution_count": 49,
      "outputs": [
        {
          "output_type": "execute_result",
          "data": {
            "text/plain": [
              "array([0, 0, 1, ..., 0, 1, 1])"
            ]
          },
          "metadata": {},
          "execution_count": 49
        }
      ]
    },
    {
      "cell_type": "code",
      "source": [
        "from sklearn.metrics import roc_auc_score, roc_curve, confusion_matrix, precision_score, recall_score\n",
        "from sklearn.metrics import classification_report, average_precision_score, accuracy_score, f1_score\n",
        "\n",
        "print(confusion_matrix(y_train, y_pred_train))\n",
        "print(classification_report(y_train, y_pred_train))"
      ],
      "metadata": {
        "colab": {
          "base_uri": "https://localhost:8080/"
        },
        "id": "PezrDabsZkF7",
        "outputId": "56e276e1-a744-420b-bed8-4c9469c7b3bb"
      },
      "execution_count": 50,
      "outputs": [
        {
          "output_type": "stream",
          "name": "stdout",
          "text": [
            "[[6415  423]\n",
            " [ 703 6140]]\n",
            "              precision    recall  f1-score   support\n",
            "\n",
            "           0       0.90      0.94      0.92      6838\n",
            "           1       0.94      0.90      0.92      6843\n",
            "\n",
            "    accuracy                           0.92     13681\n",
            "   macro avg       0.92      0.92      0.92     13681\n",
            "weighted avg       0.92      0.92      0.92     13681\n",
            "\n"
          ]
        }
      ]
    },
    {
      "cell_type": "code",
      "source": [
        "from sklearn.metrics import roc_auc_score, roc_curve, confusion_matrix, precision_score, recall_score\n",
        "from sklearn.metrics import classification_report, average_precision_score, accuracy_score, f1_score\n",
        "y_pred_val = grid.predict(x_test)\n",
        "y_pred_val"
      ],
      "metadata": {
        "colab": {
          "base_uri": "https://localhost:8080/"
        },
        "id": "bjmCvA2SafAM",
        "outputId": "b6596f92-4abd-4fec-eeab-66989242f3c4"
      },
      "execution_count": 51,
      "outputs": [
        {
          "output_type": "execute_result",
          "data": {
            "text/plain": [
              "array([1, 0, 1, ..., 1, 1, 0])"
            ]
          },
          "metadata": {},
          "execution_count": 51
        }
      ]
    },
    {
      "cell_type": "code",
      "source": [
        "grid_predictions = grid.predict(x_test)\n",
        "  \n",
        "# print classification report\n",
        "print(confusion_matrix(y_test, grid_predictions))\n",
        "print(classification_report(y_test, grid_predictions))\n",
        "print(\"Train accuracy:\",accuracy_score(y_train,grid.predict(X_train)))\n",
        "print(\"Test accuracy:\", accuracy_score(y_test,grid_predictions))"
      ],
      "metadata": {
        "colab": {
          "base_uri": "https://localhost:8080/"
        },
        "id": "a7xsLVOrZhlt",
        "outputId": "56b81320-99e9-4706-d463-3af1b6cf1d35"
      },
      "execution_count": 52,
      "outputs": [
        {
          "output_type": "stream",
          "name": "stdout",
          "text": [
            "[[1570  143]\n",
            " [ 197 1511]]\n",
            "              precision    recall  f1-score   support\n",
            "\n",
            "           0       0.89      0.92      0.90      1713\n",
            "           1       0.91      0.88      0.90      1708\n",
            "\n",
            "    accuracy                           0.90      3421\n",
            "   macro avg       0.90      0.90      0.90      3421\n",
            "weighted avg       0.90      0.90      0.90      3421\n",
            "\n",
            "Train accuracy: 0.9176960748483298\n",
            "Test accuracy: 0.9006138555977784\n"
          ]
        }
      ]
    },
    {
      "cell_type": "code",
      "source": [
        "from sklearn.metrics import roc_auc_score, roc_curve, confusion_matrix, precision_score, recall_score\n",
        "from sklearn.metrics import classification_report, average_precision_score, accuracy_score, f1_score\n",
        "\n",
        "print(confusion_matrix(y_test, y_pred_val))\n",
        "print(classification_report(y_test, y_pred_val))"
      ],
      "metadata": {
        "colab": {
          "base_uri": "https://localhost:8080/"
        },
        "id": "nKTHj2EvZnIG",
        "outputId": "b6f0ee14-6017-4433-9f83-b1c5e0f1cb62"
      },
      "execution_count": 53,
      "outputs": [
        {
          "output_type": "stream",
          "name": "stdout",
          "text": [
            "[[1570  143]\n",
            " [ 197 1511]]\n",
            "              precision    recall  f1-score   support\n",
            "\n",
            "           0       0.89      0.92      0.90      1713\n",
            "           1       0.91      0.88      0.90      1708\n",
            "\n",
            "    accuracy                           0.90      3421\n",
            "   macro avg       0.90      0.90      0.90      3421\n",
            "weighted avg       0.90      0.90      0.90      3421\n",
            "\n"
          ]
        }
      ]
    },
    {
      "cell_type": "code",
      "source": [
        "import pickle\n",
        "\n",
        "with open('svmreal','wb') as f:\n",
        "  pickle.dump(grid,f)"
      ],
      "metadata": {
        "id": "1WNgmWI-SUOr"
      },
      "execution_count": 54,
      "outputs": []
    },
    {
      "cell_type": "code",
      "execution_count": null,
      "metadata": {
        "id": "AYomS-TmHGQx"
      },
      "outputs": [],
      "source": [
        "import pickle\n",
        "\n",
        "with open('motor_fault_model','wb') as f:\n",
        "  pickle.dump(model,f)"
      ]
    },
    {
      "cell_type": "code",
      "execution_count": null,
      "metadata": {
        "id": "L-1InwREIaFD"
      },
      "outputs": [],
      "source": [
        "import pickle\n",
        "\n",
        "with open('motor_fault_model','rb') as f:\n",
        "  mod=pickle.load(f)"
      ]
    },
    {
      "cell_type": "code",
      "execution_count": null,
      "metadata": {
        "colab": {
          "base_uri": "https://localhost:8080/",
          "height": 73
        },
        "id": "b7dDhw3UKG65",
        "outputId": "65769ca0-9dd5-471d-d2ac-3ffeddef4a00"
      },
      "outputs": [
        {
          "output_type": "display_data",
          "data": {
            "text/plain": [
              "<IPython.core.display.HTML object>"
            ],
            "text/html": [
              "\n",
              "     <input type=\"file\" id=\"files-d14e54e0-29c4-44f7-846e-552da695e398\" name=\"files[]\" multiple disabled\n",
              "        style=\"border:none\" />\n",
              "     <output id=\"result-d14e54e0-29c4-44f7-846e-552da695e398\">\n",
              "      Upload widget is only available when the cell has been executed in the\n",
              "      current browser session. Please rerun this cell to enable.\n",
              "      </output>\n",
              "      <script>// Copyright 2017 Google LLC\n",
              "//\n",
              "// Licensed under the Apache License, Version 2.0 (the \"License\");\n",
              "// you may not use this file except in compliance with the License.\n",
              "// You may obtain a copy of the License at\n",
              "//\n",
              "//      http://www.apache.org/licenses/LICENSE-2.0\n",
              "//\n",
              "// Unless required by applicable law or agreed to in writing, software\n",
              "// distributed under the License is distributed on an \"AS IS\" BASIS,\n",
              "// WITHOUT WARRANTIES OR CONDITIONS OF ANY KIND, either express or implied.\n",
              "// See the License for the specific language governing permissions and\n",
              "// limitations under the License.\n",
              "\n",
              "/**\n",
              " * @fileoverview Helpers for google.colab Python module.\n",
              " */\n",
              "(function(scope) {\n",
              "function span(text, styleAttributes = {}) {\n",
              "  const element = document.createElement('span');\n",
              "  element.textContent = text;\n",
              "  for (const key of Object.keys(styleAttributes)) {\n",
              "    element.style[key] = styleAttributes[key];\n",
              "  }\n",
              "  return element;\n",
              "}\n",
              "\n",
              "// Max number of bytes which will be uploaded at a time.\n",
              "const MAX_PAYLOAD_SIZE = 100 * 1024;\n",
              "\n",
              "function _uploadFiles(inputId, outputId) {\n",
              "  const steps = uploadFilesStep(inputId, outputId);\n",
              "  const outputElement = document.getElementById(outputId);\n",
              "  // Cache steps on the outputElement to make it available for the next call\n",
              "  // to uploadFilesContinue from Python.\n",
              "  outputElement.steps = steps;\n",
              "\n",
              "  return _uploadFilesContinue(outputId);\n",
              "}\n",
              "\n",
              "// This is roughly an async generator (not supported in the browser yet),\n",
              "// where there are multiple asynchronous steps and the Python side is going\n",
              "// to poll for completion of each step.\n",
              "// This uses a Promise to block the python side on completion of each step,\n",
              "// then passes the result of the previous step as the input to the next step.\n",
              "function _uploadFilesContinue(outputId) {\n",
              "  const outputElement = document.getElementById(outputId);\n",
              "  const steps = outputElement.steps;\n",
              "\n",
              "  const next = steps.next(outputElement.lastPromiseValue);\n",
              "  return Promise.resolve(next.value.promise).then((value) => {\n",
              "    // Cache the last promise value to make it available to the next\n",
              "    // step of the generator.\n",
              "    outputElement.lastPromiseValue = value;\n",
              "    return next.value.response;\n",
              "  });\n",
              "}\n",
              "\n",
              "/**\n",
              " * Generator function which is called between each async step of the upload\n",
              " * process.\n",
              " * @param {string} inputId Element ID of the input file picker element.\n",
              " * @param {string} outputId Element ID of the output display.\n",
              " * @return {!Iterable<!Object>} Iterable of next steps.\n",
              " */\n",
              "function* uploadFilesStep(inputId, outputId) {\n",
              "  const inputElement = document.getElementById(inputId);\n",
              "  inputElement.disabled = false;\n",
              "\n",
              "  const outputElement = document.getElementById(outputId);\n",
              "  outputElement.innerHTML = '';\n",
              "\n",
              "  const pickedPromise = new Promise((resolve) => {\n",
              "    inputElement.addEventListener('change', (e) => {\n",
              "      resolve(e.target.files);\n",
              "    });\n",
              "  });\n",
              "\n",
              "  const cancel = document.createElement('button');\n",
              "  inputElement.parentElement.appendChild(cancel);\n",
              "  cancel.textContent = 'Cancel upload';\n",
              "  const cancelPromise = new Promise((resolve) => {\n",
              "    cancel.onclick = () => {\n",
              "      resolve(null);\n",
              "    };\n",
              "  });\n",
              "\n",
              "  // Wait for the user to pick the files.\n",
              "  const files = yield {\n",
              "    promise: Promise.race([pickedPromise, cancelPromise]),\n",
              "    response: {\n",
              "      action: 'starting',\n",
              "    }\n",
              "  };\n",
              "\n",
              "  cancel.remove();\n",
              "\n",
              "  // Disable the input element since further picks are not allowed.\n",
              "  inputElement.disabled = true;\n",
              "\n",
              "  if (!files) {\n",
              "    return {\n",
              "      response: {\n",
              "        action: 'complete',\n",
              "      }\n",
              "    };\n",
              "  }\n",
              "\n",
              "  for (const file of files) {\n",
              "    const li = document.createElement('li');\n",
              "    li.append(span(file.name, {fontWeight: 'bold'}));\n",
              "    li.append(span(\n",
              "        `(${file.type || 'n/a'}) - ${file.size} bytes, ` +\n",
              "        `last modified: ${\n",
              "            file.lastModifiedDate ? file.lastModifiedDate.toLocaleDateString() :\n",
              "                                    'n/a'} - `));\n",
              "    const percent = span('0% done');\n",
              "    li.appendChild(percent);\n",
              "\n",
              "    outputElement.appendChild(li);\n",
              "\n",
              "    const fileDataPromise = new Promise((resolve) => {\n",
              "      const reader = new FileReader();\n",
              "      reader.onload = (e) => {\n",
              "        resolve(e.target.result);\n",
              "      };\n",
              "      reader.readAsArrayBuffer(file);\n",
              "    });\n",
              "    // Wait for the data to be ready.\n",
              "    let fileData = yield {\n",
              "      promise: fileDataPromise,\n",
              "      response: {\n",
              "        action: 'continue',\n",
              "      }\n",
              "    };\n",
              "\n",
              "    // Use a chunked sending to avoid message size limits. See b/62115660.\n",
              "    let position = 0;\n",
              "    do {\n",
              "      const length = Math.min(fileData.byteLength - position, MAX_PAYLOAD_SIZE);\n",
              "      const chunk = new Uint8Array(fileData, position, length);\n",
              "      position += length;\n",
              "\n",
              "      const base64 = btoa(String.fromCharCode.apply(null, chunk));\n",
              "      yield {\n",
              "        response: {\n",
              "          action: 'append',\n",
              "          file: file.name,\n",
              "          data: base64,\n",
              "        },\n",
              "      };\n",
              "\n",
              "      let percentDone = fileData.byteLength === 0 ?\n",
              "          100 :\n",
              "          Math.round((position / fileData.byteLength) * 100);\n",
              "      percent.textContent = `${percentDone}% done`;\n",
              "\n",
              "    } while (position < fileData.byteLength);\n",
              "  }\n",
              "\n",
              "  // All done.\n",
              "  yield {\n",
              "    response: {\n",
              "      action: 'complete',\n",
              "    }\n",
              "  };\n",
              "}\n",
              "\n",
              "scope.google = scope.google || {};\n",
              "scope.google.colab = scope.google.colab || {};\n",
              "scope.google.colab._files = {\n",
              "  _uploadFiles,\n",
              "  _uploadFilesContinue,\n",
              "};\n",
              "})(self);\n",
              "</script> "
            ]
          },
          "metadata": {}
        },
        {
          "output_type": "stream",
          "name": "stdout",
          "text": [
            "Saving test_data - Copy.csv to test_data - Copy.csv\n"
          ]
        }
      ],
      "source": [
        "from google.colab import files\n",
        "uploaded = files.upload()"
      ]
    },
    {
      "cell_type": "code",
      "source": [
        "import pandas as pd\n",
        "import glob\n",
        "import os\n",
        "\n",
        "# setting the path for joining multiple files\n",
        "files = os.path.join(\"/content/drive/MyDrive/Data/\", \"test*.csv\")\n",
        "\n",
        "# list of merged files returned\n",
        "files = glob.glob(files)\n",
        "\n",
        "print(\"Resultant CSV after joining all CSV files at a particular location...\");\n",
        "\n",
        "# joining files with concat and read_csv\n",
        "test_data = pd.concat(map(pd.read_csv, files), ignore_index=True)\n",
        "print(test_data)"
      ],
      "metadata": {
        "colab": {
          "base_uri": "https://localhost:8080/"
        },
        "id": "wDGaIIYAcpop",
        "outputId": "c94b2f34-7080-4bd2-959e-a06b72932b32"
      },
      "execution_count": 55,
      "outputs": [
        {
          "output_type": "stream",
          "name": "stdout",
          "text": [
            "Resultant CSV after joining all CSV files at a particular location...\n",
            "    Axial  Tangential  Radial  fault\n",
            "0   -2.86        2.98   12.12      1\n",
            "1   -5.10       -1.92   12.91      1\n",
            "2   -1.26       -0.12    9.18      1\n",
            "3    0.47        1.29    9.14      1\n",
            "4   -2.12        2.39    8.59      1\n",
            "5   -1.88        0.94    9.30      1\n",
            "6   -1.88        2.43   10.67      1\n",
            "7   -1.37        1.84   10.40      1\n",
            "8   -0.67        2.43    9.81      1\n",
            "9   -1.73        2.59   10.47      1\n",
            "10  -1.33        3.65   11.92      1\n",
            "11  -0.04        2.59    9.89      1\n",
            "12  -0.98        3.88   10.43      1\n",
            "13   1.26        4.20    8.04      1\n",
            "14   0.86        3.45    7.77      1\n",
            "15  -1.84        2.16   10.90      1\n",
            "16   0.04        4.00    9.41      1\n",
            "17   1.53        4.04    7.49      1\n",
            "18  -3.73        0.55    7.73      1\n",
            "19  -0.86        3.10   10.59      1\n",
            "20   1.22        3.84    7.92      1\n",
            "21   1.02        2.94    7.45      1\n",
            "22  -0.31        2.47   10.04      1\n",
            "23   1.49        3.61    7.69      1\n",
            "24  -1.18        1.53    9.02      1\n",
            "25  -2.24        1.57   11.38      1\n",
            "26   0.31        0.00    6.20      0\n",
            "27  -0.08       -2.75   10.40      0\n",
            "28  -1.80        0.47   10.63      0\n",
            "29  -1.69        4.20    8.55      0\n",
            "30  -0.04        1.18    7.92      0\n",
            "31   0.51       -2.86   11.41      0\n",
            "32  -1.10       -0.35   11.38      0\n",
            "33  -2.94        1.96    9.73      0\n",
            "34   0.47        3.69   11.34      0\n",
            "35   1.41        0.27    7.41      0\n",
            "36  -0.94       -2.67    7.81      0\n",
            "37  -1.88        0.82   12.16      0\n",
            "38  -0.67        4.12   11.81      0\n",
            "39  -0.12        3.57    6.59      0\n",
            "40   0.90       -3.10    7.92      0\n",
            "41  -2.20       -2.75   13.69      0\n",
            "42  -1.26        4.31   12.79      0\n",
            "43   0.59        3.33    8.32      0\n",
            "44   1.61        0.16    9.38      0\n",
            "45   0.12       -2.20    9.53      0\n",
            "46  -2.00        0.39   10.32      0\n",
            "47  -1.53        4.43    9.22      0\n",
            "48   1.29        3.22    9.77      0\n",
            "49   0.27        0.35    5.88      0\n",
            "50  -1.77       -4.12   10.79      0\n",
            "51  -2.39        2.51   14.32      0\n"
          ]
        }
      ]
    },
    {
      "cell_type": "code",
      "source": [],
      "metadata": {
        "id": "_F7yk0KudXwB"
      },
      "execution_count": null,
      "outputs": []
    },
    {
      "cell_type": "code",
      "execution_count": 56,
      "metadata": {
        "colab": {
          "base_uri": "https://localhost:8080/",
          "height": 1000
        },
        "id": "M0k97FUrK12e",
        "outputId": "0526bbd4-1cde-4648-d29e-5de592903a04"
      },
      "outputs": [
        {
          "output_type": "execute_result",
          "data": {
            "text/plain": [
              "    Axial  Tangential  Radial  fault\n",
              "0   -2.86        2.98   12.12      1\n",
              "1   -5.10       -1.92   12.91      1\n",
              "2   -1.26       -0.12    9.18      1\n",
              "3    0.47        1.29    9.14      1\n",
              "4   -2.12        2.39    8.59      1\n",
              "5   -1.88        0.94    9.30      1\n",
              "6   -1.88        2.43   10.67      1\n",
              "7   -1.37        1.84   10.40      1\n",
              "8   -0.67        2.43    9.81      1\n",
              "9   -1.73        2.59   10.47      1\n",
              "10  -1.33        3.65   11.92      1\n",
              "11  -0.04        2.59    9.89      1\n",
              "12  -0.98        3.88   10.43      1\n",
              "13   1.26        4.20    8.04      1\n",
              "14   0.86        3.45    7.77      1\n",
              "15  -1.84        2.16   10.90      1\n",
              "16   0.04        4.00    9.41      1\n",
              "17   1.53        4.04    7.49      1\n",
              "18  -3.73        0.55    7.73      1\n",
              "19  -0.86        3.10   10.59      1\n",
              "20   1.22        3.84    7.92      1\n",
              "21   1.02        2.94    7.45      1\n",
              "22  -0.31        2.47   10.04      1\n",
              "23   1.49        3.61    7.69      1\n",
              "24  -1.18        1.53    9.02      1\n",
              "25  -2.24        1.57   11.38      1\n",
              "26   0.31        0.00    6.20      0\n",
              "27  -0.08       -2.75   10.40      0\n",
              "28  -1.80        0.47   10.63      0\n",
              "29  -1.69        4.20    8.55      0\n",
              "30  -0.04        1.18    7.92      0\n",
              "31   0.51       -2.86   11.41      0\n",
              "32  -1.10       -0.35   11.38      0\n",
              "33  -2.94        1.96    9.73      0\n",
              "34   0.47        3.69   11.34      0\n",
              "35   1.41        0.27    7.41      0\n",
              "36  -0.94       -2.67    7.81      0\n",
              "37  -1.88        0.82   12.16      0\n",
              "38  -0.67        4.12   11.81      0\n",
              "39  -0.12        3.57    6.59      0\n",
              "40   0.90       -3.10    7.92      0\n",
              "41  -2.20       -2.75   13.69      0\n",
              "42  -1.26        4.31   12.79      0\n",
              "43   0.59        3.33    8.32      0\n",
              "44   1.61        0.16    9.38      0\n",
              "45   0.12       -2.20    9.53      0\n",
              "46  -2.00        0.39   10.32      0\n",
              "47  -1.53        4.43    9.22      0\n",
              "48   1.29        3.22    9.77      0\n",
              "49   0.27        0.35    5.88      0\n",
              "50  -1.77       -4.12   10.79      0\n",
              "51  -2.39        2.51   14.32      0"
            ],
            "text/html": [
              "\n",
              "  <div id=\"df-b9c75d21-f41a-4f3e-8a99-74d24d9240c7\">\n",
              "    <div class=\"colab-df-container\">\n",
              "      <div>\n",
              "<style scoped>\n",
              "    .dataframe tbody tr th:only-of-type {\n",
              "        vertical-align: middle;\n",
              "    }\n",
              "\n",
              "    .dataframe tbody tr th {\n",
              "        vertical-align: top;\n",
              "    }\n",
              "\n",
              "    .dataframe thead th {\n",
              "        text-align: right;\n",
              "    }\n",
              "</style>\n",
              "<table border=\"1\" class=\"dataframe\">\n",
              "  <thead>\n",
              "    <tr style=\"text-align: right;\">\n",
              "      <th></th>\n",
              "      <th>Axial</th>\n",
              "      <th>Tangential</th>\n",
              "      <th>Radial</th>\n",
              "      <th>fault</th>\n",
              "    </tr>\n",
              "  </thead>\n",
              "  <tbody>\n",
              "    <tr>\n",
              "      <th>0</th>\n",
              "      <td>-2.86</td>\n",
              "      <td>2.98</td>\n",
              "      <td>12.12</td>\n",
              "      <td>1</td>\n",
              "    </tr>\n",
              "    <tr>\n",
              "      <th>1</th>\n",
              "      <td>-5.10</td>\n",
              "      <td>-1.92</td>\n",
              "      <td>12.91</td>\n",
              "      <td>1</td>\n",
              "    </tr>\n",
              "    <tr>\n",
              "      <th>2</th>\n",
              "      <td>-1.26</td>\n",
              "      <td>-0.12</td>\n",
              "      <td>9.18</td>\n",
              "      <td>1</td>\n",
              "    </tr>\n",
              "    <tr>\n",
              "      <th>3</th>\n",
              "      <td>0.47</td>\n",
              "      <td>1.29</td>\n",
              "      <td>9.14</td>\n",
              "      <td>1</td>\n",
              "    </tr>\n",
              "    <tr>\n",
              "      <th>4</th>\n",
              "      <td>-2.12</td>\n",
              "      <td>2.39</td>\n",
              "      <td>8.59</td>\n",
              "      <td>1</td>\n",
              "    </tr>\n",
              "    <tr>\n",
              "      <th>5</th>\n",
              "      <td>-1.88</td>\n",
              "      <td>0.94</td>\n",
              "      <td>9.30</td>\n",
              "      <td>1</td>\n",
              "    </tr>\n",
              "    <tr>\n",
              "      <th>6</th>\n",
              "      <td>-1.88</td>\n",
              "      <td>2.43</td>\n",
              "      <td>10.67</td>\n",
              "      <td>1</td>\n",
              "    </tr>\n",
              "    <tr>\n",
              "      <th>7</th>\n",
              "      <td>-1.37</td>\n",
              "      <td>1.84</td>\n",
              "      <td>10.40</td>\n",
              "      <td>1</td>\n",
              "    </tr>\n",
              "    <tr>\n",
              "      <th>8</th>\n",
              "      <td>-0.67</td>\n",
              "      <td>2.43</td>\n",
              "      <td>9.81</td>\n",
              "      <td>1</td>\n",
              "    </tr>\n",
              "    <tr>\n",
              "      <th>9</th>\n",
              "      <td>-1.73</td>\n",
              "      <td>2.59</td>\n",
              "      <td>10.47</td>\n",
              "      <td>1</td>\n",
              "    </tr>\n",
              "    <tr>\n",
              "      <th>10</th>\n",
              "      <td>-1.33</td>\n",
              "      <td>3.65</td>\n",
              "      <td>11.92</td>\n",
              "      <td>1</td>\n",
              "    </tr>\n",
              "    <tr>\n",
              "      <th>11</th>\n",
              "      <td>-0.04</td>\n",
              "      <td>2.59</td>\n",
              "      <td>9.89</td>\n",
              "      <td>1</td>\n",
              "    </tr>\n",
              "    <tr>\n",
              "      <th>12</th>\n",
              "      <td>-0.98</td>\n",
              "      <td>3.88</td>\n",
              "      <td>10.43</td>\n",
              "      <td>1</td>\n",
              "    </tr>\n",
              "    <tr>\n",
              "      <th>13</th>\n",
              "      <td>1.26</td>\n",
              "      <td>4.20</td>\n",
              "      <td>8.04</td>\n",
              "      <td>1</td>\n",
              "    </tr>\n",
              "    <tr>\n",
              "      <th>14</th>\n",
              "      <td>0.86</td>\n",
              "      <td>3.45</td>\n",
              "      <td>7.77</td>\n",
              "      <td>1</td>\n",
              "    </tr>\n",
              "    <tr>\n",
              "      <th>15</th>\n",
              "      <td>-1.84</td>\n",
              "      <td>2.16</td>\n",
              "      <td>10.90</td>\n",
              "      <td>1</td>\n",
              "    </tr>\n",
              "    <tr>\n",
              "      <th>16</th>\n",
              "      <td>0.04</td>\n",
              "      <td>4.00</td>\n",
              "      <td>9.41</td>\n",
              "      <td>1</td>\n",
              "    </tr>\n",
              "    <tr>\n",
              "      <th>17</th>\n",
              "      <td>1.53</td>\n",
              "      <td>4.04</td>\n",
              "      <td>7.49</td>\n",
              "      <td>1</td>\n",
              "    </tr>\n",
              "    <tr>\n",
              "      <th>18</th>\n",
              "      <td>-3.73</td>\n",
              "      <td>0.55</td>\n",
              "      <td>7.73</td>\n",
              "      <td>1</td>\n",
              "    </tr>\n",
              "    <tr>\n",
              "      <th>19</th>\n",
              "      <td>-0.86</td>\n",
              "      <td>3.10</td>\n",
              "      <td>10.59</td>\n",
              "      <td>1</td>\n",
              "    </tr>\n",
              "    <tr>\n",
              "      <th>20</th>\n",
              "      <td>1.22</td>\n",
              "      <td>3.84</td>\n",
              "      <td>7.92</td>\n",
              "      <td>1</td>\n",
              "    </tr>\n",
              "    <tr>\n",
              "      <th>21</th>\n",
              "      <td>1.02</td>\n",
              "      <td>2.94</td>\n",
              "      <td>7.45</td>\n",
              "      <td>1</td>\n",
              "    </tr>\n",
              "    <tr>\n",
              "      <th>22</th>\n",
              "      <td>-0.31</td>\n",
              "      <td>2.47</td>\n",
              "      <td>10.04</td>\n",
              "      <td>1</td>\n",
              "    </tr>\n",
              "    <tr>\n",
              "      <th>23</th>\n",
              "      <td>1.49</td>\n",
              "      <td>3.61</td>\n",
              "      <td>7.69</td>\n",
              "      <td>1</td>\n",
              "    </tr>\n",
              "    <tr>\n",
              "      <th>24</th>\n",
              "      <td>-1.18</td>\n",
              "      <td>1.53</td>\n",
              "      <td>9.02</td>\n",
              "      <td>1</td>\n",
              "    </tr>\n",
              "    <tr>\n",
              "      <th>25</th>\n",
              "      <td>-2.24</td>\n",
              "      <td>1.57</td>\n",
              "      <td>11.38</td>\n",
              "      <td>1</td>\n",
              "    </tr>\n",
              "    <tr>\n",
              "      <th>26</th>\n",
              "      <td>0.31</td>\n",
              "      <td>0.00</td>\n",
              "      <td>6.20</td>\n",
              "      <td>0</td>\n",
              "    </tr>\n",
              "    <tr>\n",
              "      <th>27</th>\n",
              "      <td>-0.08</td>\n",
              "      <td>-2.75</td>\n",
              "      <td>10.40</td>\n",
              "      <td>0</td>\n",
              "    </tr>\n",
              "    <tr>\n",
              "      <th>28</th>\n",
              "      <td>-1.80</td>\n",
              "      <td>0.47</td>\n",
              "      <td>10.63</td>\n",
              "      <td>0</td>\n",
              "    </tr>\n",
              "    <tr>\n",
              "      <th>29</th>\n",
              "      <td>-1.69</td>\n",
              "      <td>4.20</td>\n",
              "      <td>8.55</td>\n",
              "      <td>0</td>\n",
              "    </tr>\n",
              "    <tr>\n",
              "      <th>30</th>\n",
              "      <td>-0.04</td>\n",
              "      <td>1.18</td>\n",
              "      <td>7.92</td>\n",
              "      <td>0</td>\n",
              "    </tr>\n",
              "    <tr>\n",
              "      <th>31</th>\n",
              "      <td>0.51</td>\n",
              "      <td>-2.86</td>\n",
              "      <td>11.41</td>\n",
              "      <td>0</td>\n",
              "    </tr>\n",
              "    <tr>\n",
              "      <th>32</th>\n",
              "      <td>-1.10</td>\n",
              "      <td>-0.35</td>\n",
              "      <td>11.38</td>\n",
              "      <td>0</td>\n",
              "    </tr>\n",
              "    <tr>\n",
              "      <th>33</th>\n",
              "      <td>-2.94</td>\n",
              "      <td>1.96</td>\n",
              "      <td>9.73</td>\n",
              "      <td>0</td>\n",
              "    </tr>\n",
              "    <tr>\n",
              "      <th>34</th>\n",
              "      <td>0.47</td>\n",
              "      <td>3.69</td>\n",
              "      <td>11.34</td>\n",
              "      <td>0</td>\n",
              "    </tr>\n",
              "    <tr>\n",
              "      <th>35</th>\n",
              "      <td>1.41</td>\n",
              "      <td>0.27</td>\n",
              "      <td>7.41</td>\n",
              "      <td>0</td>\n",
              "    </tr>\n",
              "    <tr>\n",
              "      <th>36</th>\n",
              "      <td>-0.94</td>\n",
              "      <td>-2.67</td>\n",
              "      <td>7.81</td>\n",
              "      <td>0</td>\n",
              "    </tr>\n",
              "    <tr>\n",
              "      <th>37</th>\n",
              "      <td>-1.88</td>\n",
              "      <td>0.82</td>\n",
              "      <td>12.16</td>\n",
              "      <td>0</td>\n",
              "    </tr>\n",
              "    <tr>\n",
              "      <th>38</th>\n",
              "      <td>-0.67</td>\n",
              "      <td>4.12</td>\n",
              "      <td>11.81</td>\n",
              "      <td>0</td>\n",
              "    </tr>\n",
              "    <tr>\n",
              "      <th>39</th>\n",
              "      <td>-0.12</td>\n",
              "      <td>3.57</td>\n",
              "      <td>6.59</td>\n",
              "      <td>0</td>\n",
              "    </tr>\n",
              "    <tr>\n",
              "      <th>40</th>\n",
              "      <td>0.90</td>\n",
              "      <td>-3.10</td>\n",
              "      <td>7.92</td>\n",
              "      <td>0</td>\n",
              "    </tr>\n",
              "    <tr>\n",
              "      <th>41</th>\n",
              "      <td>-2.20</td>\n",
              "      <td>-2.75</td>\n",
              "      <td>13.69</td>\n",
              "      <td>0</td>\n",
              "    </tr>\n",
              "    <tr>\n",
              "      <th>42</th>\n",
              "      <td>-1.26</td>\n",
              "      <td>4.31</td>\n",
              "      <td>12.79</td>\n",
              "      <td>0</td>\n",
              "    </tr>\n",
              "    <tr>\n",
              "      <th>43</th>\n",
              "      <td>0.59</td>\n",
              "      <td>3.33</td>\n",
              "      <td>8.32</td>\n",
              "      <td>0</td>\n",
              "    </tr>\n",
              "    <tr>\n",
              "      <th>44</th>\n",
              "      <td>1.61</td>\n",
              "      <td>0.16</td>\n",
              "      <td>9.38</td>\n",
              "      <td>0</td>\n",
              "    </tr>\n",
              "    <tr>\n",
              "      <th>45</th>\n",
              "      <td>0.12</td>\n",
              "      <td>-2.20</td>\n",
              "      <td>9.53</td>\n",
              "      <td>0</td>\n",
              "    </tr>\n",
              "    <tr>\n",
              "      <th>46</th>\n",
              "      <td>-2.00</td>\n",
              "      <td>0.39</td>\n",
              "      <td>10.32</td>\n",
              "      <td>0</td>\n",
              "    </tr>\n",
              "    <tr>\n",
              "      <th>47</th>\n",
              "      <td>-1.53</td>\n",
              "      <td>4.43</td>\n",
              "      <td>9.22</td>\n",
              "      <td>0</td>\n",
              "    </tr>\n",
              "    <tr>\n",
              "      <th>48</th>\n",
              "      <td>1.29</td>\n",
              "      <td>3.22</td>\n",
              "      <td>9.77</td>\n",
              "      <td>0</td>\n",
              "    </tr>\n",
              "    <tr>\n",
              "      <th>49</th>\n",
              "      <td>0.27</td>\n",
              "      <td>0.35</td>\n",
              "      <td>5.88</td>\n",
              "      <td>0</td>\n",
              "    </tr>\n",
              "    <tr>\n",
              "      <th>50</th>\n",
              "      <td>-1.77</td>\n",
              "      <td>-4.12</td>\n",
              "      <td>10.79</td>\n",
              "      <td>0</td>\n",
              "    </tr>\n",
              "    <tr>\n",
              "      <th>51</th>\n",
              "      <td>-2.39</td>\n",
              "      <td>2.51</td>\n",
              "      <td>14.32</td>\n",
              "      <td>0</td>\n",
              "    </tr>\n",
              "  </tbody>\n",
              "</table>\n",
              "</div>\n",
              "      <button class=\"colab-df-convert\" onclick=\"convertToInteractive('df-b9c75d21-f41a-4f3e-8a99-74d24d9240c7')\"\n",
              "              title=\"Convert this dataframe to an interactive table.\"\n",
              "              style=\"display:none;\">\n",
              "        \n",
              "  <svg xmlns=\"http://www.w3.org/2000/svg\" height=\"24px\"viewBox=\"0 0 24 24\"\n",
              "       width=\"24px\">\n",
              "    <path d=\"M0 0h24v24H0V0z\" fill=\"none\"/>\n",
              "    <path d=\"M18.56 5.44l.94 2.06.94-2.06 2.06-.94-2.06-.94-.94-2.06-.94 2.06-2.06.94zm-11 1L8.5 8.5l.94-2.06 2.06-.94-2.06-.94L8.5 2.5l-.94 2.06-2.06.94zm10 10l.94 2.06.94-2.06 2.06-.94-2.06-.94-.94-2.06-.94 2.06-2.06.94z\"/><path d=\"M17.41 7.96l-1.37-1.37c-.4-.4-.92-.59-1.43-.59-.52 0-1.04.2-1.43.59L10.3 9.45l-7.72 7.72c-.78.78-.78 2.05 0 2.83L4 21.41c.39.39.9.59 1.41.59.51 0 1.02-.2 1.41-.59l7.78-7.78 2.81-2.81c.8-.78.8-2.07 0-2.86zM5.41 20L4 18.59l7.72-7.72 1.47 1.35L5.41 20z\"/>\n",
              "  </svg>\n",
              "      </button>\n",
              "      \n",
              "  <style>\n",
              "    .colab-df-container {\n",
              "      display:flex;\n",
              "      flex-wrap:wrap;\n",
              "      gap: 12px;\n",
              "    }\n",
              "\n",
              "    .colab-df-convert {\n",
              "      background-color: #E8F0FE;\n",
              "      border: none;\n",
              "      border-radius: 50%;\n",
              "      cursor: pointer;\n",
              "      display: none;\n",
              "      fill: #1967D2;\n",
              "      height: 32px;\n",
              "      padding: 0 0 0 0;\n",
              "      width: 32px;\n",
              "    }\n",
              "\n",
              "    .colab-df-convert:hover {\n",
              "      background-color: #E2EBFA;\n",
              "      box-shadow: 0px 1px 2px rgba(60, 64, 67, 0.3), 0px 1px 3px 1px rgba(60, 64, 67, 0.15);\n",
              "      fill: #174EA6;\n",
              "    }\n",
              "\n",
              "    [theme=dark] .colab-df-convert {\n",
              "      background-color: #3B4455;\n",
              "      fill: #D2E3FC;\n",
              "    }\n",
              "\n",
              "    [theme=dark] .colab-df-convert:hover {\n",
              "      background-color: #434B5C;\n",
              "      box-shadow: 0px 1px 3px 1px rgba(0, 0, 0, 0.15);\n",
              "      filter: drop-shadow(0px 1px 2px rgba(0, 0, 0, 0.3));\n",
              "      fill: #FFFFFF;\n",
              "    }\n",
              "  </style>\n",
              "\n",
              "      <script>\n",
              "        const buttonEl =\n",
              "          document.querySelector('#df-b9c75d21-f41a-4f3e-8a99-74d24d9240c7 button.colab-df-convert');\n",
              "        buttonEl.style.display =\n",
              "          google.colab.kernel.accessAllowed ? 'block' : 'none';\n",
              "\n",
              "        async function convertToInteractive(key) {\n",
              "          const element = document.querySelector('#df-b9c75d21-f41a-4f3e-8a99-74d24d9240c7');\n",
              "          const dataTable =\n",
              "            await google.colab.kernel.invokeFunction('convertToInteractive',\n",
              "                                                     [key], {});\n",
              "          if (!dataTable) return;\n",
              "\n",
              "          const docLinkHtml = 'Like what you see? Visit the ' +\n",
              "            '<a target=\"_blank\" href=https://colab.research.google.com/notebooks/data_table.ipynb>data table notebook</a>'\n",
              "            + ' to learn more about interactive tables.';\n",
              "          element.innerHTML = '';\n",
              "          dataTable['output_type'] = 'display_data';\n",
              "          await google.colab.output.renderOutput(dataTable, element);\n",
              "          const docLink = document.createElement('div');\n",
              "          docLink.innerHTML = docLinkHtml;\n",
              "          element.appendChild(docLink);\n",
              "        }\n",
              "      </script>\n",
              "    </div>\n",
              "  </div>\n",
              "  "
            ]
          },
          "metadata": {},
          "execution_count": 56
        }
      ],
      "source": [
        "#test_data = pd.read_csv('test_data - Copy.csv' )\n",
        "test_data"
      ]
    },
    {
      "cell_type": "code",
      "execution_count": 57,
      "metadata": {
        "colab": {
          "base_uri": "https://localhost:8080/"
        },
        "id": "zoRDVAXpLCzB",
        "outputId": "a0a24f67-9ceb-43d2-ad17-6193135e7963"
      },
      "outputs": [
        {
          "output_type": "execute_result",
          "data": {
            "text/plain": [
              "1    26\n",
              "0    26\n",
              "Name: fault, dtype: int64"
            ]
          },
          "metadata": {},
          "execution_count": 57
        }
      ],
      "source": [
        "test_data.fault.value_counts()"
      ]
    },
    {
      "cell_type": "code",
      "execution_count": 58,
      "metadata": {
        "id": "mnCI7I0lLMuc"
      },
      "outputs": [],
      "source": [
        "x = test_data.drop('fault', axis=1)\n",
        "y = test_data['fault']"
      ]
    },
    {
      "cell_type": "code",
      "source": [
        "SS = StandardScaler()\n",
        "dff_scaled = pd.DataFrame(SS.fit_transform(x), columns = x.columns)\n",
        "dff_scaled"
      ],
      "metadata": {
        "colab": {
          "base_uri": "https://localhost:8080/",
          "height": 1000
        },
        "id": "jNZatoyhd1NX",
        "outputId": "3bc573f5-aa3c-4ea3-ff79-91376ea8b627"
      },
      "execution_count": 59,
      "outputs": [
        {
          "output_type": "execute_result",
          "data": {
            "text/plain": [
              "       Axial  Tangential    Radial\n",
              "0  -1.447220    0.625104  1.279050\n",
              "1  -2.975526   -1.517149  1.700375\n",
              "2  -0.355573   -0.730199 -0.288917\n",
              "3   0.824771   -0.113755 -0.310250\n",
              "4  -0.942333    0.367159 -0.603577\n",
              "5  -0.778586   -0.266773 -0.224918\n",
              "6  -0.778586    0.384647  0.505733\n",
              "7  -0.430623    0.126702  0.361736\n",
              "8   0.046972    0.384647  0.047076\n",
              "9  -0.676244    0.454598  0.399069\n",
              "10 -0.403332    0.918024  1.172386\n",
              "11  0.476808    0.454598  0.089742\n",
              "12 -0.164534    1.018579  0.377736\n",
              "13  1.363772    1.158481 -0.896904\n",
              "14  1.090860    0.830585 -1.040901\n",
              "15 -0.751295    0.266605  0.628397\n",
              "16  0.531391    1.071042 -0.166253\n",
              "17  1.547987    1.088530 -1.190232\n",
              "18 -2.040803   -0.437279 -1.062234\n",
              "19 -0.082661    0.677567  0.463067\n",
              "20  1.336481    1.001091 -0.960903\n",
              "21  1.200025    0.607616 -1.211564\n",
              "22  0.292593    0.402135  0.169740\n",
              "23  1.520696    0.900537 -1.083567\n",
              "24 -0.300990   -0.008828 -0.374249\n",
              "25 -1.024207    0.008660  0.884392\n",
              "26  0.715606   -0.677736 -1.878217\n",
              "27  0.449517   -1.880020  0.361736\n",
              "28 -0.724004   -0.472254  0.484400\n",
              "29 -0.648953    1.158481 -0.624910\n",
              "30  0.476808   -0.161846 -0.960903\n",
              "31  0.852062   -1.928112  0.900391\n",
              "32 -0.246408   -0.830754  0.884392\n",
              "33 -1.501802    0.179166  0.004410\n",
              "34  0.824771    0.935512  0.863059\n",
              "35  1.466114   -0.559693 -1.232897\n",
              "36 -0.137243   -1.845045 -1.019568\n",
              "37 -0.778586   -0.319236  1.300383\n",
              "38  0.046972    1.123506  1.113720\n",
              "39  0.422226    0.883049 -1.670221\n",
              "40  1.118151   -2.033038 -0.960903\n",
              "41 -0.996915   -1.880020  2.116366\n",
              "42 -0.355573    1.206573  1.636376\n",
              "43  0.906645    0.778122 -0.747574\n",
              "44  1.602570   -0.607784 -0.182253\n",
              "45  0.585973   -1.639563 -0.102254\n",
              "46 -0.860460   -0.507230  0.319070\n",
              "47 -0.539788    1.259036 -0.267584\n",
              "48  1.384240    0.730031  0.025743\n",
              "49  0.688315   -0.524717 -2.048880\n",
              "50 -0.703535   -2.478977  0.569732\n",
              "51 -1.126549    0.419623  2.452359"
            ],
            "text/html": [
              "\n",
              "  <div id=\"df-bbf5d0fd-c999-4248-8d7c-18395ed75c2e\">\n",
              "    <div class=\"colab-df-container\">\n",
              "      <div>\n",
              "<style scoped>\n",
              "    .dataframe tbody tr th:only-of-type {\n",
              "        vertical-align: middle;\n",
              "    }\n",
              "\n",
              "    .dataframe tbody tr th {\n",
              "        vertical-align: top;\n",
              "    }\n",
              "\n",
              "    .dataframe thead th {\n",
              "        text-align: right;\n",
              "    }\n",
              "</style>\n",
              "<table border=\"1\" class=\"dataframe\">\n",
              "  <thead>\n",
              "    <tr style=\"text-align: right;\">\n",
              "      <th></th>\n",
              "      <th>Axial</th>\n",
              "      <th>Tangential</th>\n",
              "      <th>Radial</th>\n",
              "    </tr>\n",
              "  </thead>\n",
              "  <tbody>\n",
              "    <tr>\n",
              "      <th>0</th>\n",
              "      <td>-1.447220</td>\n",
              "      <td>0.625104</td>\n",
              "      <td>1.279050</td>\n",
              "    </tr>\n",
              "    <tr>\n",
              "      <th>1</th>\n",
              "      <td>-2.975526</td>\n",
              "      <td>-1.517149</td>\n",
              "      <td>1.700375</td>\n",
              "    </tr>\n",
              "    <tr>\n",
              "      <th>2</th>\n",
              "      <td>-0.355573</td>\n",
              "      <td>-0.730199</td>\n",
              "      <td>-0.288917</td>\n",
              "    </tr>\n",
              "    <tr>\n",
              "      <th>3</th>\n",
              "      <td>0.824771</td>\n",
              "      <td>-0.113755</td>\n",
              "      <td>-0.310250</td>\n",
              "    </tr>\n",
              "    <tr>\n",
              "      <th>4</th>\n",
              "      <td>-0.942333</td>\n",
              "      <td>0.367159</td>\n",
              "      <td>-0.603577</td>\n",
              "    </tr>\n",
              "    <tr>\n",
              "      <th>5</th>\n",
              "      <td>-0.778586</td>\n",
              "      <td>-0.266773</td>\n",
              "      <td>-0.224918</td>\n",
              "    </tr>\n",
              "    <tr>\n",
              "      <th>6</th>\n",
              "      <td>-0.778586</td>\n",
              "      <td>0.384647</td>\n",
              "      <td>0.505733</td>\n",
              "    </tr>\n",
              "    <tr>\n",
              "      <th>7</th>\n",
              "      <td>-0.430623</td>\n",
              "      <td>0.126702</td>\n",
              "      <td>0.361736</td>\n",
              "    </tr>\n",
              "    <tr>\n",
              "      <th>8</th>\n",
              "      <td>0.046972</td>\n",
              "      <td>0.384647</td>\n",
              "      <td>0.047076</td>\n",
              "    </tr>\n",
              "    <tr>\n",
              "      <th>9</th>\n",
              "      <td>-0.676244</td>\n",
              "      <td>0.454598</td>\n",
              "      <td>0.399069</td>\n",
              "    </tr>\n",
              "    <tr>\n",
              "      <th>10</th>\n",
              "      <td>-0.403332</td>\n",
              "      <td>0.918024</td>\n",
              "      <td>1.172386</td>\n",
              "    </tr>\n",
              "    <tr>\n",
              "      <th>11</th>\n",
              "      <td>0.476808</td>\n",
              "      <td>0.454598</td>\n",
              "      <td>0.089742</td>\n",
              "    </tr>\n",
              "    <tr>\n",
              "      <th>12</th>\n",
              "      <td>-0.164534</td>\n",
              "      <td>1.018579</td>\n",
              "      <td>0.377736</td>\n",
              "    </tr>\n",
              "    <tr>\n",
              "      <th>13</th>\n",
              "      <td>1.363772</td>\n",
              "      <td>1.158481</td>\n",
              "      <td>-0.896904</td>\n",
              "    </tr>\n",
              "    <tr>\n",
              "      <th>14</th>\n",
              "      <td>1.090860</td>\n",
              "      <td>0.830585</td>\n",
              "      <td>-1.040901</td>\n",
              "    </tr>\n",
              "    <tr>\n",
              "      <th>15</th>\n",
              "      <td>-0.751295</td>\n",
              "      <td>0.266605</td>\n",
              "      <td>0.628397</td>\n",
              "    </tr>\n",
              "    <tr>\n",
              "      <th>16</th>\n",
              "      <td>0.531391</td>\n",
              "      <td>1.071042</td>\n",
              "      <td>-0.166253</td>\n",
              "    </tr>\n",
              "    <tr>\n",
              "      <th>17</th>\n",
              "      <td>1.547987</td>\n",
              "      <td>1.088530</td>\n",
              "      <td>-1.190232</td>\n",
              "    </tr>\n",
              "    <tr>\n",
              "      <th>18</th>\n",
              "      <td>-2.040803</td>\n",
              "      <td>-0.437279</td>\n",
              "      <td>-1.062234</td>\n",
              "    </tr>\n",
              "    <tr>\n",
              "      <th>19</th>\n",
              "      <td>-0.082661</td>\n",
              "      <td>0.677567</td>\n",
              "      <td>0.463067</td>\n",
              "    </tr>\n",
              "    <tr>\n",
              "      <th>20</th>\n",
              "      <td>1.336481</td>\n",
              "      <td>1.001091</td>\n",
              "      <td>-0.960903</td>\n",
              "    </tr>\n",
              "    <tr>\n",
              "      <th>21</th>\n",
              "      <td>1.200025</td>\n",
              "      <td>0.607616</td>\n",
              "      <td>-1.211564</td>\n",
              "    </tr>\n",
              "    <tr>\n",
              "      <th>22</th>\n",
              "      <td>0.292593</td>\n",
              "      <td>0.402135</td>\n",
              "      <td>0.169740</td>\n",
              "    </tr>\n",
              "    <tr>\n",
              "      <th>23</th>\n",
              "      <td>1.520696</td>\n",
              "      <td>0.900537</td>\n",
              "      <td>-1.083567</td>\n",
              "    </tr>\n",
              "    <tr>\n",
              "      <th>24</th>\n",
              "      <td>-0.300990</td>\n",
              "      <td>-0.008828</td>\n",
              "      <td>-0.374249</td>\n",
              "    </tr>\n",
              "    <tr>\n",
              "      <th>25</th>\n",
              "      <td>-1.024207</td>\n",
              "      <td>0.008660</td>\n",
              "      <td>0.884392</td>\n",
              "    </tr>\n",
              "    <tr>\n",
              "      <th>26</th>\n",
              "      <td>0.715606</td>\n",
              "      <td>-0.677736</td>\n",
              "      <td>-1.878217</td>\n",
              "    </tr>\n",
              "    <tr>\n",
              "      <th>27</th>\n",
              "      <td>0.449517</td>\n",
              "      <td>-1.880020</td>\n",
              "      <td>0.361736</td>\n",
              "    </tr>\n",
              "    <tr>\n",
              "      <th>28</th>\n",
              "      <td>-0.724004</td>\n",
              "      <td>-0.472254</td>\n",
              "      <td>0.484400</td>\n",
              "    </tr>\n",
              "    <tr>\n",
              "      <th>29</th>\n",
              "      <td>-0.648953</td>\n",
              "      <td>1.158481</td>\n",
              "      <td>-0.624910</td>\n",
              "    </tr>\n",
              "    <tr>\n",
              "      <th>30</th>\n",
              "      <td>0.476808</td>\n",
              "      <td>-0.161846</td>\n",
              "      <td>-0.960903</td>\n",
              "    </tr>\n",
              "    <tr>\n",
              "      <th>31</th>\n",
              "      <td>0.852062</td>\n",
              "      <td>-1.928112</td>\n",
              "      <td>0.900391</td>\n",
              "    </tr>\n",
              "    <tr>\n",
              "      <th>32</th>\n",
              "      <td>-0.246408</td>\n",
              "      <td>-0.830754</td>\n",
              "      <td>0.884392</td>\n",
              "    </tr>\n",
              "    <tr>\n",
              "      <th>33</th>\n",
              "      <td>-1.501802</td>\n",
              "      <td>0.179166</td>\n",
              "      <td>0.004410</td>\n",
              "    </tr>\n",
              "    <tr>\n",
              "      <th>34</th>\n",
              "      <td>0.824771</td>\n",
              "      <td>0.935512</td>\n",
              "      <td>0.863059</td>\n",
              "    </tr>\n",
              "    <tr>\n",
              "      <th>35</th>\n",
              "      <td>1.466114</td>\n",
              "      <td>-0.559693</td>\n",
              "      <td>-1.232897</td>\n",
              "    </tr>\n",
              "    <tr>\n",
              "      <th>36</th>\n",
              "      <td>-0.137243</td>\n",
              "      <td>-1.845045</td>\n",
              "      <td>-1.019568</td>\n",
              "    </tr>\n",
              "    <tr>\n",
              "      <th>37</th>\n",
              "      <td>-0.778586</td>\n",
              "      <td>-0.319236</td>\n",
              "      <td>1.300383</td>\n",
              "    </tr>\n",
              "    <tr>\n",
              "      <th>38</th>\n",
              "      <td>0.046972</td>\n",
              "      <td>1.123506</td>\n",
              "      <td>1.113720</td>\n",
              "    </tr>\n",
              "    <tr>\n",
              "      <th>39</th>\n",
              "      <td>0.422226</td>\n",
              "      <td>0.883049</td>\n",
              "      <td>-1.670221</td>\n",
              "    </tr>\n",
              "    <tr>\n",
              "      <th>40</th>\n",
              "      <td>1.118151</td>\n",
              "      <td>-2.033038</td>\n",
              "      <td>-0.960903</td>\n",
              "    </tr>\n",
              "    <tr>\n",
              "      <th>41</th>\n",
              "      <td>-0.996915</td>\n",
              "      <td>-1.880020</td>\n",
              "      <td>2.116366</td>\n",
              "    </tr>\n",
              "    <tr>\n",
              "      <th>42</th>\n",
              "      <td>-0.355573</td>\n",
              "      <td>1.206573</td>\n",
              "      <td>1.636376</td>\n",
              "    </tr>\n",
              "    <tr>\n",
              "      <th>43</th>\n",
              "      <td>0.906645</td>\n",
              "      <td>0.778122</td>\n",
              "      <td>-0.747574</td>\n",
              "    </tr>\n",
              "    <tr>\n",
              "      <th>44</th>\n",
              "      <td>1.602570</td>\n",
              "      <td>-0.607784</td>\n",
              "      <td>-0.182253</td>\n",
              "    </tr>\n",
              "    <tr>\n",
              "      <th>45</th>\n",
              "      <td>0.585973</td>\n",
              "      <td>-1.639563</td>\n",
              "      <td>-0.102254</td>\n",
              "    </tr>\n",
              "    <tr>\n",
              "      <th>46</th>\n",
              "      <td>-0.860460</td>\n",
              "      <td>-0.507230</td>\n",
              "      <td>0.319070</td>\n",
              "    </tr>\n",
              "    <tr>\n",
              "      <th>47</th>\n",
              "      <td>-0.539788</td>\n",
              "      <td>1.259036</td>\n",
              "      <td>-0.267584</td>\n",
              "    </tr>\n",
              "    <tr>\n",
              "      <th>48</th>\n",
              "      <td>1.384240</td>\n",
              "      <td>0.730031</td>\n",
              "      <td>0.025743</td>\n",
              "    </tr>\n",
              "    <tr>\n",
              "      <th>49</th>\n",
              "      <td>0.688315</td>\n",
              "      <td>-0.524717</td>\n",
              "      <td>-2.048880</td>\n",
              "    </tr>\n",
              "    <tr>\n",
              "      <th>50</th>\n",
              "      <td>-0.703535</td>\n",
              "      <td>-2.478977</td>\n",
              "      <td>0.569732</td>\n",
              "    </tr>\n",
              "    <tr>\n",
              "      <th>51</th>\n",
              "      <td>-1.126549</td>\n",
              "      <td>0.419623</td>\n",
              "      <td>2.452359</td>\n",
              "    </tr>\n",
              "  </tbody>\n",
              "</table>\n",
              "</div>\n",
              "      <button class=\"colab-df-convert\" onclick=\"convertToInteractive('df-bbf5d0fd-c999-4248-8d7c-18395ed75c2e')\"\n",
              "              title=\"Convert this dataframe to an interactive table.\"\n",
              "              style=\"display:none;\">\n",
              "        \n",
              "  <svg xmlns=\"http://www.w3.org/2000/svg\" height=\"24px\"viewBox=\"0 0 24 24\"\n",
              "       width=\"24px\">\n",
              "    <path d=\"M0 0h24v24H0V0z\" fill=\"none\"/>\n",
              "    <path d=\"M18.56 5.44l.94 2.06.94-2.06 2.06-.94-2.06-.94-.94-2.06-.94 2.06-2.06.94zm-11 1L8.5 8.5l.94-2.06 2.06-.94-2.06-.94L8.5 2.5l-.94 2.06-2.06.94zm10 10l.94 2.06.94-2.06 2.06-.94-2.06-.94-.94-2.06-.94 2.06-2.06.94z\"/><path d=\"M17.41 7.96l-1.37-1.37c-.4-.4-.92-.59-1.43-.59-.52 0-1.04.2-1.43.59L10.3 9.45l-7.72 7.72c-.78.78-.78 2.05 0 2.83L4 21.41c.39.39.9.59 1.41.59.51 0 1.02-.2 1.41-.59l7.78-7.78 2.81-2.81c.8-.78.8-2.07 0-2.86zM5.41 20L4 18.59l7.72-7.72 1.47 1.35L5.41 20z\"/>\n",
              "  </svg>\n",
              "      </button>\n",
              "      \n",
              "  <style>\n",
              "    .colab-df-container {\n",
              "      display:flex;\n",
              "      flex-wrap:wrap;\n",
              "      gap: 12px;\n",
              "    }\n",
              "\n",
              "    .colab-df-convert {\n",
              "      background-color: #E8F0FE;\n",
              "      border: none;\n",
              "      border-radius: 50%;\n",
              "      cursor: pointer;\n",
              "      display: none;\n",
              "      fill: #1967D2;\n",
              "      height: 32px;\n",
              "      padding: 0 0 0 0;\n",
              "      width: 32px;\n",
              "    }\n",
              "\n",
              "    .colab-df-convert:hover {\n",
              "      background-color: #E2EBFA;\n",
              "      box-shadow: 0px 1px 2px rgba(60, 64, 67, 0.3), 0px 1px 3px 1px rgba(60, 64, 67, 0.15);\n",
              "      fill: #174EA6;\n",
              "    }\n",
              "\n",
              "    [theme=dark] .colab-df-convert {\n",
              "      background-color: #3B4455;\n",
              "      fill: #D2E3FC;\n",
              "    }\n",
              "\n",
              "    [theme=dark] .colab-df-convert:hover {\n",
              "      background-color: #434B5C;\n",
              "      box-shadow: 0px 1px 3px 1px rgba(0, 0, 0, 0.15);\n",
              "      filter: drop-shadow(0px 1px 2px rgba(0, 0, 0, 0.3));\n",
              "      fill: #FFFFFF;\n",
              "    }\n",
              "  </style>\n",
              "\n",
              "      <script>\n",
              "        const buttonEl =\n",
              "          document.querySelector('#df-bbf5d0fd-c999-4248-8d7c-18395ed75c2e button.colab-df-convert');\n",
              "        buttonEl.style.display =\n",
              "          google.colab.kernel.accessAllowed ? 'block' : 'none';\n",
              "\n",
              "        async function convertToInteractive(key) {\n",
              "          const element = document.querySelector('#df-bbf5d0fd-c999-4248-8d7c-18395ed75c2e');\n",
              "          const dataTable =\n",
              "            await google.colab.kernel.invokeFunction('convertToInteractive',\n",
              "                                                     [key], {});\n",
              "          if (!dataTable) return;\n",
              "\n",
              "          const docLinkHtml = 'Like what you see? Visit the ' +\n",
              "            '<a target=\"_blank\" href=https://colab.research.google.com/notebooks/data_table.ipynb>data table notebook</a>'\n",
              "            + ' to learn more about interactive tables.';\n",
              "          element.innerHTML = '';\n",
              "          dataTable['output_type'] = 'display_data';\n",
              "          await google.colab.output.renderOutput(dataTable, element);\n",
              "          const docLink = document.createElement('div');\n",
              "          docLink.innerHTML = docLinkHtml;\n",
              "          element.appendChild(docLink);\n",
              "        }\n",
              "      </script>\n",
              "    </div>\n",
              "  </div>\n",
              "  "
            ]
          },
          "metadata": {},
          "execution_count": 59
        }
      ]
    },
    {
      "cell_type": "code",
      "execution_count": 60,
      "metadata": {
        "colab": {
          "base_uri": "https://localhost:8080/"
        },
        "id": "ZARIwSCALhMz",
        "outputId": "a2baa729-bc37-406e-cb07-4801ba7beb41"
      },
      "outputs": [
        {
          "output_type": "stream",
          "name": "stdout",
          "text": [
            "    Axial  Tangential  Radial\n",
            "0   -2.86        2.98   12.12\n",
            "1   -5.10       -1.92   12.91\n",
            "2   -1.26       -0.12    9.18\n",
            "3    0.47        1.29    9.14\n",
            "4   -2.12        2.39    8.59\n",
            "5   -1.88        0.94    9.30\n",
            "6   -1.88        2.43   10.67\n",
            "7   -1.37        1.84   10.40\n",
            "8   -0.67        2.43    9.81\n",
            "9   -1.73        2.59   10.47\n",
            "10  -1.33        3.65   11.92\n",
            "11  -0.04        2.59    9.89\n",
            "12  -0.98        3.88   10.43\n",
            "13   1.26        4.20    8.04\n",
            "14   0.86        3.45    7.77\n",
            "15  -1.84        2.16   10.90\n",
            "16   0.04        4.00    9.41\n",
            "17   1.53        4.04    7.49\n",
            "18  -3.73        0.55    7.73\n",
            "19  -0.86        3.10   10.59\n",
            "20   1.22        3.84    7.92\n",
            "21   1.02        2.94    7.45\n",
            "22  -0.31        2.47   10.04\n",
            "23   1.49        3.61    7.69\n",
            "24  -1.18        1.53    9.02\n",
            "25  -2.24        1.57   11.38\n",
            "26   0.31        0.00    6.20\n",
            "27  -0.08       -2.75   10.40\n",
            "28  -1.80        0.47   10.63\n",
            "29  -1.69        4.20    8.55\n",
            "30  -0.04        1.18    7.92\n",
            "31   0.51       -2.86   11.41\n",
            "32  -1.10       -0.35   11.38\n",
            "33  -2.94        1.96    9.73\n",
            "34   0.47        3.69   11.34\n",
            "35   1.41        0.27    7.41\n",
            "36  -0.94       -2.67    7.81\n",
            "37  -1.88        0.82   12.16\n",
            "38  -0.67        4.12   11.81\n",
            "39  -0.12        3.57    6.59\n",
            "40   0.90       -3.10    7.92\n",
            "41  -2.20       -2.75   13.69\n",
            "42  -1.26        4.31   12.79\n",
            "43   0.59        3.33    8.32\n",
            "44   1.61        0.16    9.38\n",
            "45   0.12       -2.20    9.53\n",
            "46  -2.00        0.39   10.32\n",
            "47  -1.53        4.43    9.22\n",
            "48   1.29        3.22    9.77\n",
            "49   0.27        0.35    5.88\n",
            "50  -1.77       -4.12   10.79\n",
            "51  -2.39        2.51   14.32\n",
            "0     1\n",
            "1     1\n",
            "2     1\n",
            "3     1\n",
            "4     1\n",
            "5     1\n",
            "6     1\n",
            "7     1\n",
            "8     1\n",
            "9     1\n",
            "10    1\n",
            "11    1\n",
            "12    1\n",
            "13    1\n",
            "14    1\n",
            "15    1\n",
            "16    1\n",
            "17    1\n",
            "18    1\n",
            "19    1\n",
            "20    1\n",
            "21    1\n",
            "22    1\n",
            "23    1\n",
            "24    1\n",
            "25    1\n",
            "26    0\n",
            "27    0\n",
            "28    0\n",
            "29    0\n",
            "30    0\n",
            "31    0\n",
            "32    0\n",
            "33    0\n",
            "34    0\n",
            "35    0\n",
            "36    0\n",
            "37    0\n",
            "38    0\n",
            "39    0\n",
            "40    0\n",
            "41    0\n",
            "42    0\n",
            "43    0\n",
            "44    0\n",
            "45    0\n",
            "46    0\n",
            "47    0\n",
            "48    0\n",
            "49    0\n",
            "50    0\n",
            "51    0\n",
            "Name: fault, dtype: int64\n"
          ]
        }
      ],
      "source": [
        "print(x)\n",
        "print(y)"
      ]
    },
    {
      "cell_type": "code",
      "execution_count": 61,
      "metadata": {
        "id": "SffPKeBELnXi"
      },
      "outputs": [],
      "source": [
        "test_pred_knn=knnClassifier.predict(dff_scaled)"
      ]
    },
    {
      "cell_type": "code",
      "source": [
        "test_pred_dt=dtClassifier.predict(dff_scaled)"
      ],
      "metadata": {
        "id": "8e9aTptDFpqz"
      },
      "execution_count": 62,
      "outputs": []
    },
    {
      "cell_type": "code",
      "source": [
        "test_pred_rf=rfclassifier.predict(x)"
      ],
      "metadata": {
        "id": "wiOVCOibFqwn"
      },
      "execution_count": 63,
      "outputs": []
    },
    {
      "cell_type": "code",
      "source": [
        "test_pred_SVC=grid.predict(dff_scaled )\n",
        "#test_pred=grid.predict(x)\n",
        "#print(\"Test accuracy:\", np.round(accuracy_score(x,test_pred)))\n"
      ],
      "metadata": {
        "id": "wlrMk32lZwyC"
      },
      "execution_count": 64,
      "outputs": []
    },
    {
      "cell_type": "code",
      "execution_count": 65,
      "metadata": {
        "colab": {
          "base_uri": "https://localhost:8080/"
        },
        "id": "dAhYYFYqL3SC",
        "outputId": "2f3f4085-0db8-4ce2-dbaa-c95dc4f5cec5"
      },
      "outputs": [
        {
          "output_type": "stream",
          "name": "stdout",
          "text": [
            "[[16 10]\n",
            " [ 2 24]]\n",
            "              precision    recall  f1-score   support\n",
            "\n",
            "           0       0.89      0.62      0.73        26\n",
            "           1       0.71      0.92      0.80        26\n",
            "\n",
            "    accuracy                           0.77        52\n",
            "   macro avg       0.80      0.77      0.76        52\n",
            "weighted avg       0.80      0.77      0.76        52\n",
            "\n"
          ]
        }
      ],
      "source": [
        "from sklearn.metrics import roc_auc_score, roc_curve, confusion_matrix, precision_score, recall_score\n",
        "from sklearn.metrics import classification_report, average_precision_score, accuracy_score, f1_score\n",
        "\n",
        "print(confusion_matrix(y, test_pred_knn))\n",
        "print(classification_report(y, test_pred_knn))"
      ]
    },
    {
      "cell_type": "code",
      "source": [
        "from sklearn.metrics import roc_auc_score, roc_curve, confusion_matrix, precision_score, recall_score\n",
        "from sklearn.metrics import classification_report, average_precision_score, accuracy_score, f1_score\n",
        "\n",
        "print(confusion_matrix(y, test_pred_dt))\n",
        "print(classification_report(y, test_pred_dt))"
      ],
      "metadata": {
        "colab": {
          "base_uri": "https://localhost:8080/"
        },
        "id": "yE3i3zHMHu5b",
        "outputId": "a1e1f257-fcc4-478f-b8f3-baa011180146"
      },
      "execution_count": 66,
      "outputs": [
        {
          "output_type": "stream",
          "name": "stdout",
          "text": [
            "[[18  8]\n",
            " [ 3 23]]\n",
            "              precision    recall  f1-score   support\n",
            "\n",
            "           0       0.86      0.69      0.77        26\n",
            "           1       0.74      0.88      0.81        26\n",
            "\n",
            "    accuracy                           0.79        52\n",
            "   macro avg       0.80      0.79      0.79        52\n",
            "weighted avg       0.80      0.79      0.79        52\n",
            "\n"
          ]
        }
      ]
    },
    {
      "cell_type": "code",
      "source": [
        "from sklearn.metrics import roc_auc_score, roc_curve, confusion_matrix, precision_score, recall_score\n",
        "from sklearn.metrics import classification_report, average_precision_score, accuracy_score, f1_score\n",
        "\n",
        "print(confusion_matrix(y, test_pred_rf))\n",
        "print(classification_report(y, test_pred_rf))"
      ],
      "metadata": {
        "colab": {
          "base_uri": "https://localhost:8080/"
        },
        "id": "y1L6a7yvH2BX",
        "outputId": "e1a51ebd-1bdb-4540-837b-5429f70ac8b8"
      },
      "execution_count": 67,
      "outputs": [
        {
          "output_type": "stream",
          "name": "stdout",
          "text": [
            "[[ 1 25]\n",
            " [ 1 25]]\n",
            "              precision    recall  f1-score   support\n",
            "\n",
            "           0       0.50      0.04      0.07        26\n",
            "           1       0.50      0.96      0.66        26\n",
            "\n",
            "    accuracy                           0.50        52\n",
            "   macro avg       0.50      0.50      0.36        52\n",
            "weighted avg       0.50      0.50      0.36        52\n",
            "\n"
          ]
        }
      ]
    },
    {
      "cell_type": "code",
      "source": [
        "from sklearn.metrics import roc_auc_score, roc_curve, confusion_matrix, precision_score, recall_score\n",
        "from sklearn.metrics import classification_report, average_precision_score, accuracy_score, f1_score"
      ],
      "metadata": {
        "id": "k_fyrLKWY0Ee"
      },
      "execution_count": 68,
      "outputs": []
    },
    {
      "cell_type": "code",
      "source": [
        "print(confusion_matrix(y, test_pred_SVC))\n",
        "print(classification_report(y, test_pred_SVC))"
      ],
      "metadata": {
        "colab": {
          "base_uri": "https://localhost:8080/"
        },
        "id": "HlfaSOYkZ2wv",
        "outputId": "c98d6878-7748-4884-cc12-d273153dd7fa"
      },
      "execution_count": 69,
      "outputs": [
        {
          "output_type": "stream",
          "name": "stdout",
          "text": [
            "[[18  8]\n",
            " [ 2 24]]\n",
            "              precision    recall  f1-score   support\n",
            "\n",
            "           0       0.90      0.69      0.78        26\n",
            "           1       0.75      0.92      0.83        26\n",
            "\n",
            "    accuracy                           0.81        52\n",
            "   macro avg       0.82      0.81      0.81        52\n",
            "weighted avg       0.83      0.81      0.81        52\n",
            "\n"
          ]
        }
      ]
    }
  ],
  "metadata": {
    "colab": {
      "provenance": []
    },
    "gpuClass": "standard",
    "kernelspec": {
      "display_name": "Python 3",
      "name": "python3"
    },
    "language_info": {
      "name": "python"
    },
    "accelerator": "TPU"
  },
  "nbformat": 4,
  "nbformat_minor": 0
}
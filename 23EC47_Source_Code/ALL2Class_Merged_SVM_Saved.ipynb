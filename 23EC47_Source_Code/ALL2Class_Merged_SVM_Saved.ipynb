{
  "cells": [
    {
      "cell_type": "code",
      "execution_count": null,
      "metadata": {
        "id": "8WsrHXuBVvmx"
      },
      "outputs": [],
      "source": [
        "import numpy as np\n",
        "import pandas as pd\n",
        "import matplotlib.pyplot as plt\n",
        "import seaborn as sns\n",
        "from sklearn.model_selection import train_test_split, GridSearchCV, RandomizedSearchCV\n",
        "from sklearn.tree import DecisionTreeClassifier, DecisionTreeRegressor \n",
        "from sklearn.ensemble import RandomForestClassifier, RandomForestRegressor, BaggingClassifier,AdaBoostClassifier,GradientBoostingClassifier\n",
        "from sklearn.linear_model import LinearRegression,LogisticRegression\n",
        "from sklearn.neighbors import KNeighborsClassifier\n",
        "from sklearn.naive_bayes import GaussianNB\n",
        "from sklearn import metrics\n",
        "from sklearn.preprocessing import StandardScaler\n",
        "from sklearn.feature_selection import RFE\n",
        "from collections import Counter\n",
        "from imblearn.over_sampling import SMOTE\n",
        "import warnings\n",
        "warnings.filterwarnings('ignore')\n",
        "%matplotlib inline"
      ]
    },
    {
      "cell_type": "code",
      "execution_count": null,
      "metadata": {
        "colab": {
          "base_uri": "https://localhost:8080/",
          "height": 74
        },
        "id": "taYfkIQfVyQK",
        "outputId": "43809788-e37d-4042-960a-b4879bf86d14"
      },
      "outputs": [
        {
          "output_type": "display_data",
          "data": {
            "text/plain": [
              "<IPython.core.display.HTML object>"
            ],
            "text/html": [
              "\n",
              "     <input type=\"file\" id=\"files-2cf8bef6-0015-4f99-8f08-053911250de8\" name=\"files[]\" multiple disabled\n",
              "        style=\"border:none\" />\n",
              "     <output id=\"result-2cf8bef6-0015-4f99-8f08-053911250de8\">\n",
              "      Upload widget is only available when the cell has been executed in the\n",
              "      current browser session. Please rerun this cell to enable.\n",
              "      </output>\n",
              "      <script>// Copyright 2017 Google LLC\n",
              "//\n",
              "// Licensed under the Apache License, Version 2.0 (the \"License\");\n",
              "// you may not use this file except in compliance with the License.\n",
              "// You may obtain a copy of the License at\n",
              "//\n",
              "//      http://www.apache.org/licenses/LICENSE-2.0\n",
              "//\n",
              "// Unless required by applicable law or agreed to in writing, software\n",
              "// distributed under the License is distributed on an \"AS IS\" BASIS,\n",
              "// WITHOUT WARRANTIES OR CONDITIONS OF ANY KIND, either express or implied.\n",
              "// See the License for the specific language governing permissions and\n",
              "// limitations under the License.\n",
              "\n",
              "/**\n",
              " * @fileoverview Helpers for google.colab Python module.\n",
              " */\n",
              "(function(scope) {\n",
              "function span(text, styleAttributes = {}) {\n",
              "  const element = document.createElement('span');\n",
              "  element.textContent = text;\n",
              "  for (const key of Object.keys(styleAttributes)) {\n",
              "    element.style[key] = styleAttributes[key];\n",
              "  }\n",
              "  return element;\n",
              "}\n",
              "\n",
              "// Max number of bytes which will be uploaded at a time.\n",
              "const MAX_PAYLOAD_SIZE = 100 * 1024;\n",
              "\n",
              "function _uploadFiles(inputId, outputId) {\n",
              "  const steps = uploadFilesStep(inputId, outputId);\n",
              "  const outputElement = document.getElementById(outputId);\n",
              "  // Cache steps on the outputElement to make it available for the next call\n",
              "  // to uploadFilesContinue from Python.\n",
              "  outputElement.steps = steps;\n",
              "\n",
              "  return _uploadFilesContinue(outputId);\n",
              "}\n",
              "\n",
              "// This is roughly an async generator (not supported in the browser yet),\n",
              "// where there are multiple asynchronous steps and the Python side is going\n",
              "// to poll for completion of each step.\n",
              "// This uses a Promise to block the python side on completion of each step,\n",
              "// then passes the result of the previous step as the input to the next step.\n",
              "function _uploadFilesContinue(outputId) {\n",
              "  const outputElement = document.getElementById(outputId);\n",
              "  const steps = outputElement.steps;\n",
              "\n",
              "  const next = steps.next(outputElement.lastPromiseValue);\n",
              "  return Promise.resolve(next.value.promise).then((value) => {\n",
              "    // Cache the last promise value to make it available to the next\n",
              "    // step of the generator.\n",
              "    outputElement.lastPromiseValue = value;\n",
              "    return next.value.response;\n",
              "  });\n",
              "}\n",
              "\n",
              "/**\n",
              " * Generator function which is called between each async step of the upload\n",
              " * process.\n",
              " * @param {string} inputId Element ID of the input file picker element.\n",
              " * @param {string} outputId Element ID of the output display.\n",
              " * @return {!Iterable<!Object>} Iterable of next steps.\n",
              " */\n",
              "function* uploadFilesStep(inputId, outputId) {\n",
              "  const inputElement = document.getElementById(inputId);\n",
              "  inputElement.disabled = false;\n",
              "\n",
              "  const outputElement = document.getElementById(outputId);\n",
              "  outputElement.innerHTML = '';\n",
              "\n",
              "  const pickedPromise = new Promise((resolve) => {\n",
              "    inputElement.addEventListener('change', (e) => {\n",
              "      resolve(e.target.files);\n",
              "    });\n",
              "  });\n",
              "\n",
              "  const cancel = document.createElement('button');\n",
              "  inputElement.parentElement.appendChild(cancel);\n",
              "  cancel.textContent = 'Cancel upload';\n",
              "  const cancelPromise = new Promise((resolve) => {\n",
              "    cancel.onclick = () => {\n",
              "      resolve(null);\n",
              "    };\n",
              "  });\n",
              "\n",
              "  // Wait for the user to pick the files.\n",
              "  const files = yield {\n",
              "    promise: Promise.race([pickedPromise, cancelPromise]),\n",
              "    response: {\n",
              "      action: 'starting',\n",
              "    }\n",
              "  };\n",
              "\n",
              "  cancel.remove();\n",
              "\n",
              "  // Disable the input element since further picks are not allowed.\n",
              "  inputElement.disabled = true;\n",
              "\n",
              "  if (!files) {\n",
              "    return {\n",
              "      response: {\n",
              "        action: 'complete',\n",
              "      }\n",
              "    };\n",
              "  }\n",
              "\n",
              "  for (const file of files) {\n",
              "    const li = document.createElement('li');\n",
              "    li.append(span(file.name, {fontWeight: 'bold'}));\n",
              "    li.append(span(\n",
              "        `(${file.type || 'n/a'}) - ${file.size} bytes, ` +\n",
              "        `last modified: ${\n",
              "            file.lastModifiedDate ? file.lastModifiedDate.toLocaleDateString() :\n",
              "                                    'n/a'} - `));\n",
              "    const percent = span('0% done');\n",
              "    li.appendChild(percent);\n",
              "\n",
              "    outputElement.appendChild(li);\n",
              "\n",
              "    const fileDataPromise = new Promise((resolve) => {\n",
              "      const reader = new FileReader();\n",
              "      reader.onload = (e) => {\n",
              "        resolve(e.target.result);\n",
              "      };\n",
              "      reader.readAsArrayBuffer(file);\n",
              "    });\n",
              "    // Wait for the data to be ready.\n",
              "    let fileData = yield {\n",
              "      promise: fileDataPromise,\n",
              "      response: {\n",
              "        action: 'continue',\n",
              "      }\n",
              "    };\n",
              "\n",
              "    // Use a chunked sending to avoid message size limits. See b/62115660.\n",
              "    let position = 0;\n",
              "    do {\n",
              "      const length = Math.min(fileData.byteLength - position, MAX_PAYLOAD_SIZE);\n",
              "      const chunk = new Uint8Array(fileData, position, length);\n",
              "      position += length;\n",
              "\n",
              "      const base64 = btoa(String.fromCharCode.apply(null, chunk));\n",
              "      yield {\n",
              "        response: {\n",
              "          action: 'append',\n",
              "          file: file.name,\n",
              "          data: base64,\n",
              "        },\n",
              "      };\n",
              "\n",
              "      let percentDone = fileData.byteLength === 0 ?\n",
              "          100 :\n",
              "          Math.round((position / fileData.byteLength) * 100);\n",
              "      percent.textContent = `${percentDone}% done`;\n",
              "\n",
              "    } while (position < fileData.byteLength);\n",
              "  }\n",
              "\n",
              "  // All done.\n",
              "  yield {\n",
              "    response: {\n",
              "      action: 'complete',\n",
              "    }\n",
              "  };\n",
              "}\n",
              "\n",
              "scope.google = scope.google || {};\n",
              "scope.google.colab = scope.google.colab || {};\n",
              "scope.google.colab._files = {\n",
              "  _uploadFiles,\n",
              "  _uploadFilesContinue,\n",
              "};\n",
              "})(self);\n",
              "</script> "
            ]
          },
          "metadata": {}
        },
        {
          "output_type": "stream",
          "name": "stdout",
          "text": [
            "Saving merged_multitrain_20000 - Copy.csv to merged_multitrain_20000 - Copy.csv\n"
          ]
        }
      ],
      "source": [
        "from google.colab import files\n",
        "uploaded = files.upload()"
      ]
    },
    {
      "cell_type": "code",
      "execution_count": null,
      "metadata": {
        "colab": {
          "base_uri": "https://localhost:8080/",
          "height": 300
        },
        "id": "1IyDMaokWJcX",
        "outputId": "c0dd5862-a6ad-4136-c1d1-0c51b6732c78"
      },
      "outputs": [
        {
          "output_type": "execute_result",
          "data": {
            "text/plain": [
              "        tachometer     ub_axial    ub_radial      ub_tang     oh_axial  \\\n",
              "count  40006.00000  40006.00000  40006.00000  40006.00000  40006.00000   \n",
              "mean      -0.00320     -0.00257      0.00175      0.00199      0.21737   \n",
              "std        1.62118      1.67405      0.51380      0.50318      0.96991   \n",
              "min       -1.07110    -17.75200     -5.14500     -7.87250     -3.71980   \n",
              "25%       -0.62495     -0.88682     -0.28309     -0.05023     -0.34057   \n",
              "50%       -0.57258      0.18617      0.02320      0.00168      0.13037   \n",
              "75%       -0.49969      1.10275      0.30775      0.05012      0.79835   \n",
              "max        5.03680      5.67320      5.10710      6.90160      4.70420   \n",
              "\n",
              "         oh_radial      oh_tang        micro        fault  \n",
              "count  40006.00000  40006.00000  40006.00000  40006.00000  \n",
              "mean      -0.09248      0.11503      0.01429      0.50005  \n",
              "std        0.63418      0.74439      0.12512      0.50001  \n",
              "min       -6.43680     -3.13590     -0.28125      0.00000  \n",
              "25%       -0.03122     -0.16049     -0.09071      0.00000  \n",
              "50%       -0.00084      0.10710     -0.00224      1.00000  \n",
              "75%        0.02920      0.37793      0.10266      1.00000  \n",
              "max        3.39590      4.00010      0.63305      1.00000  "
            ],
            "text/html": [
              "\n",
              "  <div id=\"df-b2f7ba42-647e-4071-a4b0-ffc321a3efb7\">\n",
              "    <div class=\"colab-df-container\">\n",
              "      <div>\n",
              "<style scoped>\n",
              "    .dataframe tbody tr th:only-of-type {\n",
              "        vertical-align: middle;\n",
              "    }\n",
              "\n",
              "    .dataframe tbody tr th {\n",
              "        vertical-align: top;\n",
              "    }\n",
              "\n",
              "    .dataframe thead th {\n",
              "        text-align: right;\n",
              "    }\n",
              "</style>\n",
              "<table border=\"1\" class=\"dataframe\">\n",
              "  <thead>\n",
              "    <tr style=\"text-align: right;\">\n",
              "      <th></th>\n",
              "      <th>tachometer</th>\n",
              "      <th>ub_axial</th>\n",
              "      <th>ub_radial</th>\n",
              "      <th>ub_tang</th>\n",
              "      <th>oh_axial</th>\n",
              "      <th>oh_radial</th>\n",
              "      <th>oh_tang</th>\n",
              "      <th>micro</th>\n",
              "      <th>fault</th>\n",
              "    </tr>\n",
              "  </thead>\n",
              "  <tbody>\n",
              "    <tr>\n",
              "      <th>count</th>\n",
              "      <td>40006.00000</td>\n",
              "      <td>40006.00000</td>\n",
              "      <td>40006.00000</td>\n",
              "      <td>40006.00000</td>\n",
              "      <td>40006.00000</td>\n",
              "      <td>40006.00000</td>\n",
              "      <td>40006.00000</td>\n",
              "      <td>40006.00000</td>\n",
              "      <td>40006.00000</td>\n",
              "    </tr>\n",
              "    <tr>\n",
              "      <th>mean</th>\n",
              "      <td>-0.00320</td>\n",
              "      <td>-0.00257</td>\n",
              "      <td>0.00175</td>\n",
              "      <td>0.00199</td>\n",
              "      <td>0.21737</td>\n",
              "      <td>-0.09248</td>\n",
              "      <td>0.11503</td>\n",
              "      <td>0.01429</td>\n",
              "      <td>0.50005</td>\n",
              "    </tr>\n",
              "    <tr>\n",
              "      <th>std</th>\n",
              "      <td>1.62118</td>\n",
              "      <td>1.67405</td>\n",
              "      <td>0.51380</td>\n",
              "      <td>0.50318</td>\n",
              "      <td>0.96991</td>\n",
              "      <td>0.63418</td>\n",
              "      <td>0.74439</td>\n",
              "      <td>0.12512</td>\n",
              "      <td>0.50001</td>\n",
              "    </tr>\n",
              "    <tr>\n",
              "      <th>min</th>\n",
              "      <td>-1.07110</td>\n",
              "      <td>-17.75200</td>\n",
              "      <td>-5.14500</td>\n",
              "      <td>-7.87250</td>\n",
              "      <td>-3.71980</td>\n",
              "      <td>-6.43680</td>\n",
              "      <td>-3.13590</td>\n",
              "      <td>-0.28125</td>\n",
              "      <td>0.00000</td>\n",
              "    </tr>\n",
              "    <tr>\n",
              "      <th>25%</th>\n",
              "      <td>-0.62495</td>\n",
              "      <td>-0.88682</td>\n",
              "      <td>-0.28309</td>\n",
              "      <td>-0.05023</td>\n",
              "      <td>-0.34057</td>\n",
              "      <td>-0.03122</td>\n",
              "      <td>-0.16049</td>\n",
              "      <td>-0.09071</td>\n",
              "      <td>0.00000</td>\n",
              "    </tr>\n",
              "    <tr>\n",
              "      <th>50%</th>\n",
              "      <td>-0.57258</td>\n",
              "      <td>0.18617</td>\n",
              "      <td>0.02320</td>\n",
              "      <td>0.00168</td>\n",
              "      <td>0.13037</td>\n",
              "      <td>-0.00084</td>\n",
              "      <td>0.10710</td>\n",
              "      <td>-0.00224</td>\n",
              "      <td>1.00000</td>\n",
              "    </tr>\n",
              "    <tr>\n",
              "      <th>75%</th>\n",
              "      <td>-0.49969</td>\n",
              "      <td>1.10275</td>\n",
              "      <td>0.30775</td>\n",
              "      <td>0.05012</td>\n",
              "      <td>0.79835</td>\n",
              "      <td>0.02920</td>\n",
              "      <td>0.37793</td>\n",
              "      <td>0.10266</td>\n",
              "      <td>1.00000</td>\n",
              "    </tr>\n",
              "    <tr>\n",
              "      <th>max</th>\n",
              "      <td>5.03680</td>\n",
              "      <td>5.67320</td>\n",
              "      <td>5.10710</td>\n",
              "      <td>6.90160</td>\n",
              "      <td>4.70420</td>\n",
              "      <td>3.39590</td>\n",
              "      <td>4.00010</td>\n",
              "      <td>0.63305</td>\n",
              "      <td>1.00000</td>\n",
              "    </tr>\n",
              "  </tbody>\n",
              "</table>\n",
              "</div>\n",
              "      <button class=\"colab-df-convert\" onclick=\"convertToInteractive('df-b2f7ba42-647e-4071-a4b0-ffc321a3efb7')\"\n",
              "              title=\"Convert this dataframe to an interactive table.\"\n",
              "              style=\"display:none;\">\n",
              "        \n",
              "  <svg xmlns=\"http://www.w3.org/2000/svg\" height=\"24px\"viewBox=\"0 0 24 24\"\n",
              "       width=\"24px\">\n",
              "    <path d=\"M0 0h24v24H0V0z\" fill=\"none\"/>\n",
              "    <path d=\"M18.56 5.44l.94 2.06.94-2.06 2.06-.94-2.06-.94-.94-2.06-.94 2.06-2.06.94zm-11 1L8.5 8.5l.94-2.06 2.06-.94-2.06-.94L8.5 2.5l-.94 2.06-2.06.94zm10 10l.94 2.06.94-2.06 2.06-.94-2.06-.94-.94-2.06-.94 2.06-2.06.94z\"/><path d=\"M17.41 7.96l-1.37-1.37c-.4-.4-.92-.59-1.43-.59-.52 0-1.04.2-1.43.59L10.3 9.45l-7.72 7.72c-.78.78-.78 2.05 0 2.83L4 21.41c.39.39.9.59 1.41.59.51 0 1.02-.2 1.41-.59l7.78-7.78 2.81-2.81c.8-.78.8-2.07 0-2.86zM5.41 20L4 18.59l7.72-7.72 1.47 1.35L5.41 20z\"/>\n",
              "  </svg>\n",
              "      </button>\n",
              "      \n",
              "  <style>\n",
              "    .colab-df-container {\n",
              "      display:flex;\n",
              "      flex-wrap:wrap;\n",
              "      gap: 12px;\n",
              "    }\n",
              "\n",
              "    .colab-df-convert {\n",
              "      background-color: #E8F0FE;\n",
              "      border: none;\n",
              "      border-radius: 50%;\n",
              "      cursor: pointer;\n",
              "      display: none;\n",
              "      fill: #1967D2;\n",
              "      height: 32px;\n",
              "      padding: 0 0 0 0;\n",
              "      width: 32px;\n",
              "    }\n",
              "\n",
              "    .colab-df-convert:hover {\n",
              "      background-color: #E2EBFA;\n",
              "      box-shadow: 0px 1px 2px rgba(60, 64, 67, 0.3), 0px 1px 3px 1px rgba(60, 64, 67, 0.15);\n",
              "      fill: #174EA6;\n",
              "    }\n",
              "\n",
              "    [theme=dark] .colab-df-convert {\n",
              "      background-color: #3B4455;\n",
              "      fill: #D2E3FC;\n",
              "    }\n",
              "\n",
              "    [theme=dark] .colab-df-convert:hover {\n",
              "      background-color: #434B5C;\n",
              "      box-shadow: 0px 1px 3px 1px rgba(0, 0, 0, 0.15);\n",
              "      filter: drop-shadow(0px 1px 2px rgba(0, 0, 0, 0.3));\n",
              "      fill: #FFFFFF;\n",
              "    }\n",
              "  </style>\n",
              "\n",
              "      <script>\n",
              "        const buttonEl =\n",
              "          document.querySelector('#df-b2f7ba42-647e-4071-a4b0-ffc321a3efb7 button.colab-df-convert');\n",
              "        buttonEl.style.display =\n",
              "          google.colab.kernel.accessAllowed ? 'block' : 'none';\n",
              "\n",
              "        async function convertToInteractive(key) {\n",
              "          const element = document.querySelector('#df-b2f7ba42-647e-4071-a4b0-ffc321a3efb7');\n",
              "          const dataTable =\n",
              "            await google.colab.kernel.invokeFunction('convertToInteractive',\n",
              "                                                     [key], {});\n",
              "          if (!dataTable) return;\n",
              "\n",
              "          const docLinkHtml = 'Like what you see? Visit the ' +\n",
              "            '<a target=\"_blank\" href=https://colab.research.google.com/notebooks/data_table.ipynb>data table notebook</a>'\n",
              "            + ' to learn more about interactive tables.';\n",
              "          element.innerHTML = '';\n",
              "          dataTable['output_type'] = 'display_data';\n",
              "          await google.colab.output.renderOutput(dataTable, element);\n",
              "          const docLink = document.createElement('div');\n",
              "          docLink.innerHTML = docLinkHtml;\n",
              "          element.appendChild(docLink);\n",
              "        }\n",
              "      </script>\n",
              "    </div>\n",
              "  </div>\n",
              "  "
            ]
          },
          "metadata": {},
          "execution_count": 3
        }
      ],
      "source": [
        "df = pd.read_csv('merged_multitrain_20000 - Copy.csv' )             \n",
        "pd.set_option('display.max_columns', None)\n",
        "pd.set_option('display.max_rows',None)\n",
        "df.describe().apply(lambda s: s.apply('{0:.5f}'.format))"
      ]
    },
    {
      "cell_type": "code",
      "execution_count": null,
      "metadata": {
        "colab": {
          "base_uri": "https://localhost:8080/",
          "height": 452
        },
        "id": "FhRa0qgoOGkW",
        "outputId": "6ed1436c-9bad-44cd-869d-fccb8e027503"
      },
      "outputs": [
        {
          "output_type": "display_data",
          "data": {
            "text/plain": [
              "<Figure size 640x480 with 9 Axes>"
            ],
            "image/png": "[encoded data removed]"
          },
          "metadata": {}
        }
      ],
      "source": [
        "df.hist()\n",
        "plt.show()"
      ]
    },
    {
      "cell_type": "code",
      "execution_count": null,
      "metadata": {
        "colab": {
          "base_uri": "https://localhost:8080/"
        },
        "id": "DnoMqYk2WOZ9",
        "outputId": "cd3fa7f7-5be8-47f8-ebdd-6c970bb03a6c"
      },
      "outputs": [
        {
          "output_type": "execute_result",
          "data": {
            "text/plain": [
              "(40006, 8)"
            ]
          },
          "metadata": {},
          "execution_count": 5
        }
      ],
      "source": [
        "conserve=['ub_axial','ub_radial','ub_tang','oh_axial','oh_radial','oh_tang','micro','fault']\n",
        "df = df[conserve]\n",
        "df.shape"
      ]
    },
    {
      "cell_type": "code",
      "execution_count": null,
      "metadata": {
        "colab": {
          "base_uri": "https://localhost:8080/"
        },
        "id": "rweGY5eGWXD2",
        "outputId": "7e777962-fa7a-4a43-a377-c18ffb3b5c8d"
      },
      "outputs": [
        {
          "output_type": "stream",
          "name": "stdout",
          "text": [
            "ub_axial     float64\n",
            "ub_radial    float64\n",
            "ub_tang      float64\n",
            "oh_axial     float64\n",
            "oh_radial    float64\n",
            "oh_tang      float64\n",
            "micro        float64\n",
            "fault          int64\n",
            "dtype: object\n"
          ]
        }
      ],
      "source": [
        "print(df.dtypes)"
      ]
    },
    {
      "cell_type": "code",
      "execution_count": null,
      "metadata": {
        "id": "kuZ4ao8KWbVm"
      },
      "outputs": [],
      "source": [
        "# input missing valuesv execpt categorical\n",
        "from sklearn.impute import SimpleImputer\n",
        "imp_numeric = SimpleImputer(missing_values=np.nan, strategy='median')\n",
        "num_cols = df.select_dtypes(exclude=['object']).columns \n",
        "\n",
        "\n",
        "for col in num_cols:\n",
        "  if df[col].isnull().sum().any() > 0:\n",
        "    df[col] = imp_numeric.fit_transform(df[[col]])\n",
        "  else:\n",
        "    pass"
      ]
    },
    {
      "cell_type": "code",
      "execution_count": null,
      "metadata": {
        "colab": {
          "base_uri": "https://localhost:8080/"
        },
        "id": "3UBLSBymWfab",
        "outputId": "f0420433-a1b7-4d78-cf24-20135ddd5601"
      },
      "outputs": [
        {
          "output_type": "execute_result",
          "data": {
            "text/plain": [
              "ub_axial     0\n",
              "ub_radial    0\n",
              "ub_tang      0\n",
              "oh_axial     0\n",
              "oh_radial    0\n",
              "oh_tang      0\n",
              "micro        0\n",
              "fault        0\n",
              "dtype: int64"
            ]
          },
          "metadata": {},
          "execution_count": 8
        }
      ],
      "source": [
        "df.isna().sum()"
      ]
    },
    {
      "cell_type": "code",
      "execution_count": null,
      "metadata": {
        "id": "Ky9K9FzNWiS0"
      },
      "outputs": [],
      "source": [
        "from imblearn.over_sampling import BorderlineSMOTE\n",
        "df = df.astype('float64')\n",
        "x = df.drop('fault', axis=1)\n",
        "#x = df.drop('tachometer', axis=1)\n",
        "y = df['fault']\n",
        "\n",
        "# oversample = BorderlineSMOTE()   \n",
        "# x, y = oversample.fit_resample(x, y)"
      ]
    },
    {
      "cell_type": "code",
      "execution_count": null,
      "metadata": {
        "colab": {
          "base_uri": "https://localhost:8080/",
          "height": 452
        },
        "id": "M7byEpuuWmlp",
        "outputId": "d5f5d648-bc6a-44a2-bda8-9cee11b03bf6"
      },
      "outputs": [
        {
          "output_type": "display_data",
          "data": {
            "text/plain": [
              "<Figure size 640x480 with 9 Axes>"
            ],
            "image/png": "[encoded data removed]"
          },
          "metadata": {}
        }
      ],
      "source": [
        "SS = StandardScaler()\n",
        "df_scaled = pd.DataFrame(SS.fit_transform(x), columns = x.columns)\n",
        "df_scaled.hist()\n",
        "plt.show()"
      ]
    },
    {
      "cell_type": "code",
      "execution_count": null,
      "metadata": {
        "id": "p8CNFx0OWsk7"
      },
      "outputs": [],
      "source": [
        "X_train,x_test,y_train,y_test = train_test_split(df_scaled,y, test_size = 0.2, random_state = None)"
      ]
    },
    {
      "cell_type": "code",
      "execution_count": null,
      "metadata": {
        "colab": {
          "base_uri": "https://localhost:8080/",
          "height": 1000
        },
        "id": "LTk5q4dLWaUr",
        "outputId": "d581ed29-a3b6-48c2-b28d-d3a53e4c60c7"
      },
      "outputs": [
        {
          "output_type": "stream",
          "name": "stdout",
          "text": [
            "Fitting 5 folds for each of 16 candidates, totalling 80 fits\n",
            "[CV 1/5] END ......C=1, gamma=0.001, kernel=rbf;, score=0.645 total time=  41.8s\n",
            "[CV 2/5] END ......C=1, gamma=0.001, kernel=rbf;, score=0.641 total time=  39.7s\n",
            "[CV 3/5] END ......C=1, gamma=0.001, kernel=rbf;, score=0.646 total time=  39.9s\n",
            "[CV 4/5] END ......C=1, gamma=0.001, kernel=rbf;, score=0.644 total time=  40.8s\n",
            "[CV 5/5] END ......C=1, gamma=0.001, kernel=rbf;, score=0.636 total time=  40.5s\n",
            "[CV 1/5] END .......C=1, gamma=0.01, kernel=rbf;, score=0.769 total time=  28.5s\n",
            "[CV 2/5] END .......C=1, gamma=0.01, kernel=rbf;, score=0.775 total time=  28.6s\n",
            "[CV 3/5] END .......C=1, gamma=0.01, kernel=rbf;, score=0.774 total time=  28.5s\n",
            "[CV 4/5] END .......C=1, gamma=0.01, kernel=rbf;, score=0.782 total time=  28.6s\n",
            "[CV 5/5] END .......C=1, gamma=0.01, kernel=rbf;, score=0.769 total time=  27.8s\n",
            "[CV 1/5] END ........C=1, gamma=0.1, kernel=rbf;, score=0.847 total time=  19.6s\n",
            "[CV 2/5] END ........C=1, gamma=0.1, kernel=rbf;, score=0.848 total time=  17.4s\n",
            "[CV 3/5] END ........C=1, gamma=0.1, kernel=rbf;, score=0.844 total time=  17.3s\n",
            "[CV 4/5] END ........C=1, gamma=0.1, kernel=rbf;, score=0.853 total time=  18.5s\n",
            "[CV 5/5] END ........C=1, gamma=0.1, kernel=rbf;, score=0.846 total time=  18.6s\n",
            "[CV 1/5] END ..........C=1, gamma=1, kernel=rbf;, score=0.903 total time=  14.0s\n",
            "[CV 2/5] END ..........C=1, gamma=1, kernel=rbf;, score=0.905 total time=  14.2s\n",
            "[CV 3/5] END ..........C=1, gamma=1, kernel=rbf;, score=0.901 total time=  14.4s\n",
            "[CV 4/5] END ..........C=1, gamma=1, kernel=rbf;, score=0.905 total time=  14.3s\n",
            "[CV 5/5] END ..........C=1, gamma=1, kernel=rbf;, score=0.905 total time=  14.5s\n",
            "[CV 1/5] END .....C=10, gamma=0.001, kernel=rbf;, score=0.730 total time=  34.1s\n",
            "[CV 2/5] END .....C=10, gamma=0.001, kernel=rbf;, score=0.731 total time=  33.5s\n",
            "[CV 3/5] END .....C=10, gamma=0.001, kernel=rbf;, score=0.733 total time=  36.0s\n",
            "[CV 4/5] END .....C=10, gamma=0.001, kernel=rbf;, score=0.735 total time=  33.3s\n",
            "[CV 5/5] END .....C=10, gamma=0.001, kernel=rbf;, score=0.729 total time=  34.4s\n",
            "[CV 1/5] END ......C=10, gamma=0.01, kernel=rbf;, score=0.817 total time=  22.6s\n",
            "[CV 2/5] END ......C=10, gamma=0.01, kernel=rbf;, score=0.816 total time=  23.6s\n",
            "[CV 3/5] END ......C=10, gamma=0.01, kernel=rbf;, score=0.814 total time=  21.6s\n",
            "[CV 4/5] END ......C=10, gamma=0.01, kernel=rbf;, score=0.822 total time=  24.1s\n",
            "[CV 5/5] END ......C=10, gamma=0.01, kernel=rbf;, score=0.815 total time=  21.3s\n",
            "[CV 1/5] END .......C=10, gamma=0.1, kernel=rbf;, score=0.885 total time=  15.4s\n",
            "[CV 2/5] END .......C=10, gamma=0.1, kernel=rbf;, score=0.886 total time=  15.7s\n",
            "[CV 3/5] END .......C=10, gamma=0.1, kernel=rbf;, score=0.881 total time=  16.9s\n",
            "[CV 4/5] END .......C=10, gamma=0.1, kernel=rbf;, score=0.886 total time=  16.7s\n",
            "[CV 5/5] END .......C=10, gamma=0.1, kernel=rbf;, score=0.881 total time=  15.5s\n",
            "[CV 1/5] END .........C=10, gamma=1, kernel=rbf;, score=0.915 total time=  14.1s\n",
            "[CV 2/5] END .........C=10, gamma=1, kernel=rbf;, score=0.918 total time=  14.4s\n",
            "[CV 3/5] END .........C=10, gamma=1, kernel=rbf;, score=0.918 total time=  14.0s\n",
            "[CV 4/5] END .........C=10, gamma=1, kernel=rbf;, score=0.919 total time=  14.5s\n",
            "[CV 5/5] END .........C=10, gamma=1, kernel=rbf;, score=0.923 total time=  14.6s\n",
            "[CV 1/5] END ....C=100, gamma=0.001, kernel=rbf;, score=0.771 total time=  29.5s\n",
            "[CV 2/5] END ....C=100, gamma=0.001, kernel=rbf;, score=0.775 total time=  29.4s\n",
            "[CV 3/5] END ....C=100, gamma=0.001, kernel=rbf;, score=0.774 total time=  29.6s\n",
            "[CV 4/5] END ....C=100, gamma=0.001, kernel=rbf;, score=0.783 total time=  29.3s\n",
            "[CV 5/5] END ....C=100, gamma=0.001, kernel=rbf;, score=0.769 total time=  29.3s\n",
            "[CV 1/5] END .....C=100, gamma=0.01, kernel=rbf;, score=0.844 total time=  19.0s\n",
            "[CV 2/5] END .....C=100, gamma=0.01, kernel=rbf;, score=0.847 total time=  20.0s\n",
            "[CV 3/5] END .....C=100, gamma=0.01, kernel=rbf;, score=0.840 total time=  20.3s\n",
            "[CV 4/5] END .....C=100, gamma=0.01, kernel=rbf;, score=0.851 total time=  19.4s\n",
            "[CV 5/5] END .....C=100, gamma=0.01, kernel=rbf;, score=0.847 total time=  21.7s\n",
            "[CV 1/5] END ......C=100, gamma=0.1, kernel=rbf;, score=0.899 total time=  17.9s\n",
            "[CV 2/5] END ......C=100, gamma=0.1, kernel=rbf;, score=0.898 total time=  18.6s\n",
            "[CV 3/5] END ......C=100, gamma=0.1, kernel=rbf;, score=0.898 total time=  20.7s\n",
            "[CV 4/5] END ......C=100, gamma=0.1, kernel=rbf;, score=0.903 total time=  18.5s\n",
            "[CV 5/5] END ......C=100, gamma=0.1, kernel=rbf;, score=0.899 total time=  18.5s\n",
            "[CV 1/5] END ........C=100, gamma=1, kernel=rbf;, score=0.915 total time=  28.5s\n",
            "[CV 2/5] END ........C=100, gamma=1, kernel=rbf;, score=0.920 total time=  29.7s\n",
            "[CV 3/5] END ........C=100, gamma=1, kernel=rbf;, score=0.920 total time=  29.6s\n",
            "[CV 4/5] END ........C=100, gamma=1, kernel=rbf;, score=0.923 total time=  29.1s\n",
            "[CV 5/5] END ........C=100, gamma=1, kernel=rbf;, score=0.925 total time=  28.4s\n",
            "[CV 1/5] END ...C=1000, gamma=0.001, kernel=rbf;, score=0.817 total time=  27.1s\n",
            "[CV 2/5] END ...C=1000, gamma=0.001, kernel=rbf;, score=0.817 total time=  26.7s\n",
            "[CV 3/5] END ...C=1000, gamma=0.001, kernel=rbf;, score=0.814 total time=  26.0s\n",
            "[CV 4/5] END ...C=1000, gamma=0.001, kernel=rbf;, score=0.823 total time=  27.4s\n",
            "[CV 5/5] END ...C=1000, gamma=0.001, kernel=rbf;, score=0.816 total time=  26.6s\n",
            "[CV 1/5] END ....C=1000, gamma=0.01, kernel=rbf;, score=0.878 total time=  25.8s\n",
            "[CV 2/5] END ....C=1000, gamma=0.01, kernel=rbf;, score=0.880 total time=  25.3s\n",
            "[CV 3/5] END ....C=1000, gamma=0.01, kernel=rbf;, score=0.877 total time=  24.7s\n",
            "[CV 4/5] END ....C=1000, gamma=0.01, kernel=rbf;, score=0.880 total time=  25.7s\n",
            "[CV 5/5] END ....C=1000, gamma=0.01, kernel=rbf;, score=0.877 total time=  25.7s\n",
            "[CV 1/5] END .....C=1000, gamma=0.1, kernel=rbf;, score=0.905 total time=  48.8s\n",
            "[CV 2/5] END .....C=1000, gamma=0.1, kernel=rbf;, score=0.907 total time=  48.3s\n",
            "[CV 3/5] END .....C=1000, gamma=0.1, kernel=rbf;, score=0.905 total time=  49.9s\n",
            "[CV 4/5] END .....C=1000, gamma=0.1, kernel=rbf;, score=0.912 total time=  50.5s\n",
            "[CV 5/5] END .....C=1000, gamma=0.1, kernel=rbf;, score=0.911 total time=  50.7s\n",
            "[CV 1/5] END .......C=1000, gamma=1, kernel=rbf;, score=0.911 total time= 1.9min\n",
            "[CV 2/5] END .......C=1000, gamma=1, kernel=rbf;, score=0.916 total time= 1.9min\n",
            "[CV 3/5] END .......C=1000, gamma=1, kernel=rbf;, score=0.915 total time= 1.8min\n",
            "[CV 4/5] END .......C=1000, gamma=1, kernel=rbf;, score=0.922 total time= 1.9min\n",
            "[CV 5/5] END .......C=1000, gamma=1, kernel=rbf;, score=0.920 total time= 2.0min\n"
          ]
        },
        {
          "output_type": "execute_result",
          "data": {
            "text/plain": [
              "GridSearchCV(estimator=SVC(),\n",
              "             param_grid={'C': [1, 10, 100, 1000],\n",
              "                         'gamma': [0.001, 0.01, 0.1, 1], 'kernel': ['rbf']},\n",
              "             verbose=3)"
            ],
            "text/html": [
              "<style>#sk-container-id-1 {color: black;background-color: white;}#sk-container-id-1 pre{padding: 0;}#sk-container-id-1 div.sk-toggleable {background-color: white;}#sk-container-id-1 label.sk-toggleable__label {cursor: pointer;display: block;width: 100%;margin-bottom: 0;padding: 0.3em;box-sizing: border-box;text-align: center;}#sk-container-id-1 label.sk-toggleable__label-arrow:before {content: \"▸\";float: left;margin-right: 0.25em;color: #696969;}#sk-container-id-1 label.sk-toggleable__label-arrow:hover:before {color: black;}#sk-container-id-1 div.sk-estimator:hover label.sk-toggleable__label-arrow:before {color: black;}#sk-container-id-1 div.sk-toggleable__content {max-height: 0;max-width: 0;overflow: hidden;text-align: left;background-color: #f0f8ff;}#sk-container-id-1 div.sk-toggleable__content pre {margin: 0.2em;color: black;border-radius: 0.25em;background-color: #f0f8ff;}#sk-container-id-1 input.sk-toggleable__control:checked~div.sk-toggleable__content {max-height: 200px;max-width: 100%;overflow: auto;}#sk-container-id-1 input.sk-toggleable__control:checked~label.sk-toggleable__label-arrow:before {content: \"▾\";}#sk-container-id-1 div.sk-estimator input.sk-toggleable__control:checked~label.sk-toggleable__label {background-color: #d4ebff;}#sk-container-id-1 div.sk-label input.sk-toggleable__control:checked~label.sk-toggleable__label {background-color: #d4ebff;}#sk-container-id-1 input.sk-hidden--visually {border: 0;clip: rect(1px 1px 1px 1px);clip: rect(1px, 1px, 1px, 1px);height: 1px;margin: -1px;overflow: hidden;padding: 0;position: absolute;width: 1px;}#sk-container-id-1 div.sk-estimator {font-family: monospace;background-color: #f0f8ff;border: 1px dotted black;border-radius: 0.25em;box-sizing: border-box;margin-bottom: 0.5em;}#sk-container-id-1 div.sk-estimator:hover {background-color: #d4ebff;}#sk-container-id-1 div.sk-parallel-item::after {content: \"\";width: 100%;border-bottom: 1px solid gray;flex-grow: 1;}#sk-container-id-1 div.sk-label:hover label.sk-toggleable__label {background-color: #d4ebff;}#sk-container-id-1 div.sk-serial::before {content: \"\";position: absolute;border-left: 1px solid gray;box-sizing: border-box;top: 0;bottom: 0;left: 50%;z-index: 0;}#sk-container-id-1 div.sk-serial {display: flex;flex-direction: column;align-items: center;background-color: white;padding-right: 0.2em;padding-left: 0.2em;position: relative;}#sk-container-id-1 div.sk-item {position: relative;z-index: 1;}#sk-container-id-1 div.sk-parallel {display: flex;align-items: stretch;justify-content: center;background-color: white;position: relative;}#sk-container-id-1 div.sk-item::before, #sk-container-id-1 div.sk-parallel-item::before {content: \"\";position: absolute;border-left: 1px solid gray;box-sizing: border-box;top: 0;bottom: 0;left: 50%;z-index: -1;}#sk-container-id-1 div.sk-parallel-item {display: flex;flex-direction: column;z-index: 1;position: relative;background-color: white;}#sk-container-id-1 div.sk-parallel-item:first-child::after {align-self: flex-end;width: 50%;}#sk-container-id-1 div.sk-parallel-item:last-child::after {align-self: flex-start;width: 50%;}#sk-container-id-1 div.sk-parallel-item:only-child::after {width: 0;}#sk-container-id-1 div.sk-dashed-wrapped {border: 1px dashed gray;margin: 0 0.4em 0.5em 0.4em;box-sizing: border-box;padding-bottom: 0.4em;background-color: white;}#sk-container-id-1 div.sk-label label {font-family: monospace;font-weight: bold;display: inline-block;line-height: 1.2em;}#sk-container-id-1 div.sk-label-container {text-align: center;}#sk-container-id-1 div.sk-container {/* jupyter's `normalize.less` sets `[hidden] { display: none; }` but bootstrap.min.css set `[hidden] { display: none !important; }` so we also need the `!important` here to be able to override the default hidden behavior on the sphinx rendered scikit-learn.org. See: https://github.com/scikit-learn/scikit-learn/issues/21755 */display: inline-block !important;position: relative;}#sk-container-id-1 div.sk-text-repr-fallback {display: none;}</style><div id=\"sk-container-id-1\" class=\"sk-top-container\"><div class=\"sk-text-repr-fallback\"><pre>GridSearchCV(estimator=SVC(),\n",
              "             param_grid={&#x27;C&#x27;: [1, 10, 100, 1000],\n",
              "                         &#x27;gamma&#x27;: [0.001, 0.01, 0.1, 1], &#x27;kernel&#x27;: [&#x27;rbf&#x27;]},\n",
              "             verbose=3)</pre><b>In a Jupyter environment, please rerun this cell to show the HTML representation or trust the notebook. <br />On GitHub, the HTML representation is unable to render, please try loading this page with nbviewer.org.</b></div><div class=\"sk-container\" hidden><div class=\"sk-item sk-dashed-wrapped\"><div class=\"sk-label-container\"><div class=\"sk-label sk-toggleable\"><input class=\"sk-toggleable__control sk-hidden--visually\" id=\"sk-estimator-id-1\" type=\"checkbox\" ><label for=\"sk-estimator-id-1\" class=\"sk-toggleable__label sk-toggleable__label-arrow\">GridSearchCV</label><div class=\"sk-toggleable__content\"><pre>GridSearchCV(estimator=SVC(),\n",
              "             param_grid={&#x27;C&#x27;: [1, 10, 100, 1000],\n",
              "                         &#x27;gamma&#x27;: [0.001, 0.01, 0.1, 1], &#x27;kernel&#x27;: [&#x27;rbf&#x27;]},\n",
              "             verbose=3)</pre></div></div></div><div class=\"sk-parallel\"><div class=\"sk-parallel-item\"><div class=\"sk-item\"><div class=\"sk-label-container\"><div class=\"sk-label sk-toggleable\"><input class=\"sk-toggleable__control sk-hidden--visually\" id=\"sk-estimator-id-2\" type=\"checkbox\" ><label for=\"sk-estimator-id-2\" class=\"sk-toggleable__label sk-toggleable__label-arrow\">estimator: SVC</label><div class=\"sk-toggleable__content\"><pre>SVC()</pre></div></div></div><div class=\"sk-serial\"><div class=\"sk-item\"><div class=\"sk-estimator sk-toggleable\"><input class=\"sk-toggleable__control sk-hidden--visually\" id=\"sk-estimator-id-3\" type=\"checkbox\" ><label for=\"sk-estimator-id-3\" class=\"sk-toggleable__label sk-toggleable__label-arrow\">SVC</label><div class=\"sk-toggleable__content\"><pre>SVC()</pre></div></div></div></div></div></div></div></div></div></div>"
            ]
          },
          "metadata": {},
          "execution_count": 12
        }
      ],
      "source": [
        "from sklearn.svm import SVC\n",
        "from sklearn.model_selection import StratifiedShuffleSplit\n",
        "from sklearn.model_selection import GridSearchCV\n",
        "from sklearn.metrics import roc_auc_score, roc_curve, confusion_matrix, precision_score, recall_score\n",
        "from sklearn.metrics import classification_report, average_precision_score, accuracy_score, f1_score\n",
        "\n",
        "\n",
        "X_train,x_test,y_train,y_test = train_test_split(df_scaled,y, test_size = 0.2, random_state = None)\n",
        "param_grid = {'C': [1,10,100,1000], \n",
        "              'gamma': [0.001,0.01,0.1,1],\n",
        "              'kernel': ['rbf']} \n",
        "grid = GridSearchCV(SVC(), param_grid, refit = True, verbose = 3)\n",
        "grid.fit(X_train, y_train)"
      ]
    },
    {
      "cell_type": "code",
      "execution_count": null,
      "metadata": {
        "id": "hjvOBIM8W-RT",
        "colab": {
          "base_uri": "https://localhost:8080/"
        },
        "outputId": "fbae2116-f1eb-43cd-dff3-7b90ebc06fb6"
      },
      "outputs": [
        {
          "output_type": "stream",
          "name": "stdout",
          "text": [
            "{'C': 100, 'gamma': 1, 'kernel': 'rbf'}\n",
            "SVC(C=100, gamma=1)\n"
          ]
        }
      ],
      "source": [
        "# print best parameter after tuning\n",
        "print(grid.best_params_)\n",
        "  \n",
        "# print how our model looks after hyper-parameter tuning\n",
        "print(grid.best_estimator_)"
      ]
    },
    {
      "cell_type": "code",
      "execution_count": null,
      "metadata": {
        "id": "vZa4zaK3MaSX",
        "colab": {
          "base_uri": "https://localhost:8080/"
        },
        "outputId": "7cb671cf-ca3a-4b26-c0e6-aa03e6a5761d"
      },
      "outputs": [
        {
          "output_type": "stream",
          "name": "stdout",
          "text": [
            "Train iteration 0\n",
            "Train iteration 1\n",
            "Train iteration 2\n",
            "Train iteration 3\n",
            "Train iteration 4\n",
            "Train iteration 5\n",
            "Train iteration 6\n",
            "Train iteration 7\n",
            "Train iteration 8\n",
            "Train iteration 9\n"
          ]
        }
      ],
      "source": [
        "from sklearn.svm import SVC\n",
        "from sklearn.model_selection import GridSearchCV\n",
        "from sklearn.metrics import roc_auc_score, roc_curve, confusion_matrix, precision_score, recall_score\n",
        "from sklearn.metrics import classification_report, average_precision_score, accuracy_score, f1_score\n",
        "for i in range(10):\n",
        "  X_train,x_test,y_train,y_test = train_test_split(df_scaled,y, test_size = 0.2, random_state = None)\n",
        "  grid = SVC(C= 100,gamma= 1,kernel = 'rbf')\n",
        "  grid.fit(X_train, y_train)\n",
        "  print(\"Train iteration\",i)"
      ]
    },
    {
      "cell_type": "code",
      "execution_count": null,
      "metadata": {
        "colab": {
          "base_uri": "https://localhost:8080/"
        },
        "id": "r_8ZteKrMvGa",
        "outputId": "8b01ea98-5ff9-4494-da90-f9ab0ded5764"
      },
      "outputs": [
        {
          "output_type": "stream",
          "name": "stdout",
          "text": [
            "[[3825  197]\n",
            " [ 392 3588]]\n",
            "              precision    recall  f1-score   support\n",
            "\n",
            "         0.0       0.91      0.95      0.93      4022\n",
            "         1.0       0.95      0.90      0.92      3980\n",
            "\n",
            "    accuracy                           0.93      8002\n",
            "   macro avg       0.93      0.93      0.93      8002\n",
            "weighted avg       0.93      0.93      0.93      8002\n",
            "\n"
          ]
        }
      ],
      "source": [
        "\n",
        "grid_predictions = grid.predict(x_test)\n",
        "  \n",
        "# print classification report\n",
        "print(confusion_matrix(y_test, grid_predictions))\n",
        "print(classification_report(y_test, grid_predictions))\n"
      ]
    },
    {
      "cell_type": "code",
      "source": [
        "\n",
        "grid_predictions1 = grid.predict(X_train)\n",
        "  \n",
        "# print classification report\n",
        "print(\"Train accuracy:\",accuracy_score(y_train,grid_predictions1))\n",
        "print(\"Train confusion matrix\",confusion_matrix(y_train,grid_predictions1))"
      ],
      "metadata": {
        "colab": {
          "base_uri": "https://localhost:8080/"
        },
        "id": "kVHE1nSWzt8A",
        "outputId": "71d60dda-88e0-4e5d-a7db-03fd0344abe4"
      },
      "execution_count": null,
      "outputs": [
        {
          "output_type": "stream",
          "name": "stdout",
          "text": [
            "Train accuracy: 0.9406949131358581\n",
            "Train confusion matrix [[15402   577]\n",
            " [ 1321 14704]]\n"
          ]
        }
      ]
    },
    {
      "cell_type": "markdown",
      "source": [
        "**RandomForest**"
      ],
      "metadata": {
        "id": "232DGhS3Imhk"
      }
    },
    {
      "cell_type": "code",
      "source": [
        "#RandomForest Classifier\n",
        "from sklearn.ensemble import RandomForestClassifier\n",
        "rf = RandomForestClassifier()\n",
        "\n",
        "param_grid = {\n",
        "    'bootstrap': [True],\n",
        "    'max_depth': [80, 90],\n",
        "    'max_features': [2, 3],\n",
        "    'min_samples_leaf': [3, 4, 5],\n",
        "    'min_samples_split': [8, 10, 12],\n",
        "    'n_estimators': [100, 200]\n",
        "}\n",
        "\n",
        "rfclassifier = GridSearchCV(estimator = rf, param_grid = param_grid, \n",
        "                          cv = 10, n_jobs = -1, verbose = 2)\n",
        "rfclassifier.fit(X_train, y_train)# fit function is where it trains\n",
        "rfclassifier.best_params_"
      ],
      "metadata": {
        "id": "PBg8T6zo6NgJ"
      },
      "execution_count": null,
      "outputs": []
    },
    {
      "cell_type": "code",
      "source": [
        "from sklearn.ensemble import RandomForestClassifier\n",
        "from sklearn.metrics import roc_auc_score, roc_curve, confusion_matrix, precision_score, recall_score\n",
        "from sklearn.metrics import classification_report, average_precision_score, accuracy_score, f1_score\n",
        "for i in range(10):\n",
        "  X_train,x_test,y_train,y_test = train_test_split(df_scaled,y, test_size = 0.2, random_state = None)\n",
        "  grid1 = RandomForestClassifier(bootstrap=True,max_depth = 80, max_features = 3,min_samples_leaf= 3,min_samples_split= 8,n_estimators= 200)\n",
        "  grid1.fit(X_train, y_train)\n",
        "  print(\"Train iteration\",i+1)"
      ],
      "metadata": {
        "id": "MzVU4j3-6Yok",
        "colab": {
          "base_uri": "https://localhost:8080/"
        },
        "outputId": "fc9dad40-edb2-4046-8cba-14ac7292579e"
      },
      "execution_count": null,
      "outputs": [
        {
          "output_type": "stream",
          "name": "stdout",
          "text": [
            "Train iteration 1\n",
            "Train iteration 2\n",
            "Train iteration 3\n",
            "Train iteration 4\n",
            "Train iteration 6\n",
            "Train iteration 7\n",
            "Train iteration 8\n",
            "Train iteration 9\n",
            "Train iteration 10\n"
          ]
        }
      ]
    },
    {
      "cell_type": "code",
      "source": [
        "grid_predictions2 = grid1.predict(x_test)\n",
        "  \n",
        "# print classification report\n",
        "print(confusion_matrix(y_test, grid_predictions2))\n",
        "print(classification_report(y_test, grid_predictions2))\n"
      ],
      "metadata": {
        "id": "kL1UtW1e6i20",
        "colab": {
          "base_uri": "https://localhost:8080/"
        },
        "outputId": "fb29dea4-9427-4676-a3de-09943efb8e57"
      },
      "execution_count": null,
      "outputs": [
        {
          "output_type": "stream",
          "name": "stdout",
          "text": [
            "[[3794  214]\n",
            " [ 303 3691]]\n",
            "              precision    recall  f1-score   support\n",
            "\n",
            "         0.0       0.93      0.95      0.94      4008\n",
            "         1.0       0.95      0.92      0.93      3994\n",
            "\n",
            "    accuracy                           0.94      8002\n",
            "   macro avg       0.94      0.94      0.94      8002\n",
            "weighted avg       0.94      0.94      0.94      8002\n",
            "\n"
          ]
        }
      ]
    },
    {
      "cell_type": "code",
      "source": [
        "grid_predictions3 = grid1.predict(X_train)\n",
        "print(\"Train accuracy:\",accuracy_score(y_train,grid_predictions3))\n",
        "print(\"Train confusion matrix\",confusion_matrix(y_train,grid_predictions3))"
      ],
      "metadata": {
        "id": "_HpRyP5L6vrb",
        "colab": {
          "base_uri": "https://localhost:8080/"
        },
        "outputId": "33dc3fef-3b9d-408d-a876-97b9ba885718"
      },
      "execution_count": null,
      "outputs": [
        {
          "output_type": "stream",
          "name": "stdout",
          "text": [
            "Train accuracy: 0.9909073865766779\n",
            "Train confusion matrix [[15907    86]\n",
            " [  205 15806]]\n"
          ]
        }
      ]
    },
    {
      "cell_type": "markdown",
      "source": [
        "**KNN classifier**"
      ],
      "metadata": {
        "id": "s5xWTU0YBnyw"
      }
    },
    {
      "cell_type": "code",
      "source": [
        "knn = KNeighborsClassifier(algorithm = 'brute')\n",
        "\n",
        "k_range = list(range(1, 100))\n",
        "param_grid = dict(n_neighbors=k_range)\n",
        "\n",
        "# Instantiate the grid search model\n",
        "knnClassifier = GridSearchCV(estimator = knn, param_grid = param_grid, \n",
        "                          cv = 10, n_jobs = -1, verbose = 2)\n",
        "\n",
        "knnClassifier.fit(X_train, y_train)\n",
        "knnClassifier.best_params_"
      ],
      "metadata": {
        "id": "FMbTi6T8B29B",
        "colab": {
          "base_uri": "https://localhost:8080/"
        },
        "outputId": "67e2552f-98ae-4e59-9aff-9d5fcbdce2ac"
      },
      "execution_count": null,
      "outputs": [
        {
          "output_type": "stream",
          "name": "stdout",
          "text": [
            "Fitting 10 folds for each of 99 candidates, totalling 990 fits\n"
          ]
        },
        {
          "output_type": "execute_result",
          "data": {
            "text/plain": [
              "{'n_neighbors': 3}"
            ]
          },
          "metadata": {},
          "execution_count": 15
        }
      ]
    },
    {
      "cell_type": "code",
      "source": [
        "k_NN = knnClassifier.predict(x_test)\n",
        "  \n",
        "# print classification report\n",
        "print(confusion_matrix(y_test, k_NN))\n",
        "print(classification_report(y_test, k_NN))"
      ],
      "metadata": {
        "colab": {
          "base_uri": "https://localhost:8080/"
        },
        "id": "6ZxzR-_GJ2S8",
        "outputId": "cb181736-50fa-4c0a-d302-87b08d693949"
      },
      "execution_count": null,
      "outputs": [
        {
          "output_type": "stream",
          "name": "stdout",
          "text": [
            "[[3704  304]\n",
            " [ 516 3478]]\n",
            "              precision    recall  f1-score   support\n",
            "\n",
            "         0.0       0.88      0.92      0.90      4008\n",
            "         1.0       0.92      0.87      0.89      3994\n",
            "\n",
            "    accuracy                           0.90      8002\n",
            "   macro avg       0.90      0.90      0.90      8002\n",
            "weighted avg       0.90      0.90      0.90      8002\n",
            "\n"
          ]
        }
      ]
    },
    {
      "cell_type": "code",
      "source": [
        "k_NN1 = knnClassifier.predict(X_train)\n",
        "print(\"Train accuracy:\",accuracy_score(y_train,k_NN1))\n",
        "print(\"Train confusion matrix\",confusion_matrix(y_train,k_NN1))"
      ],
      "metadata": {
        "colab": {
          "base_uri": "https://localhost:8080/"
        },
        "id": "CfXofOSMKCgG",
        "outputId": "7523d2f4-4edf-491d-a7f8-92a6f6d23b20"
      },
      "execution_count": null,
      "outputs": [
        {
          "output_type": "stream",
          "name": "stdout",
          "text": [
            "Train accuracy: 0.9478502687164104\n",
            "Train confusion matrix [[15377   616]\n",
            " [ 1053 14958]]\n"
          ]
        }
      ]
    },
    {
      "cell_type": "markdown",
      "source": [
        "**Decision tree**"
      ],
      "metadata": {
        "id": "W5miHC8eCilh"
      }
    },
    {
      "cell_type": "code",
      "source": [
        "#Decision Tree\n",
        "param_grid = {\n",
        "    'criterion' : ['gini', 'entropy'],\n",
        "    'max_depth':[4,5,6,7,8,9,10,11,12,15,20,30],\n",
        "    'min_samples_split' : range(10,500,20),\n",
        "    'splitter' : ['best', 'random'],\n",
        "    'min_samples_leaf': [5,8,11],\n",
        "    'max_features': ['log2', 'sqrt','auto']\n",
        "}\n",
        "\n",
        "# Create a based model\n",
        "dt = DecisionTreeClassifier()\n",
        "# Instantiate the grid search model\n",
        "dtClassifier = GridSearchCV(estimator = dt, param_grid = param_grid, \n",
        "                          cv = 10, n_jobs = -1, verbose = 2)\n",
        "\n",
        "dtClassifier.fit(X_train, y_train)\n",
        "dtClassifier.best_params_"
      ],
      "metadata": {
        "id": "IEcc5kzGB4Zy"
      },
      "execution_count": null,
      "outputs": []
    },
    {
      "cell_type": "code",
      "source": [
        "for i in range(10):\n",
        "  X_train,x_test,y_train,y_test = train_test_split(df_scaled,y, test_size = 0.2, random_state = None)\n",
        "  grid2 = DecisionTreeClassifier(criterion = 'entropy',max_depth = 30, max_features = 'log2',min_samples_leaf=8,min_samples_split=50,splitter = 'best')\n",
        "  grid2.fit(X_train, y_train)\n",
        "  print(\"Train iteration\",i+1)"
      ],
      "metadata": {
        "colab": {
          "base_uri": "https://localhost:8080/"
        },
        "id": "Ickacdd7Ik6q",
        "outputId": "a9dd814f-475e-45be-e1a1-0f2741f317a5"
      },
      "execution_count": null,
      "outputs": [
        {
          "output_type": "stream",
          "name": "stdout",
          "text": [
            "Train iteration 1\n",
            "Train iteration 2\n",
            "Train iteration 3\n",
            "Train iteration 4\n",
            "Train iteration 5\n",
            "Train iteration 6\n",
            "Train iteration 7\n",
            "Train iteration 8\n",
            "Train iteration 9\n",
            "Train iteration 10\n"
          ]
        }
      ]
    },
    {
      "cell_type": "code",
      "source": [
        "grid_predictions4 = grid2.predict(x_test)\n",
        "  \n",
        "# print classification report\n",
        "print(confusion_matrix(y_test, grid_predictions4))\n",
        "print(classification_report(y_test, grid_predictions4))\n"
      ],
      "metadata": {
        "colab": {
          "base_uri": "https://localhost:8080/"
        },
        "id": "FSDGcfsvJko_",
        "outputId": "6e3146a4-63f9-436e-d099-0c80494c4297"
      },
      "execution_count": null,
      "outputs": [
        {
          "output_type": "stream",
          "name": "stdout",
          "text": [
            "[[3655  334]\n",
            " [ 451 3562]]\n",
            "              precision    recall  f1-score   support\n",
            "\n",
            "         0.0       0.89      0.92      0.90      3989\n",
            "         1.0       0.91      0.89      0.90      4013\n",
            "\n",
            "    accuracy                           0.90      8002\n",
            "   macro avg       0.90      0.90      0.90      8002\n",
            "weighted avg       0.90      0.90      0.90      8002\n",
            "\n"
          ]
        }
      ]
    },
    {
      "cell_type": "code",
      "source": [
        "grid_predictions5 = grid2.predict(X_train)\n",
        "print(\"Train accuracy:\",accuracy_score(y_train,grid_predictions5))\n",
        "print(\"Train confusion matrix\",confusion_matrix(y_train,grid_predictions5))"
      ],
      "metadata": {
        "colab": {
          "base_uri": "https://localhost:8080/"
        },
        "id": "51MjZacaJp1x",
        "outputId": "ee964aac-636e-46a7-eb71-2d48a3c3872a"
      },
      "execution_count": null,
      "outputs": [
        {
          "output_type": "stream",
          "name": "stdout",
          "text": [
            "Train accuracy: 0.9257280339957505\n",
            "Train confusion matrix [[15078   934]\n",
            " [ 1443 14549]]\n"
          ]
        }
      ]
    },
    {
      "cell_type": "markdown",
      "metadata": {
        "id": "_je2TqGpP0YY"
      },
      "source": [
        "**MODEL SAVING PART**\n",
        "\n",
        "---\n",
        "\n",
        "\n",
        "\n",
        "---\n",
        "\n"
      ]
    },
    {
      "cell_type": "code",
      "execution_count": null,
      "metadata": {
        "id": "8YCV0NDSxmdV"
      },
      "outputs": [],
      "source": [
        "import pickle\n",
        "with open('svm_model_pickle_20000_binary','wb') as f:\n",
        "  pickle.dump(grid,f)"
      ]
    },
    {
      "cell_type": "code",
      "execution_count": null,
      "metadata": {
        "id": "JQWcyqdDzghP"
      },
      "outputs": [],
      "source": [
        "import pickle\n",
        "with open('svm_model_pickle_20000_binary','rb') as f:\n",
        "  mod = pickle.load(f)"
      ]
    },
    {
      "cell_type": "code",
      "execution_count": null,
      "metadata": {
        "colab": {
          "base_uri": "https://localhost:8080/",
          "height": 74
        },
        "id": "r1kB9yNC05q-",
        "outputId": "95fc89f8-aaa5-45e2-b6b6-e263711e3835"
      },
      "outputs": [
        {
          "output_type": "display_data",
          "data": {
            "text/plain": [
              "<IPython.core.display.HTML object>"
            ],
            "text/html": [
              "\n",
              "     <input type=\"file\" id=\"files-0709be95-b2f2-4b47-890d-2c37e9a4b9e5\" name=\"files[]\" multiple disabled\n",
              "        style=\"border:none\" />\n",
              "     <output id=\"result-0709be95-b2f2-4b47-890d-2c37e9a4b9e5\">\n",
              "      Upload widget is only available when the cell has been executed in the\n",
              "      current browser session. Please rerun this cell to enable.\n",
              "      </output>\n",
              "      <script>// Copyright 2017 Google LLC\n",
              "//\n",
              "// Licensed under the Apache License, Version 2.0 (the \"License\");\n",
              "// you may not use this file except in compliance with the License.\n",
              "// You may obtain a copy of the License at\n",
              "//\n",
              "//      http://www.apache.org/licenses/LICENSE-2.0\n",
              "//\n",
              "// Unless required by applicable law or agreed to in writing, software\n",
              "// distributed under the License is distributed on an \"AS IS\" BASIS,\n",
              "// WITHOUT WARRANTIES OR CONDITIONS OF ANY KIND, either express or implied.\n",
              "// See the License for the specific language governing permissions and\n",
              "// limitations under the License.\n",
              "\n",
              "/**\n",
              " * @fileoverview Helpers for google.colab Python module.\n",
              " */\n",
              "(function(scope) {\n",
              "function span(text, styleAttributes = {}) {\n",
              "  const element = document.createElement('span');\n",
              "  element.textContent = text;\n",
              "  for (const key of Object.keys(styleAttributes)) {\n",
              "    element.style[key] = styleAttributes[key];\n",
              "  }\n",
              "  return element;\n",
              "}\n",
              "\n",
              "// Max number of bytes which will be uploaded at a time.\n",
              "const MAX_PAYLOAD_SIZE = 100 * 1024;\n",
              "\n",
              "function _uploadFiles(inputId, outputId) {\n",
              "  const steps = uploadFilesStep(inputId, outputId);\n",
              "  const outputElement = document.getElementById(outputId);\n",
              "  // Cache steps on the outputElement to make it available for the next call\n",
              "  // to uploadFilesContinue from Python.\n",
              "  outputElement.steps = steps;\n",
              "\n",
              "  return _uploadFilesContinue(outputId);\n",
              "}\n",
              "\n",
              "// This is roughly an async generator (not supported in the browser yet),\n",
              "// where there are multiple asynchronous steps and the Python side is going\n",
              "// to poll for completion of each step.\n",
              "// This uses a Promise to block the python side on completion of each step,\n",
              "// then passes the result of the previous step as the input to the next step.\n",
              "function _uploadFilesContinue(outputId) {\n",
              "  const outputElement = document.getElementById(outputId);\n",
              "  const steps = outputElement.steps;\n",
              "\n",
              "  const next = steps.next(outputElement.lastPromiseValue);\n",
              "  return Promise.resolve(next.value.promise).then((value) => {\n",
              "    // Cache the last promise value to make it available to the next\n",
              "    // step of the generator.\n",
              "    outputElement.lastPromiseValue = value;\n",
              "    return next.value.response;\n",
              "  });\n",
              "}\n",
              "\n",
              "/**\n",
              " * Generator function which is called between each async step of the upload\n",
              " * process.\n",
              " * @param {string} inputId Element ID of the input file picker element.\n",
              " * @param {string} outputId Element ID of the output display.\n",
              " * @return {!Iterable<!Object>} Iterable of next steps.\n",
              " */\n",
              "function* uploadFilesStep(inputId, outputId) {\n",
              "  const inputElement = document.getElementById(inputId);\n",
              "  inputElement.disabled = false;\n",
              "\n",
              "  const outputElement = document.getElementById(outputId);\n",
              "  outputElement.innerHTML = '';\n",
              "\n",
              "  const pickedPromise = new Promise((resolve) => {\n",
              "    inputElement.addEventListener('change', (e) => {\n",
              "      resolve(e.target.files);\n",
              "    });\n",
              "  });\n",
              "\n",
              "  const cancel = document.createElement('button');\n",
              "  inputElement.parentElement.appendChild(cancel);\n",
              "  cancel.textContent = 'Cancel upload';\n",
              "  const cancelPromise = new Promise((resolve) => {\n",
              "    cancel.onclick = () => {\n",
              "      resolve(null);\n",
              "    };\n",
              "  });\n",
              "\n",
              "  // Wait for the user to pick the files.\n",
              "  const files = yield {\n",
              "    promise: Promise.race([pickedPromise, cancelPromise]),\n",
              "    response: {\n",
              "      action: 'starting',\n",
              "    }\n",
              "  };\n",
              "\n",
              "  cancel.remove();\n",
              "\n",
              "  // Disable the input element since further picks are not allowed.\n",
              "  inputElement.disabled = true;\n",
              "\n",
              "  if (!files) {\n",
              "    return {\n",
              "      response: {\n",
              "        action: 'complete',\n",
              "      }\n",
              "    };\n",
              "  }\n",
              "\n",
              "  for (const file of files) {\n",
              "    const li = document.createElement('li');\n",
              "    li.append(span(file.name, {fontWeight: 'bold'}));\n",
              "    li.append(span(\n",
              "        `(${file.type || 'n/a'}) - ${file.size} bytes, ` +\n",
              "        `last modified: ${\n",
              "            file.lastModifiedDate ? file.lastModifiedDate.toLocaleDateString() :\n",
              "                                    'n/a'} - `));\n",
              "    const percent = span('0% done');\n",
              "    li.appendChild(percent);\n",
              "\n",
              "    outputElement.appendChild(li);\n",
              "\n",
              "    const fileDataPromise = new Promise((resolve) => {\n",
              "      const reader = new FileReader();\n",
              "      reader.onload = (e) => {\n",
              "        resolve(e.target.result);\n",
              "      };\n",
              "      reader.readAsArrayBuffer(file);\n",
              "    });\n",
              "    // Wait for the data to be ready.\n",
              "    let fileData = yield {\n",
              "      promise: fileDataPromise,\n",
              "      response: {\n",
              "        action: 'continue',\n",
              "      }\n",
              "    };\n",
              "\n",
              "    // Use a chunked sending to avoid message size limits. See b/62115660.\n",
              "    let position = 0;\n",
              "    do {\n",
              "      const length = Math.min(fileData.byteLength - position, MAX_PAYLOAD_SIZE);\n",
              "      const chunk = new Uint8Array(fileData, position, length);\n",
              "      position += length;\n",
              "\n",
              "      const base64 = btoa(String.fromCharCode.apply(null, chunk));\n",
              "      yield {\n",
              "        response: {\n",
              "          action: 'append',\n",
              "          file: file.name,\n",
              "          data: base64,\n",
              "        },\n",
              "      };\n",
              "\n",
              "      let percentDone = fileData.byteLength === 0 ?\n",
              "          100 :\n",
              "          Math.round((position / fileData.byteLength) * 100);\n",
              "      percent.textContent = `${percentDone}% done`;\n",
              "\n",
              "    } while (position < fileData.byteLength);\n",
              "  }\n",
              "\n",
              "  // All done.\n",
              "  yield {\n",
              "    response: {\n",
              "      action: 'complete',\n",
              "    }\n",
              "  };\n",
              "}\n",
              "\n",
              "scope.google = scope.google || {};\n",
              "scope.google.colab = scope.google.colab || {};\n",
              "scope.google.colab._files = {\n",
              "  _uploadFiles,\n",
              "  _uploadFilesContinue,\n",
              "};\n",
              "})(self);\n",
              "</script> "
            ]
          },
          "metadata": {}
        },
        {
          "output_type": "stream",
          "name": "stdout",
          "text": [
            "Saving merged_20000_test_binary.csv to merged_20000_test_binary.csv\n"
          ]
        }
      ],
      "source": [
        "from google.colab import files\n",
        "uploaded = files.upload()"
      ]
    },
    {
      "cell_type": "code",
      "execution_count": null,
      "metadata": {
        "id": "nOUq6K8y0_4G"
      },
      "outputs": [],
      "source": [
        "test_data = pd.read_csv('merged_20000_test_binary.csv' )  "
      ]
    },
    {
      "cell_type": "code",
      "execution_count": null,
      "metadata": {
        "colab": {
          "base_uri": "https://localhost:8080/"
        },
        "id": "wFnGg86f1VHL",
        "outputId": "c557eaa6-90bf-4820-882c-6b01dcba3b9e"
      },
      "outputs": [
        {
          "output_type": "execute_result",
          "data": {
            "text/plain": [
              "1    255\n",
              "0     51\n",
              "Name: fault, dtype: int64"
            ]
          },
          "metadata": {},
          "execution_count": 16
        }
      ],
      "source": [
        "test_data.fault.value_counts()"
      ]
    },
    {
      "cell_type": "code",
      "execution_count": null,
      "metadata": {
        "id": "ovPJ_pCJ1YCA"
      },
      "outputs": [],
      "source": [
        "from sklearn.metrics import roc_auc_score, roc_curve, confusion_matrix, precision_score, recall_score\n",
        "from sklearn.metrics import classification_report, average_precision_score, accuracy_score, f1_score"
      ]
    },
    {
      "cell_type": "code",
      "execution_count": null,
      "metadata": {
        "id": "Jrbx3_BWH_YG"
      },
      "outputs": [],
      "source": [
        "x = test_data.drop('fault', axis=1)\n",
        "x = x.drop('tachometer', axis = 1)\n",
        "y = test_data['fault']"
      ]
    },
    {
      "cell_type": "code",
      "execution_count": null,
      "metadata": {
        "id": "g7k-XKL3k4SY"
      },
      "outputs": [],
      "source": [
        "SS = StandardScaler()\n",
        "test_scaled = pd.DataFrame(SS.fit_transform(x), columns = x.columns)"
      ]
    },
    {
      "cell_type": "code",
      "execution_count": null,
      "metadata": {
        "id": "DNzp402TIDLO"
      },
      "outputs": [],
      "source": [
        "test_pred=grid.predict(x)"
      ]
    },
    {
      "cell_type": "code",
      "execution_count": null,
      "metadata": {
        "colab": {
          "base_uri": "https://localhost:8080/"
        },
        "id": "esfDO8IL1oZx",
        "outputId": "60d218e8-1c5c-4bfb-d483-25173a560808"
      },
      "outputs": [
        {
          "output_type": "stream",
          "name": "stdout",
          "text": [
            "[[ 51   0]\n",
            " [ 25 230]]\n",
            "              precision    recall  f1-score   support\n",
            "\n",
            "           0       0.67      1.00      0.80        51\n",
            "           1       1.00      0.90      0.95       255\n",
            "\n",
            "    accuracy                           0.92       306\n",
            "   macro avg       0.84      0.95      0.88       306\n",
            "weighted avg       0.95      0.92      0.92       306\n",
            "\n"
          ]
        }
      ],
      "source": [
        "print(confusion_matrix(y, test_pred))\n",
        "print(classification_report(y, test_pred))"
      ]
    }
  ],
  "metadata": {
    "colab": {
      "provenance": []
    },
    "gpuClass": "standard",
    "kernelspec": {
      "display_name": "Python 3",
      "name": "python3"
    },
    "language_info": {
      "name": "python"
    }
  },
  "nbformat": 4,
  "nbformat_minor": 0
}
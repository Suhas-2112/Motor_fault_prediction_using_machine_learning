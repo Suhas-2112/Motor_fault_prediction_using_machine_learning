{
  "cells": [
    {
      "cell_type": "code",
      "execution_count": null,
      "metadata": {
        "id": "ghN7WfbHBYyl"
      },
      "outputs": [],
      "source": [
        "import numpy as np\n",
        "import pandas as pd\n",
        "import matplotlib.pyplot as plt\n",
        "import seaborn as sns\n",
        "from sklearn.model_selection import train_test_split, GridSearchCV, RandomizedSearchCV\n",
        "from sklearn.tree import DecisionTreeClassifier, DecisionTreeRegressor \n",
        "from sklearn.ensemble import RandomForestClassifier, RandomForestRegressor, BaggingClassifier,AdaBoostClassifier,GradientBoostingClassifier\n",
        "from sklearn.linear_model import LinearRegression,LogisticRegression\n",
        "from sklearn.neighbors import KNeighborsClassifier\n",
        "from sklearn.naive_bayes import GaussianNB\n",
        "from sklearn import metrics\n",
        "from sklearn.preprocessing import StandardScaler\n",
        "from sklearn.feature_selection import RFE\n",
        "from collections import Counter\n",
        "from imblearn.over_sampling import SMOTE\n",
        "import warnings\n",
        "warnings.filterwarnings('ignore')\n",
        "%matplotlib inline\n",
        "import matplotlib.pyplot as plt\n"
      ]
    },
    {
      "cell_type": "code",
      "source": [
        "from google.colab import drive\n",
        "drive.mount('/content/drive')"
      ],
      "metadata": {
        "colab": {
          "base_uri": "https://localhost:8080/"
        },
        "id": "ADOfoFOXRxBD",
        "outputId": "4cd85f46-7ee7-4d2e-ee6d-53e0b06ca51f"
      },
      "execution_count": null,
      "outputs": [
        {
          "output_type": "stream",
          "name": "stdout",
          "text": [
            "Mounted at /content/drive\n"
          ]
        }
      ]
    },
    {
      "cell_type": "code",
      "source": [
        "import pandas as pd\n",
        "import glob\n",
        "import os\n",
        "\n",
        "# setting the path for joining multiple files\n",
        "files = os.path.join(\"/content/drive/MyDrive/Data/\", \"another*.csv\")\n",
        "\n",
        "# list of merged files returned\n",
        "files = glob.glob(files)\n",
        "\n",
        "print(\"Resultant CSV after joining all CSV files at a particular location...\");\n",
        "\n",
        "# joining files with concat and read_csv\n",
        "df = pd.concat(map(pd.read_csv, files), ignore_index=True)\n",
        "print(df)"
      ],
      "metadata": {
        "colab": {
          "base_uri": "https://localhost:8080/"
        },
        "id": "WisLOtuUR5UP",
        "outputId": "39eb620e-86bb-4a0c-b2e0-f1ef79b4e213"
      },
      "execution_count": null,
      "outputs": [
        {
          "output_type": "stream",
          "name": "stdout",
          "text": [
            "Resultant CSV after joining all CSV files at a particular location...\n",
            "       Axial  Tangential  Radial  fault\n",
            "0       1.73       -3.22    8.83      0\n",
            "1      -2.12       -0.82   11.49      0\n",
            "2      -2.39        1.53   10.87      0\n",
            "3       1.18        4.71    9.34      0\n",
            "4       0.55       -0.27    7.14      0\n",
            "...      ...         ...     ...    ...\n",
            "16949  -2.00        3.77   11.10      1\n",
            "16950   1.41        1.84   11.38      1\n",
            "16951   0.24        5.26    9.02      1\n",
            "16952  -3.49        1.33   12.04      1\n",
            "16953  -2.12       -0.47   10.47      1\n",
            "\n",
            "[16954 rows x 4 columns]\n"
          ]
        }
      ]
    },
    {
      "cell_type": "code",
      "execution_count": null,
      "metadata": {
        "colab": {
          "base_uri": "https://localhost:8080/"
        },
        "id": "SMWz3OOQB1Rg",
        "outputId": "ec06b68f-26a4-42d5-ed61-b67d92df9c28"
      },
      "outputs": [
        {
          "output_type": "execute_result",
          "data": {
            "text/plain": [
              "(16954, 4)"
            ]
          },
          "metadata": {},
          "execution_count": 4
        }
      ],
      "source": [
        "df.shape"
      ]
    },
    {
      "cell_type": "code",
      "execution_count": null,
      "metadata": {
        "colab": {
          "base_uri": "https://localhost:8080/"
        },
        "id": "m0D6uXU6B5DG",
        "outputId": "18377e05-7a40-463b-db11-840a9d1498bc"
      },
      "outputs": [
        {
          "output_type": "execute_result",
          "data": {
            "text/plain": [
              "1    8553\n",
              "0    8401\n",
              "Name: fault, dtype: int64"
            ]
          },
          "metadata": {},
          "execution_count": 5
        }
      ],
      "source": [
        "df.fault.value_counts()"
      ]
    },
    {
      "cell_type": "code",
      "execution_count": null,
      "metadata": {
        "id": "mfxQIyH4CAIA"
      },
      "outputs": [],
      "source": [
        "from imblearn.over_sampling import BorderlineSMOTE\n",
        "x = df.drop('fault', axis=1)\n",
        "y = df['fault']\n",
        "oversample = BorderlineSMOTE()   \n",
        "x, y = oversample.fit_resample(x, y)\n"
      ]
    },
    {
      "cell_type": "code",
      "execution_count": null,
      "metadata": {
        "colab": {
          "base_uri": "https://localhost:8080/"
        },
        "id": "gKdFRCn-CQnm",
        "outputId": "44783761-4b76-4411-ed4f-145ed8371ef7"
      },
      "outputs": [
        {
          "output_type": "stream",
          "name": "stdout",
          "text": [
            "          Axial  Tangential     Radial\n",
            "0      1.730000   -3.220000   8.830000\n",
            "1     -2.120000   -0.820000  11.490000\n",
            "2     -2.390000    1.530000  10.870000\n",
            "3      1.180000    4.710000   9.340000\n",
            "4      0.550000   -0.270000   7.140000\n",
            "...         ...         ...        ...\n",
            "17101 -2.029965    1.104948  10.564983\n",
            "17102 -2.635269    0.031856  12.729522\n",
            "17103  1.895838   -0.752741   7.683300\n",
            "17104  0.528829    0.632343   8.291757\n",
            "17105 -1.486788    1.741862  13.842768\n",
            "\n",
            "[17106 rows x 3 columns]\n",
            "0        0\n",
            "1        0\n",
            "2        0\n",
            "3        0\n",
            "4        0\n",
            "        ..\n",
            "17101    0\n",
            "17102    0\n",
            "17103    0\n",
            "17104    0\n",
            "17105    0\n",
            "Name: fault, Length: 17106, dtype: int64\n"
          ]
        }
      ],
      "source": [
        "print(x)\n",
        "print(y)"
      ]
    },
    {
      "cell_type": "code",
      "source": [
        "df.head()"
      ],
      "metadata": {
        "colab": {
          "base_uri": "https://localhost:8080/",
          "height": 206
        },
        "id": "ijZDFXzZnuez",
        "outputId": "0975138f-7d68-40cd-fbcc-0adcbb400468"
      },
      "execution_count": null,
      "outputs": [
        {
          "output_type": "execute_result",
          "data": {
            "text/plain": [
              "   Axial  Tangential  Radial  fault\n",
              "0   1.73       -3.22    8.83      0\n",
              "1  -2.12       -0.82   11.49      0\n",
              "2  -2.39        1.53   10.87      0\n",
              "3   1.18        4.71    9.34      0\n",
              "4   0.55       -0.27    7.14      0"
            ],
            "text/html": [
              "\n",
              "  <div id=\"df-4cda0719-d2ff-40d3-ac99-28b20e22f752\">\n",
              "    <div class=\"colab-df-container\">\n",
              "      <div>\n",
              "<style scoped>\n",
              "    .dataframe tbody tr th:only-of-type {\n",
              "        vertical-align: middle;\n",
              "    }\n",
              "\n",
              "    .dataframe tbody tr th {\n",
              "        vertical-align: top;\n",
              "    }\n",
              "\n",
              "    .dataframe thead th {\n",
              "        text-align: right;\n",
              "    }\n",
              "</style>\n",
              "<table border=\"1\" class=\"dataframe\">\n",
              "  <thead>\n",
              "    <tr style=\"text-align: right;\">\n",
              "      <th></th>\n",
              "      <th>Axial</th>\n",
              "      <th>Tangential</th>\n",
              "      <th>Radial</th>\n",
              "      <th>fault</th>\n",
              "    </tr>\n",
              "  </thead>\n",
              "  <tbody>\n",
              "    <tr>\n",
              "      <th>0</th>\n",
              "      <td>1.73</td>\n",
              "      <td>-3.22</td>\n",
              "      <td>8.83</td>\n",
              "      <td>0</td>\n",
              "    </tr>\n",
              "    <tr>\n",
              "      <th>1</th>\n",
              "      <td>-2.12</td>\n",
              "      <td>-0.82</td>\n",
              "      <td>11.49</td>\n",
              "      <td>0</td>\n",
              "    </tr>\n",
              "    <tr>\n",
              "      <th>2</th>\n",
              "      <td>-2.39</td>\n",
              "      <td>1.53</td>\n",
              "      <td>10.87</td>\n",
              "      <td>0</td>\n",
              "    </tr>\n",
              "    <tr>\n",
              "      <th>3</th>\n",
              "      <td>1.18</td>\n",
              "      <td>4.71</td>\n",
              "      <td>9.34</td>\n",
              "      <td>0</td>\n",
              "    </tr>\n",
              "    <tr>\n",
              "      <th>4</th>\n",
              "      <td>0.55</td>\n",
              "      <td>-0.27</td>\n",
              "      <td>7.14</td>\n",
              "      <td>0</td>\n",
              "    </tr>\n",
              "  </tbody>\n",
              "</table>\n",
              "</div>\n",
              "      <button class=\"colab-df-convert\" onclick=\"convertToInteractive('df-4cda0719-d2ff-40d3-ac99-28b20e22f752')\"\n",
              "              title=\"Convert this dataframe to an interactive table.\"\n",
              "              style=\"display:none;\">\n",
              "        \n",
              "  <svg xmlns=\"http://www.w3.org/2000/svg\" height=\"24px\"viewBox=\"0 0 24 24\"\n",
              "       width=\"24px\">\n",
              "    <path d=\"M0 0h24v24H0V0z\" fill=\"none\"/>\n",
              "    <path d=\"M18.56 5.44l.94 2.06.94-2.06 2.06-.94-2.06-.94-.94-2.06-.94 2.06-2.06.94zm-11 1L8.5 8.5l.94-2.06 2.06-.94-2.06-.94L8.5 2.5l-.94 2.06-2.06.94zm10 10l.94 2.06.94-2.06 2.06-.94-2.06-.94-.94-2.06-.94 2.06-2.06.94z\"/><path d=\"M17.41 7.96l-1.37-1.37c-.4-.4-.92-.59-1.43-.59-.52 0-1.04.2-1.43.59L10.3 9.45l-7.72 7.72c-.78.78-.78 2.05 0 2.83L4 21.41c.39.39.9.59 1.41.59.51 0 1.02-.2 1.41-.59l7.78-7.78 2.81-2.81c.8-.78.8-2.07 0-2.86zM5.41 20L4 18.59l7.72-7.72 1.47 1.35L5.41 20z\"/>\n",
              "  </svg>\n",
              "      </button>\n",
              "      \n",
              "  <style>\n",
              "    .colab-df-container {\n",
              "      display:flex;\n",
              "      flex-wrap:wrap;\n",
              "      gap: 12px;\n",
              "    }\n",
              "\n",
              "    .colab-df-convert {\n",
              "      background-color: #E8F0FE;\n",
              "      border: none;\n",
              "      border-radius: 50%;\n",
              "      cursor: pointer;\n",
              "      display: none;\n",
              "      fill: #1967D2;\n",
              "      height: 32px;\n",
              "      padding: 0 0 0 0;\n",
              "      width: 32px;\n",
              "    }\n",
              "\n",
              "    .colab-df-convert:hover {\n",
              "      background-color: #E2EBFA;\n",
              "      box-shadow: 0px 1px 2px rgba(60, 64, 67, 0.3), 0px 1px 3px 1px rgba(60, 64, 67, 0.15);\n",
              "      fill: #174EA6;\n",
              "    }\n",
              "\n",
              "    [theme=dark] .colab-df-convert {\n",
              "      background-color: #3B4455;\n",
              "      fill: #D2E3FC;\n",
              "    }\n",
              "\n",
              "    [theme=dark] .colab-df-convert:hover {\n",
              "      background-color: #434B5C;\n",
              "      box-shadow: 0px 1px 3px 1px rgba(0, 0, 0, 0.15);\n",
              "      filter: drop-shadow(0px 1px 2px rgba(0, 0, 0, 0.3));\n",
              "      fill: #FFFFFF;\n",
              "    }\n",
              "  </style>\n",
              "\n",
              "      <script>\n",
              "        const buttonEl =\n",
              "          document.querySelector('#df-4cda0719-d2ff-40d3-ac99-28b20e22f752 button.colab-df-convert');\n",
              "        buttonEl.style.display =\n",
              "          google.colab.kernel.accessAllowed ? 'block' : 'none';\n",
              "\n",
              "        async function convertToInteractive(key) {\n",
              "          const element = document.querySelector('#df-4cda0719-d2ff-40d3-ac99-28b20e22f752');\n",
              "          const dataTable =\n",
              "            await google.colab.kernel.invokeFunction('convertToInteractive',\n",
              "                                                     [key], {});\n",
              "          if (!dataTable) return;\n",
              "\n",
              "          const docLinkHtml = 'Like what you see? Visit the ' +\n",
              "            '<a target=\"_blank\" href=https://colab.research.google.com/notebooks/data_table.ipynb>data table notebook</a>'\n",
              "            + ' to learn more about interactive tables.';\n",
              "          element.innerHTML = '';\n",
              "          dataTable['output_type'] = 'display_data';\n",
              "          await google.colab.output.renderOutput(dataTable, element);\n",
              "          const docLink = document.createElement('div');\n",
              "          docLink.innerHTML = docLinkHtml;\n",
              "          element.appendChild(docLink);\n",
              "        }\n",
              "      </script>\n",
              "    </div>\n",
              "  </div>\n",
              "  "
            ]
          },
          "metadata": {},
          "execution_count": 8
        }
      ]
    },
    {
      "cell_type": "code",
      "source": [
        "sns.scatterplot(x=df['Radial'], y=df['Axial'])"
      ],
      "metadata": {
        "colab": {
          "base_uri": "https://localhost:8080/",
          "height": 468
        },
        "id": "x19lnpEsow5X",
        "outputId": "7172b182-8b47-43a2-8fba-ec55977dad45"
      },
      "execution_count": null,
      "outputs": [
        {
          "output_type": "execute_result",
          "data": {
            "text/plain": [
              "<Axes: xlabel='Radial', ylabel='Axial'>"
            ]
          },
          "metadata": {},
          "execution_count": 9
        },
        {
          "output_type": "display_data",
          "data": {
            "text/plain": [
              "<Figure size 640x480 with 1 Axes>"
            ],
            "image/png": "[encoded data removed]"
          },
          "metadata": {}
        }
      ]
    },
    {
      "cell_type": "code",
      "source": [
        "df.plot('Tangential','Radial')"
      ],
      "metadata": {
        "colab": {
          "base_uri": "https://localhost:8080/",
          "height": 466
        },
        "id": "6iiYu7FSpOBx",
        "outputId": "aa34e7e8-cb29-40e3-8149-2356fd9232e0"
      },
      "execution_count": null,
      "outputs": [
        {
          "output_type": "execute_result",
          "data": {
            "text/plain": [
              "<Axes: xlabel='Tangential'>"
            ]
          },
          "metadata": {},
          "execution_count": 10
        },
        {
          "output_type": "display_data",
          "data": {
            "text/plain": [
              "<Figure size 640x480 with 1 Axes>"
            ],
            "image/png": "[encoded data removed]"
          },
          "metadata": {}
        }
      ]
    },
    {
      "cell_type": "code",
      "source": [
        "df.plot()\n",
        "plt.xlabel(\"Samples\")\n",
        "plt.ylabel(\"Sensor value in (m/s^2)\")\n",
        "\n",
        "plt.show()"
      ],
      "metadata": {
        "colab": {
          "base_uri": "https://localhost:8080/",
          "height": 449
        },
        "id": "I7a3rS7ups5g",
        "outputId": "0e0f6c8b-3572-40bd-cba4-28e4cce080f1"
      },
      "execution_count": null,
      "outputs": [
        {
          "output_type": "display_data",
          "data": {
            "text/plain": [
              "<Figure size 640x480 with 1 Axes>"
            ],
            "image/png": "[encoded data removed]"
          },
          "metadata": {}
        }
      ]
    },
    {
      "cell_type": "code",
      "execution_count": null,
      "metadata": {
        "colab": {
          "base_uri": "https://localhost:8080/",
          "height": 423
        },
        "id": "g1RLGaIfCXxs",
        "outputId": "04828f56-87a4-4db5-e764-eb2bdb5c2441"
      },
      "outputs": [
        {
          "output_type": "execute_result",
          "data": {
            "text/plain": [
              "          Axial  Tangential    Radial\n",
              "0      1.366010   -1.394099 -0.502604\n",
              "1     -0.867880   -0.545485  0.818462\n",
              "2     -1.024543    0.285449  0.510544\n",
              "3      1.046882    1.409863 -0.249317\n",
              "4      0.681337   -0.351011 -1.341928\n",
              "...         ...         ...       ...\n",
              "17101 -0.815639    0.135155  0.359060\n",
              "17102 -1.166856   -0.244278  1.434060\n",
              "17103  1.462234   -0.521703 -1.072103\n",
              "17104  0.669053   -0.031953 -0.769918\n",
              "17105 -0.500471    0.360361  1.986944\n",
              "\n",
              "[17106 rows x 3 columns]"
            ],
            "text/html": [
              "\n",
              "  <div id=\"df-2c6bd29b-2e28-49fe-8f4c-295b95f1da93\">\n",
              "    <div class=\"colab-df-container\">\n",
              "      <div>\n",
              "<style scoped>\n",
              "    .dataframe tbody tr th:only-of-type {\n",
              "        vertical-align: middle;\n",
              "    }\n",
              "\n",
              "    .dataframe tbody tr th {\n",
              "        vertical-align: top;\n",
              "    }\n",
              "\n",
              "    .dataframe thead th {\n",
              "        text-align: right;\n",
              "    }\n",
              "</style>\n",
              "<table border=\"1\" class=\"dataframe\">\n",
              "  <thead>\n",
              "    <tr style=\"text-align: right;\">\n",
              "      <th></th>\n",
              "      <th>Axial</th>\n",
              "      <th>Tangential</th>\n",
              "      <th>Radial</th>\n",
              "    </tr>\n",
              "  </thead>\n",
              "  <tbody>\n",
              "    <tr>\n",
              "      <th>0</th>\n",
              "      <td>1.366010</td>\n",
              "      <td>-1.394099</td>\n",
              "      <td>-0.502604</td>\n",
              "    </tr>\n",
              "    <tr>\n",
              "      <th>1</th>\n",
              "      <td>-0.867880</td>\n",
              "      <td>-0.545485</td>\n",
              "      <td>0.818462</td>\n",
              "    </tr>\n",
              "    <tr>\n",
              "      <th>2</th>\n",
              "      <td>-1.024543</td>\n",
              "      <td>0.285449</td>\n",
              "      <td>0.510544</td>\n",
              "    </tr>\n",
              "    <tr>\n",
              "      <th>3</th>\n",
              "      <td>1.046882</td>\n",
              "      <td>1.409863</td>\n",
              "      <td>-0.249317</td>\n",
              "    </tr>\n",
              "    <tr>\n",
              "      <th>4</th>\n",
              "      <td>0.681337</td>\n",
              "      <td>-0.351011</td>\n",
              "      <td>-1.341928</td>\n",
              "    </tr>\n",
              "    <tr>\n",
              "      <th>...</th>\n",
              "      <td>...</td>\n",
              "      <td>...</td>\n",
              "      <td>...</td>\n",
              "    </tr>\n",
              "    <tr>\n",
              "      <th>17101</th>\n",
              "      <td>-0.815639</td>\n",
              "      <td>0.135155</td>\n",
              "      <td>0.359060</td>\n",
              "    </tr>\n",
              "    <tr>\n",
              "      <th>17102</th>\n",
              "      <td>-1.166856</td>\n",
              "      <td>-0.244278</td>\n",
              "      <td>1.434060</td>\n",
              "    </tr>\n",
              "    <tr>\n",
              "      <th>17103</th>\n",
              "      <td>1.462234</td>\n",
              "      <td>-0.521703</td>\n",
              "      <td>-1.072103</td>\n",
              "    </tr>\n",
              "    <tr>\n",
              "      <th>17104</th>\n",
              "      <td>0.669053</td>\n",
              "      <td>-0.031953</td>\n",
              "      <td>-0.769918</td>\n",
              "    </tr>\n",
              "    <tr>\n",
              "      <th>17105</th>\n",
              "      <td>-0.500471</td>\n",
              "      <td>0.360361</td>\n",
              "      <td>1.986944</td>\n",
              "    </tr>\n",
              "  </tbody>\n",
              "</table>\n",
              "<p>17106 rows × 3 columns</p>\n",
              "</div>\n",
              "      <button class=\"colab-df-convert\" onclick=\"convertToInteractive('df-2c6bd29b-2e28-49fe-8f4c-295b95f1da93')\"\n",
              "              title=\"Convert this dataframe to an interactive table.\"\n",
              "              style=\"display:none;\">\n",
              "        \n",
              "  <svg xmlns=\"http://www.w3.org/2000/svg\" height=\"24px\"viewBox=\"0 0 24 24\"\n",
              "       width=\"24px\">\n",
              "    <path d=\"M0 0h24v24H0V0z\" fill=\"none\"/>\n",
              "    <path d=\"M18.56 5.44l.94 2.06.94-2.06 2.06-.94-2.06-.94-.94-2.06-.94 2.06-2.06.94zm-11 1L8.5 8.5l.94-2.06 2.06-.94-2.06-.94L8.5 2.5l-.94 2.06-2.06.94zm10 10l.94 2.06.94-2.06 2.06-.94-2.06-.94-.94-2.06-.94 2.06-2.06.94z\"/><path d=\"M17.41 7.96l-1.37-1.37c-.4-.4-.92-.59-1.43-.59-.52 0-1.04.2-1.43.59L10.3 9.45l-7.72 7.72c-.78.78-.78 2.05 0 2.83L4 21.41c.39.39.9.59 1.41.59.51 0 1.02-.2 1.41-.59l7.78-7.78 2.81-2.81c.8-.78.8-2.07 0-2.86zM5.41 20L4 18.59l7.72-7.72 1.47 1.35L5.41 20z\"/>\n",
              "  </svg>\n",
              "      </button>\n",
              "      \n",
              "  <style>\n",
              "    .colab-df-container {\n",
              "      display:flex;\n",
              "      flex-wrap:wrap;\n",
              "      gap: 12px;\n",
              "    }\n",
              "\n",
              "    .colab-df-convert {\n",
              "      background-color: #E8F0FE;\n",
              "      border: none;\n",
              "      border-radius: 50%;\n",
              "      cursor: pointer;\n",
              "      display: none;\n",
              "      fill: #1967D2;\n",
              "      height: 32px;\n",
              "      padding: 0 0 0 0;\n",
              "      width: 32px;\n",
              "    }\n",
              "\n",
              "    .colab-df-convert:hover {\n",
              "      background-color: #E2EBFA;\n",
              "      box-shadow: 0px 1px 2px rgba(60, 64, 67, 0.3), 0px 1px 3px 1px rgba(60, 64, 67, 0.15);\n",
              "      fill: #174EA6;\n",
              "    }\n",
              "\n",
              "    [theme=dark] .colab-df-convert {\n",
              "      background-color: #3B4455;\n",
              "      fill: #D2E3FC;\n",
              "    }\n",
              "\n",
              "    [theme=dark] .colab-df-convert:hover {\n",
              "      background-color: #434B5C;\n",
              "      box-shadow: 0px 1px 3px 1px rgba(0, 0, 0, 0.15);\n",
              "      filter: drop-shadow(0px 1px 2px rgba(0, 0, 0, 0.3));\n",
              "      fill: #FFFFFF;\n",
              "    }\n",
              "  </style>\n",
              "\n",
              "      <script>\n",
              "        const buttonEl =\n",
              "          document.querySelector('#df-2c6bd29b-2e28-49fe-8f4c-295b95f1da93 button.colab-df-convert');\n",
              "        buttonEl.style.display =\n",
              "          google.colab.kernel.accessAllowed ? 'block' : 'none';\n",
              "\n",
              "        async function convertToInteractive(key) {\n",
              "          const element = document.querySelector('#df-2c6bd29b-2e28-49fe-8f4c-295b95f1da93');\n",
              "          const dataTable =\n",
              "            await google.colab.kernel.invokeFunction('convertToInteractive',\n",
              "                                                     [key], {});\n",
              "          if (!dataTable) return;\n",
              "\n",
              "          const docLinkHtml = 'Like what you see? Visit the ' +\n",
              "            '<a target=\"_blank\" href=https://colab.research.google.com/notebooks/data_table.ipynb>data table notebook</a>'\n",
              "            + ' to learn more about interactive tables.';\n",
              "          element.innerHTML = '';\n",
              "          dataTable['output_type'] = 'display_data';\n",
              "          await google.colab.output.renderOutput(dataTable, element);\n",
              "          const docLink = document.createElement('div');\n",
              "          docLink.innerHTML = docLinkHtml;\n",
              "          element.appendChild(docLink);\n",
              "        }\n",
              "      </script>\n",
              "    </div>\n",
              "  </div>\n",
              "  "
            ]
          },
          "metadata": {},
          "execution_count": 11
        }
      ],
      "source": [
        "SS = StandardScaler()\n",
        "df_scaled = pd.DataFrame(SS.fit_transform(x), columns = x.columns)\n",
        "df_scaled"
      ]
    },
    {
      "cell_type": "code",
      "execution_count": null,
      "metadata": {
        "id": "7Iaz853WCtis"
      },
      "outputs": [],
      "source": [
        "X_train,x_test,y_train,y_test = train_test_split(df_scaled,y, test_size = 0.2)"
      ]
    },
    {
      "cell_type": "code",
      "execution_count": null,
      "metadata": {
        "colab": {
          "base_uri": "https://localhost:8080/",
          "height": 423
        },
        "id": "t-Ey3jsUDAAH",
        "outputId": "c47ac61a-5993-46a7-da11-cc498ee37662"
      },
      "outputs": [
        {
          "output_type": "execute_result",
          "data": {
            "text/plain": [
              "          Axial  Tangential    Radial\n",
              "14184  0.292582   -0.046924 -0.467839\n",
              "1795  -1.274042   -0.160073  0.023836\n",
              "8249   1.249963    0.964340 -0.408242\n",
              "2828  -0.229626    1.158814  0.470813\n",
              "11797 -0.113580   -1.213768 -1.068776\n",
              "...         ...         ...       ...\n",
              "16356  1.841799    2.491845 -0.914817\n",
              "3740   0.727755   -0.145929 -1.927965\n",
              "12090  0.339000   -0.269686  0.644638\n",
              "14770  0.797383    0.784010 -0.447974\n",
              "6162  -0.798253   -1.503711  1.464096\n",
              "\n",
              "[13684 rows x 3 columns]"
            ],
            "text/html": [
              "\n",
              "  <div id=\"df-6f5a6ede-40fb-4dd8-ac9a-f34db3c9bdc7\">\n",
              "    <div class=\"colab-df-container\">\n",
              "      <div>\n",
              "<style scoped>\n",
              "    .dataframe tbody tr th:only-of-type {\n",
              "        vertical-align: middle;\n",
              "    }\n",
              "\n",
              "    .dataframe tbody tr th {\n",
              "        vertical-align: top;\n",
              "    }\n",
              "\n",
              "    .dataframe thead th {\n",
              "        text-align: right;\n",
              "    }\n",
              "</style>\n",
              "<table border=\"1\" class=\"dataframe\">\n",
              "  <thead>\n",
              "    <tr style=\"text-align: right;\">\n",
              "      <th></th>\n",
              "      <th>Axial</th>\n",
              "      <th>Tangential</th>\n",
              "      <th>Radial</th>\n",
              "    </tr>\n",
              "  </thead>\n",
              "  <tbody>\n",
              "    <tr>\n",
              "      <th>14184</th>\n",
              "      <td>0.292582</td>\n",
              "      <td>-0.046924</td>\n",
              "      <td>-0.467839</td>\n",
              "    </tr>\n",
              "    <tr>\n",
              "      <th>1795</th>\n",
              "      <td>-1.274042</td>\n",
              "      <td>-0.160073</td>\n",
              "      <td>0.023836</td>\n",
              "    </tr>\n",
              "    <tr>\n",
              "      <th>8249</th>\n",
              "      <td>1.249963</td>\n",
              "      <td>0.964340</td>\n",
              "      <td>-0.408242</td>\n",
              "    </tr>\n",
              "    <tr>\n",
              "      <th>2828</th>\n",
              "      <td>-0.229626</td>\n",
              "      <td>1.158814</td>\n",
              "      <td>0.470813</td>\n",
              "    </tr>\n",
              "    <tr>\n",
              "      <th>11797</th>\n",
              "      <td>-0.113580</td>\n",
              "      <td>-1.213768</td>\n",
              "      <td>-1.068776</td>\n",
              "    </tr>\n",
              "    <tr>\n",
              "      <th>...</th>\n",
              "      <td>...</td>\n",
              "      <td>...</td>\n",
              "      <td>...</td>\n",
              "    </tr>\n",
              "    <tr>\n",
              "      <th>16356</th>\n",
              "      <td>1.841799</td>\n",
              "      <td>2.491845</td>\n",
              "      <td>-0.914817</td>\n",
              "    </tr>\n",
              "    <tr>\n",
              "      <th>3740</th>\n",
              "      <td>0.727755</td>\n",
              "      <td>-0.145929</td>\n",
              "      <td>-1.927965</td>\n",
              "    </tr>\n",
              "    <tr>\n",
              "      <th>12090</th>\n",
              "      <td>0.339000</td>\n",
              "      <td>-0.269686</td>\n",
              "      <td>0.644638</td>\n",
              "    </tr>\n",
              "    <tr>\n",
              "      <th>14770</th>\n",
              "      <td>0.797383</td>\n",
              "      <td>0.784010</td>\n",
              "      <td>-0.447974</td>\n",
              "    </tr>\n",
              "    <tr>\n",
              "      <th>6162</th>\n",
              "      <td>-0.798253</td>\n",
              "      <td>-1.503711</td>\n",
              "      <td>1.464096</td>\n",
              "    </tr>\n",
              "  </tbody>\n",
              "</table>\n",
              "<p>13684 rows × 3 columns</p>\n",
              "</div>\n",
              "      <button class=\"colab-df-convert\" onclick=\"convertToInteractive('df-6f5a6ede-40fb-4dd8-ac9a-f34db3c9bdc7')\"\n",
              "              title=\"Convert this dataframe to an interactive table.\"\n",
              "              style=\"display:none;\">\n",
              "        \n",
              "  <svg xmlns=\"http://www.w3.org/2000/svg\" height=\"24px\"viewBox=\"0 0 24 24\"\n",
              "       width=\"24px\">\n",
              "    <path d=\"M0 0h24v24H0V0z\" fill=\"none\"/>\n",
              "    <path d=\"M18.56 5.44l.94 2.06.94-2.06 2.06-.94-2.06-.94-.94-2.06-.94 2.06-2.06.94zm-11 1L8.5 8.5l.94-2.06 2.06-.94-2.06-.94L8.5 2.5l-.94 2.06-2.06.94zm10 10l.94 2.06.94-2.06 2.06-.94-2.06-.94-.94-2.06-.94 2.06-2.06.94z\"/><path d=\"M17.41 7.96l-1.37-1.37c-.4-.4-.92-.59-1.43-.59-.52 0-1.04.2-1.43.59L10.3 9.45l-7.72 7.72c-.78.78-.78 2.05 0 2.83L4 21.41c.39.39.9.59 1.41.59.51 0 1.02-.2 1.41-.59l7.78-7.78 2.81-2.81c.8-.78.8-2.07 0-2.86zM5.41 20L4 18.59l7.72-7.72 1.47 1.35L5.41 20z\"/>\n",
              "  </svg>\n",
              "      </button>\n",
              "      \n",
              "  <style>\n",
              "    .colab-df-container {\n",
              "      display:flex;\n",
              "      flex-wrap:wrap;\n",
              "      gap: 12px;\n",
              "    }\n",
              "\n",
              "    .colab-df-convert {\n",
              "      background-color: #E8F0FE;\n",
              "      border: none;\n",
              "      border-radius: 50%;\n",
              "      cursor: pointer;\n",
              "      display: none;\n",
              "      fill: #1967D2;\n",
              "      height: 32px;\n",
              "      padding: 0 0 0 0;\n",
              "      width: 32px;\n",
              "    }\n",
              "\n",
              "    .colab-df-convert:hover {\n",
              "      background-color: #E2EBFA;\n",
              "      box-shadow: 0px 1px 2px rgba(60, 64, 67, 0.3), 0px 1px 3px 1px rgba(60, 64, 67, 0.15);\n",
              "      fill: #174EA6;\n",
              "    }\n",
              "\n",
              "    [theme=dark] .colab-df-convert {\n",
              "      background-color: #3B4455;\n",
              "      fill: #D2E3FC;\n",
              "    }\n",
              "\n",
              "    [theme=dark] .colab-df-convert:hover {\n",
              "      background-color: #434B5C;\n",
              "      box-shadow: 0px 1px 3px 1px rgba(0, 0, 0, 0.15);\n",
              "      filter: drop-shadow(0px 1px 2px rgba(0, 0, 0, 0.3));\n",
              "      fill: #FFFFFF;\n",
              "    }\n",
              "  </style>\n",
              "\n",
              "      <script>\n",
              "        const buttonEl =\n",
              "          document.querySelector('#df-6f5a6ede-40fb-4dd8-ac9a-f34db3c9bdc7 button.colab-df-convert');\n",
              "        buttonEl.style.display =\n",
              "          google.colab.kernel.accessAllowed ? 'block' : 'none';\n",
              "\n",
              "        async function convertToInteractive(key) {\n",
              "          const element = document.querySelector('#df-6f5a6ede-40fb-4dd8-ac9a-f34db3c9bdc7');\n",
              "          const dataTable =\n",
              "            await google.colab.kernel.invokeFunction('convertToInteractive',\n",
              "                                                     [key], {});\n",
              "          if (!dataTable) return;\n",
              "\n",
              "          const docLinkHtml = 'Like what you see? Visit the ' +\n",
              "            '<a target=\"_blank\" href=https://colab.research.google.com/notebooks/data_table.ipynb>data table notebook</a>'\n",
              "            + ' to learn more about interactive tables.';\n",
              "          element.innerHTML = '';\n",
              "          dataTable['output_type'] = 'display_data';\n",
              "          await google.colab.output.renderOutput(dataTable, element);\n",
              "          const docLink = document.createElement('div');\n",
              "          docLink.innerHTML = docLinkHtml;\n",
              "          element.appendChild(docLink);\n",
              "        }\n",
              "      </script>\n",
              "    </div>\n",
              "  </div>\n",
              "  "
            ]
          },
          "metadata": {},
          "execution_count": 13
        }
      ],
      "source": [
        "X_train"
      ]
    },
    {
      "cell_type": "code",
      "execution_count": null,
      "metadata": {
        "colab": {
          "base_uri": "https://localhost:8080/",
          "height": 423
        },
        "id": "VpZHnnzNDIUY",
        "outputId": "f2303038-d996-4b91-e300-74a6f7485f68"
      },
      "outputs": [
        {
          "output_type": "execute_result",
          "data": {
            "text/plain": [
              "          Axial  Tangential    Radial\n",
              "14875 -0.914299    1.367432  0.858193\n",
              "2981   0.478256   -1.199625  1.930939\n",
              "7129   0.431837    0.105119 -1.495887\n",
              "2874   1.342800   -0.393442 -0.075493\n",
              "11533 -0.026545    0.494067  0.118198\n",
              "...         ...         ...       ...\n",
              "151   -0.159998    1.116384  0.778731\n",
              "13199 -3.212014   -3.833864  2.358051\n",
              "8437   0.222954    0.674397  0.257257\n",
              "3846   0.797383    1.020915 -0.249317\n",
              "8470   0.222954   -0.131786  0.743966\n",
              "\n",
              "[3422 rows x 3 columns]"
            ],
            "text/html": [
              "\n",
              "  <div id=\"df-721c8965-55ce-4b25-8456-0c3e9a5035c7\">\n",
              "    <div class=\"colab-df-container\">\n",
              "      <div>\n",
              "<style scoped>\n",
              "    .dataframe tbody tr th:only-of-type {\n",
              "        vertical-align: middle;\n",
              "    }\n",
              "\n",
              "    .dataframe tbody tr th {\n",
              "        vertical-align: top;\n",
              "    }\n",
              "\n",
              "    .dataframe thead th {\n",
              "        text-align: right;\n",
              "    }\n",
              "</style>\n",
              "<table border=\"1\" class=\"dataframe\">\n",
              "  <thead>\n",
              "    <tr style=\"text-align: right;\">\n",
              "      <th></th>\n",
              "      <th>Axial</th>\n",
              "      <th>Tangential</th>\n",
              "      <th>Radial</th>\n",
              "    </tr>\n",
              "  </thead>\n",
              "  <tbody>\n",
              "    <tr>\n",
              "      <th>14875</th>\n",
              "      <td>-0.914299</td>\n",
              "      <td>1.367432</td>\n",
              "      <td>0.858193</td>\n",
              "    </tr>\n",
              "    <tr>\n",
              "      <th>2981</th>\n",
              "      <td>0.478256</td>\n",
              "      <td>-1.199625</td>\n",
              "      <td>1.930939</td>\n",
              "    </tr>\n",
              "    <tr>\n",
              "      <th>7129</th>\n",
              "      <td>0.431837</td>\n",
              "      <td>0.105119</td>\n",
              "      <td>-1.495887</td>\n",
              "    </tr>\n",
              "    <tr>\n",
              "      <th>2874</th>\n",
              "      <td>1.342800</td>\n",
              "      <td>-0.393442</td>\n",
              "      <td>-0.075493</td>\n",
              "    </tr>\n",
              "    <tr>\n",
              "      <th>11533</th>\n",
              "      <td>-0.026545</td>\n",
              "      <td>0.494067</td>\n",
              "      <td>0.118198</td>\n",
              "    </tr>\n",
              "    <tr>\n",
              "      <th>...</th>\n",
              "      <td>...</td>\n",
              "      <td>...</td>\n",
              "      <td>...</td>\n",
              "    </tr>\n",
              "    <tr>\n",
              "      <th>151</th>\n",
              "      <td>-0.159998</td>\n",
              "      <td>1.116384</td>\n",
              "      <td>0.778731</td>\n",
              "    </tr>\n",
              "    <tr>\n",
              "      <th>13199</th>\n",
              "      <td>-3.212014</td>\n",
              "      <td>-3.833864</td>\n",
              "      <td>2.358051</td>\n",
              "    </tr>\n",
              "    <tr>\n",
              "      <th>8437</th>\n",
              "      <td>0.222954</td>\n",
              "      <td>0.674397</td>\n",
              "      <td>0.257257</td>\n",
              "    </tr>\n",
              "    <tr>\n",
              "      <th>3846</th>\n",
              "      <td>0.797383</td>\n",
              "      <td>1.020915</td>\n",
              "      <td>-0.249317</td>\n",
              "    </tr>\n",
              "    <tr>\n",
              "      <th>8470</th>\n",
              "      <td>0.222954</td>\n",
              "      <td>-0.131786</td>\n",
              "      <td>0.743966</td>\n",
              "    </tr>\n",
              "  </tbody>\n",
              "</table>\n",
              "<p>3422 rows × 3 columns</p>\n",
              "</div>\n",
              "      <button class=\"colab-df-convert\" onclick=\"convertToInteractive('df-721c8965-55ce-4b25-8456-0c3e9a5035c7')\"\n",
              "              title=\"Convert this dataframe to an interactive table.\"\n",
              "              style=\"display:none;\">\n",
              "        \n",
              "  <svg xmlns=\"http://www.w3.org/2000/svg\" height=\"24px\"viewBox=\"0 0 24 24\"\n",
              "       width=\"24px\">\n",
              "    <path d=\"M0 0h24v24H0V0z\" fill=\"none\"/>\n",
              "    <path d=\"M18.56 5.44l.94 2.06.94-2.06 2.06-.94-2.06-.94-.94-2.06-.94 2.06-2.06.94zm-11 1L8.5 8.5l.94-2.06 2.06-.94-2.06-.94L8.5 2.5l-.94 2.06-2.06.94zm10 10l.94 2.06.94-2.06 2.06-.94-2.06-.94-.94-2.06-.94 2.06-2.06.94z\"/><path d=\"M17.41 7.96l-1.37-1.37c-.4-.4-.92-.59-1.43-.59-.52 0-1.04.2-1.43.59L10.3 9.45l-7.72 7.72c-.78.78-.78 2.05 0 2.83L4 21.41c.39.39.9.59 1.41.59.51 0 1.02-.2 1.41-.59l7.78-7.78 2.81-2.81c.8-.78.8-2.07 0-2.86zM5.41 20L4 18.59l7.72-7.72 1.47 1.35L5.41 20z\"/>\n",
              "  </svg>\n",
              "      </button>\n",
              "      \n",
              "  <style>\n",
              "    .colab-df-container {\n",
              "      display:flex;\n",
              "      flex-wrap:wrap;\n",
              "      gap: 12px;\n",
              "    }\n",
              "\n",
              "    .colab-df-convert {\n",
              "      background-color: #E8F0FE;\n",
              "      border: none;\n",
              "      border-radius: 50%;\n",
              "      cursor: pointer;\n",
              "      display: none;\n",
              "      fill: #1967D2;\n",
              "      height: 32px;\n",
              "      padding: 0 0 0 0;\n",
              "      width: 32px;\n",
              "    }\n",
              "\n",
              "    .colab-df-convert:hover {\n",
              "      background-color: #E2EBFA;\n",
              "      box-shadow: 0px 1px 2px rgba(60, 64, 67, 0.3), 0px 1px 3px 1px rgba(60, 64, 67, 0.15);\n",
              "      fill: #174EA6;\n",
              "    }\n",
              "\n",
              "    [theme=dark] .colab-df-convert {\n",
              "      background-color: #3B4455;\n",
              "      fill: #D2E3FC;\n",
              "    }\n",
              "\n",
              "    [theme=dark] .colab-df-convert:hover {\n",
              "      background-color: #434B5C;\n",
              "      box-shadow: 0px 1px 3px 1px rgba(0, 0, 0, 0.15);\n",
              "      filter: drop-shadow(0px 1px 2px rgba(0, 0, 0, 0.3));\n",
              "      fill: #FFFFFF;\n",
              "    }\n",
              "  </style>\n",
              "\n",
              "      <script>\n",
              "        const buttonEl =\n",
              "          document.querySelector('#df-721c8965-55ce-4b25-8456-0c3e9a5035c7 button.colab-df-convert');\n",
              "        buttonEl.style.display =\n",
              "          google.colab.kernel.accessAllowed ? 'block' : 'none';\n",
              "\n",
              "        async function convertToInteractive(key) {\n",
              "          const element = document.querySelector('#df-721c8965-55ce-4b25-8456-0c3e9a5035c7');\n",
              "          const dataTable =\n",
              "            await google.colab.kernel.invokeFunction('convertToInteractive',\n",
              "                                                     [key], {});\n",
              "          if (!dataTable) return;\n",
              "\n",
              "          const docLinkHtml = 'Like what you see? Visit the ' +\n",
              "            '<a target=\"_blank\" href=https://colab.research.google.com/notebooks/data_table.ipynb>data table notebook</a>'\n",
              "            + ' to learn more about interactive tables.';\n",
              "          element.innerHTML = '';\n",
              "          dataTable['output_type'] = 'display_data';\n",
              "          await google.colab.output.renderOutput(dataTable, element);\n",
              "          const docLink = document.createElement('div');\n",
              "          docLink.innerHTML = docLinkHtml;\n",
              "          element.appendChild(docLink);\n",
              "        }\n",
              "      </script>\n",
              "    </div>\n",
              "  </div>\n",
              "  "
            ]
          },
          "metadata": {},
          "execution_count": 14
        }
      ],
      "source": [
        "x_test"
      ]
    },
    {
      "cell_type": "code",
      "execution_count": null,
      "metadata": {
        "colab": {
          "base_uri": "https://localhost:8080/"
        },
        "id": "b721eNbNDOuP",
        "outputId": "95733d1d-952d-49ff-daa2-b4329231feed"
      },
      "outputs": [
        {
          "output_type": "execute_result",
          "data": {
            "text/plain": [
              "14184    1\n",
              "1795     0\n",
              "8249     0\n",
              "2828     0\n",
              "11797    1\n",
              "        ..\n",
              "16356    1\n",
              "3740     0\n",
              "12090    1\n",
              "14770    1\n",
              "6162     0\n",
              "Name: fault, Length: 13684, dtype: int64"
            ]
          },
          "metadata": {},
          "execution_count": 15
        }
      ],
      "source": [
        "y_train"
      ]
    },
    {
      "cell_type": "code",
      "execution_count": null,
      "metadata": {
        "colab": {
          "base_uri": "https://localhost:8080/"
        },
        "id": "eBidIZOzDT37",
        "outputId": "743bf396-6ae0-4453-a946-f231c0a5a518"
      },
      "outputs": [
        {
          "output_type": "execute_result",
          "data": {
            "text/plain": [
              "14875    1\n",
              "2981     0\n",
              "7129     0\n",
              "2874     0\n",
              "11533    1\n",
              "        ..\n",
              "151      0\n",
              "13199    1\n",
              "8437     1\n",
              "3846     0\n",
              "8470     1\n",
              "Name: fault, Length: 3422, dtype: int64"
            ]
          },
          "metadata": {},
          "execution_count": 16
        }
      ],
      "source": [
        "y_test"
      ]
    },
    {
      "cell_type": "code",
      "execution_count": null,
      "metadata": {
        "id": "H8jE7SlmDXcX",
        "colab": {
          "base_uri": "https://localhost:8080/"
        },
        "outputId": "8aedbe43-8d67-4ecc-a3a2-f6a34d0b902c"
      },
      "outputs": [
        {
          "output_type": "stream",
          "name": "stdout",
          "text": [
            "Fitting 10 folds for each of 10800 candidates, totalling 108000 fits\n"
          ]
        },
        {
          "output_type": "execute_result",
          "data": {
            "text/plain": [
              "{'criterion': 'entropy',\n",
              " 'max_depth': 30,\n",
              " 'max_features': 'auto',\n",
              " 'min_samples_leaf': 5,\n",
              " 'min_samples_split': 10,\n",
              " 'splitter': 'best'}"
            ]
          },
          "metadata": {},
          "execution_count": 17
        }
      ],
      "source": [
        "#Decision Tree\n",
        "param_grid = {\n",
        "    'criterion' : ['gini', 'entropy'],\n",
        "    'max_depth':[4,5,6,7,8,9,10,11,12,15,20,30],\n",
        "    'min_samples_split' : range(10,500,20),\n",
        "    'splitter' : ['best', 'random'],\n",
        "    'min_samples_leaf': [5,8,11],\n",
        "    'max_features': ['log2', 'sqrt','auto']\n",
        "}\n",
        "\n",
        "# Create a based model\n",
        "dt = DecisionTreeClassifier()\n",
        "# Instantiate the grid search model\n",
        "dtClassifier = GridSearchCV(estimator = dt, param_grid = param_grid, \n",
        "                          cv = 10, n_jobs = -1, verbose = 2)\n",
        "\n",
        "dtClassifier.fit(X_train, y_train)\n",
        "dtClassifier.best_params_\n"
      ]
    },
    {
      "cell_type": "code",
      "source": [
        "print('Cross-validation Score:', dtClassifier.best_score_)\n",
        "print('Best Hyperparameters:', dtClassifier.best_params_)"
      ],
      "metadata": {
        "id": "pFHTM5r9oIVQ",
        "colab": {
          "base_uri": "https://localhost:8080/"
        },
        "outputId": "126cde19-a909-4c26-b448-2d82f8499287"
      },
      "execution_count": null,
      "outputs": [
        {
          "output_type": "stream",
          "name": "stdout",
          "text": [
            "Cross-validation Score: 0.8588871588515969\n",
            "Best Hyperparameters: {'criterion': 'entropy', 'max_depth': 30, 'max_features': 'auto', 'min_samples_leaf': 5, 'min_samples_split': 10, 'splitter': 'best'}\n"
          ]
        }
      ]
    },
    {
      "cell_type": "code",
      "source": [
        "from sklearn.metrics import roc_auc_score, roc_curve, confusion_matrix, precision_score, recall_score\n",
        "from sklearn.metrics import classification_report, average_precision_score, accuracy_score, f1_score\n",
        "y_pred_train = dtClassifier.predict(X_train)\n",
        "y_pred_train"
      ],
      "metadata": {
        "colab": {
          "base_uri": "https://localhost:8080/"
        },
        "id": "-TNOs8QNoMrf",
        "outputId": "9f6b3537-106b-4270-d360-71be86fc5870"
      },
      "execution_count": null,
      "outputs": [
        {
          "output_type": "execute_result",
          "data": {
            "text/plain": [
              "array([1, 0, 0, ..., 1, 1, 0])"
            ]
          },
          "metadata": {},
          "execution_count": 19
        }
      ]
    },
    {
      "cell_type": "code",
      "source": [
        "from sklearn.metrics import roc_auc_score, roc_curve, confusion_matrix, precision_score, recall_score\n",
        "from sklearn.metrics import classification_report, average_precision_score, accuracy_score, f1_score\n",
        "\n",
        "print(confusion_matrix(y_train, y_pred_train))\n",
        "print(classification_report(y_train, y_pred_train))"
      ],
      "metadata": {
        "colab": {
          "base_uri": "https://localhost:8080/"
        },
        "id": "oq9vR10-oTxD",
        "outputId": "b805afa8-5557-46f8-fb68-06c95b463385"
      },
      "execution_count": null,
      "outputs": [
        {
          "output_type": "stream",
          "name": "stdout",
          "text": [
            "[[6372  460]\n",
            " [ 707 6145]]\n",
            "              precision    recall  f1-score   support\n",
            "\n",
            "           0       0.90      0.93      0.92      6832\n",
            "           1       0.93      0.90      0.91      6852\n",
            "\n",
            "    accuracy                           0.91     13684\n",
            "   macro avg       0.92      0.91      0.91     13684\n",
            "weighted avg       0.92      0.91      0.91     13684\n",
            "\n"
          ]
        }
      ]
    },
    {
      "cell_type": "code",
      "source": [
        "from sklearn.metrics import roc_auc_score, roc_curve, confusion_matrix, precision_score, recall_score\n",
        "from sklearn.metrics import classification_report, average_precision_score, accuracy_score, f1_score\n",
        "y_pred_val = dtClassifier.predict(x_test)\n",
        "y_pred_val"
      ],
      "metadata": {
        "colab": {
          "base_uri": "https://localhost:8080/"
        },
        "id": "NrEY8zXg6zml",
        "outputId": "c0566e87-9217-4309-944e-8bcdb04a0c47"
      },
      "execution_count": null,
      "outputs": [
        {
          "output_type": "execute_result",
          "data": {
            "text/plain": [
              "array([1, 0, 0, ..., 1, 1, 1])"
            ]
          },
          "metadata": {},
          "execution_count": 21
        }
      ]
    },
    {
      "cell_type": "code",
      "source": [
        "from sklearn.metrics import roc_auc_score, roc_curve, confusion_matrix, precision_score, recall_score\n",
        "from sklearn.metrics import classification_report, average_precision_score, accuracy_score, f1_score\n",
        "\n",
        "print(confusion_matrix(y_test, y_pred_val))\n",
        "print(classification_report(y_test, y_pred_val))"
      ],
      "metadata": {
        "colab": {
          "base_uri": "https://localhost:8080/"
        },
        "id": "0-K-iU_y61y9",
        "outputId": "004ecd9a-8c36-4c21-9540-ca4a72a5e1de"
      },
      "execution_count": null,
      "outputs": [
        {
          "output_type": "stream",
          "name": "stdout",
          "text": [
            "[[1522  199]\n",
            " [ 265 1436]]\n",
            "              precision    recall  f1-score   support\n",
            "\n",
            "           0       0.85      0.88      0.87      1721\n",
            "           1       0.88      0.84      0.86      1701\n",
            "\n",
            "    accuracy                           0.86      3422\n",
            "   macro avg       0.86      0.86      0.86      3422\n",
            "weighted avg       0.86      0.86      0.86      3422\n",
            "\n"
          ]
        }
      ]
    },
    {
      "cell_type": "code",
      "source": [
        "import pickle\n",
        "with open('realtime_dtspike','wb') as f:\n",
        "  pickle.dump(dtClassifier,f)"
      ],
      "metadata": {
        "id": "dfPT6EOEL6-W"
      },
      "execution_count": null,
      "outputs": []
    },
    {
      "cell_type": "code",
      "source": [
        "knn = KNeighborsClassifier(algorithm = 'brute')\n",
        "\n",
        "k_range = list(range(1, 100))\n",
        "param_grid = dict(n_neighbors=k_range)\n",
        "\n",
        "# Instantiate the grid search model\n",
        "knnClassifier = GridSearchCV(estimator = knn, param_grid = param_grid, \n",
        "                          cv = 10, n_jobs = -1, verbose = 2)\n",
        "\n",
        "knnClassifier.fit(X_train, y_train)\n",
        "knnClassifier.best_params_"
      ],
      "metadata": {
        "colab": {
          "base_uri": "https://localhost:8080/"
        },
        "id": "QPTLz06_iixl",
        "outputId": "dc1af7f8-8303-459f-9202-552b369df5a7"
      },
      "execution_count": null,
      "outputs": [
        {
          "output_type": "stream",
          "name": "stdout",
          "text": [
            "Fitting 10 folds for each of 99 candidates, totalling 990 fits\n"
          ]
        },
        {
          "output_type": "execute_result",
          "data": {
            "text/plain": [
              "{'n_neighbors': 7}"
            ]
          },
          "metadata": {},
          "execution_count": 25
        }
      ]
    },
    {
      "cell_type": "code",
      "source": [
        "print('Cross-validation Score:', knnClassifier.best_score_)\n",
        "print('Best Hyperparameters:', knnClassifier.best_params_)"
      ],
      "metadata": {
        "colab": {
          "base_uri": "https://localhost:8080/"
        },
        "id": "vU920xgRGe6z",
        "outputId": "85a17311-3d94-44d1-a6de-d08003f211a9"
      },
      "execution_count": null,
      "outputs": [
        {
          "output_type": "stream",
          "name": "stdout",
          "text": [
            "Cross-validation Score: 0.8957915774949916\n",
            "Best Hyperparameters: {'n_neighbors': 7}\n"
          ]
        }
      ]
    },
    {
      "cell_type": "code",
      "source": [
        "from sklearn.metrics import roc_auc_score, roc_curve, confusion_matrix, precision_score, recall_score\n",
        "from sklearn.metrics import classification_report, average_precision_score, accuracy_score, f1_score\n",
        "y_pred_train = knnClassifier.predict(X_train)\n",
        "y_pred_train"
      ],
      "metadata": {
        "colab": {
          "base_uri": "https://localhost:8080/"
        },
        "id": "_zprX0Y7Gktt",
        "outputId": "7c35d853-5bac-4b14-c277-f6eb0099cbb1"
      },
      "execution_count": null,
      "outputs": [
        {
          "output_type": "execute_result",
          "data": {
            "text/plain": [
              "array([1, 0, 0, ..., 1, 0, 0])"
            ]
          },
          "metadata": {},
          "execution_count": 27
        }
      ]
    },
    {
      "cell_type": "code",
      "source": [
        "from sklearn.metrics import roc_auc_score, roc_curve, confusion_matrix, precision_score, recall_score\n",
        "from sklearn.metrics import classification_report, average_precision_score, accuracy_score, f1_score\n",
        "\n",
        "print(confusion_matrix(y_train, y_pred_train))\n",
        "print(classification_report(y_train, y_pred_train))"
      ],
      "metadata": {
        "colab": {
          "base_uri": "https://localhost:8080/"
        },
        "id": "XWDEN0v6Gn1P",
        "outputId": "470f4417-5550-461b-c928-c92b043b82cf"
      },
      "execution_count": null,
      "outputs": [
        {
          "output_type": "stream",
          "name": "stdout",
          "text": [
            "[[6512  320]\n",
            " [ 807 6045]]\n",
            "              precision    recall  f1-score   support\n",
            "\n",
            "           0       0.89      0.95      0.92      6832\n",
            "           1       0.95      0.88      0.91      6852\n",
            "\n",
            "    accuracy                           0.92     13684\n",
            "   macro avg       0.92      0.92      0.92     13684\n",
            "weighted avg       0.92      0.92      0.92     13684\n",
            "\n"
          ]
        }
      ]
    },
    {
      "cell_type": "code",
      "source": [
        "from sklearn.metrics import roc_auc_score, roc_curve, confusion_matrix, precision_score, recall_score\n",
        "from sklearn.metrics import classification_report, average_precision_score, accuracy_score, f1_score\n",
        "y_pred_val = knnClassifier.predict(x_test)\n",
        "y_pred_val"
      ],
      "metadata": {
        "colab": {
          "base_uri": "https://localhost:8080/"
        },
        "id": "ULUv1HAf7h3c",
        "outputId": "9faf8c2f-cbe0-4663-dfe2-51b17aba4a2e"
      },
      "execution_count": null,
      "outputs": [
        {
          "output_type": "execute_result",
          "data": {
            "text/plain": [
              "array([1, 0, 0, ..., 1, 1, 1])"
            ]
          },
          "metadata": {},
          "execution_count": 29
        }
      ]
    },
    {
      "cell_type": "code",
      "source": [
        "from sklearn.metrics import roc_auc_score, roc_curve, confusion_matrix, precision_score, recall_score\n",
        "from sklearn.metrics import classification_report, average_precision_score, accuracy_score, f1_score\n",
        "\n",
        "print(confusion_matrix(y_test, y_pred_val))\n",
        "print(classification_report(y_test, y_pred_val))"
      ],
      "metadata": {
        "colab": {
          "base_uri": "https://localhost:8080/"
        },
        "id": "sIU-8PQb7ja-",
        "outputId": "a39c1913-2dfb-4ecc-9a9f-7a148e003cbd"
      },
      "execution_count": null,
      "outputs": [
        {
          "output_type": "stream",
          "name": "stdout",
          "text": [
            "[[1612  109]\n",
            " [ 276 1425]]\n",
            "              precision    recall  f1-score   support\n",
            "\n",
            "           0       0.85      0.94      0.89      1721\n",
            "           1       0.93      0.84      0.88      1701\n",
            "\n",
            "    accuracy                           0.89      3422\n",
            "   macro avg       0.89      0.89      0.89      3422\n",
            "weighted avg       0.89      0.89      0.89      3422\n",
            "\n"
          ]
        }
      ]
    },
    {
      "cell_type": "code",
      "source": [
        "import pickle\n",
        "with open('realtime_knnspike','wb') as f:\n",
        "  pickle.dump(knnClassifier,f)"
      ],
      "metadata": {
        "id": "OA6VGFFPQs4a"
      },
      "execution_count": null,
      "outputs": []
    },
    {
      "cell_type": "code",
      "source": [
        "from sklearn.ensemble import RandomForestClassifier\n",
        "rf = RandomForestClassifier()\n",
        "\n",
        "param_grid = {\n",
        "    'bootstrap': [True],\n",
        "    'max_depth': [80, 90],\n",
        "    'max_features': [2, 3],\n",
        "    'min_samples_leaf': [3, 4, 5],\n",
        "    'min_samples_split': [8, 10, 12],\n",
        "    'n_estimators': [100, 200]\n",
        "}\n",
        "\n",
        "rfclassifier = GridSearchCV(estimator = rf, param_grid = param_grid, \n",
        "                          cv = 10, n_jobs = -1, verbose = 2)\n",
        "rfclassifier.fit(X_train, y_train)# fit function is where it trains\n",
        "rfclassifier.best_params_\n"
      ],
      "metadata": {
        "colab": {
          "base_uri": "https://localhost:8080/"
        },
        "id": "Snssz1J_dmeu",
        "outputId": "5be96f0b-cfa0-4f12-e580-c3abc9151136"
      },
      "execution_count": null,
      "outputs": [
        {
          "metadata": {
            "tags": null
          },
          "name": "stdout",
          "output_type": "stream",
          "text": [
            "Fitting 10 folds for each of 72 candidates, totalling 720 fits\n"
          ]
        }
      ]
    },
    {
      "cell_type": "code",
      "source": [
        "print('Cross-validation Score:', rfclassifier.best_score_)\n",
        "print('Best Hyperparameters:', rfclassifier.best_params_)"
      ],
      "metadata": {
        "id": "XVBIdUOp77wF"
      },
      "execution_count": null,
      "outputs": []
    },
    {
      "cell_type": "code",
      "source": [
        "from sklearn.metrics import roc_auc_score, roc_curve, confusion_matrix, precision_score, recall_score\n",
        "from sklearn.metrics import classification_report, average_precision_score, accuracy_score, f1_score\n",
        "y_pred_train = rfclassifier.predict(X_train)\n",
        "y_pred_train"
      ],
      "metadata": {
        "id": "RhBSYA5E8CYQ"
      },
      "execution_count": null,
      "outputs": []
    },
    {
      "cell_type": "code",
      "source": [
        "from sklearn.metrics import roc_auc_score, roc_curve, confusion_matrix, precision_score, recall_score\n",
        "from sklearn.metrics import classification_report, average_precision_score, accuracy_score, f1_score\n",
        "\n",
        "print(confusion_matrix(y_train, y_pred_train))\n",
        "print(classification_report(y_train, y_pred_train))"
      ],
      "metadata": {
        "colab": {
          "base_uri": "https://localhost:8080/"
        },
        "id": "JkSi-68G8FwZ",
        "outputId": "fa2bbef5-d382-4811-f209-fa393f5cf223"
      },
      "execution_count": 35,
      "outputs": [
        {
          "output_type": "stream",
          "name": "stdout",
          "text": [
            "[[6615  217]\n",
            " [ 392 6460]]\n",
            "              precision    recall  f1-score   support\n",
            "\n",
            "           0       0.94      0.97      0.96      6832\n",
            "           1       0.97      0.94      0.95      6852\n",
            "\n",
            "    accuracy                           0.96     13684\n",
            "   macro avg       0.96      0.96      0.96     13684\n",
            "weighted avg       0.96      0.96      0.96     13684\n",
            "\n"
          ]
        }
      ]
    },
    {
      "cell_type": "code",
      "source": [
        "from sklearn.metrics import roc_auc_score, roc_curve, confusion_matrix, precision_score, recall_score\n",
        "from sklearn.metrics import classification_report, average_precision_score, accuracy_score, f1_score\n",
        "y_pred_val = rfclassifier.predict(x_test)\n",
        "y_pred_val"
      ],
      "metadata": {
        "colab": {
          "base_uri": "https://localhost:8080/"
        },
        "id": "EsAsaSIX7xR8",
        "outputId": "574b8808-cdb1-4eef-c1f4-396b5e9c7d75"
      },
      "execution_count": 36,
      "outputs": [
        {
          "output_type": "execute_result",
          "data": {
            "text/plain": [
              "array([1, 0, 1, ..., 1, 0, 1])"
            ]
          },
          "metadata": {},
          "execution_count": 36
        }
      ]
    },
    {
      "cell_type": "code",
      "source": [
        "from sklearn.metrics import roc_auc_score, roc_curve, confusion_matrix, precision_score, recall_score\n",
        "from sklearn.metrics import classification_report, average_precision_score, accuracy_score, f1_score\n",
        "\n",
        "print(confusion_matrix(y_test, y_pred_val))\n",
        "print(classification_report(y_test, y_pred_val))"
      ],
      "metadata": {
        "colab": {
          "base_uri": "https://localhost:8080/"
        },
        "id": "sNQYgGA17zp_",
        "outputId": "b160e137-e32b-4a05-c89a-b543fb0d2032"
      },
      "execution_count": 37,
      "outputs": [
        {
          "output_type": "stream",
          "name": "stdout",
          "text": [
            "[[1567  154]\n",
            " [ 206 1495]]\n",
            "              precision    recall  f1-score   support\n",
            "\n",
            "           0       0.88      0.91      0.90      1721\n",
            "           1       0.91      0.88      0.89      1701\n",
            "\n",
            "    accuracy                           0.89      3422\n",
            "   macro avg       0.90      0.89      0.89      3422\n",
            "weighted avg       0.90      0.89      0.89      3422\n",
            "\n"
          ]
        }
      ]
    },
    {
      "cell_type": "code",
      "source": [
        "import pickle\n",
        "with open('realtime_rfspike','wb') as f:\n",
        "  pickle.dump(rfclassifier,f)"
      ],
      "metadata": {
        "id": "g82ZyEExQyyZ"
      },
      "execution_count": 40,
      "outputs": []
    },
    {
      "cell_type": "code",
      "execution_count": null,
      "metadata": {
        "id": "AYomS-TmHGQx"
      },
      "outputs": [],
      "source": [
        "import pickle\n",
        "\n",
        "with open('motor_fault_model','wb') as f:\n",
        "  pickle.dump(model,f)"
      ]
    },
    {
      "cell_type": "code",
      "execution_count": null,
      "metadata": {
        "id": "L-1InwREIaFD"
      },
      "outputs": [],
      "source": [
        "import pickle\n",
        "\n",
        "with open('motor_fault_model','rb') as f:\n",
        "  mod=pickle.load(f)"
      ]
    },
    {
      "cell_type": "code",
      "execution_count": null,
      "metadata": {
        "colab": {
          "base_uri": "https://localhost:8080/",
          "height": 73
        },
        "id": "b7dDhw3UKG65",
        "outputId": "65769ca0-9dd5-471d-d2ac-3ffeddef4a00"
      },
      "outputs": [
        {
          "output_type": "display_data",
          "data": {
            "text/plain": [
              "<IPython.core.display.HTML object>"
            ],
            "text/html": [
              "\n",
              "     <input type=\"file\" id=\"files-d14e54e0-29c4-44f7-846e-552da695e398\" name=\"files[]\" multiple disabled\n",
              "        style=\"border:none\" />\n",
              "     <output id=\"result-d14e54e0-29c4-44f7-846e-552da695e398\">\n",
              "      Upload widget is only available when the cell has been executed in the\n",
              "      current browser session. Please rerun this cell to enable.\n",
              "      </output>\n",
              "      <script>// Copyright 2017 Google LLC\n",
              "//\n",
              "// Licensed under the Apache License, Version 2.0 (the \"License\");\n",
              "// you may not use this file except in compliance with the License.\n",
              "// You may obtain a copy of the License at\n",
              "//\n",
              "//      http://www.apache.org/licenses/LICENSE-2.0\n",
              "//\n",
              "// Unless required by applicable law or agreed to in writing, software\n",
              "// distributed under the License is distributed on an \"AS IS\" BASIS,\n",
              "// WITHOUT WARRANTIES OR CONDITIONS OF ANY KIND, either express or implied.\n",
              "// See the License for the specific language governing permissions and\n",
              "// limitations under the License.\n",
              "\n",
              "/**\n",
              " * @fileoverview Helpers for google.colab Python module.\n",
              " */\n",
              "(function(scope) {\n",
              "function span(text, styleAttributes = {}) {\n",
              "  const element = document.createElement('span');\n",
              "  element.textContent = text;\n",
              "  for (const key of Object.keys(styleAttributes)) {\n",
              "    element.style[key] = styleAttributes[key];\n",
              "  }\n",
              "  return element;\n",
              "}\n",
              "\n",
              "// Max number of bytes which will be uploaded at a time.\n",
              "const MAX_PAYLOAD_SIZE = 100 * 1024;\n",
              "\n",
              "function _uploadFiles(inputId, outputId) {\n",
              "  const steps = uploadFilesStep(inputId, outputId);\n",
              "  const outputElement = document.getElementById(outputId);\n",
              "  // Cache steps on the outputElement to make it available for the next call\n",
              "  // to uploadFilesContinue from Python.\n",
              "  outputElement.steps = steps;\n",
              "\n",
              "  return _uploadFilesContinue(outputId);\n",
              "}\n",
              "\n",
              "// This is roughly an async generator (not supported in the browser yet),\n",
              "// where there are multiple asynchronous steps and the Python side is going\n",
              "// to poll for completion of each step.\n",
              "// This uses a Promise to block the python side on completion of each step,\n",
              "// then passes the result of the previous step as the input to the next step.\n",
              "function _uploadFilesContinue(outputId) {\n",
              "  const outputElement = document.getElementById(outputId);\n",
              "  const steps = outputElement.steps;\n",
              "\n",
              "  const next = steps.next(outputElement.lastPromiseValue);\n",
              "  return Promise.resolve(next.value.promise).then((value) => {\n",
              "    // Cache the last promise value to make it available to the next\n",
              "    // step of the generator.\n",
              "    outputElement.lastPromiseValue = value;\n",
              "    return next.value.response;\n",
              "  });\n",
              "}\n",
              "\n",
              "/**\n",
              " * Generator function which is called between each async step of the upload\n",
              " * process.\n",
              " * @param {string} inputId Element ID of the input file picker element.\n",
              " * @param {string} outputId Element ID of the output display.\n",
              " * @return {!Iterable<!Object>} Iterable of next steps.\n",
              " */\n",
              "function* uploadFilesStep(inputId, outputId) {\n",
              "  const inputElement = document.getElementById(inputId);\n",
              "  inputElement.disabled = false;\n",
              "\n",
              "  const outputElement = document.getElementById(outputId);\n",
              "  outputElement.innerHTML = '';\n",
              "\n",
              "  const pickedPromise = new Promise((resolve) => {\n",
              "    inputElement.addEventListener('change', (e) => {\n",
              "      resolve(e.target.files);\n",
              "    });\n",
              "  });\n",
              "\n",
              "  const cancel = document.createElement('button');\n",
              "  inputElement.parentElement.appendChild(cancel);\n",
              "  cancel.textContent = 'Cancel upload';\n",
              "  const cancelPromise = new Promise((resolve) => {\n",
              "    cancel.onclick = () => {\n",
              "      resolve(null);\n",
              "    };\n",
              "  });\n",
              "\n",
              "  // Wait for the user to pick the files.\n",
              "  const files = yield {\n",
              "    promise: Promise.race([pickedPromise, cancelPromise]),\n",
              "    response: {\n",
              "      action: 'starting',\n",
              "    }\n",
              "  };\n",
              "\n",
              "  cancel.remove();\n",
              "\n",
              "  // Disable the input element since further picks are not allowed.\n",
              "  inputElement.disabled = true;\n",
              "\n",
              "  if (!files) {\n",
              "    return {\n",
              "      response: {\n",
              "        action: 'complete',\n",
              "      }\n",
              "    };\n",
              "  }\n",
              "\n",
              "  for (const file of files) {\n",
              "    const li = document.createElement('li');\n",
              "    li.append(span(file.name, {fontWeight: 'bold'}));\n",
              "    li.append(span(\n",
              "        `(${file.type || 'n/a'}) - ${file.size} bytes, ` +\n",
              "        `last modified: ${\n",
              "            file.lastModifiedDate ? file.lastModifiedDate.toLocaleDateString() :\n",
              "                                    'n/a'} - `));\n",
              "    const percent = span('0% done');\n",
              "    li.appendChild(percent);\n",
              "\n",
              "    outputElement.appendChild(li);\n",
              "\n",
              "    const fileDataPromise = new Promise((resolve) => {\n",
              "      const reader = new FileReader();\n",
              "      reader.onload = (e) => {\n",
              "        resolve(e.target.result);\n",
              "      };\n",
              "      reader.readAsArrayBuffer(file);\n",
              "    });\n",
              "    // Wait for the data to be ready.\n",
              "    let fileData = yield {\n",
              "      promise: fileDataPromise,\n",
              "      response: {\n",
              "        action: 'continue',\n",
              "      }\n",
              "    };\n",
              "\n",
              "    // Use a chunked sending to avoid message size limits. See b/62115660.\n",
              "    let position = 0;\n",
              "    do {\n",
              "      const length = Math.min(fileData.byteLength - position, MAX_PAYLOAD_SIZE);\n",
              "      const chunk = new Uint8Array(fileData, position, length);\n",
              "      position += length;\n",
              "\n",
              "      const base64 = btoa(String.fromCharCode.apply(null, chunk));\n",
              "      yield {\n",
              "        response: {\n",
              "          action: 'append',\n",
              "          file: file.name,\n",
              "          data: base64,\n",
              "        },\n",
              "      };\n",
              "\n",
              "      let percentDone = fileData.byteLength === 0 ?\n",
              "          100 :\n",
              "          Math.round((position / fileData.byteLength) * 100);\n",
              "      percent.textContent = `${percentDone}% done`;\n",
              "\n",
              "    } while (position < fileData.byteLength);\n",
              "  }\n",
              "\n",
              "  // All done.\n",
              "  yield {\n",
              "    response: {\n",
              "      action: 'complete',\n",
              "    }\n",
              "  };\n",
              "}\n",
              "\n",
              "scope.google = scope.google || {};\n",
              "scope.google.colab = scope.google.colab || {};\n",
              "scope.google.colab._files = {\n",
              "  _uploadFiles,\n",
              "  _uploadFilesContinue,\n",
              "};\n",
              "})(self);\n",
              "</script> "
            ]
          },
          "metadata": {}
        },
        {
          "output_type": "stream",
          "name": "stdout",
          "text": [
            "Saving test_data - Copy.csv to test_data - Copy.csv\n"
          ]
        }
      ],
      "source": [
        "from google.colab import files\n",
        "uploaded = files.upload()"
      ]
    },
    {
      "cell_type": "code",
      "source": [
        "import pandas as pd\n",
        "import glob\n",
        "import os\n",
        "\n",
        "# setting the path for joining multiple files\n",
        "files = os.path.join(\"/content/drive/MyDrive/Data/\", \"test*.csv\")\n",
        "\n",
        "# list of merged files returned\n",
        "files = glob.glob(files)\n",
        "\n",
        "print(\"Resultant CSV after joining all CSV files at a particular location...\");\n",
        "\n",
        "# joining files with concat and read_csv\n",
        "test_data = pd.concat(map(pd.read_csv, files), ignore_index=True)\n",
        "print(test_data)"
      ],
      "metadata": {
        "colab": {
          "base_uri": "https://localhost:8080/"
        },
        "id": "wDGaIIYAcpop",
        "outputId": "1ecb5cfb-5c61-4087-bb90-32e5c2eadf55"
      },
      "execution_count": 38,
      "outputs": [
        {
          "output_type": "stream",
          "name": "stdout",
          "text": [
            "Resultant CSV after joining all CSV files at a particular location...\n",
            "    Axial  Tangential  Radial  fault\n",
            "0   -2.86        2.98   12.12      1\n",
            "1   -5.10       -1.92   12.91      1\n",
            "2   -1.26       -0.12    9.18      1\n",
            "3    0.47        1.29    9.14      1\n",
            "4   -2.12        2.39    8.59      1\n",
            "5   -1.88        0.94    9.30      1\n",
            "6   -1.88        2.43   10.67      1\n",
            "7   -1.37        1.84   10.40      1\n",
            "8   -0.67        2.43    9.81      1\n",
            "9   -1.73        2.59   10.47      1\n",
            "10  -1.33        3.65   11.92      1\n",
            "11  -0.04        2.59    9.89      1\n",
            "12  -0.98        3.88   10.43      1\n",
            "13   1.26        4.20    8.04      1\n",
            "14   0.86        3.45    7.77      1\n",
            "15  -1.84        2.16   10.90      1\n",
            "16   0.04        4.00    9.41      1\n",
            "17   1.53        4.04    7.49      1\n",
            "18  -3.73        0.55    7.73      1\n",
            "19  -0.86        3.10   10.59      1\n",
            "20   1.22        3.84    7.92      1\n",
            "21   1.02        2.94    7.45      1\n",
            "22  -0.31        2.47   10.04      1\n",
            "23   1.49        3.61    7.69      1\n",
            "24  -1.18        1.53    9.02      1\n",
            "25  -2.24        1.57   11.38      1\n",
            "26   0.31        0.00    6.20      0\n",
            "27  -0.08       -2.75   10.40      0\n",
            "28  -1.80        0.47   10.63      0\n",
            "29  -1.69        4.20    8.55      0\n",
            "30  -0.04        1.18    7.92      0\n",
            "31   0.51       -2.86   11.41      0\n",
            "32  -1.10       -0.35   11.38      0\n",
            "33  -2.94        1.96    9.73      0\n",
            "34   0.47        3.69   11.34      0\n",
            "35   1.41        0.27    7.41      0\n",
            "36  -0.94       -2.67    7.81      0\n",
            "37  -1.88        0.82   12.16      0\n",
            "38  -0.67        4.12   11.81      0\n",
            "39  -0.12        3.57    6.59      0\n",
            "40   0.90       -3.10    7.92      0\n",
            "41  -2.20       -2.75   13.69      0\n",
            "42  -1.26        4.31   12.79      0\n",
            "43   0.59        3.33    8.32      0\n",
            "44   1.61        0.16    9.38      0\n",
            "45   0.12       -2.20    9.53      0\n",
            "46  -2.00        0.39   10.32      0\n",
            "47  -1.53        4.43    9.22      0\n",
            "48   1.29        3.22    9.77      0\n",
            "49   0.27        0.35    5.88      0\n",
            "50  -1.77       -4.12   10.79      0\n",
            "51  -2.39        2.51   14.32      0\n"
          ]
        }
      ]
    },
    {
      "cell_type": "code",
      "source": [],
      "metadata": {
        "id": "_F7yk0KudXwB"
      },
      "execution_count": null,
      "outputs": []
    },
    {
      "cell_type": "code",
      "execution_count": 41,
      "metadata": {
        "colab": {
          "base_uri": "https://localhost:8080/",
          "height": 1000
        },
        "id": "M0k97FUrK12e",
        "outputId": "264db136-ef55-49b2-9172-4330d27c9dde"
      },
      "outputs": [
        {
          "output_type": "execute_result",
          "data": {
            "text/plain": [
              "    Axial  Tangential  Radial  fault\n",
              "0   -2.86        2.98   12.12      1\n",
              "1   -5.10       -1.92   12.91      1\n",
              "2   -1.26       -0.12    9.18      1\n",
              "3    0.47        1.29    9.14      1\n",
              "4   -2.12        2.39    8.59      1\n",
              "5   -1.88        0.94    9.30      1\n",
              "6   -1.88        2.43   10.67      1\n",
              "7   -1.37        1.84   10.40      1\n",
              "8   -0.67        2.43    9.81      1\n",
              "9   -1.73        2.59   10.47      1\n",
              "10  -1.33        3.65   11.92      1\n",
              "11  -0.04        2.59    9.89      1\n",
              "12  -0.98        3.88   10.43      1\n",
              "13   1.26        4.20    8.04      1\n",
              "14   0.86        3.45    7.77      1\n",
              "15  -1.84        2.16   10.90      1\n",
              "16   0.04        4.00    9.41      1\n",
              "17   1.53        4.04    7.49      1\n",
              "18  -3.73        0.55    7.73      1\n",
              "19  -0.86        3.10   10.59      1\n",
              "20   1.22        3.84    7.92      1\n",
              "21   1.02        2.94    7.45      1\n",
              "22  -0.31        2.47   10.04      1\n",
              "23   1.49        3.61    7.69      1\n",
              "24  -1.18        1.53    9.02      1\n",
              "25  -2.24        1.57   11.38      1\n",
              "26   0.31        0.00    6.20      0\n",
              "27  -0.08       -2.75   10.40      0\n",
              "28  -1.80        0.47   10.63      0\n",
              "29  -1.69        4.20    8.55      0\n",
              "30  -0.04        1.18    7.92      0\n",
              "31   0.51       -2.86   11.41      0\n",
              "32  -1.10       -0.35   11.38      0\n",
              "33  -2.94        1.96    9.73      0\n",
              "34   0.47        3.69   11.34      0\n",
              "35   1.41        0.27    7.41      0\n",
              "36  -0.94       -2.67    7.81      0\n",
              "37  -1.88        0.82   12.16      0\n",
              "38  -0.67        4.12   11.81      0\n",
              "39  -0.12        3.57    6.59      0\n",
              "40   0.90       -3.10    7.92      0\n",
              "41  -2.20       -2.75   13.69      0\n",
              "42  -1.26        4.31   12.79      0\n",
              "43   0.59        3.33    8.32      0\n",
              "44   1.61        0.16    9.38      0\n",
              "45   0.12       -2.20    9.53      0\n",
              "46  -2.00        0.39   10.32      0\n",
              "47  -1.53        4.43    9.22      0\n",
              "48   1.29        3.22    9.77      0\n",
              "49   0.27        0.35    5.88      0\n",
              "50  -1.77       -4.12   10.79      0\n",
              "51  -2.39        2.51   14.32      0"
            ],
            "text/html": [
              "\n",
              "  <div id=\"df-6657396e-1d12-4fde-bb6b-124202f729b8\">\n",
              "    <div class=\"colab-df-container\">\n",
              "      <div>\n",
              "<style scoped>\n",
              "    .dataframe tbody tr th:only-of-type {\n",
              "        vertical-align: middle;\n",
              "    }\n",
              "\n",
              "    .dataframe tbody tr th {\n",
              "        vertical-align: top;\n",
              "    }\n",
              "\n",
              "    .dataframe thead th {\n",
              "        text-align: right;\n",
              "    }\n",
              "</style>\n",
              "<table border=\"1\" class=\"dataframe\">\n",
              "  <thead>\n",
              "    <tr style=\"text-align: right;\">\n",
              "      <th></th>\n",
              "      <th>Axial</th>\n",
              "      <th>Tangential</th>\n",
              "      <th>Radial</th>\n",
              "      <th>fault</th>\n",
              "    </tr>\n",
              "  </thead>\n",
              "  <tbody>\n",
              "    <tr>\n",
              "      <th>0</th>\n",
              "      <td>-2.86</td>\n",
              "      <td>2.98</td>\n",
              "      <td>12.12</td>\n",
              "      <td>1</td>\n",
              "    </tr>\n",
              "    <tr>\n",
              "      <th>1</th>\n",
              "      <td>-5.10</td>\n",
              "      <td>-1.92</td>\n",
              "      <td>12.91</td>\n",
              "      <td>1</td>\n",
              "    </tr>\n",
              "    <tr>\n",
              "      <th>2</th>\n",
              "      <td>-1.26</td>\n",
              "      <td>-0.12</td>\n",
              "      <td>9.18</td>\n",
              "      <td>1</td>\n",
              "    </tr>\n",
              "    <tr>\n",
              "      <th>3</th>\n",
              "      <td>0.47</td>\n",
              "      <td>1.29</td>\n",
              "      <td>9.14</td>\n",
              "      <td>1</td>\n",
              "    </tr>\n",
              "    <tr>\n",
              "      <th>4</th>\n",
              "      <td>-2.12</td>\n",
              "      <td>2.39</td>\n",
              "      <td>8.59</td>\n",
              "      <td>1</td>\n",
              "    </tr>\n",
              "    <tr>\n",
              "      <th>5</th>\n",
              "      <td>-1.88</td>\n",
              "      <td>0.94</td>\n",
              "      <td>9.30</td>\n",
              "      <td>1</td>\n",
              "    </tr>\n",
              "    <tr>\n",
              "      <th>6</th>\n",
              "      <td>-1.88</td>\n",
              "      <td>2.43</td>\n",
              "      <td>10.67</td>\n",
              "      <td>1</td>\n",
              "    </tr>\n",
              "    <tr>\n",
              "      <th>7</th>\n",
              "      <td>-1.37</td>\n",
              "      <td>1.84</td>\n",
              "      <td>10.40</td>\n",
              "      <td>1</td>\n",
              "    </tr>\n",
              "    <tr>\n",
              "      <th>8</th>\n",
              "      <td>-0.67</td>\n",
              "      <td>2.43</td>\n",
              "      <td>9.81</td>\n",
              "      <td>1</td>\n",
              "    </tr>\n",
              "    <tr>\n",
              "      <th>9</th>\n",
              "      <td>-1.73</td>\n",
              "      <td>2.59</td>\n",
              "      <td>10.47</td>\n",
              "      <td>1</td>\n",
              "    </tr>\n",
              "    <tr>\n",
              "      <th>10</th>\n",
              "      <td>-1.33</td>\n",
              "      <td>3.65</td>\n",
              "      <td>11.92</td>\n",
              "      <td>1</td>\n",
              "    </tr>\n",
              "    <tr>\n",
              "      <th>11</th>\n",
              "      <td>-0.04</td>\n",
              "      <td>2.59</td>\n",
              "      <td>9.89</td>\n",
              "      <td>1</td>\n",
              "    </tr>\n",
              "    <tr>\n",
              "      <th>12</th>\n",
              "      <td>-0.98</td>\n",
              "      <td>3.88</td>\n",
              "      <td>10.43</td>\n",
              "      <td>1</td>\n",
              "    </tr>\n",
              "    <tr>\n",
              "      <th>13</th>\n",
              "      <td>1.26</td>\n",
              "      <td>4.20</td>\n",
              "      <td>8.04</td>\n",
              "      <td>1</td>\n",
              "    </tr>\n",
              "    <tr>\n",
              "      <th>14</th>\n",
              "      <td>0.86</td>\n",
              "      <td>3.45</td>\n",
              "      <td>7.77</td>\n",
              "      <td>1</td>\n",
              "    </tr>\n",
              "    <tr>\n",
              "      <th>15</th>\n",
              "      <td>-1.84</td>\n",
              "      <td>2.16</td>\n",
              "      <td>10.90</td>\n",
              "      <td>1</td>\n",
              "    </tr>\n",
              "    <tr>\n",
              "      <th>16</th>\n",
              "      <td>0.04</td>\n",
              "      <td>4.00</td>\n",
              "      <td>9.41</td>\n",
              "      <td>1</td>\n",
              "    </tr>\n",
              "    <tr>\n",
              "      <th>17</th>\n",
              "      <td>1.53</td>\n",
              "      <td>4.04</td>\n",
              "      <td>7.49</td>\n",
              "      <td>1</td>\n",
              "    </tr>\n",
              "    <tr>\n",
              "      <th>18</th>\n",
              "      <td>-3.73</td>\n",
              "      <td>0.55</td>\n",
              "      <td>7.73</td>\n",
              "      <td>1</td>\n",
              "    </tr>\n",
              "    <tr>\n",
              "      <th>19</th>\n",
              "      <td>-0.86</td>\n",
              "      <td>3.10</td>\n",
              "      <td>10.59</td>\n",
              "      <td>1</td>\n",
              "    </tr>\n",
              "    <tr>\n",
              "      <th>20</th>\n",
              "      <td>1.22</td>\n",
              "      <td>3.84</td>\n",
              "      <td>7.92</td>\n",
              "      <td>1</td>\n",
              "    </tr>\n",
              "    <tr>\n",
              "      <th>21</th>\n",
              "      <td>1.02</td>\n",
              "      <td>2.94</td>\n",
              "      <td>7.45</td>\n",
              "      <td>1</td>\n",
              "    </tr>\n",
              "    <tr>\n",
              "      <th>22</th>\n",
              "      <td>-0.31</td>\n",
              "      <td>2.47</td>\n",
              "      <td>10.04</td>\n",
              "      <td>1</td>\n",
              "    </tr>\n",
              "    <tr>\n",
              "      <th>23</th>\n",
              "      <td>1.49</td>\n",
              "      <td>3.61</td>\n",
              "      <td>7.69</td>\n",
              "      <td>1</td>\n",
              "    </tr>\n",
              "    <tr>\n",
              "      <th>24</th>\n",
              "      <td>-1.18</td>\n",
              "      <td>1.53</td>\n",
              "      <td>9.02</td>\n",
              "      <td>1</td>\n",
              "    </tr>\n",
              "    <tr>\n",
              "      <th>25</th>\n",
              "      <td>-2.24</td>\n",
              "      <td>1.57</td>\n",
              "      <td>11.38</td>\n",
              "      <td>1</td>\n",
              "    </tr>\n",
              "    <tr>\n",
              "      <th>26</th>\n",
              "      <td>0.31</td>\n",
              "      <td>0.00</td>\n",
              "      <td>6.20</td>\n",
              "      <td>0</td>\n",
              "    </tr>\n",
              "    <tr>\n",
              "      <th>27</th>\n",
              "      <td>-0.08</td>\n",
              "      <td>-2.75</td>\n",
              "      <td>10.40</td>\n",
              "      <td>0</td>\n",
              "    </tr>\n",
              "    <tr>\n",
              "      <th>28</th>\n",
              "      <td>-1.80</td>\n",
              "      <td>0.47</td>\n",
              "      <td>10.63</td>\n",
              "      <td>0</td>\n",
              "    </tr>\n",
              "    <tr>\n",
              "      <th>29</th>\n",
              "      <td>-1.69</td>\n",
              "      <td>4.20</td>\n",
              "      <td>8.55</td>\n",
              "      <td>0</td>\n",
              "    </tr>\n",
              "    <tr>\n",
              "      <th>30</th>\n",
              "      <td>-0.04</td>\n",
              "      <td>1.18</td>\n",
              "      <td>7.92</td>\n",
              "      <td>0</td>\n",
              "    </tr>\n",
              "    <tr>\n",
              "      <th>31</th>\n",
              "      <td>0.51</td>\n",
              "      <td>-2.86</td>\n",
              "      <td>11.41</td>\n",
              "      <td>0</td>\n",
              "    </tr>\n",
              "    <tr>\n",
              "      <th>32</th>\n",
              "      <td>-1.10</td>\n",
              "      <td>-0.35</td>\n",
              "      <td>11.38</td>\n",
              "      <td>0</td>\n",
              "    </tr>\n",
              "    <tr>\n",
              "      <th>33</th>\n",
              "      <td>-2.94</td>\n",
              "      <td>1.96</td>\n",
              "      <td>9.73</td>\n",
              "      <td>0</td>\n",
              "    </tr>\n",
              "    <tr>\n",
              "      <th>34</th>\n",
              "      <td>0.47</td>\n",
              "      <td>3.69</td>\n",
              "      <td>11.34</td>\n",
              "      <td>0</td>\n",
              "    </tr>\n",
              "    <tr>\n",
              "      <th>35</th>\n",
              "      <td>1.41</td>\n",
              "      <td>0.27</td>\n",
              "      <td>7.41</td>\n",
              "      <td>0</td>\n",
              "    </tr>\n",
              "    <tr>\n",
              "      <th>36</th>\n",
              "      <td>-0.94</td>\n",
              "      <td>-2.67</td>\n",
              "      <td>7.81</td>\n",
              "      <td>0</td>\n",
              "    </tr>\n",
              "    <tr>\n",
              "      <th>37</th>\n",
              "      <td>-1.88</td>\n",
              "      <td>0.82</td>\n",
              "      <td>12.16</td>\n",
              "      <td>0</td>\n",
              "    </tr>\n",
              "    <tr>\n",
              "      <th>38</th>\n",
              "      <td>-0.67</td>\n",
              "      <td>4.12</td>\n",
              "      <td>11.81</td>\n",
              "      <td>0</td>\n",
              "    </tr>\n",
              "    <tr>\n",
              "      <th>39</th>\n",
              "      <td>-0.12</td>\n",
              "      <td>3.57</td>\n",
              "      <td>6.59</td>\n",
              "      <td>0</td>\n",
              "    </tr>\n",
              "    <tr>\n",
              "      <th>40</th>\n",
              "      <td>0.90</td>\n",
              "      <td>-3.10</td>\n",
              "      <td>7.92</td>\n",
              "      <td>0</td>\n",
              "    </tr>\n",
              "    <tr>\n",
              "      <th>41</th>\n",
              "      <td>-2.20</td>\n",
              "      <td>-2.75</td>\n",
              "      <td>13.69</td>\n",
              "      <td>0</td>\n",
              "    </tr>\n",
              "    <tr>\n",
              "      <th>42</th>\n",
              "      <td>-1.26</td>\n",
              "      <td>4.31</td>\n",
              "      <td>12.79</td>\n",
              "      <td>0</td>\n",
              "    </tr>\n",
              "    <tr>\n",
              "      <th>43</th>\n",
              "      <td>0.59</td>\n",
              "      <td>3.33</td>\n",
              "      <td>8.32</td>\n",
              "      <td>0</td>\n",
              "    </tr>\n",
              "    <tr>\n",
              "      <th>44</th>\n",
              "      <td>1.61</td>\n",
              "      <td>0.16</td>\n",
              "      <td>9.38</td>\n",
              "      <td>0</td>\n",
              "    </tr>\n",
              "    <tr>\n",
              "      <th>45</th>\n",
              "      <td>0.12</td>\n",
              "      <td>-2.20</td>\n",
              "      <td>9.53</td>\n",
              "      <td>0</td>\n",
              "    </tr>\n",
              "    <tr>\n",
              "      <th>46</th>\n",
              "      <td>-2.00</td>\n",
              "      <td>0.39</td>\n",
              "      <td>10.32</td>\n",
              "      <td>0</td>\n",
              "    </tr>\n",
              "    <tr>\n",
              "      <th>47</th>\n",
              "      <td>-1.53</td>\n",
              "      <td>4.43</td>\n",
              "      <td>9.22</td>\n",
              "      <td>0</td>\n",
              "    </tr>\n",
              "    <tr>\n",
              "      <th>48</th>\n",
              "      <td>1.29</td>\n",
              "      <td>3.22</td>\n",
              "      <td>9.77</td>\n",
              "      <td>0</td>\n",
              "    </tr>\n",
              "    <tr>\n",
              "      <th>49</th>\n",
              "      <td>0.27</td>\n",
              "      <td>0.35</td>\n",
              "      <td>5.88</td>\n",
              "      <td>0</td>\n",
              "    </tr>\n",
              "    <tr>\n",
              "      <th>50</th>\n",
              "      <td>-1.77</td>\n",
              "      <td>-4.12</td>\n",
              "      <td>10.79</td>\n",
              "      <td>0</td>\n",
              "    </tr>\n",
              "    <tr>\n",
              "      <th>51</th>\n",
              "      <td>-2.39</td>\n",
              "      <td>2.51</td>\n",
              "      <td>14.32</td>\n",
              "      <td>0</td>\n",
              "    </tr>\n",
              "  </tbody>\n",
              "</table>\n",
              "</div>\n",
              "      <button class=\"colab-df-convert\" onclick=\"convertToInteractive('df-6657396e-1d12-4fde-bb6b-124202f729b8')\"\n",
              "              title=\"Convert this dataframe to an interactive table.\"\n",
              "              style=\"display:none;\">\n",
              "        \n",
              "  <svg xmlns=\"http://www.w3.org/2000/svg\" height=\"24px\"viewBox=\"0 0 24 24\"\n",
              "       width=\"24px\">\n",
              "    <path d=\"M0 0h24v24H0V0z\" fill=\"none\"/>\n",
              "    <path d=\"M18.56 5.44l.94 2.06.94-2.06 2.06-.94-2.06-.94-.94-2.06-.94 2.06-2.06.94zm-11 1L8.5 8.5l.94-2.06 2.06-.94-2.06-.94L8.5 2.5l-.94 2.06-2.06.94zm10 10l.94 2.06.94-2.06 2.06-.94-2.06-.94-.94-2.06-.94 2.06-2.06.94z\"/><path d=\"M17.41 7.96l-1.37-1.37c-.4-.4-.92-.59-1.43-.59-.52 0-1.04.2-1.43.59L10.3 9.45l-7.72 7.72c-.78.78-.78 2.05 0 2.83L4 21.41c.39.39.9.59 1.41.59.51 0 1.02-.2 1.41-.59l7.78-7.78 2.81-2.81c.8-.78.8-2.07 0-2.86zM5.41 20L4 18.59l7.72-7.72 1.47 1.35L5.41 20z\"/>\n",
              "  </svg>\n",
              "      </button>\n",
              "      \n",
              "  <style>\n",
              "    .colab-df-container {\n",
              "      display:flex;\n",
              "      flex-wrap:wrap;\n",
              "      gap: 12px;\n",
              "    }\n",
              "\n",
              "    .colab-df-convert {\n",
              "      background-color: #E8F0FE;\n",
              "      border: none;\n",
              "      border-radius: 50%;\n",
              "      cursor: pointer;\n",
              "      display: none;\n",
              "      fill: #1967D2;\n",
              "      height: 32px;\n",
              "      padding: 0 0 0 0;\n",
              "      width: 32px;\n",
              "    }\n",
              "\n",
              "    .colab-df-convert:hover {\n",
              "      background-color: #E2EBFA;\n",
              "      box-shadow: 0px 1px 2px rgba(60, 64, 67, 0.3), 0px 1px 3px 1px rgba(60, 64, 67, 0.15);\n",
              "      fill: #174EA6;\n",
              "    }\n",
              "\n",
              "    [theme=dark] .colab-df-convert {\n",
              "      background-color: #3B4455;\n",
              "      fill: #D2E3FC;\n",
              "    }\n",
              "\n",
              "    [theme=dark] .colab-df-convert:hover {\n",
              "      background-color: #434B5C;\n",
              "      box-shadow: 0px 1px 3px 1px rgba(0, 0, 0, 0.15);\n",
              "      filter: drop-shadow(0px 1px 2px rgba(0, 0, 0, 0.3));\n",
              "      fill: #FFFFFF;\n",
              "    }\n",
              "  </style>\n",
              "\n",
              "      <script>\n",
              "        const buttonEl =\n",
              "          document.querySelector('#df-6657396e-1d12-4fde-bb6b-124202f729b8 button.colab-df-convert');\n",
              "        buttonEl.style.display =\n",
              "          google.colab.kernel.accessAllowed ? 'block' : 'none';\n",
              "\n",
              "        async function convertToInteractive(key) {\n",
              "          const element = document.querySelector('#df-6657396e-1d12-4fde-bb6b-124202f729b8');\n",
              "          const dataTable =\n",
              "            await google.colab.kernel.invokeFunction('convertToInteractive',\n",
              "                                                     [key], {});\n",
              "          if (!dataTable) return;\n",
              "\n",
              "          const docLinkHtml = 'Like what you see? Visit the ' +\n",
              "            '<a target=\"_blank\" href=https://colab.research.google.com/notebooks/data_table.ipynb>data table notebook</a>'\n",
              "            + ' to learn more about interactive tables.';\n",
              "          element.innerHTML = '';\n",
              "          dataTable['output_type'] = 'display_data';\n",
              "          await google.colab.output.renderOutput(dataTable, element);\n",
              "          const docLink = document.createElement('div');\n",
              "          docLink.innerHTML = docLinkHtml;\n",
              "          element.appendChild(docLink);\n",
              "        }\n",
              "      </script>\n",
              "    </div>\n",
              "  </div>\n",
              "  "
            ]
          },
          "metadata": {},
          "execution_count": 41
        }
      ],
      "source": [
        "#test_data = pd.read_csv('test_data - Copy.csv' )\n",
        "test_data"
      ]
    },
    {
      "cell_type": "code",
      "execution_count": 42,
      "metadata": {
        "colab": {
          "base_uri": "https://localhost:8080/"
        },
        "id": "zoRDVAXpLCzB",
        "outputId": "df808d5c-f4d3-441f-d6a9-13cd4b6a1967"
      },
      "outputs": [
        {
          "output_type": "execute_result",
          "data": {
            "text/plain": [
              "1    26\n",
              "0    26\n",
              "Name: fault, dtype: int64"
            ]
          },
          "metadata": {},
          "execution_count": 42
        }
      ],
      "source": [
        "test_data.fault.value_counts()"
      ]
    },
    {
      "cell_type": "code",
      "execution_count": 43,
      "metadata": {
        "id": "mnCI7I0lLMuc"
      },
      "outputs": [],
      "source": [
        "x = test_data.drop('fault', axis=1)\n",
        "y = test_data['fault']"
      ]
    },
    {
      "cell_type": "code",
      "source": [
        "SS = StandardScaler()\n",
        "dff_scaled = pd.DataFrame(SS.fit_transform(x), columns = x.columns)\n",
        "dff_scaled"
      ],
      "metadata": {
        "colab": {
          "base_uri": "https://localhost:8080/",
          "height": 1000
        },
        "id": "jNZatoyhd1NX",
        "outputId": "24b64121-a1f4-4e6b-9bfe-563a5bd8b574"
      },
      "execution_count": 44,
      "outputs": [
        {
          "output_type": "execute_result",
          "data": {
            "text/plain": [
              "       Axial  Tangential    Radial\n",
              "0  -1.447220    0.625104  1.279050\n",
              "1  -2.975526   -1.517149  1.700375\n",
              "2  -0.355573   -0.730199 -0.288917\n",
              "3   0.824771   -0.113755 -0.310250\n",
              "4  -0.942333    0.367159 -0.603577\n",
              "5  -0.778586   -0.266773 -0.224918\n",
              "6  -0.778586    0.384647  0.505733\n",
              "7  -0.430623    0.126702  0.361736\n",
              "8   0.046972    0.384647  0.047076\n",
              "9  -0.676244    0.454598  0.399069\n",
              "10 -0.403332    0.918024  1.172386\n",
              "11  0.476808    0.454598  0.089742\n",
              "12 -0.164534    1.018579  0.377736\n",
              "13  1.363772    1.158481 -0.896904\n",
              "14  1.090860    0.830585 -1.040901\n",
              "15 -0.751295    0.266605  0.628397\n",
              "16  0.531391    1.071042 -0.166253\n",
              "17  1.547987    1.088530 -1.190232\n",
              "18 -2.040803   -0.437279 -1.062234\n",
              "19 -0.082661    0.677567  0.463067\n",
              "20  1.336481    1.001091 -0.960903\n",
              "21  1.200025    0.607616 -1.211564\n",
              "22  0.292593    0.402135  0.169740\n",
              "23  1.520696    0.900537 -1.083567\n",
              "24 -0.300990   -0.008828 -0.374249\n",
              "25 -1.024207    0.008660  0.884392\n",
              "26  0.715606   -0.677736 -1.878217\n",
              "27  0.449517   -1.880020  0.361736\n",
              "28 -0.724004   -0.472254  0.484400\n",
              "29 -0.648953    1.158481 -0.624910\n",
              "30  0.476808   -0.161846 -0.960903\n",
              "31  0.852062   -1.928112  0.900391\n",
              "32 -0.246408   -0.830754  0.884392\n",
              "33 -1.501802    0.179166  0.004410\n",
              "34  0.824771    0.935512  0.863059\n",
              "35  1.466114   -0.559693 -1.232897\n",
              "36 -0.137243   -1.845045 -1.019568\n",
              "37 -0.778586   -0.319236  1.300383\n",
              "38  0.046972    1.123506  1.113720\n",
              "39  0.422226    0.883049 -1.670221\n",
              "40  1.118151   -2.033038 -0.960903\n",
              "41 -0.996915   -1.880020  2.116366\n",
              "42 -0.355573    1.206573  1.636376\n",
              "43  0.906645    0.778122 -0.747574\n",
              "44  1.602570   -0.607784 -0.182253\n",
              "45  0.585973   -1.639563 -0.102254\n",
              "46 -0.860460   -0.507230  0.319070\n",
              "47 -0.539788    1.259036 -0.267584\n",
              "48  1.384240    0.730031  0.025743\n",
              "49  0.688315   -0.524717 -2.048880\n",
              "50 -0.703535   -2.478977  0.569732\n",
              "51 -1.126549    0.419623  2.452359"
            ],
            "text/html": [
              "\n",
              "  <div id=\"df-7cd22b9c-2fb7-4d7c-81c2-dc7c2d655253\">\n",
              "    <div class=\"colab-df-container\">\n",
              "      <div>\n",
              "<style scoped>\n",
              "    .dataframe tbody tr th:only-of-type {\n",
              "        vertical-align: middle;\n",
              "    }\n",
              "\n",
              "    .dataframe tbody tr th {\n",
              "        vertical-align: top;\n",
              "    }\n",
              "\n",
              "    .dataframe thead th {\n",
              "        text-align: right;\n",
              "    }\n",
              "</style>\n",
              "<table border=\"1\" class=\"dataframe\">\n",
              "  <thead>\n",
              "    <tr style=\"text-align: right;\">\n",
              "      <th></th>\n",
              "      <th>Axial</th>\n",
              "      <th>Tangential</th>\n",
              "      <th>Radial</th>\n",
              "    </tr>\n",
              "  </thead>\n",
              "  <tbody>\n",
              "    <tr>\n",
              "      <th>0</th>\n",
              "      <td>-1.447220</td>\n",
              "      <td>0.625104</td>\n",
              "      <td>1.279050</td>\n",
              "    </tr>\n",
              "    <tr>\n",
              "      <th>1</th>\n",
              "      <td>-2.975526</td>\n",
              "      <td>-1.517149</td>\n",
              "      <td>1.700375</td>\n",
              "    </tr>\n",
              "    <tr>\n",
              "      <th>2</th>\n",
              "      <td>-0.355573</td>\n",
              "      <td>-0.730199</td>\n",
              "      <td>-0.288917</td>\n",
              "    </tr>\n",
              "    <tr>\n",
              "      <th>3</th>\n",
              "      <td>0.824771</td>\n",
              "      <td>-0.113755</td>\n",
              "      <td>-0.310250</td>\n",
              "    </tr>\n",
              "    <tr>\n",
              "      <th>4</th>\n",
              "      <td>-0.942333</td>\n",
              "      <td>0.367159</td>\n",
              "      <td>-0.603577</td>\n",
              "    </tr>\n",
              "    <tr>\n",
              "      <th>5</th>\n",
              "      <td>-0.778586</td>\n",
              "      <td>-0.266773</td>\n",
              "      <td>-0.224918</td>\n",
              "    </tr>\n",
              "    <tr>\n",
              "      <th>6</th>\n",
              "      <td>-0.778586</td>\n",
              "      <td>0.384647</td>\n",
              "      <td>0.505733</td>\n",
              "    </tr>\n",
              "    <tr>\n",
              "      <th>7</th>\n",
              "      <td>-0.430623</td>\n",
              "      <td>0.126702</td>\n",
              "      <td>0.361736</td>\n",
              "    </tr>\n",
              "    <tr>\n",
              "      <th>8</th>\n",
              "      <td>0.046972</td>\n",
              "      <td>0.384647</td>\n",
              "      <td>0.047076</td>\n",
              "    </tr>\n",
              "    <tr>\n",
              "      <th>9</th>\n",
              "      <td>-0.676244</td>\n",
              "      <td>0.454598</td>\n",
              "      <td>0.399069</td>\n",
              "    </tr>\n",
              "    <tr>\n",
              "      <th>10</th>\n",
              "      <td>-0.403332</td>\n",
              "      <td>0.918024</td>\n",
              "      <td>1.172386</td>\n",
              "    </tr>\n",
              "    <tr>\n",
              "      <th>11</th>\n",
              "      <td>0.476808</td>\n",
              "      <td>0.454598</td>\n",
              "      <td>0.089742</td>\n",
              "    </tr>\n",
              "    <tr>\n",
              "      <th>12</th>\n",
              "      <td>-0.164534</td>\n",
              "      <td>1.018579</td>\n",
              "      <td>0.377736</td>\n",
              "    </tr>\n",
              "    <tr>\n",
              "      <th>13</th>\n",
              "      <td>1.363772</td>\n",
              "      <td>1.158481</td>\n",
              "      <td>-0.896904</td>\n",
              "    </tr>\n",
              "    <tr>\n",
              "      <th>14</th>\n",
              "      <td>1.090860</td>\n",
              "      <td>0.830585</td>\n",
              "      <td>-1.040901</td>\n",
              "    </tr>\n",
              "    <tr>\n",
              "      <th>15</th>\n",
              "      <td>-0.751295</td>\n",
              "      <td>0.266605</td>\n",
              "      <td>0.628397</td>\n",
              "    </tr>\n",
              "    <tr>\n",
              "      <th>16</th>\n",
              "      <td>0.531391</td>\n",
              "      <td>1.071042</td>\n",
              "      <td>-0.166253</td>\n",
              "    </tr>\n",
              "    <tr>\n",
              "      <th>17</th>\n",
              "      <td>1.547987</td>\n",
              "      <td>1.088530</td>\n",
              "      <td>-1.190232</td>\n",
              "    </tr>\n",
              "    <tr>\n",
              "      <th>18</th>\n",
              "      <td>-2.040803</td>\n",
              "      <td>-0.437279</td>\n",
              "      <td>-1.062234</td>\n",
              "    </tr>\n",
              "    <tr>\n",
              "      <th>19</th>\n",
              "      <td>-0.082661</td>\n",
              "      <td>0.677567</td>\n",
              "      <td>0.463067</td>\n",
              "    </tr>\n",
              "    <tr>\n",
              "      <th>20</th>\n",
              "      <td>1.336481</td>\n",
              "      <td>1.001091</td>\n",
              "      <td>-0.960903</td>\n",
              "    </tr>\n",
              "    <tr>\n",
              "      <th>21</th>\n",
              "      <td>1.200025</td>\n",
              "      <td>0.607616</td>\n",
              "      <td>-1.211564</td>\n",
              "    </tr>\n",
              "    <tr>\n",
              "      <th>22</th>\n",
              "      <td>0.292593</td>\n",
              "      <td>0.402135</td>\n",
              "      <td>0.169740</td>\n",
              "    </tr>\n",
              "    <tr>\n",
              "      <th>23</th>\n",
              "      <td>1.520696</td>\n",
              "      <td>0.900537</td>\n",
              "      <td>-1.083567</td>\n",
              "    </tr>\n",
              "    <tr>\n",
              "      <th>24</th>\n",
              "      <td>-0.300990</td>\n",
              "      <td>-0.008828</td>\n",
              "      <td>-0.374249</td>\n",
              "    </tr>\n",
              "    <tr>\n",
              "      <th>25</th>\n",
              "      <td>-1.024207</td>\n",
              "      <td>0.008660</td>\n",
              "      <td>0.884392</td>\n",
              "    </tr>\n",
              "    <tr>\n",
              "      <th>26</th>\n",
              "      <td>0.715606</td>\n",
              "      <td>-0.677736</td>\n",
              "      <td>-1.878217</td>\n",
              "    </tr>\n",
              "    <tr>\n",
              "      <th>27</th>\n",
              "      <td>0.449517</td>\n",
              "      <td>-1.880020</td>\n",
              "      <td>0.361736</td>\n",
              "    </tr>\n",
              "    <tr>\n",
              "      <th>28</th>\n",
              "      <td>-0.724004</td>\n",
              "      <td>-0.472254</td>\n",
              "      <td>0.484400</td>\n",
              "    </tr>\n",
              "    <tr>\n",
              "      <th>29</th>\n",
              "      <td>-0.648953</td>\n",
              "      <td>1.158481</td>\n",
              "      <td>-0.624910</td>\n",
              "    </tr>\n",
              "    <tr>\n",
              "      <th>30</th>\n",
              "      <td>0.476808</td>\n",
              "      <td>-0.161846</td>\n",
              "      <td>-0.960903</td>\n",
              "    </tr>\n",
              "    <tr>\n",
              "      <th>31</th>\n",
              "      <td>0.852062</td>\n",
              "      <td>-1.928112</td>\n",
              "      <td>0.900391</td>\n",
              "    </tr>\n",
              "    <tr>\n",
              "      <th>32</th>\n",
              "      <td>-0.246408</td>\n",
              "      <td>-0.830754</td>\n",
              "      <td>0.884392</td>\n",
              "    </tr>\n",
              "    <tr>\n",
              "      <th>33</th>\n",
              "      <td>-1.501802</td>\n",
              "      <td>0.179166</td>\n",
              "      <td>0.004410</td>\n",
              "    </tr>\n",
              "    <tr>\n",
              "      <th>34</th>\n",
              "      <td>0.824771</td>\n",
              "      <td>0.935512</td>\n",
              "      <td>0.863059</td>\n",
              "    </tr>\n",
              "    <tr>\n",
              "      <th>35</th>\n",
              "      <td>1.466114</td>\n",
              "      <td>-0.559693</td>\n",
              "      <td>-1.232897</td>\n",
              "    </tr>\n",
              "    <tr>\n",
              "      <th>36</th>\n",
              "      <td>-0.137243</td>\n",
              "      <td>-1.845045</td>\n",
              "      <td>-1.019568</td>\n",
              "    </tr>\n",
              "    <tr>\n",
              "      <th>37</th>\n",
              "      <td>-0.778586</td>\n",
              "      <td>-0.319236</td>\n",
              "      <td>1.300383</td>\n",
              "    </tr>\n",
              "    <tr>\n",
              "      <th>38</th>\n",
              "      <td>0.046972</td>\n",
              "      <td>1.123506</td>\n",
              "      <td>1.113720</td>\n",
              "    </tr>\n",
              "    <tr>\n",
              "      <th>39</th>\n",
              "      <td>0.422226</td>\n",
              "      <td>0.883049</td>\n",
              "      <td>-1.670221</td>\n",
              "    </tr>\n",
              "    <tr>\n",
              "      <th>40</th>\n",
              "      <td>1.118151</td>\n",
              "      <td>-2.033038</td>\n",
              "      <td>-0.960903</td>\n",
              "    </tr>\n",
              "    <tr>\n",
              "      <th>41</th>\n",
              "      <td>-0.996915</td>\n",
              "      <td>-1.880020</td>\n",
              "      <td>2.116366</td>\n",
              "    </tr>\n",
              "    <tr>\n",
              "      <th>42</th>\n",
              "      <td>-0.355573</td>\n",
              "      <td>1.206573</td>\n",
              "      <td>1.636376</td>\n",
              "    </tr>\n",
              "    <tr>\n",
              "      <th>43</th>\n",
              "      <td>0.906645</td>\n",
              "      <td>0.778122</td>\n",
              "      <td>-0.747574</td>\n",
              "    </tr>\n",
              "    <tr>\n",
              "      <th>44</th>\n",
              "      <td>1.602570</td>\n",
              "      <td>-0.607784</td>\n",
              "      <td>-0.182253</td>\n",
              "    </tr>\n",
              "    <tr>\n",
              "      <th>45</th>\n",
              "      <td>0.585973</td>\n",
              "      <td>-1.639563</td>\n",
              "      <td>-0.102254</td>\n",
              "    </tr>\n",
              "    <tr>\n",
              "      <th>46</th>\n",
              "      <td>-0.860460</td>\n",
              "      <td>-0.507230</td>\n",
              "      <td>0.319070</td>\n",
              "    </tr>\n",
              "    <tr>\n",
              "      <th>47</th>\n",
              "      <td>-0.539788</td>\n",
              "      <td>1.259036</td>\n",
              "      <td>-0.267584</td>\n",
              "    </tr>\n",
              "    <tr>\n",
              "      <th>48</th>\n",
              "      <td>1.384240</td>\n",
              "      <td>0.730031</td>\n",
              "      <td>0.025743</td>\n",
              "    </tr>\n",
              "    <tr>\n",
              "      <th>49</th>\n",
              "      <td>0.688315</td>\n",
              "      <td>-0.524717</td>\n",
              "      <td>-2.048880</td>\n",
              "    </tr>\n",
              "    <tr>\n",
              "      <th>50</th>\n",
              "      <td>-0.703535</td>\n",
              "      <td>-2.478977</td>\n",
              "      <td>0.569732</td>\n",
              "    </tr>\n",
              "    <tr>\n",
              "      <th>51</th>\n",
              "      <td>-1.126549</td>\n",
              "      <td>0.419623</td>\n",
              "      <td>2.452359</td>\n",
              "    </tr>\n",
              "  </tbody>\n",
              "</table>\n",
              "</div>\n",
              "      <button class=\"colab-df-convert\" onclick=\"convertToInteractive('df-7cd22b9c-2fb7-4d7c-81c2-dc7c2d655253')\"\n",
              "              title=\"Convert this dataframe to an interactive table.\"\n",
              "              style=\"display:none;\">\n",
              "        \n",
              "  <svg xmlns=\"http://www.w3.org/2000/svg\" height=\"24px\"viewBox=\"0 0 24 24\"\n",
              "       width=\"24px\">\n",
              "    <path d=\"M0 0h24v24H0V0z\" fill=\"none\"/>\n",
              "    <path d=\"M18.56 5.44l.94 2.06.94-2.06 2.06-.94-2.06-.94-.94-2.06-.94 2.06-2.06.94zm-11 1L8.5 8.5l.94-2.06 2.06-.94-2.06-.94L8.5 2.5l-.94 2.06-2.06.94zm10 10l.94 2.06.94-2.06 2.06-.94-2.06-.94-.94-2.06-.94 2.06-2.06.94z\"/><path d=\"M17.41 7.96l-1.37-1.37c-.4-.4-.92-.59-1.43-.59-.52 0-1.04.2-1.43.59L10.3 9.45l-7.72 7.72c-.78.78-.78 2.05 0 2.83L4 21.41c.39.39.9.59 1.41.59.51 0 1.02-.2 1.41-.59l7.78-7.78 2.81-2.81c.8-.78.8-2.07 0-2.86zM5.41 20L4 18.59l7.72-7.72 1.47 1.35L5.41 20z\"/>\n",
              "  </svg>\n",
              "      </button>\n",
              "      \n",
              "  <style>\n",
              "    .colab-df-container {\n",
              "      display:flex;\n",
              "      flex-wrap:wrap;\n",
              "      gap: 12px;\n",
              "    }\n",
              "\n",
              "    .colab-df-convert {\n",
              "      background-color: #E8F0FE;\n",
              "      border: none;\n",
              "      border-radius: 50%;\n",
              "      cursor: pointer;\n",
              "      display: none;\n",
              "      fill: #1967D2;\n",
              "      height: 32px;\n",
              "      padding: 0 0 0 0;\n",
              "      width: 32px;\n",
              "    }\n",
              "\n",
              "    .colab-df-convert:hover {\n",
              "      background-color: #E2EBFA;\n",
              "      box-shadow: 0px 1px 2px rgba(60, 64, 67, 0.3), 0px 1px 3px 1px rgba(60, 64, 67, 0.15);\n",
              "      fill: #174EA6;\n",
              "    }\n",
              "\n",
              "    [theme=dark] .colab-df-convert {\n",
              "      background-color: #3B4455;\n",
              "      fill: #D2E3FC;\n",
              "    }\n",
              "\n",
              "    [theme=dark] .colab-df-convert:hover {\n",
              "      background-color: #434B5C;\n",
              "      box-shadow: 0px 1px 3px 1px rgba(0, 0, 0, 0.15);\n",
              "      filter: drop-shadow(0px 1px 2px rgba(0, 0, 0, 0.3));\n",
              "      fill: #FFFFFF;\n",
              "    }\n",
              "  </style>\n",
              "\n",
              "      <script>\n",
              "        const buttonEl =\n",
              "          document.querySelector('#df-7cd22b9c-2fb7-4d7c-81c2-dc7c2d655253 button.colab-df-convert');\n",
              "        buttonEl.style.display =\n",
              "          google.colab.kernel.accessAllowed ? 'block' : 'none';\n",
              "\n",
              "        async function convertToInteractive(key) {\n",
              "          const element = document.querySelector('#df-7cd22b9c-2fb7-4d7c-81c2-dc7c2d655253');\n",
              "          const dataTable =\n",
              "            await google.colab.kernel.invokeFunction('convertToInteractive',\n",
              "                                                     [key], {});\n",
              "          if (!dataTable) return;\n",
              "\n",
              "          const docLinkHtml = 'Like what you see? Visit the ' +\n",
              "            '<a target=\"_blank\" href=https://colab.research.google.com/notebooks/data_table.ipynb>data table notebook</a>'\n",
              "            + ' to learn more about interactive tables.';\n",
              "          element.innerHTML = '';\n",
              "          dataTable['output_type'] = 'display_data';\n",
              "          await google.colab.output.renderOutput(dataTable, element);\n",
              "          const docLink = document.createElement('div');\n",
              "          docLink.innerHTML = docLinkHtml;\n",
              "          element.appendChild(docLink);\n",
              "        }\n",
              "      </script>\n",
              "    </div>\n",
              "  </div>\n",
              "  "
            ]
          },
          "metadata": {},
          "execution_count": 44
        }
      ]
    },
    {
      "cell_type": "code",
      "execution_count": 45,
      "metadata": {
        "colab": {
          "base_uri": "https://localhost:8080/"
        },
        "id": "ZARIwSCALhMz",
        "outputId": "40d0d9d8-0b1d-4c95-d730-8aac9b03d3ab"
      },
      "outputs": [
        {
          "output_type": "stream",
          "name": "stdout",
          "text": [
            "    Axial  Tangential  Radial\n",
            "0   -2.86        2.98   12.12\n",
            "1   -5.10       -1.92   12.91\n",
            "2   -1.26       -0.12    9.18\n",
            "3    0.47        1.29    9.14\n",
            "4   -2.12        2.39    8.59\n",
            "5   -1.88        0.94    9.30\n",
            "6   -1.88        2.43   10.67\n",
            "7   -1.37        1.84   10.40\n",
            "8   -0.67        2.43    9.81\n",
            "9   -1.73        2.59   10.47\n",
            "10  -1.33        3.65   11.92\n",
            "11  -0.04        2.59    9.89\n",
            "12  -0.98        3.88   10.43\n",
            "13   1.26        4.20    8.04\n",
            "14   0.86        3.45    7.77\n",
            "15  -1.84        2.16   10.90\n",
            "16   0.04        4.00    9.41\n",
            "17   1.53        4.04    7.49\n",
            "18  -3.73        0.55    7.73\n",
            "19  -0.86        3.10   10.59\n",
            "20   1.22        3.84    7.92\n",
            "21   1.02        2.94    7.45\n",
            "22  -0.31        2.47   10.04\n",
            "23   1.49        3.61    7.69\n",
            "24  -1.18        1.53    9.02\n",
            "25  -2.24        1.57   11.38\n",
            "26   0.31        0.00    6.20\n",
            "27  -0.08       -2.75   10.40\n",
            "28  -1.80        0.47   10.63\n",
            "29  -1.69        4.20    8.55\n",
            "30  -0.04        1.18    7.92\n",
            "31   0.51       -2.86   11.41\n",
            "32  -1.10       -0.35   11.38\n",
            "33  -2.94        1.96    9.73\n",
            "34   0.47        3.69   11.34\n",
            "35   1.41        0.27    7.41\n",
            "36  -0.94       -2.67    7.81\n",
            "37  -1.88        0.82   12.16\n",
            "38  -0.67        4.12   11.81\n",
            "39  -0.12        3.57    6.59\n",
            "40   0.90       -3.10    7.92\n",
            "41  -2.20       -2.75   13.69\n",
            "42  -1.26        4.31   12.79\n",
            "43   0.59        3.33    8.32\n",
            "44   1.61        0.16    9.38\n",
            "45   0.12       -2.20    9.53\n",
            "46  -2.00        0.39   10.32\n",
            "47  -1.53        4.43    9.22\n",
            "48   1.29        3.22    9.77\n",
            "49   0.27        0.35    5.88\n",
            "50  -1.77       -4.12   10.79\n",
            "51  -2.39        2.51   14.32\n",
            "0     1\n",
            "1     1\n",
            "2     1\n",
            "3     1\n",
            "4     1\n",
            "5     1\n",
            "6     1\n",
            "7     1\n",
            "8     1\n",
            "9     1\n",
            "10    1\n",
            "11    1\n",
            "12    1\n",
            "13    1\n",
            "14    1\n",
            "15    1\n",
            "16    1\n",
            "17    1\n",
            "18    1\n",
            "19    1\n",
            "20    1\n",
            "21    1\n",
            "22    1\n",
            "23    1\n",
            "24    1\n",
            "25    1\n",
            "26    0\n",
            "27    0\n",
            "28    0\n",
            "29    0\n",
            "30    0\n",
            "31    0\n",
            "32    0\n",
            "33    0\n",
            "34    0\n",
            "35    0\n",
            "36    0\n",
            "37    0\n",
            "38    0\n",
            "39    0\n",
            "40    0\n",
            "41    0\n",
            "42    0\n",
            "43    0\n",
            "44    0\n",
            "45    0\n",
            "46    0\n",
            "47    0\n",
            "48    0\n",
            "49    0\n",
            "50    0\n",
            "51    0\n",
            "Name: fault, dtype: int64\n"
          ]
        }
      ],
      "source": [
        "print(x)\n",
        "print(y)"
      ]
    },
    {
      "cell_type": "code",
      "execution_count": 46,
      "metadata": {
        "id": "SffPKeBELnXi"
      },
      "outputs": [],
      "source": [
        "test_pred_knn=knnClassifier.predict(dff_scaled)"
      ]
    },
    {
      "cell_type": "code",
      "source": [
        "test_pred_dt=dtClassifier.predict(dff_scaled)"
      ],
      "metadata": {
        "id": "8e9aTptDFpqz"
      },
      "execution_count": 47,
      "outputs": []
    },
    {
      "cell_type": "code",
      "source": [
        "test_pred_rf=rfclassifier.predict(x)"
      ],
      "metadata": {
        "id": "wiOVCOibFqwn"
      },
      "execution_count": 48,
      "outputs": []
    },
    {
      "cell_type": "code",
      "execution_count": 49,
      "metadata": {
        "colab": {
          "base_uri": "https://localhost:8080/"
        },
        "id": "dAhYYFYqL3SC",
        "outputId": "68e4bc92-b922-4093-e069-b99704b77447"
      },
      "outputs": [
        {
          "output_type": "stream",
          "name": "stdout",
          "text": [
            "[[17  9]\n",
            " [ 2 24]]\n",
            "              precision    recall  f1-score   support\n",
            "\n",
            "           0       0.89      0.65      0.76        26\n",
            "           1       0.73      0.92      0.81        26\n",
            "\n",
            "    accuracy                           0.79        52\n",
            "   macro avg       0.81      0.79      0.78        52\n",
            "weighted avg       0.81      0.79      0.78        52\n",
            "\n"
          ]
        }
      ],
      "source": [
        "from sklearn.metrics import roc_auc_score, roc_curve, confusion_matrix, precision_score, recall_score\n",
        "from sklearn.metrics import classification_report, average_precision_score, accuracy_score, f1_score\n",
        "\n",
        "print(confusion_matrix(y, test_pred_knn))\n",
        "print(classification_report(y, test_pred_knn))"
      ]
    },
    {
      "cell_type": "code",
      "source": [
        "from sklearn.metrics import roc_auc_score, roc_curve, confusion_matrix, precision_score, recall_score\n",
        "from sklearn.metrics import classification_report, average_precision_score, accuracy_score, f1_score\n",
        "\n",
        "print(confusion_matrix(y, test_pred_dt))\n",
        "print(classification_report(y, test_pred_dt))"
      ],
      "metadata": {
        "colab": {
          "base_uri": "https://localhost:8080/"
        },
        "id": "yE3i3zHMHu5b",
        "outputId": "57fd8fef-6058-4c7d-b54b-a4823e86106d"
      },
      "execution_count": 50,
      "outputs": [
        {
          "output_type": "stream",
          "name": "stdout",
          "text": [
            "[[13 13]\n",
            " [ 3 23]]\n",
            "              precision    recall  f1-score   support\n",
            "\n",
            "           0       0.81      0.50      0.62        26\n",
            "           1       0.64      0.88      0.74        26\n",
            "\n",
            "    accuracy                           0.69        52\n",
            "   macro avg       0.73      0.69      0.68        52\n",
            "weighted avg       0.73      0.69      0.68        52\n",
            "\n"
          ]
        }
      ]
    },
    {
      "cell_type": "code",
      "source": [
        "from sklearn.metrics import roc_auc_score, roc_curve, confusion_matrix, precision_score, recall_score\n",
        "from sklearn.metrics import classification_report, average_precision_score, accuracy_score, f1_score\n",
        "\n",
        "print(confusion_matrix(y, test_pred_rf))\n",
        "print(classification_report(y, test_pred_rf))"
      ],
      "metadata": {
        "colab": {
          "base_uri": "https://localhost:8080/"
        },
        "id": "y1L6a7yvH2BX",
        "outputId": "98d30cf7-4990-448c-cf97-90367e14d2b2"
      },
      "execution_count": 51,
      "outputs": [
        {
          "output_type": "stream",
          "name": "stdout",
          "text": [
            "[[ 1 25]\n",
            " [ 1 25]]\n",
            "              precision    recall  f1-score   support\n",
            "\n",
            "           0       0.50      0.04      0.07        26\n",
            "           1       0.50      0.96      0.66        26\n",
            "\n",
            "    accuracy                           0.50        52\n",
            "   macro avg       0.50      0.50      0.36        52\n",
            "weighted avg       0.50      0.50      0.36        52\n",
            "\n"
          ]
        }
      ]
    }
  ],
  "metadata": {
    "colab": {
      "provenance": []
    },
    "gpuClass": "standard",
    "kernelspec": {
      "display_name": "Python 3",
      "name": "python3"
    },
    "language_info": {
      "name": "python"
    },
    "accelerator": "GPU"
  },
  "nbformat": 4,
  "nbformat_minor": 0
}